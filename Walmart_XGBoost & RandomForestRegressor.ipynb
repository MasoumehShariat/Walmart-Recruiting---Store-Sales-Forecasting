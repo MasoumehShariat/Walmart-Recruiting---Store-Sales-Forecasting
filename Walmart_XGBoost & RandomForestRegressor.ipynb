{
  "nbformat": 4,
  "nbformat_minor": 0,
  "metadata": {
    "colab": {
      "name": "Walmart_Forcasting.ipynb",
      "provenance": [],
      "collapsed_sections": []
    },
    "kernelspec": {
      "name": "python3",
      "display_name": "Python 3"
    },
    "language_info": {
      "name": "python"
    },
    "accelerator": "GPU"
  },
  "cells": [
    {
      "cell_type": "code",
      "execution_count": null,
      "metadata": {
        "id": "zdR3xj-Q8lw4"
      },
      "outputs": [],
      "source": [
        "import pandas as pd\n",
        "import numpy as np\n",
        "import matplotlib.pyplot as plt\n",
        "from plotly import tools\n",
        "import plotly.graph_objs as go\n",
        "import plotly.offline as py\n",
        "from plotly.offline import init_notebook_mode, iplot\n",
        "import seaborn as sns\n",
        "from sklearn.ensemble import RandomForestRegressor, ExtraTreesRegressor\n",
        "from xgboost import XGBRegressor\n",
        "from sklearn.model_selection import train_test_split\n",
        "from sklearn.preprocessing import MinMaxScaler\n",
        "from sklearn import metrics\n",
        "\n",
        "\n",
        "import warnings\n",
        "warnings.filterwarnings(\"ignore\")\n"
      ]
    },
    {
      "cell_type": "code",
      "source": [
        "import os\n",
        "from google.colab import drive\n",
        "drive.mount('/content/drive')\n",
        "os.listdir('/content/drive/My Drive/big data project')\n"
      ],
      "metadata": {
        "colab": {
          "base_uri": "https://localhost:8080/"
        },
        "id": "jL6AQHIc1OEo",
        "outputId": "0c44c3bb-e58c-4ebc-88a6-9dca8682e67f"
      },
      "execution_count": null,
      "outputs": [
        {
          "output_type": "stream",
          "name": "stdout",
          "text": [
            "Drive already mounted at /content/drive; to attempt to forcibly remount, call drive.mount(\"/content/drive\", force_remount=True).\n"
          ]
        },
        {
          "output_type": "execute_result",
          "data": {
            "text/plain": [
              "['test.csv', 'train.csv', 'sampleSubmission.csv', 'stores.csv', 'features.csv']"
            ]
          },
          "metadata": {},
          "execution_count": 79
        }
      ]
    },
    {
      "cell_type": "code",
      "source": [
        "train = pd.read_csv ('/content/drive/My Drive/big data project/train.csv')\n",
        "test = pd.read_csv ('/content/drive/My Drive/big data project/test.csv')\n",
        "stores = pd.read_csv ('/content/drive/My Drive/big data project/stores.csv')\n"
      ],
      "metadata": {
        "id": "SfqOOWaH0Q7_"
      },
      "execution_count": null,
      "outputs": []
    },
    {
      "cell_type": "code",
      "source": [
        "forcasting_df=test[['Store','Dept','Date'\t,'IsHoliday']]\n",
        "forcasting_train=train[['Store','Dept','Date'\t,'IsHoliday']]"
      ],
      "metadata": {
        "id": "gVSv3pYcmY8t"
      },
      "execution_count": null,
      "outputs": []
    },
    {
      "cell_type": "code",
      "source": [
        "train.head(2)"
      ],
      "metadata": {
        "colab": {
          "base_uri": "https://localhost:8080/",
          "height": 112
        },
        "id": "lQoNBvCzFRQH",
        "outputId": "d3590dfb-2646-4e9d-9277-e5b0c7aee5ee"
      },
      "execution_count": null,
      "outputs": [
        {
          "output_type": "execute_result",
          "data": {
            "text/html": [
              "\n",
              "  <div id=\"df-03f988ff-292d-40a8-a213-a4a93dcabac3\">\n",
              "    <div class=\"colab-df-container\">\n",
              "      <div>\n",
              "<style scoped>\n",
              "    .dataframe tbody tr th:only-of-type {\n",
              "        vertical-align: middle;\n",
              "    }\n",
              "\n",
              "    .dataframe tbody tr th {\n",
              "        vertical-align: top;\n",
              "    }\n",
              "\n",
              "    .dataframe thead th {\n",
              "        text-align: right;\n",
              "    }\n",
              "</style>\n",
              "<table border=\"1\" class=\"dataframe\">\n",
              "  <thead>\n",
              "    <tr style=\"text-align: right;\">\n",
              "      <th></th>\n",
              "      <th>Store</th>\n",
              "      <th>Dept</th>\n",
              "      <th>Date</th>\n",
              "      <th>Weekly_Sales</th>\n",
              "      <th>IsHoliday</th>\n",
              "    </tr>\n",
              "  </thead>\n",
              "  <tbody>\n",
              "    <tr>\n",
              "      <th>0</th>\n",
              "      <td>1</td>\n",
              "      <td>1</td>\n",
              "      <td>2010-02-05</td>\n",
              "      <td>24924.50</td>\n",
              "      <td>False</td>\n",
              "    </tr>\n",
              "    <tr>\n",
              "      <th>1</th>\n",
              "      <td>1</td>\n",
              "      <td>1</td>\n",
              "      <td>2010-02-12</td>\n",
              "      <td>46039.49</td>\n",
              "      <td>True</td>\n",
              "    </tr>\n",
              "  </tbody>\n",
              "</table>\n",
              "</div>\n",
              "      <button class=\"colab-df-convert\" onclick=\"convertToInteractive('df-03f988ff-292d-40a8-a213-a4a93dcabac3')\"\n",
              "              title=\"Convert this dataframe to an interactive table.\"\n",
              "              style=\"display:none;\">\n",
              "        \n",
              "  <svg xmlns=\"http://www.w3.org/2000/svg\" height=\"24px\"viewBox=\"0 0 24 24\"\n",
              "       width=\"24px\">\n",
              "    <path d=\"M0 0h24v24H0V0z\" fill=\"none\"/>\n",
              "    <path d=\"M18.56 5.44l.94 2.06.94-2.06 2.06-.94-2.06-.94-.94-2.06-.94 2.06-2.06.94zm-11 1L8.5 8.5l.94-2.06 2.06-.94-2.06-.94L8.5 2.5l-.94 2.06-2.06.94zm10 10l.94 2.06.94-2.06 2.06-.94-2.06-.94-.94-2.06-.94 2.06-2.06.94z\"/><path d=\"M17.41 7.96l-1.37-1.37c-.4-.4-.92-.59-1.43-.59-.52 0-1.04.2-1.43.59L10.3 9.45l-7.72 7.72c-.78.78-.78 2.05 0 2.83L4 21.41c.39.39.9.59 1.41.59.51 0 1.02-.2 1.41-.59l7.78-7.78 2.81-2.81c.8-.78.8-2.07 0-2.86zM5.41 20L4 18.59l7.72-7.72 1.47 1.35L5.41 20z\"/>\n",
              "  </svg>\n",
              "      </button>\n",
              "      \n",
              "  <style>\n",
              "    .colab-df-container {\n",
              "      display:flex;\n",
              "      flex-wrap:wrap;\n",
              "      gap: 12px;\n",
              "    }\n",
              "\n",
              "    .colab-df-convert {\n",
              "      background-color: #E8F0FE;\n",
              "      border: none;\n",
              "      border-radius: 50%;\n",
              "      cursor: pointer;\n",
              "      display: none;\n",
              "      fill: #1967D2;\n",
              "      height: 32px;\n",
              "      padding: 0 0 0 0;\n",
              "      width: 32px;\n",
              "    }\n",
              "\n",
              "    .colab-df-convert:hover {\n",
              "      background-color: #E2EBFA;\n",
              "      box-shadow: 0px 1px 2px rgba(60, 64, 67, 0.3), 0px 1px 3px 1px rgba(60, 64, 67, 0.15);\n",
              "      fill: #174EA6;\n",
              "    }\n",
              "\n",
              "    [theme=dark] .colab-df-convert {\n",
              "      background-color: #3B4455;\n",
              "      fill: #D2E3FC;\n",
              "    }\n",
              "\n",
              "    [theme=dark] .colab-df-convert:hover {\n",
              "      background-color: #434B5C;\n",
              "      box-shadow: 0px 1px 3px 1px rgba(0, 0, 0, 0.15);\n",
              "      filter: drop-shadow(0px 1px 2px rgba(0, 0, 0, 0.3));\n",
              "      fill: #FFFFFF;\n",
              "    }\n",
              "  </style>\n",
              "\n",
              "      <script>\n",
              "        const buttonEl =\n",
              "          document.querySelector('#df-03f988ff-292d-40a8-a213-a4a93dcabac3 button.colab-df-convert');\n",
              "        buttonEl.style.display =\n",
              "          google.colab.kernel.accessAllowed ? 'block' : 'none';\n",
              "\n",
              "        async function convertToInteractive(key) {\n",
              "          const element = document.querySelector('#df-03f988ff-292d-40a8-a213-a4a93dcabac3');\n",
              "          const dataTable =\n",
              "            await google.colab.kernel.invokeFunction('convertToInteractive',\n",
              "                                                     [key], {});\n",
              "          if (!dataTable) return;\n",
              "\n",
              "          const docLinkHtml = 'Like what you see? Visit the ' +\n",
              "            '<a target=\"_blank\" href=https://colab.research.google.com/notebooks/data_table.ipynb>data table notebook</a>'\n",
              "            + ' to learn more about interactive tables.';\n",
              "          element.innerHTML = '';\n",
              "          dataTable['output_type'] = 'display_data';\n",
              "          await google.colab.output.renderOutput(dataTable, element);\n",
              "          const docLink = document.createElement('div');\n",
              "          docLink.innerHTML = docLinkHtml;\n",
              "          element.appendChild(docLink);\n",
              "        }\n",
              "      </script>\n",
              "    </div>\n",
              "  </div>\n",
              "  "
            ],
            "text/plain": [
              "   Store  Dept        Date  Weekly_Sales  IsHoliday\n",
              "0      1     1  2010-02-05      24924.50      False\n",
              "1      1     1  2010-02-12      46039.49       True"
            ]
          },
          "metadata": {},
          "execution_count": 82
        }
      ]
    },
    {
      "cell_type": "code",
      "source": [
        "train.info()"
      ],
      "metadata": {
        "id": "PMSlTuOnhf5g",
        "colab": {
          "base_uri": "https://localhost:8080/"
        },
        "outputId": "adc881dc-f565-478f-cd3e-994eaac9ad79"
      },
      "execution_count": null,
      "outputs": [
        {
          "output_type": "stream",
          "name": "stdout",
          "text": [
            "<class 'pandas.core.frame.DataFrame'>\n",
            "RangeIndex: 421570 entries, 0 to 421569\n",
            "Data columns (total 5 columns):\n",
            " #   Column        Non-Null Count   Dtype  \n",
            "---  ------        --------------   -----  \n",
            " 0   Store         421570 non-null  int64  \n",
            " 1   Dept          421570 non-null  int64  \n",
            " 2   Date          421570 non-null  object \n",
            " 3   Weekly_Sales  421570 non-null  float64\n",
            " 4   IsHoliday     421570 non-null  bool   \n",
            "dtypes: bool(1), float64(1), int64(2), object(1)\n",
            "memory usage: 13.3+ MB\n"
          ]
        }
      ]
    },
    {
      "cell_type": "code",
      "source": [
        "test.head(2)"
      ],
      "metadata": {
        "colab": {
          "base_uri": "https://localhost:8080/",
          "height": 112
        },
        "id": "Yu84CmXIg0dT",
        "outputId": "e3286555-d368-40dc-fa60-e4fd8ee39e67"
      },
      "execution_count": null,
      "outputs": [
        {
          "output_type": "execute_result",
          "data": {
            "text/html": [
              "\n",
              "  <div id=\"df-2d26fdf7-f561-4a78-9e80-fc1b26f0c8b3\">\n",
              "    <div class=\"colab-df-container\">\n",
              "      <div>\n",
              "<style scoped>\n",
              "    .dataframe tbody tr th:only-of-type {\n",
              "        vertical-align: middle;\n",
              "    }\n",
              "\n",
              "    .dataframe tbody tr th {\n",
              "        vertical-align: top;\n",
              "    }\n",
              "\n",
              "    .dataframe thead th {\n",
              "        text-align: right;\n",
              "    }\n",
              "</style>\n",
              "<table border=\"1\" class=\"dataframe\">\n",
              "  <thead>\n",
              "    <tr style=\"text-align: right;\">\n",
              "      <th></th>\n",
              "      <th>Store</th>\n",
              "      <th>Dept</th>\n",
              "      <th>Date</th>\n",
              "      <th>IsHoliday</th>\n",
              "    </tr>\n",
              "  </thead>\n",
              "  <tbody>\n",
              "    <tr>\n",
              "      <th>0</th>\n",
              "      <td>1</td>\n",
              "      <td>1</td>\n",
              "      <td>2012-11-02</td>\n",
              "      <td>False</td>\n",
              "    </tr>\n",
              "    <tr>\n",
              "      <th>1</th>\n",
              "      <td>1</td>\n",
              "      <td>1</td>\n",
              "      <td>2012-11-09</td>\n",
              "      <td>False</td>\n",
              "    </tr>\n",
              "  </tbody>\n",
              "</table>\n",
              "</div>\n",
              "      <button class=\"colab-df-convert\" onclick=\"convertToInteractive('df-2d26fdf7-f561-4a78-9e80-fc1b26f0c8b3')\"\n",
              "              title=\"Convert this dataframe to an interactive table.\"\n",
              "              style=\"display:none;\">\n",
              "        \n",
              "  <svg xmlns=\"http://www.w3.org/2000/svg\" height=\"24px\"viewBox=\"0 0 24 24\"\n",
              "       width=\"24px\">\n",
              "    <path d=\"M0 0h24v24H0V0z\" fill=\"none\"/>\n",
              "    <path d=\"M18.56 5.44l.94 2.06.94-2.06 2.06-.94-2.06-.94-.94-2.06-.94 2.06-2.06.94zm-11 1L8.5 8.5l.94-2.06 2.06-.94-2.06-.94L8.5 2.5l-.94 2.06-2.06.94zm10 10l.94 2.06.94-2.06 2.06-.94-2.06-.94-.94-2.06-.94 2.06-2.06.94z\"/><path d=\"M17.41 7.96l-1.37-1.37c-.4-.4-.92-.59-1.43-.59-.52 0-1.04.2-1.43.59L10.3 9.45l-7.72 7.72c-.78.78-.78 2.05 0 2.83L4 21.41c.39.39.9.59 1.41.59.51 0 1.02-.2 1.41-.59l7.78-7.78 2.81-2.81c.8-.78.8-2.07 0-2.86zM5.41 20L4 18.59l7.72-7.72 1.47 1.35L5.41 20z\"/>\n",
              "  </svg>\n",
              "      </button>\n",
              "      \n",
              "  <style>\n",
              "    .colab-df-container {\n",
              "      display:flex;\n",
              "      flex-wrap:wrap;\n",
              "      gap: 12px;\n",
              "    }\n",
              "\n",
              "    .colab-df-convert {\n",
              "      background-color: #E8F0FE;\n",
              "      border: none;\n",
              "      border-radius: 50%;\n",
              "      cursor: pointer;\n",
              "      display: none;\n",
              "      fill: #1967D2;\n",
              "      height: 32px;\n",
              "      padding: 0 0 0 0;\n",
              "      width: 32px;\n",
              "    }\n",
              "\n",
              "    .colab-df-convert:hover {\n",
              "      background-color: #E2EBFA;\n",
              "      box-shadow: 0px 1px 2px rgba(60, 64, 67, 0.3), 0px 1px 3px 1px rgba(60, 64, 67, 0.15);\n",
              "      fill: #174EA6;\n",
              "    }\n",
              "\n",
              "    [theme=dark] .colab-df-convert {\n",
              "      background-color: #3B4455;\n",
              "      fill: #D2E3FC;\n",
              "    }\n",
              "\n",
              "    [theme=dark] .colab-df-convert:hover {\n",
              "      background-color: #434B5C;\n",
              "      box-shadow: 0px 1px 3px 1px rgba(0, 0, 0, 0.15);\n",
              "      filter: drop-shadow(0px 1px 2px rgba(0, 0, 0, 0.3));\n",
              "      fill: #FFFFFF;\n",
              "    }\n",
              "  </style>\n",
              "\n",
              "      <script>\n",
              "        const buttonEl =\n",
              "          document.querySelector('#df-2d26fdf7-f561-4a78-9e80-fc1b26f0c8b3 button.colab-df-convert');\n",
              "        buttonEl.style.display =\n",
              "          google.colab.kernel.accessAllowed ? 'block' : 'none';\n",
              "\n",
              "        async function convertToInteractive(key) {\n",
              "          const element = document.querySelector('#df-2d26fdf7-f561-4a78-9e80-fc1b26f0c8b3');\n",
              "          const dataTable =\n",
              "            await google.colab.kernel.invokeFunction('convertToInteractive',\n",
              "                                                     [key], {});\n",
              "          if (!dataTable) return;\n",
              "\n",
              "          const docLinkHtml = 'Like what you see? Visit the ' +\n",
              "            '<a target=\"_blank\" href=https://colab.research.google.com/notebooks/data_table.ipynb>data table notebook</a>'\n",
              "            + ' to learn more about interactive tables.';\n",
              "          element.innerHTML = '';\n",
              "          dataTable['output_type'] = 'display_data';\n",
              "          await google.colab.output.renderOutput(dataTable, element);\n",
              "          const docLink = document.createElement('div');\n",
              "          docLink.innerHTML = docLinkHtml;\n",
              "          element.appendChild(docLink);\n",
              "        }\n",
              "      </script>\n",
              "    </div>\n",
              "  </div>\n",
              "  "
            ],
            "text/plain": [
              "   Store  Dept        Date  IsHoliday\n",
              "0      1     1  2012-11-02      False\n",
              "1      1     1  2012-11-09      False"
            ]
          },
          "metadata": {},
          "execution_count": 84
        }
      ]
    },
    {
      "cell_type": "code",
      "source": [
        "train.shape , test.shape "
      ],
      "metadata": {
        "colab": {
          "base_uri": "https://localhost:8080/"
        },
        "id": "_uGDRJzgymFX",
        "outputId": "50f14e3c-b9f3-4cea-b9c4-b81e900063b7"
      },
      "execution_count": null,
      "outputs": [
        {
          "output_type": "execute_result",
          "data": {
            "text/plain": [
              "((421570, 5), (115064, 4))"
            ]
          },
          "metadata": {},
          "execution_count": 85
        }
      ]
    },
    {
      "cell_type": "markdown",
      "source": [
        "# **EDA**"
      ],
      "metadata": {
        "id": "0tlQVGF0qY7Z"
      }
    },
    {
      "cell_type": "code",
      "source": [
        "# Show an amount on sales in each year, store \n",
        "Overall_Weekly_sales = train.groupby('Date', as_index=False)['Weekly_Sales'].sum()\n",
        "Overall_stores_sales = train.groupby(['Store', 'Date'], as_index=False)['Weekly_Sales'].sum()\n"
      ],
      "metadata": {
        "id": "CwH7-QPHqh67"
      },
      "execution_count": null,
      "outputs": []
    },
    {
      "cell_type": "code",
      "source": [
        "# Ilustrate Overall Weekly sales of Walmart\n",
        "sales_plot = go.Scatter(x=Overall_Weekly_sales['Date'], y=Overall_Weekly_sales['Weekly_Sales'])\n",
        "layout = go.Layout(title='Overall Weekly Sales of Walmart', xaxis=dict(title='Date'),\n",
        "                   yaxis=dict(title='Weekly_Sales'))\n",
        "fig = go.Figure(data=[sales_plot], layout=layout)\n",
        "iplot(fig)"
      ],
      "metadata": {
        "colab": {
          "base_uri": "https://localhost:8080/",
          "height": 542
        },
        "id": "kSURTay3a8Dt",
        "outputId": "0c5ff5d9-6cd1-4ba9-c108-58948d1a5f67"
      },
      "execution_count": null,
      "outputs": [
        {
          "output_type": "display_data",
          "data": {
            "text/html": [
              "<html>\n",
              "<head><meta charset=\"utf-8\" /></head>\n",
              "<body>\n",
              "    <div>            <script src=\"https://cdnjs.cloudflare.com/ajax/libs/mathjax/2.7.5/MathJax.js?config=TeX-AMS-MML_SVG\"></script><script type=\"text/javascript\">if (window.MathJax) {MathJax.Hub.Config({SVG: {font: \"STIX-Web\"}});}</script>                <script type=\"text/javascript\">window.PlotlyConfig = {MathJaxConfig: 'local'};</script>\n",
              "        <script src=\"https://cdn.plot.ly/plotly-2.8.3.min.js\"></script>                <div id=\"9a02d85d-a9e4-40a8-bf56-60a0a70e0d74\" class=\"plotly-graph-div\" style=\"height:525px; width:100%;\"></div>            <script type=\"text/javascript\">                                    window.PLOTLYENV=window.PLOTLYENV || {};                                    if (document.getElementById(\"9a02d85d-a9e4-40a8-bf56-60a0a70e0d74\")) {                    Plotly.newPlot(                        \"9a02d85d-a9e4-40a8-bf56-60a0a70e0d74\",                        [{\"x\":[\"2010-02-05\",\"2010-02-12\",\"2010-02-19\",\"2010-02-26\",\"2010-03-05\",\"2010-03-12\",\"2010-03-19\",\"2010-03-26\",\"2010-04-02\",\"2010-04-09\",\"2010-04-16\",\"2010-04-23\",\"2010-04-30\",\"2010-05-07\",\"2010-05-14\",\"2010-05-21\",\"2010-05-28\",\"2010-06-04\",\"2010-06-11\",\"2010-06-18\",\"2010-06-25\",\"2010-07-02\",\"2010-07-09\",\"2010-07-16\",\"2010-07-23\",\"2010-07-30\",\"2010-08-06\",\"2010-08-13\",\"2010-08-20\",\"2010-08-27\",\"2010-09-03\",\"2010-09-10\",\"2010-09-17\",\"2010-09-24\",\"2010-10-01\",\"2010-10-08\",\"2010-10-15\",\"2010-10-22\",\"2010-10-29\",\"2010-11-05\",\"2010-11-12\",\"2010-11-19\",\"2010-11-26\",\"2010-12-03\",\"2010-12-10\",\"2010-12-17\",\"2010-12-24\",\"2010-12-31\",\"2011-01-07\",\"2011-01-14\",\"2011-01-21\",\"2011-01-28\",\"2011-02-04\",\"2011-02-11\",\"2011-02-18\",\"2011-02-25\",\"2011-03-04\",\"2011-03-11\",\"2011-03-18\",\"2011-03-25\",\"2011-04-01\",\"2011-04-08\",\"2011-04-15\",\"2011-04-22\",\"2011-04-29\",\"2011-05-06\",\"2011-05-13\",\"2011-05-20\",\"2011-05-27\",\"2011-06-03\",\"2011-06-10\",\"2011-06-17\",\"2011-06-24\",\"2011-07-01\",\"2011-07-08\",\"2011-07-15\",\"2011-07-22\",\"2011-07-29\",\"2011-08-05\",\"2011-08-12\",\"2011-08-19\",\"2011-08-26\",\"2011-09-02\",\"2011-09-09\",\"2011-09-16\",\"2011-09-23\",\"2011-09-30\",\"2011-10-07\",\"2011-10-14\",\"2011-10-21\",\"2011-10-28\",\"2011-11-04\",\"2011-11-11\",\"2011-11-18\",\"2011-11-25\",\"2011-12-02\",\"2011-12-09\",\"2011-12-16\",\"2011-12-23\",\"2011-12-30\",\"2012-01-06\",\"2012-01-13\",\"2012-01-20\",\"2012-01-27\",\"2012-02-03\",\"2012-02-10\",\"2012-02-17\",\"2012-02-24\",\"2012-03-02\",\"2012-03-09\",\"2012-03-16\",\"2012-03-23\",\"2012-03-30\",\"2012-04-06\",\"2012-04-13\",\"2012-04-20\",\"2012-04-27\",\"2012-05-04\",\"2012-05-11\",\"2012-05-18\",\"2012-05-25\",\"2012-06-01\",\"2012-06-08\",\"2012-06-15\",\"2012-06-22\",\"2012-06-29\",\"2012-07-06\",\"2012-07-13\",\"2012-07-20\",\"2012-07-27\",\"2012-08-03\",\"2012-08-10\",\"2012-08-17\",\"2012-08-24\",\"2012-08-31\",\"2012-09-07\",\"2012-09-14\",\"2012-09-21\",\"2012-09-28\",\"2012-10-05\",\"2012-10-12\",\"2012-10-19\",\"2012-10-26\"],\"y\":[49750740.5,48336677.63,48276993.78,43968571.13,46871470.3,45925396.51,44988974.64,44133961.05,50423831.26,47365290.44,45183667.08,44734452.56,43705126.71,48503243.52,45330080.2,45120108.06,47757502.56,50188543.12,47826546.72,47622046.23,46609036.29,48917484.5,47899529.37,46243899.58,44888849.11,44630363.42,48204999.12,46464418.410000004,47060952.92,45909740.44,47194257.61,45634397.84,43080726.51,41358514.41,42239875.87,45102974.23,43149473.45,43066669.52,43602830.95,45781981.89,46124800.83,45125584.18,65821003.24,49909027.88,55666770.39,61820799.85,80931415.6,40432519.0,42775787.77,40673678.04,40654648.03,39599852.99,46153111.12,47336192.79,48716164.12,44125859.84,46980603.74,44627319.4,44872325.97,42876199.18,43458991.19,45887466.8,44973328.14,48676692.06,43530032.78,46861958.29,45446144.82,44046598.01,45293457.04,48771994.18,47669734.66,47447561.77,45884094.58,47578519.5,47859263.78,45515929.92,45274411.39,43683274.28,48015466.97,46249569.21,46917347.62,47416948.45,45376623.27,46763227.53,43793960.08,42718096.73,42195830.81,47211688.36,44374820.3,45818953.44,45855821.05,48655544.3,48474224.75,46438980.56,66593605.26,49390556.49,55561147.7,60085695.94,76998241.31,46042461.04,44955421.95,42023078.48,42080996.56,39834974.67,46085608.09,50009407.92,50197056.96,45771506.57,46861034.97,47480454.11,46901504.94,44993794.45,45272862.02,53502315.87,46629261.41,45072529.78,43716798.89,47124197.93,46925878.99,46823939.22,47892463.31,48281649.72,49651171.78,48412110.7,47668284.97,46597112.12,51253021.88,46099732.1,46059543.45,44097154.97,47485899.56,47403451.04,47354452.05,47447323.6,47159639.43,48330059.31,44226038.65,44354547.11,43734899.4,47566639.31,46128514.25,45122410.57,45544116.29],\"type\":\"scatter\"}],                        {\"template\":{\"data\":{\"barpolar\":[{\"marker\":{\"line\":{\"color\":\"#E5ECF6\",\"width\":0.5},\"pattern\":{\"fillmode\":\"overlay\",\"size\":10,\"solidity\":0.2}},\"type\":\"barpolar\"}],\"bar\":[{\"error_x\":{\"color\":\"#2a3f5f\"},\"error_y\":{\"color\":\"#2a3f5f\"},\"marker\":{\"line\":{\"color\":\"#E5ECF6\",\"width\":0.5},\"pattern\":{\"fillmode\":\"overlay\",\"size\":10,\"solidity\":0.2}},\"type\":\"bar\"}],\"carpet\":[{\"aaxis\":{\"endlinecolor\":\"#2a3f5f\",\"gridcolor\":\"white\",\"linecolor\":\"white\",\"minorgridcolor\":\"white\",\"startlinecolor\":\"#2a3f5f\"},\"baxis\":{\"endlinecolor\":\"#2a3f5f\",\"gridcolor\":\"white\",\"linecolor\":\"white\",\"minorgridcolor\":\"white\",\"startlinecolor\":\"#2a3f5f\"},\"type\":\"carpet\"}],\"choropleth\":[{\"colorbar\":{\"outlinewidth\":0,\"ticks\":\"\"},\"type\":\"choropleth\"}],\"contourcarpet\":[{\"colorbar\":{\"outlinewidth\":0,\"ticks\":\"\"},\"type\":\"contourcarpet\"}],\"contour\":[{\"colorbar\":{\"outlinewidth\":0,\"ticks\":\"\"},\"colorscale\":[[0.0,\"#0d0887\"],[0.1111111111111111,\"#46039f\"],[0.2222222222222222,\"#7201a8\"],[0.3333333333333333,\"#9c179e\"],[0.4444444444444444,\"#bd3786\"],[0.5555555555555556,\"#d8576b\"],[0.6666666666666666,\"#ed7953\"],[0.7777777777777778,\"#fb9f3a\"],[0.8888888888888888,\"#fdca26\"],[1.0,\"#f0f921\"]],\"type\":\"contour\"}],\"heatmapgl\":[{\"colorbar\":{\"outlinewidth\":0,\"ticks\":\"\"},\"colorscale\":[[0.0,\"#0d0887\"],[0.1111111111111111,\"#46039f\"],[0.2222222222222222,\"#7201a8\"],[0.3333333333333333,\"#9c179e\"],[0.4444444444444444,\"#bd3786\"],[0.5555555555555556,\"#d8576b\"],[0.6666666666666666,\"#ed7953\"],[0.7777777777777778,\"#fb9f3a\"],[0.8888888888888888,\"#fdca26\"],[1.0,\"#f0f921\"]],\"type\":\"heatmapgl\"}],\"heatmap\":[{\"colorbar\":{\"outlinewidth\":0,\"ticks\":\"\"},\"colorscale\":[[0.0,\"#0d0887\"],[0.1111111111111111,\"#46039f\"],[0.2222222222222222,\"#7201a8\"],[0.3333333333333333,\"#9c179e\"],[0.4444444444444444,\"#bd3786\"],[0.5555555555555556,\"#d8576b\"],[0.6666666666666666,\"#ed7953\"],[0.7777777777777778,\"#fb9f3a\"],[0.8888888888888888,\"#fdca26\"],[1.0,\"#f0f921\"]],\"type\":\"heatmap\"}],\"histogram2dcontour\":[{\"colorbar\":{\"outlinewidth\":0,\"ticks\":\"\"},\"colorscale\":[[0.0,\"#0d0887\"],[0.1111111111111111,\"#46039f\"],[0.2222222222222222,\"#7201a8\"],[0.3333333333333333,\"#9c179e\"],[0.4444444444444444,\"#bd3786\"],[0.5555555555555556,\"#d8576b\"],[0.6666666666666666,\"#ed7953\"],[0.7777777777777778,\"#fb9f3a\"],[0.8888888888888888,\"#fdca26\"],[1.0,\"#f0f921\"]],\"type\":\"histogram2dcontour\"}],\"histogram2d\":[{\"colorbar\":{\"outlinewidth\":0,\"ticks\":\"\"},\"colorscale\":[[0.0,\"#0d0887\"],[0.1111111111111111,\"#46039f\"],[0.2222222222222222,\"#7201a8\"],[0.3333333333333333,\"#9c179e\"],[0.4444444444444444,\"#bd3786\"],[0.5555555555555556,\"#d8576b\"],[0.6666666666666666,\"#ed7953\"],[0.7777777777777778,\"#fb9f3a\"],[0.8888888888888888,\"#fdca26\"],[1.0,\"#f0f921\"]],\"type\":\"histogram2d\"}],\"histogram\":[{\"marker\":{\"pattern\":{\"fillmode\":\"overlay\",\"size\":10,\"solidity\":0.2}},\"type\":\"histogram\"}],\"mesh3d\":[{\"colorbar\":{\"outlinewidth\":0,\"ticks\":\"\"},\"type\":\"mesh3d\"}],\"parcoords\":[{\"line\":{\"colorbar\":{\"outlinewidth\":0,\"ticks\":\"\"}},\"type\":\"parcoords\"}],\"pie\":[{\"automargin\":true,\"type\":\"pie\"}],\"scatter3d\":[{\"line\":{\"colorbar\":{\"outlinewidth\":0,\"ticks\":\"\"}},\"marker\":{\"colorbar\":{\"outlinewidth\":0,\"ticks\":\"\"}},\"type\":\"scatter3d\"}],\"scattercarpet\":[{\"marker\":{\"colorbar\":{\"outlinewidth\":0,\"ticks\":\"\"}},\"type\":\"scattercarpet\"}],\"scattergeo\":[{\"marker\":{\"colorbar\":{\"outlinewidth\":0,\"ticks\":\"\"}},\"type\":\"scattergeo\"}],\"scattergl\":[{\"marker\":{\"colorbar\":{\"outlinewidth\":0,\"ticks\":\"\"}},\"type\":\"scattergl\"}],\"scattermapbox\":[{\"marker\":{\"colorbar\":{\"outlinewidth\":0,\"ticks\":\"\"}},\"type\":\"scattermapbox\"}],\"scatterpolargl\":[{\"marker\":{\"colorbar\":{\"outlinewidth\":0,\"ticks\":\"\"}},\"type\":\"scatterpolargl\"}],\"scatterpolar\":[{\"marker\":{\"colorbar\":{\"outlinewidth\":0,\"ticks\":\"\"}},\"type\":\"scatterpolar\"}],\"scatter\":[{\"marker\":{\"colorbar\":{\"outlinewidth\":0,\"ticks\":\"\"}},\"type\":\"scatter\"}],\"scatterternary\":[{\"marker\":{\"colorbar\":{\"outlinewidth\":0,\"ticks\":\"\"}},\"type\":\"scatterternary\"}],\"surface\":[{\"colorbar\":{\"outlinewidth\":0,\"ticks\":\"\"},\"colorscale\":[[0.0,\"#0d0887\"],[0.1111111111111111,\"#46039f\"],[0.2222222222222222,\"#7201a8\"],[0.3333333333333333,\"#9c179e\"],[0.4444444444444444,\"#bd3786\"],[0.5555555555555556,\"#d8576b\"],[0.6666666666666666,\"#ed7953\"],[0.7777777777777778,\"#fb9f3a\"],[0.8888888888888888,\"#fdca26\"],[1.0,\"#f0f921\"]],\"type\":\"surface\"}],\"table\":[{\"cells\":{\"fill\":{\"color\":\"#EBF0F8\"},\"line\":{\"color\":\"white\"}},\"header\":{\"fill\":{\"color\":\"#C8D4E3\"},\"line\":{\"color\":\"white\"}},\"type\":\"table\"}]},\"layout\":{\"annotationdefaults\":{\"arrowcolor\":\"#2a3f5f\",\"arrowhead\":0,\"arrowwidth\":1},\"autotypenumbers\":\"strict\",\"coloraxis\":{\"colorbar\":{\"outlinewidth\":0,\"ticks\":\"\"}},\"colorscale\":{\"diverging\":[[0,\"#8e0152\"],[0.1,\"#c51b7d\"],[0.2,\"#de77ae\"],[0.3,\"#f1b6da\"],[0.4,\"#fde0ef\"],[0.5,\"#f7f7f7\"],[0.6,\"#e6f5d0\"],[0.7,\"#b8e186\"],[0.8,\"#7fbc41\"],[0.9,\"#4d9221\"],[1,\"#276419\"]],\"sequential\":[[0.0,\"#0d0887\"],[0.1111111111111111,\"#46039f\"],[0.2222222222222222,\"#7201a8\"],[0.3333333333333333,\"#9c179e\"],[0.4444444444444444,\"#bd3786\"],[0.5555555555555556,\"#d8576b\"],[0.6666666666666666,\"#ed7953\"],[0.7777777777777778,\"#fb9f3a\"],[0.8888888888888888,\"#fdca26\"],[1.0,\"#f0f921\"]],\"sequentialminus\":[[0.0,\"#0d0887\"],[0.1111111111111111,\"#46039f\"],[0.2222222222222222,\"#7201a8\"],[0.3333333333333333,\"#9c179e\"],[0.4444444444444444,\"#bd3786\"],[0.5555555555555556,\"#d8576b\"],[0.6666666666666666,\"#ed7953\"],[0.7777777777777778,\"#fb9f3a\"],[0.8888888888888888,\"#fdca26\"],[1.0,\"#f0f921\"]]},\"colorway\":[\"#636efa\",\"#EF553B\",\"#00cc96\",\"#ab63fa\",\"#FFA15A\",\"#19d3f3\",\"#FF6692\",\"#B6E880\",\"#FF97FF\",\"#FECB52\"],\"font\":{\"color\":\"#2a3f5f\"},\"geo\":{\"bgcolor\":\"white\",\"lakecolor\":\"white\",\"landcolor\":\"#E5ECF6\",\"showlakes\":true,\"showland\":true,\"subunitcolor\":\"white\"},\"hoverlabel\":{\"align\":\"left\"},\"hovermode\":\"closest\",\"mapbox\":{\"style\":\"light\"},\"paper_bgcolor\":\"white\",\"plot_bgcolor\":\"#E5ECF6\",\"polar\":{\"angularaxis\":{\"gridcolor\":\"white\",\"linecolor\":\"white\",\"ticks\":\"\"},\"bgcolor\":\"#E5ECF6\",\"radialaxis\":{\"gridcolor\":\"white\",\"linecolor\":\"white\",\"ticks\":\"\"}},\"scene\":{\"xaxis\":{\"backgroundcolor\":\"#E5ECF6\",\"gridcolor\":\"white\",\"gridwidth\":2,\"linecolor\":\"white\",\"showbackground\":true,\"ticks\":\"\",\"zerolinecolor\":\"white\"},\"yaxis\":{\"backgroundcolor\":\"#E5ECF6\",\"gridcolor\":\"white\",\"gridwidth\":2,\"linecolor\":\"white\",\"showbackground\":true,\"ticks\":\"\",\"zerolinecolor\":\"white\"},\"zaxis\":{\"backgroundcolor\":\"#E5ECF6\",\"gridcolor\":\"white\",\"gridwidth\":2,\"linecolor\":\"white\",\"showbackground\":true,\"ticks\":\"\",\"zerolinecolor\":\"white\"}},\"shapedefaults\":{\"line\":{\"color\":\"#2a3f5f\"}},\"ternary\":{\"aaxis\":{\"gridcolor\":\"white\",\"linecolor\":\"white\",\"ticks\":\"\"},\"baxis\":{\"gridcolor\":\"white\",\"linecolor\":\"white\",\"ticks\":\"\"},\"bgcolor\":\"#E5ECF6\",\"caxis\":{\"gridcolor\":\"white\",\"linecolor\":\"white\",\"ticks\":\"\"}},\"title\":{\"x\":0.05},\"xaxis\":{\"automargin\":true,\"gridcolor\":\"white\",\"linecolor\":\"white\",\"ticks\":\"\",\"title\":{\"standoff\":15},\"zerolinecolor\":\"white\",\"zerolinewidth\":2},\"yaxis\":{\"automargin\":true,\"gridcolor\":\"white\",\"linecolor\":\"white\",\"ticks\":\"\",\"title\":{\"standoff\":15},\"zerolinecolor\":\"white\",\"zerolinewidth\":2}}},\"title\":{\"text\":\"Overall Weekly Sales of Walmart\"},\"xaxis\":{\"title\":{\"text\":\"Date\"}},\"yaxis\":{\"title\":{\"text\":\"Weekly_Sales\"}}},                        {\"responsive\": true}                    ).then(function(){\n",
              "                            \n",
              "var gd = document.getElementById('9a02d85d-a9e4-40a8-bf56-60a0a70e0d74');\n",
              "var x = new MutationObserver(function (mutations, observer) {{\n",
              "        var display = window.getComputedStyle(gd).display;\n",
              "        if (!display || display === 'none') {{\n",
              "            console.log([gd, 'removed!']);\n",
              "            Plotly.purge(gd);\n",
              "            observer.disconnect();\n",
              "        }}\n",
              "}});\n",
              "\n",
              "// Listen for the removal of the full notebook cells\n",
              "var notebookContainer = gd.closest('#notebook-container');\n",
              "if (notebookContainer) {{\n",
              "    x.observe(notebookContainer, {childList: true});\n",
              "}}\n",
              "\n",
              "// Listen for the clearing of the current output cell\n",
              "var outputEl = gd.closest('.output');\n",
              "if (outputEl) {{\n",
              "    x.observe(outputEl, {childList: true});\n",
              "}}\n",
              "\n",
              "                        })                };                            </script>        </div>\n",
              "</body>\n",
              "</html>"
            ]
          },
          "metadata": {}
        }
      ]
    },
    {
      "cell_type": "code",
      "source": [
        "# Find Dates from calendar: year,month,week and day\n",
        "train['Date'] = pd.to_datetime(train['Date'])\n",
        "train['Year'] = train.Date.dt.year\n",
        "train['Month'] = train.Date.dt.month\n",
        "train['Day'] = train.Date.dt.day\n",
        "train['Week'] = (train.Date.dt.isocalendar().week)*1.0  "
      ],
      "metadata": {
        "id": "QtLPpj5D8Apy"
      },
      "execution_count": null,
      "outputs": []
    },
    {
      "cell_type": "code",
      "source": [
        "train.head()"
      ],
      "metadata": {
        "colab": {
          "base_uri": "https://localhost:8080/",
          "height": 206
        },
        "id": "ap77nuE59RMy",
        "outputId": "3c1a27d5-94d9-4848-ea0b-ff895bed3b40"
      },
      "execution_count": null,
      "outputs": [
        {
          "output_type": "execute_result",
          "data": {
            "text/html": [
              "\n",
              "  <div id=\"df-e7900eb0-e402-4593-b49c-f8eb68f5b22a\">\n",
              "    <div class=\"colab-df-container\">\n",
              "      <div>\n",
              "<style scoped>\n",
              "    .dataframe tbody tr th:only-of-type {\n",
              "        vertical-align: middle;\n",
              "    }\n",
              "\n",
              "    .dataframe tbody tr th {\n",
              "        vertical-align: top;\n",
              "    }\n",
              "\n",
              "    .dataframe thead th {\n",
              "        text-align: right;\n",
              "    }\n",
              "</style>\n",
              "<table border=\"1\" class=\"dataframe\">\n",
              "  <thead>\n",
              "    <tr style=\"text-align: right;\">\n",
              "      <th></th>\n",
              "      <th>Store</th>\n",
              "      <th>Dept</th>\n",
              "      <th>Date</th>\n",
              "      <th>Weekly_Sales</th>\n",
              "      <th>IsHoliday</th>\n",
              "      <th>Year</th>\n",
              "      <th>Month</th>\n",
              "      <th>Day</th>\n",
              "      <th>Week</th>\n",
              "    </tr>\n",
              "  </thead>\n",
              "  <tbody>\n",
              "    <tr>\n",
              "      <th>0</th>\n",
              "      <td>1</td>\n",
              "      <td>1</td>\n",
              "      <td>2010-02-05</td>\n",
              "      <td>24924.50</td>\n",
              "      <td>False</td>\n",
              "      <td>2010</td>\n",
              "      <td>2</td>\n",
              "      <td>5</td>\n",
              "      <td>5.0</td>\n",
              "    </tr>\n",
              "    <tr>\n",
              "      <th>1</th>\n",
              "      <td>1</td>\n",
              "      <td>1</td>\n",
              "      <td>2010-02-12</td>\n",
              "      <td>46039.49</td>\n",
              "      <td>True</td>\n",
              "      <td>2010</td>\n",
              "      <td>2</td>\n",
              "      <td>12</td>\n",
              "      <td>6.0</td>\n",
              "    </tr>\n",
              "    <tr>\n",
              "      <th>2</th>\n",
              "      <td>1</td>\n",
              "      <td>1</td>\n",
              "      <td>2010-02-19</td>\n",
              "      <td>41595.55</td>\n",
              "      <td>False</td>\n",
              "      <td>2010</td>\n",
              "      <td>2</td>\n",
              "      <td>19</td>\n",
              "      <td>7.0</td>\n",
              "    </tr>\n",
              "    <tr>\n",
              "      <th>3</th>\n",
              "      <td>1</td>\n",
              "      <td>1</td>\n",
              "      <td>2010-02-26</td>\n",
              "      <td>19403.54</td>\n",
              "      <td>False</td>\n",
              "      <td>2010</td>\n",
              "      <td>2</td>\n",
              "      <td>26</td>\n",
              "      <td>8.0</td>\n",
              "    </tr>\n",
              "    <tr>\n",
              "      <th>4</th>\n",
              "      <td>1</td>\n",
              "      <td>1</td>\n",
              "      <td>2010-03-05</td>\n",
              "      <td>21827.90</td>\n",
              "      <td>False</td>\n",
              "      <td>2010</td>\n",
              "      <td>3</td>\n",
              "      <td>5</td>\n",
              "      <td>9.0</td>\n",
              "    </tr>\n",
              "  </tbody>\n",
              "</table>\n",
              "</div>\n",
              "      <button class=\"colab-df-convert\" onclick=\"convertToInteractive('df-e7900eb0-e402-4593-b49c-f8eb68f5b22a')\"\n",
              "              title=\"Convert this dataframe to an interactive table.\"\n",
              "              style=\"display:none;\">\n",
              "        \n",
              "  <svg xmlns=\"http://www.w3.org/2000/svg\" height=\"24px\"viewBox=\"0 0 24 24\"\n",
              "       width=\"24px\">\n",
              "    <path d=\"M0 0h24v24H0V0z\" fill=\"none\"/>\n",
              "    <path d=\"M18.56 5.44l.94 2.06.94-2.06 2.06-.94-2.06-.94-.94-2.06-.94 2.06-2.06.94zm-11 1L8.5 8.5l.94-2.06 2.06-.94-2.06-.94L8.5 2.5l-.94 2.06-2.06.94zm10 10l.94 2.06.94-2.06 2.06-.94-2.06-.94-.94-2.06-.94 2.06-2.06.94z\"/><path d=\"M17.41 7.96l-1.37-1.37c-.4-.4-.92-.59-1.43-.59-.52 0-1.04.2-1.43.59L10.3 9.45l-7.72 7.72c-.78.78-.78 2.05 0 2.83L4 21.41c.39.39.9.59 1.41.59.51 0 1.02-.2 1.41-.59l7.78-7.78 2.81-2.81c.8-.78.8-2.07 0-2.86zM5.41 20L4 18.59l7.72-7.72 1.47 1.35L5.41 20z\"/>\n",
              "  </svg>\n",
              "      </button>\n",
              "      \n",
              "  <style>\n",
              "    .colab-df-container {\n",
              "      display:flex;\n",
              "      flex-wrap:wrap;\n",
              "      gap: 12px;\n",
              "    }\n",
              "\n",
              "    .colab-df-convert {\n",
              "      background-color: #E8F0FE;\n",
              "      border: none;\n",
              "      border-radius: 50%;\n",
              "      cursor: pointer;\n",
              "      display: none;\n",
              "      fill: #1967D2;\n",
              "      height: 32px;\n",
              "      padding: 0 0 0 0;\n",
              "      width: 32px;\n",
              "    }\n",
              "\n",
              "    .colab-df-convert:hover {\n",
              "      background-color: #E2EBFA;\n",
              "      box-shadow: 0px 1px 2px rgba(60, 64, 67, 0.3), 0px 1px 3px 1px rgba(60, 64, 67, 0.15);\n",
              "      fill: #174EA6;\n",
              "    }\n",
              "\n",
              "    [theme=dark] .colab-df-convert {\n",
              "      background-color: #3B4455;\n",
              "      fill: #D2E3FC;\n",
              "    }\n",
              "\n",
              "    [theme=dark] .colab-df-convert:hover {\n",
              "      background-color: #434B5C;\n",
              "      box-shadow: 0px 1px 3px 1px rgba(0, 0, 0, 0.15);\n",
              "      filter: drop-shadow(0px 1px 2px rgba(0, 0, 0, 0.3));\n",
              "      fill: #FFFFFF;\n",
              "    }\n",
              "  </style>\n",
              "\n",
              "      <script>\n",
              "        const buttonEl =\n",
              "          document.querySelector('#df-e7900eb0-e402-4593-b49c-f8eb68f5b22a button.colab-df-convert');\n",
              "        buttonEl.style.display =\n",
              "          google.colab.kernel.accessAllowed ? 'block' : 'none';\n",
              "\n",
              "        async function convertToInteractive(key) {\n",
              "          const element = document.querySelector('#df-e7900eb0-e402-4593-b49c-f8eb68f5b22a');\n",
              "          const dataTable =\n",
              "            await google.colab.kernel.invokeFunction('convertToInteractive',\n",
              "                                                     [key], {});\n",
              "          if (!dataTable) return;\n",
              "\n",
              "          const docLinkHtml = 'Like what you see? Visit the ' +\n",
              "            '<a target=\"_blank\" href=https://colab.research.google.com/notebooks/data_table.ipynb>data table notebook</a>'\n",
              "            + ' to learn more about interactive tables.';\n",
              "          element.innerHTML = '';\n",
              "          dataTable['output_type'] = 'display_data';\n",
              "          await google.colab.output.renderOutput(dataTable, element);\n",
              "          const docLink = document.createElement('div');\n",
              "          docLink.innerHTML = docLinkHtml;\n",
              "          element.appendChild(docLink);\n",
              "        }\n",
              "      </script>\n",
              "    </div>\n",
              "  </div>\n",
              "  "
            ],
            "text/plain": [
              "   Store  Dept       Date  Weekly_Sales  IsHoliday  Year  Month  Day  Week\n",
              "0      1     1 2010-02-05      24924.50      False  2010      2    5   5.0\n",
              "1      1     1 2010-02-12      46039.49       True  2010      2   12   6.0\n",
              "2      1     1 2010-02-19      41595.55      False  2010      2   19   7.0\n",
              "3      1     1 2010-02-26      19403.54      False  2010      2   26   8.0\n",
              "4      1     1 2010-03-05      21827.90      False  2010      3    5   9.0"
            ]
          },
          "metadata": {},
          "execution_count": 89
        }
      ]
    },
    {
      "cell_type": "code",
      "source": [
        "year_2010 = train[train.Year==2010].groupby('Week')['Weekly_Sales'].mean().to_frame('Mean_Weekly_sales')\n",
        "year_2011 = train[train.Year==2011].groupby('Week')['Weekly_Sales'].mean().to_frame('Mean_Weekly_sales')\n",
        "year_2012 = train[train.Year==2012].groupby('Week')['Weekly_Sales'].mean().to_frame('Mean_Weekly_sales')\n",
        "\n",
        "sales_plot_10 = go.Scatter(x=year_2010.index, y=year_2010['Mean_Weekly_sales'],name=('Year 2010' ))\n",
        "sales_plot_11 = go.Scatter(x=year_2011.index, y=year_2011['Mean_Weekly_sales'],name=('Year 2011'))\n",
        "sales_plot_12= go.Scatter(x=year_2012.index, y=year_2012['Mean_Weekly_sales'],name=('Year 2012' ))\n",
        "\n",
        "layout = go.Layout(title='Overall Weekly Sales of Walmart', xaxis=dict(title='Week number'),\n",
        "                   yaxis=dict(title='Weekly_Sales'))\n",
        "fig = go.Figure(data=[sales_plot_10,sales_plot_11,sales_plot_12], layout=layout)\n",
        "iplot(fig)\n"
      ],
      "metadata": {
        "colab": {
          "base_uri": "https://localhost:8080/",
          "height": 542
        },
        "id": "-qHDdjDY7prl",
        "outputId": "6c230537-1e9e-4fdb-837b-0ed50a652155"
      },
      "execution_count": null,
      "outputs": [
        {
          "output_type": "display_data",
          "data": {
            "text/html": [
              "<html>\n",
              "<head><meta charset=\"utf-8\" /></head>\n",
              "<body>\n",
              "    <div>            <script src=\"https://cdnjs.cloudflare.com/ajax/libs/mathjax/2.7.5/MathJax.js?config=TeX-AMS-MML_SVG\"></script><script type=\"text/javascript\">if (window.MathJax) {MathJax.Hub.Config({SVG: {font: \"STIX-Web\"}});}</script>                <script type=\"text/javascript\">window.PlotlyConfig = {MathJaxConfig: 'local'};</script>\n",
              "        <script src=\"https://cdn.plot.ly/plotly-2.8.3.min.js\"></script>                <div id=\"f063b99d-0b68-4619-9d07-c087928dd52a\" class=\"plotly-graph-div\" style=\"height:525px; width:100%;\"></div>            <script type=\"text/javascript\">                                    window.PLOTLYENV=window.PLOTLYENV || {};                                    if (document.getElementById(\"f063b99d-0b68-4619-9d07-c087928dd52a\")) {                    Plotly.newPlot(                        \"f063b99d-0b68-4619-9d07-c087928dd52a\",                        [{\"name\":\"Year 2010\",\"x\":[5.0,6.0,7.0,8.0,9.0,10.0,11.0,12.0,13.0,14.0,15.0,16.0,17.0,18.0,19.0,20.0,21.0,22.0,23.0,24.0,25.0,26.0,27.0,28.0,29.0,30.0,31.0,32.0,33.0,34.0,35.0,36.0,37.0,38.0,39.0,40.0,41.0,42.0,43.0,44.0,45.0,46.0,47.0,48.0,49.0,50.0,51.0,52.0],\"y\":[16836.121996615904,16352.05603179973,16216.658978837757,14899.549688241275,15921.015726902173,15546.850545023695,15286.773577981652,14975.894485917881,17098.62029840624,16050.589779735683,15347.71300271739,15252.114749403341,14967.509147260274,16542.716070941337,15513.374469541412,15499.865358983168,16428.449453044377,17246.92203436426,16440.8892127879,16281.041446153846,15978.41490915324,16769.792423723004,16500.01011712022,15940.675484315752,15357.115672254533,15300.090305107988,16576.6847042641,16044.343373618785,16222.320896242676,15841.870407177363,16129.27464456596,15537.758883214165,14708.33953909184,14105.905324010913,14391.780534923339,15362.04844346049,14726.782747440275,14678.48313565099,14871.361169849934,15625.249791808874,15753.00574795082,15475.166042524006,22403.33670524166,16924.051502204136,18882.893619402985,20892.463619466038,27378.692692828143,13738.538566089024],\"type\":\"scatter\"},{\"name\":\"Year 2011\",\"x\":[1.0,2.0,3.0,4.0,5.0,6.0,7.0,8.0,9.0,10.0,11.0,12.0,13.0,14.0,15.0,16.0,17.0,18.0,19.0,20.0,21.0,22.0,23.0,24.0,25.0,26.0,27.0,28.0,29.0,30.0,31.0,32.0,33.0,34.0,35.0,36.0,37.0,38.0,39.0,40.0,41.0,42.0,43.0,44.0,45.0,46.0,47.0,48.0,49.0,50.0,51.0,52.0],\"y\":[14599.244972696248,13891.283483606558,13932.367385195339,13566.239462144571,15773.44877648667,16111.706191286588,16541.991212224108,15049.747557980902,15882.55704530088,15056.450539811065,15216.115961342828,14573.827049626105,14726.869261267366,15634.571311754684,15229.708140873689,16472.65382741117,14745.946063685637,15757.21529589778,15317.204186046512,15002.247278610354,15390.233448861705,16691.30533196441,16302.918830369355,16111.226407470289,15649.418342428376,16232.862333674513,16328.646803138861,15566.323502051984,15526.204180384088,14965.1504898938,16393.126312734723,15774.068625511596,15888.028316965796,16068.09503558116,15387.122166836216,15809.069482758621,14865.56689748812,14446.431088941494,14298.824401897662,15960.678958755916,15062.736014935504,15521.325691056909,15470.924780701753,16471.071191604602,16348.811045531198,15683.546288416077,22043.563475670308,16496.511853707416,18458.853056478405,19942.149332890807,25437.146121572514,15332.154858474858],\"type\":\"scatter\"},{\"name\":\"Year 2012\",\"x\":[1.0,2.0,3.0,4.0,5.0,6.0,7.0,8.0,9.0,10.0,11.0,12.0,13.0,14.0,15.0,16.0,17.0,18.0,19.0,20.0,21.0,22.0,23.0,24.0,25.0,26.0,27.0,28.0,29.0,30.0,31.0,32.0,33.0,34.0,35.0,36.0,37.0,38.0,39.0,40.0,41.0,42.0,43.0],\"y\":[15121.231735620586,14168.26651382333,14221.357404528559,13494.232611788619,15480.553607658718,16664.2478907031,16693.40105088128,15458.124474839582,15672.586946488294,15965.182955615333,15823.719615384614,15195.472627490713,15289.720371496118,17935.741156553802,15663.171451125292,15150.43017815126,14799.187166553826,15947.27510321489,15784.015805583585,15856.396620386047,16284.414590275417,16405.589439347605,16774.044520270272,16377.574661705008,16098.711573792638,15887.184493692464,17309.362337048296,15616.440413279133,15602.82637195122,15034.829515854073,16004.684718570948,16030.926966520121,16025.195279187816,16029.501216216217,15921.552812288994,16294.692956844236,14905.978648466464,14989.708384589389,14765.32727886563,15983.413746639786,15427.596739130435,15295.73239661017,15391.7256809733],\"type\":\"scatter\"}],                        {\"template\":{\"data\":{\"barpolar\":[{\"marker\":{\"line\":{\"color\":\"#E5ECF6\",\"width\":0.5},\"pattern\":{\"fillmode\":\"overlay\",\"size\":10,\"solidity\":0.2}},\"type\":\"barpolar\"}],\"bar\":[{\"error_x\":{\"color\":\"#2a3f5f\"},\"error_y\":{\"color\":\"#2a3f5f\"},\"marker\":{\"line\":{\"color\":\"#E5ECF6\",\"width\":0.5},\"pattern\":{\"fillmode\":\"overlay\",\"size\":10,\"solidity\":0.2}},\"type\":\"bar\"}],\"carpet\":[{\"aaxis\":{\"endlinecolor\":\"#2a3f5f\",\"gridcolor\":\"white\",\"linecolor\":\"white\",\"minorgridcolor\":\"white\",\"startlinecolor\":\"#2a3f5f\"},\"baxis\":{\"endlinecolor\":\"#2a3f5f\",\"gridcolor\":\"white\",\"linecolor\":\"white\",\"minorgridcolor\":\"white\",\"startlinecolor\":\"#2a3f5f\"},\"type\":\"carpet\"}],\"choropleth\":[{\"colorbar\":{\"outlinewidth\":0,\"ticks\":\"\"},\"type\":\"choropleth\"}],\"contourcarpet\":[{\"colorbar\":{\"outlinewidth\":0,\"ticks\":\"\"},\"type\":\"contourcarpet\"}],\"contour\":[{\"colorbar\":{\"outlinewidth\":0,\"ticks\":\"\"},\"colorscale\":[[0.0,\"#0d0887\"],[0.1111111111111111,\"#46039f\"],[0.2222222222222222,\"#7201a8\"],[0.3333333333333333,\"#9c179e\"],[0.4444444444444444,\"#bd3786\"],[0.5555555555555556,\"#d8576b\"],[0.6666666666666666,\"#ed7953\"],[0.7777777777777778,\"#fb9f3a\"],[0.8888888888888888,\"#fdca26\"],[1.0,\"#f0f921\"]],\"type\":\"contour\"}],\"heatmapgl\":[{\"colorbar\":{\"outlinewidth\":0,\"ticks\":\"\"},\"colorscale\":[[0.0,\"#0d0887\"],[0.1111111111111111,\"#46039f\"],[0.2222222222222222,\"#7201a8\"],[0.3333333333333333,\"#9c179e\"],[0.4444444444444444,\"#bd3786\"],[0.5555555555555556,\"#d8576b\"],[0.6666666666666666,\"#ed7953\"],[0.7777777777777778,\"#fb9f3a\"],[0.8888888888888888,\"#fdca26\"],[1.0,\"#f0f921\"]],\"type\":\"heatmapgl\"}],\"heatmap\":[{\"colorbar\":{\"outlinewidth\":0,\"ticks\":\"\"},\"colorscale\":[[0.0,\"#0d0887\"],[0.1111111111111111,\"#46039f\"],[0.2222222222222222,\"#7201a8\"],[0.3333333333333333,\"#9c179e\"],[0.4444444444444444,\"#bd3786\"],[0.5555555555555556,\"#d8576b\"],[0.6666666666666666,\"#ed7953\"],[0.7777777777777778,\"#fb9f3a\"],[0.8888888888888888,\"#fdca26\"],[1.0,\"#f0f921\"]],\"type\":\"heatmap\"}],\"histogram2dcontour\":[{\"colorbar\":{\"outlinewidth\":0,\"ticks\":\"\"},\"colorscale\":[[0.0,\"#0d0887\"],[0.1111111111111111,\"#46039f\"],[0.2222222222222222,\"#7201a8\"],[0.3333333333333333,\"#9c179e\"],[0.4444444444444444,\"#bd3786\"],[0.5555555555555556,\"#d8576b\"],[0.6666666666666666,\"#ed7953\"],[0.7777777777777778,\"#fb9f3a\"],[0.8888888888888888,\"#fdca26\"],[1.0,\"#f0f921\"]],\"type\":\"histogram2dcontour\"}],\"histogram2d\":[{\"colorbar\":{\"outlinewidth\":0,\"ticks\":\"\"},\"colorscale\":[[0.0,\"#0d0887\"],[0.1111111111111111,\"#46039f\"],[0.2222222222222222,\"#7201a8\"],[0.3333333333333333,\"#9c179e\"],[0.4444444444444444,\"#bd3786\"],[0.5555555555555556,\"#d8576b\"],[0.6666666666666666,\"#ed7953\"],[0.7777777777777778,\"#fb9f3a\"],[0.8888888888888888,\"#fdca26\"],[1.0,\"#f0f921\"]],\"type\":\"histogram2d\"}],\"histogram\":[{\"marker\":{\"pattern\":{\"fillmode\":\"overlay\",\"size\":10,\"solidity\":0.2}},\"type\":\"histogram\"}],\"mesh3d\":[{\"colorbar\":{\"outlinewidth\":0,\"ticks\":\"\"},\"type\":\"mesh3d\"}],\"parcoords\":[{\"line\":{\"colorbar\":{\"outlinewidth\":0,\"ticks\":\"\"}},\"type\":\"parcoords\"}],\"pie\":[{\"automargin\":true,\"type\":\"pie\"}],\"scatter3d\":[{\"line\":{\"colorbar\":{\"outlinewidth\":0,\"ticks\":\"\"}},\"marker\":{\"colorbar\":{\"outlinewidth\":0,\"ticks\":\"\"}},\"type\":\"scatter3d\"}],\"scattercarpet\":[{\"marker\":{\"colorbar\":{\"outlinewidth\":0,\"ticks\":\"\"}},\"type\":\"scattercarpet\"}],\"scattergeo\":[{\"marker\":{\"colorbar\":{\"outlinewidth\":0,\"ticks\":\"\"}},\"type\":\"scattergeo\"}],\"scattergl\":[{\"marker\":{\"colorbar\":{\"outlinewidth\":0,\"ticks\":\"\"}},\"type\":\"scattergl\"}],\"scattermapbox\":[{\"marker\":{\"colorbar\":{\"outlinewidth\":0,\"ticks\":\"\"}},\"type\":\"scattermapbox\"}],\"scatterpolargl\":[{\"marker\":{\"colorbar\":{\"outlinewidth\":0,\"ticks\":\"\"}},\"type\":\"scatterpolargl\"}],\"scatterpolar\":[{\"marker\":{\"colorbar\":{\"outlinewidth\":0,\"ticks\":\"\"}},\"type\":\"scatterpolar\"}],\"scatter\":[{\"marker\":{\"colorbar\":{\"outlinewidth\":0,\"ticks\":\"\"}},\"type\":\"scatter\"}],\"scatterternary\":[{\"marker\":{\"colorbar\":{\"outlinewidth\":0,\"ticks\":\"\"}},\"type\":\"scatterternary\"}],\"surface\":[{\"colorbar\":{\"outlinewidth\":0,\"ticks\":\"\"},\"colorscale\":[[0.0,\"#0d0887\"],[0.1111111111111111,\"#46039f\"],[0.2222222222222222,\"#7201a8\"],[0.3333333333333333,\"#9c179e\"],[0.4444444444444444,\"#bd3786\"],[0.5555555555555556,\"#d8576b\"],[0.6666666666666666,\"#ed7953\"],[0.7777777777777778,\"#fb9f3a\"],[0.8888888888888888,\"#fdca26\"],[1.0,\"#f0f921\"]],\"type\":\"surface\"}],\"table\":[{\"cells\":{\"fill\":{\"color\":\"#EBF0F8\"},\"line\":{\"color\":\"white\"}},\"header\":{\"fill\":{\"color\":\"#C8D4E3\"},\"line\":{\"color\":\"white\"}},\"type\":\"table\"}]},\"layout\":{\"annotationdefaults\":{\"arrowcolor\":\"#2a3f5f\",\"arrowhead\":0,\"arrowwidth\":1},\"autotypenumbers\":\"strict\",\"coloraxis\":{\"colorbar\":{\"outlinewidth\":0,\"ticks\":\"\"}},\"colorscale\":{\"diverging\":[[0,\"#8e0152\"],[0.1,\"#c51b7d\"],[0.2,\"#de77ae\"],[0.3,\"#f1b6da\"],[0.4,\"#fde0ef\"],[0.5,\"#f7f7f7\"],[0.6,\"#e6f5d0\"],[0.7,\"#b8e186\"],[0.8,\"#7fbc41\"],[0.9,\"#4d9221\"],[1,\"#276419\"]],\"sequential\":[[0.0,\"#0d0887\"],[0.1111111111111111,\"#46039f\"],[0.2222222222222222,\"#7201a8\"],[0.3333333333333333,\"#9c179e\"],[0.4444444444444444,\"#bd3786\"],[0.5555555555555556,\"#d8576b\"],[0.6666666666666666,\"#ed7953\"],[0.7777777777777778,\"#fb9f3a\"],[0.8888888888888888,\"#fdca26\"],[1.0,\"#f0f921\"]],\"sequentialminus\":[[0.0,\"#0d0887\"],[0.1111111111111111,\"#46039f\"],[0.2222222222222222,\"#7201a8\"],[0.3333333333333333,\"#9c179e\"],[0.4444444444444444,\"#bd3786\"],[0.5555555555555556,\"#d8576b\"],[0.6666666666666666,\"#ed7953\"],[0.7777777777777778,\"#fb9f3a\"],[0.8888888888888888,\"#fdca26\"],[1.0,\"#f0f921\"]]},\"colorway\":[\"#636efa\",\"#EF553B\",\"#00cc96\",\"#ab63fa\",\"#FFA15A\",\"#19d3f3\",\"#FF6692\",\"#B6E880\",\"#FF97FF\",\"#FECB52\"],\"font\":{\"color\":\"#2a3f5f\"},\"geo\":{\"bgcolor\":\"white\",\"lakecolor\":\"white\",\"landcolor\":\"#E5ECF6\",\"showlakes\":true,\"showland\":true,\"subunitcolor\":\"white\"},\"hoverlabel\":{\"align\":\"left\"},\"hovermode\":\"closest\",\"mapbox\":{\"style\":\"light\"},\"paper_bgcolor\":\"white\",\"plot_bgcolor\":\"#E5ECF6\",\"polar\":{\"angularaxis\":{\"gridcolor\":\"white\",\"linecolor\":\"white\",\"ticks\":\"\"},\"bgcolor\":\"#E5ECF6\",\"radialaxis\":{\"gridcolor\":\"white\",\"linecolor\":\"white\",\"ticks\":\"\"}},\"scene\":{\"xaxis\":{\"backgroundcolor\":\"#E5ECF6\",\"gridcolor\":\"white\",\"gridwidth\":2,\"linecolor\":\"white\",\"showbackground\":true,\"ticks\":\"\",\"zerolinecolor\":\"white\"},\"yaxis\":{\"backgroundcolor\":\"#E5ECF6\",\"gridcolor\":\"white\",\"gridwidth\":2,\"linecolor\":\"white\",\"showbackground\":true,\"ticks\":\"\",\"zerolinecolor\":\"white\"},\"zaxis\":{\"backgroundcolor\":\"#E5ECF6\",\"gridcolor\":\"white\",\"gridwidth\":2,\"linecolor\":\"white\",\"showbackground\":true,\"ticks\":\"\",\"zerolinecolor\":\"white\"}},\"shapedefaults\":{\"line\":{\"color\":\"#2a3f5f\"}},\"ternary\":{\"aaxis\":{\"gridcolor\":\"white\",\"linecolor\":\"white\",\"ticks\":\"\"},\"baxis\":{\"gridcolor\":\"white\",\"linecolor\":\"white\",\"ticks\":\"\"},\"bgcolor\":\"#E5ECF6\",\"caxis\":{\"gridcolor\":\"white\",\"linecolor\":\"white\",\"ticks\":\"\"}},\"title\":{\"x\":0.05},\"xaxis\":{\"automargin\":true,\"gridcolor\":\"white\",\"linecolor\":\"white\",\"ticks\":\"\",\"title\":{\"standoff\":15},\"zerolinecolor\":\"white\",\"zerolinewidth\":2},\"yaxis\":{\"automargin\":true,\"gridcolor\":\"white\",\"linecolor\":\"white\",\"ticks\":\"\",\"title\":{\"standoff\":15},\"zerolinecolor\":\"white\",\"zerolinewidth\":2}}},\"title\":{\"text\":\"Overall Weekly Sales of Walmart\"},\"xaxis\":{\"title\":{\"text\":\"Week number\"}},\"yaxis\":{\"title\":{\"text\":\"Weekly_Sales\"}}},                        {\"responsive\": true}                    ).then(function(){\n",
              "                            \n",
              "var gd = document.getElementById('f063b99d-0b68-4619-9d07-c087928dd52a');\n",
              "var x = new MutationObserver(function (mutations, observer) {{\n",
              "        var display = window.getComputedStyle(gd).display;\n",
              "        if (!display || display === 'none') {{\n",
              "            console.log([gd, 'removed!']);\n",
              "            Plotly.purge(gd);\n",
              "            observer.disconnect();\n",
              "        }}\n",
              "}});\n",
              "\n",
              "// Listen for the removal of the full notebook cells\n",
              "var notebookContainer = gd.closest('#notebook-container');\n",
              "if (notebookContainer) {{\n",
              "    x.observe(notebookContainer, {childList: true});\n",
              "}}\n",
              "\n",
              "// Listen for the clearing of the current output cell\n",
              "var outputEl = gd.closest('.output');\n",
              "if (outputEl) {{\n",
              "    x.observe(outputEl, {childList: true});\n",
              "}}\n",
              "\n",
              "                        })                };                            </script>        </div>\n",
              "</body>\n",
              "</html>"
            ]
          },
          "metadata": {}
        }
      ]
    },
    {
      "cell_type": "code",
      "source": [
        "# Weekly sales by store\n",
        "plt.figure(figsize=(20,8))\n",
        "splot=sns.barplot(Overall_stores_sales['Store'], Overall_stores_sales['Weekly_Sales'], palette='tab10')\n",
        "\n",
        "for p in splot.patches:\n",
        "    splot.annotate(format(p.get_height(), '.1f'), \n",
        "                   (p.get_x() + p.get_width() / 2., p.get_height()), \n",
        "                   ha = 'center', va = 'center', \n",
        "                   xytext = (0, 9), \n",
        "                   textcoords = 'offset points',size=8)\n",
        "\n",
        "plt.title('Total Sales - per Store', fontsize=18)\n",
        "plt.ylabel('Total sales', fontsize=16)\n",
        "plt.xlabel('Store', fontsize=16)\n",
        "plt.show()"
      ],
      "metadata": {
        "colab": {
          "base_uri": "https://localhost:8080/",
          "height": 522
        },
        "id": "ylgzS5DKb_ta",
        "outputId": "a4152a9f-59ca-4eaa-f419-8c5232e7a8e3"
      },
      "execution_count": null,
      "outputs": [
        {
          "output_type": "display_data",
          "data": {
            "image/png": "[encoded data removed]",
            "text/plain": [
              "<Figure size 1440x576 with 1 Axes>"
            ]
          },
          "metadata": {
            "needs_background": "light"
          }
        }
      ]
    },
    {
      "cell_type": "code",
      "source": [
        "train=pd.merge(train,stores,on=\"Store\")\n",
        "train.head(2)"
      ],
      "metadata": {
        "colab": {
          "base_uri": "https://localhost:8080/",
          "height": 112
        },
        "id": "I9Zn7Vi2PVXn",
        "outputId": "58bae603-6cc9-4235-ddd0-8c57dc823c71"
      },
      "execution_count": null,
      "outputs": [
        {
          "output_type": "execute_result",
          "data": {
            "text/html": [
              "\n",
              "  <div id=\"df-bf9e6463-dc0b-41b4-a418-5cd09770c412\">\n",
              "    <div class=\"colab-df-container\">\n",
              "      <div>\n",
              "<style scoped>\n",
              "    .dataframe tbody tr th:only-of-type {\n",
              "        vertical-align: middle;\n",
              "    }\n",
              "\n",
              "    .dataframe tbody tr th {\n",
              "        vertical-align: top;\n",
              "    }\n",
              "\n",
              "    .dataframe thead th {\n",
              "        text-align: right;\n",
              "    }\n",
              "</style>\n",
              "<table border=\"1\" class=\"dataframe\">\n",
              "  <thead>\n",
              "    <tr style=\"text-align: right;\">\n",
              "      <th></th>\n",
              "      <th>Store</th>\n",
              "      <th>Dept</th>\n",
              "      <th>Date</th>\n",
              "      <th>Weekly_Sales</th>\n",
              "      <th>IsHoliday</th>\n",
              "      <th>Year</th>\n",
              "      <th>Month</th>\n",
              "      <th>Day</th>\n",
              "      <th>Week</th>\n",
              "      <th>Type</th>\n",
              "      <th>Size</th>\n",
              "    </tr>\n",
              "  </thead>\n",
              "  <tbody>\n",
              "    <tr>\n",
              "      <th>0</th>\n",
              "      <td>1</td>\n",
              "      <td>1</td>\n",
              "      <td>2010-02-05</td>\n",
              "      <td>24924.50</td>\n",
              "      <td>False</td>\n",
              "      <td>2010</td>\n",
              "      <td>2</td>\n",
              "      <td>5</td>\n",
              "      <td>5.0</td>\n",
              "      <td>A</td>\n",
              "      <td>151315</td>\n",
              "    </tr>\n",
              "    <tr>\n",
              "      <th>1</th>\n",
              "      <td>1</td>\n",
              "      <td>1</td>\n",
              "      <td>2010-02-12</td>\n",
              "      <td>46039.49</td>\n",
              "      <td>True</td>\n",
              "      <td>2010</td>\n",
              "      <td>2</td>\n",
              "      <td>12</td>\n",
              "      <td>6.0</td>\n",
              "      <td>A</td>\n",
              "      <td>151315</td>\n",
              "    </tr>\n",
              "  </tbody>\n",
              "</table>\n",
              "</div>\n",
              "      <button class=\"colab-df-convert\" onclick=\"convertToInteractive('df-bf9e6463-dc0b-41b4-a418-5cd09770c412')\"\n",
              "              title=\"Convert this dataframe to an interactive table.\"\n",
              "              style=\"display:none;\">\n",
              "        \n",
              "  <svg xmlns=\"http://www.w3.org/2000/svg\" height=\"24px\"viewBox=\"0 0 24 24\"\n",
              "       width=\"24px\">\n",
              "    <path d=\"M0 0h24v24H0V0z\" fill=\"none\"/>\n",
              "    <path d=\"M18.56 5.44l.94 2.06.94-2.06 2.06-.94-2.06-.94-.94-2.06-.94 2.06-2.06.94zm-11 1L8.5 8.5l.94-2.06 2.06-.94-2.06-.94L8.5 2.5l-.94 2.06-2.06.94zm10 10l.94 2.06.94-2.06 2.06-.94-2.06-.94-.94-2.06-.94 2.06-2.06.94z\"/><path d=\"M17.41 7.96l-1.37-1.37c-.4-.4-.92-.59-1.43-.59-.52 0-1.04.2-1.43.59L10.3 9.45l-7.72 7.72c-.78.78-.78 2.05 0 2.83L4 21.41c.39.39.9.59 1.41.59.51 0 1.02-.2 1.41-.59l7.78-7.78 2.81-2.81c.8-.78.8-2.07 0-2.86zM5.41 20L4 18.59l7.72-7.72 1.47 1.35L5.41 20z\"/>\n",
              "  </svg>\n",
              "      </button>\n",
              "      \n",
              "  <style>\n",
              "    .colab-df-container {\n",
              "      display:flex;\n",
              "      flex-wrap:wrap;\n",
              "      gap: 12px;\n",
              "    }\n",
              "\n",
              "    .colab-df-convert {\n",
              "      background-color: #E8F0FE;\n",
              "      border: none;\n",
              "      border-radius: 50%;\n",
              "      cursor: pointer;\n",
              "      display: none;\n",
              "      fill: #1967D2;\n",
              "      height: 32px;\n",
              "      padding: 0 0 0 0;\n",
              "      width: 32px;\n",
              "    }\n",
              "\n",
              "    .colab-df-convert:hover {\n",
              "      background-color: #E2EBFA;\n",
              "      box-shadow: 0px 1px 2px rgba(60, 64, 67, 0.3), 0px 1px 3px 1px rgba(60, 64, 67, 0.15);\n",
              "      fill: #174EA6;\n",
              "    }\n",
              "\n",
              "    [theme=dark] .colab-df-convert {\n",
              "      background-color: #3B4455;\n",
              "      fill: #D2E3FC;\n",
              "    }\n",
              "\n",
              "    [theme=dark] .colab-df-convert:hover {\n",
              "      background-color: #434B5C;\n",
              "      box-shadow: 0px 1px 3px 1px rgba(0, 0, 0, 0.15);\n",
              "      filter: drop-shadow(0px 1px 2px rgba(0, 0, 0, 0.3));\n",
              "      fill: #FFFFFF;\n",
              "    }\n",
              "  </style>\n",
              "\n",
              "      <script>\n",
              "        const buttonEl =\n",
              "          document.querySelector('#df-bf9e6463-dc0b-41b4-a418-5cd09770c412 button.colab-df-convert');\n",
              "        buttonEl.style.display =\n",
              "          google.colab.kernel.accessAllowed ? 'block' : 'none';\n",
              "\n",
              "        async function convertToInteractive(key) {\n",
              "          const element = document.querySelector('#df-bf9e6463-dc0b-41b4-a418-5cd09770c412');\n",
              "          const dataTable =\n",
              "            await google.colab.kernel.invokeFunction('convertToInteractive',\n",
              "                                                     [key], {});\n",
              "          if (!dataTable) return;\n",
              "\n",
              "          const docLinkHtml = 'Like what you see? Visit the ' +\n",
              "            '<a target=\"_blank\" href=https://colab.research.google.com/notebooks/data_table.ipynb>data table notebook</a>'\n",
              "            + ' to learn more about interactive tables.';\n",
              "          element.innerHTML = '';\n",
              "          dataTable['output_type'] = 'display_data';\n",
              "          await google.colab.output.renderOutput(dataTable, element);\n",
              "          const docLink = document.createElement('div');\n",
              "          docLink.innerHTML = docLinkHtml;\n",
              "          element.appendChild(docLink);\n",
              "        }\n",
              "      </script>\n",
              "    </div>\n",
              "  </div>\n",
              "  "
            ],
            "text/plain": [
              "   Store  Dept       Date  Weekly_Sales  ...  Day  Week  Type    Size\n",
              "0      1     1 2010-02-05      24924.50  ...    5   5.0     A  151315\n",
              "1      1     1 2010-02-12      46039.49  ...   12   6.0     A  151315\n",
              "\n",
              "[2 rows x 11 columns]"
            ]
          },
          "metadata": {},
          "execution_count": 92
        }
      ]
    },
    {
      "cell_type": "code",
      "source": [
        "store_type=train.groupby(\"Type\")[\"Weekly_Sales\"].mean().to_frame(\"Total_sales\")\n",
        "store_type.head()"
      ],
      "metadata": {
        "colab": {
          "base_uri": "https://localhost:8080/",
          "height": 174
        },
        "id": "-KEeuIEKVa12",
        "outputId": "2750704c-504b-402c-97b8-d3b3530b2165"
      },
      "execution_count": null,
      "outputs": [
        {
          "output_type": "execute_result",
          "data": {
            "text/html": [
              "\n",
              "  <div id=\"df-3afd0ebc-1bcf-486b-84a5-618d88b7d502\">\n",
              "    <div class=\"colab-df-container\">\n",
              "      <div>\n",
              "<style scoped>\n",
              "    .dataframe tbody tr th:only-of-type {\n",
              "        vertical-align: middle;\n",
              "    }\n",
              "\n",
              "    .dataframe tbody tr th {\n",
              "        vertical-align: top;\n",
              "    }\n",
              "\n",
              "    .dataframe thead th {\n",
              "        text-align: right;\n",
              "    }\n",
              "</style>\n",
              "<table border=\"1\" class=\"dataframe\">\n",
              "  <thead>\n",
              "    <tr style=\"text-align: right;\">\n",
              "      <th></th>\n",
              "      <th>Total_sales</th>\n",
              "    </tr>\n",
              "    <tr>\n",
              "      <th>Type</th>\n",
              "      <th></th>\n",
              "    </tr>\n",
              "  </thead>\n",
              "  <tbody>\n",
              "    <tr>\n",
              "      <th>A</th>\n",
              "      <td>20099.568043</td>\n",
              "    </tr>\n",
              "    <tr>\n",
              "      <th>B</th>\n",
              "      <td>12237.075977</td>\n",
              "    </tr>\n",
              "    <tr>\n",
              "      <th>C</th>\n",
              "      <td>9519.532538</td>\n",
              "    </tr>\n",
              "  </tbody>\n",
              "</table>\n",
              "</div>\n",
              "      <button class=\"colab-df-convert\" onclick=\"convertToInteractive('df-3afd0ebc-1bcf-486b-84a5-618d88b7d502')\"\n",
              "              title=\"Convert this dataframe to an interactive table.\"\n",
              "              style=\"display:none;\">\n",
              "        \n",
              "  <svg xmlns=\"http://www.w3.org/2000/svg\" height=\"24px\"viewBox=\"0 0 24 24\"\n",
              "       width=\"24px\">\n",
              "    <path d=\"M0 0h24v24H0V0z\" fill=\"none\"/>\n",
              "    <path d=\"M18.56 5.44l.94 2.06.94-2.06 2.06-.94-2.06-.94-.94-2.06-.94 2.06-2.06.94zm-11 1L8.5 8.5l.94-2.06 2.06-.94-2.06-.94L8.5 2.5l-.94 2.06-2.06.94zm10 10l.94 2.06.94-2.06 2.06-.94-2.06-.94-.94-2.06-.94 2.06-2.06.94z\"/><path d=\"M17.41 7.96l-1.37-1.37c-.4-.4-.92-.59-1.43-.59-.52 0-1.04.2-1.43.59L10.3 9.45l-7.72 7.72c-.78.78-.78 2.05 0 2.83L4 21.41c.39.39.9.59 1.41.59.51 0 1.02-.2 1.41-.59l7.78-7.78 2.81-2.81c.8-.78.8-2.07 0-2.86zM5.41 20L4 18.59l7.72-7.72 1.47 1.35L5.41 20z\"/>\n",
              "  </svg>\n",
              "      </button>\n",
              "      \n",
              "  <style>\n",
              "    .colab-df-container {\n",
              "      display:flex;\n",
              "      flex-wrap:wrap;\n",
              "      gap: 12px;\n",
              "    }\n",
              "\n",
              "    .colab-df-convert {\n",
              "      background-color: #E8F0FE;\n",
              "      border: none;\n",
              "      border-radius: 50%;\n",
              "      cursor: pointer;\n",
              "      display: none;\n",
              "      fill: #1967D2;\n",
              "      height: 32px;\n",
              "      padding: 0 0 0 0;\n",
              "      width: 32px;\n",
              "    }\n",
              "\n",
              "    .colab-df-convert:hover {\n",
              "      background-color: #E2EBFA;\n",
              "      box-shadow: 0px 1px 2px rgba(60, 64, 67, 0.3), 0px 1px 3px 1px rgba(60, 64, 67, 0.15);\n",
              "      fill: #174EA6;\n",
              "    }\n",
              "\n",
              "    [theme=dark] .colab-df-convert {\n",
              "      background-color: #3B4455;\n",
              "      fill: #D2E3FC;\n",
              "    }\n",
              "\n",
              "    [theme=dark] .colab-df-convert:hover {\n",
              "      background-color: #434B5C;\n",
              "      box-shadow: 0px 1px 3px 1px rgba(0, 0, 0, 0.15);\n",
              "      filter: drop-shadow(0px 1px 2px rgba(0, 0, 0, 0.3));\n",
              "      fill: #FFFFFF;\n",
              "    }\n",
              "  </style>\n",
              "\n",
              "      <script>\n",
              "        const buttonEl =\n",
              "          document.querySelector('#df-3afd0ebc-1bcf-486b-84a5-618d88b7d502 button.colab-df-convert');\n",
              "        buttonEl.style.display =\n",
              "          google.colab.kernel.accessAllowed ? 'block' : 'none';\n",
              "\n",
              "        async function convertToInteractive(key) {\n",
              "          const element = document.querySelector('#df-3afd0ebc-1bcf-486b-84a5-618d88b7d502');\n",
              "          const dataTable =\n",
              "            await google.colab.kernel.invokeFunction('convertToInteractive',\n",
              "                                                     [key], {});\n",
              "          if (!dataTable) return;\n",
              "\n",
              "          const docLinkHtml = 'Like what you see? Visit the ' +\n",
              "            '<a target=\"_blank\" href=https://colab.research.google.com/notebooks/data_table.ipynb>data table notebook</a>'\n",
              "            + ' to learn more about interactive tables.';\n",
              "          element.innerHTML = '';\n",
              "          dataTable['output_type'] = 'display_data';\n",
              "          await google.colab.output.renderOutput(dataTable, element);\n",
              "          const docLink = document.createElement('div');\n",
              "          docLink.innerHTML = docLinkHtml;\n",
              "          element.appendChild(docLink);\n",
              "        }\n",
              "      </script>\n",
              "    </div>\n",
              "  </div>\n",
              "  "
            ],
            "text/plain": [
              "       Total_sales\n",
              "Type              \n",
              "A     20099.568043\n",
              "B     12237.075977\n",
              "C      9519.532538"
            ]
          },
          "metadata": {},
          "execution_count": 93
        }
      ]
    },
    {
      "cell_type": "code",
      "source": [
        "pie_plot2=train.groupby(\"Type\")[\"Size\"].mean().to_frame(\"sum\")\n",
        "pie_plot3=stores.groupby(\"Type\")[\"Store\"].count().to_frame(\"sum\")\n",
        "\n",
        "trace1 = go.Pie(\n",
        "     values=store_type[\"Total_sales\"],\n",
        "     labels=store_type.index,\n",
        "     domain=dict(x=[0, 0.33]),\n",
        "     name=\"Total_sales\",\n",
        "     hoverinfo=\"label+percent+name\",\n",
        "     title=\"Total sales of Stores based on their type\",\n",
        "\n",
        ")\n",
        "trace2 = go.Pie(\n",
        "     values=pie_plot2[\"sum\"],\n",
        "     labels=pie_plot2.index,\n",
        "     domain=dict(x=[0.33, 0.66]),\n",
        "     name=\"Size\",\n",
        "     hoverinfo=\"label+percent+name\",\n",
        "     title=\"Total size of Stores based on their type\",\n",
        ")\n",
        "trace3 = go.Pie(\n",
        "     values=pie_plot3[\"sum\"],\n",
        "     labels=pie_plot3.index,\n",
        "     domain=dict(x=[0.66, 1.0]),\n",
        "     name=\"Count\",\n",
        "     hoverinfo=\"label+percent+name\",\n",
        "     title=\"Number of Stores in each category\",\n",
        ")\n",
        "\n",
        "layout = go.Layout(title=\"Types of stores\",)\n",
        "data = [trace1, trace2,trace3]\n",
        "fig = go.Figure(data=data, layout=layout)\n",
        "py.plot(fig, filename='simple-pie-subplot')\n",
        "iplot(fig)\n"
      ],
      "metadata": {
        "colab": {
          "base_uri": "https://localhost:8080/",
          "height": 542
        },
        "id": "JlCYpNAG2992",
        "outputId": "a0672ed3-49d0-4677-f75a-585e33ee1637"
      },
      "execution_count": null,
      "outputs": [
        {
          "output_type": "display_data",
          "data": {
            "text/html": [
              "<html>\n",
              "<head><meta charset=\"utf-8\" /></head>\n",
              "<body>\n",
              "    <div>            <script src=\"https://cdnjs.cloudflare.com/ajax/libs/mathjax/2.7.5/MathJax.js?config=TeX-AMS-MML_SVG\"></script><script type=\"text/javascript\">if (window.MathJax) {MathJax.Hub.Config({SVG: {font: \"STIX-Web\"}});}</script>                <script type=\"text/javascript\">window.PlotlyConfig = {MathJaxConfig: 'local'};</script>\n",
              "        <script src=\"https://cdn.plot.ly/plotly-2.8.3.min.js\"></script>                <div id=\"02b4cbf0-2881-4a16-a0a1-2ad69838634f\" class=\"plotly-graph-div\" style=\"height:525px; width:100%;\"></div>            <script type=\"text/javascript\">                                    window.PLOTLYENV=window.PLOTLYENV || {};                                    if (document.getElementById(\"02b4cbf0-2881-4a16-a0a1-2ad69838634f\")) {                    Plotly.newPlot(                        \"02b4cbf0-2881-4a16-a0a1-2ad69838634f\",                        [{\"domain\":{\"x\":[0,0.33]},\"hoverinfo\":\"label+percent+name\",\"labels\":[\"A\",\"B\",\"C\"],\"name\":\"Total_sales\",\"title\":{\"text\":\"Total sales of Stores based on their type\"},\"values\":[20099.568042909254,12237.075976757698,9519.532538441676],\"type\":\"pie\"},{\"domain\":{\"x\":[0.33,0.66]},\"hoverinfo\":\"label+percent+name\",\"labels\":[\"A\",\"B\",\"C\"],\"name\":\"Size\",\"title\":{\"text\":\"Total size of Stores based on their type\"},\"values\":[182231.28548622134,101818.7358267837,40535.72528581825],\"type\":\"pie\"},{\"domain\":{\"x\":[0.66,1.0]},\"hoverinfo\":\"label+percent+name\",\"labels\":[\"A\",\"B\",\"C\"],\"name\":\"Count\",\"title\":{\"text\":\"Number of Stores in each category\"},\"values\":[22,17,6],\"type\":\"pie\"}],                        {\"template\":{\"data\":{\"barpolar\":[{\"marker\":{\"line\":{\"color\":\"#E5ECF6\",\"width\":0.5},\"pattern\":{\"fillmode\":\"overlay\",\"size\":10,\"solidity\":0.2}},\"type\":\"barpolar\"}],\"bar\":[{\"error_x\":{\"color\":\"#2a3f5f\"},\"error_y\":{\"color\":\"#2a3f5f\"},\"marker\":{\"line\":{\"color\":\"#E5ECF6\",\"width\":0.5},\"pattern\":{\"fillmode\":\"overlay\",\"size\":10,\"solidity\":0.2}},\"type\":\"bar\"}],\"carpet\":[{\"aaxis\":{\"endlinecolor\":\"#2a3f5f\",\"gridcolor\":\"white\",\"linecolor\":\"white\",\"minorgridcolor\":\"white\",\"startlinecolor\":\"#2a3f5f\"},\"baxis\":{\"endlinecolor\":\"#2a3f5f\",\"gridcolor\":\"white\",\"linecolor\":\"white\",\"minorgridcolor\":\"white\",\"startlinecolor\":\"#2a3f5f\"},\"type\":\"carpet\"}],\"choropleth\":[{\"colorbar\":{\"outlinewidth\":0,\"ticks\":\"\"},\"type\":\"choropleth\"}],\"contourcarpet\":[{\"colorbar\":{\"outlinewidth\":0,\"ticks\":\"\"},\"type\":\"contourcarpet\"}],\"contour\":[{\"colorbar\":{\"outlinewidth\":0,\"ticks\":\"\"},\"colorscale\":[[0.0,\"#0d0887\"],[0.1111111111111111,\"#46039f\"],[0.2222222222222222,\"#7201a8\"],[0.3333333333333333,\"#9c179e\"],[0.4444444444444444,\"#bd3786\"],[0.5555555555555556,\"#d8576b\"],[0.6666666666666666,\"#ed7953\"],[0.7777777777777778,\"#fb9f3a\"],[0.8888888888888888,\"#fdca26\"],[1.0,\"#f0f921\"]],\"type\":\"contour\"}],\"heatmapgl\":[{\"colorbar\":{\"outlinewidth\":0,\"ticks\":\"\"},\"colorscale\":[[0.0,\"#0d0887\"],[0.1111111111111111,\"#46039f\"],[0.2222222222222222,\"#7201a8\"],[0.3333333333333333,\"#9c179e\"],[0.4444444444444444,\"#bd3786\"],[0.5555555555555556,\"#d8576b\"],[0.6666666666666666,\"#ed7953\"],[0.7777777777777778,\"#fb9f3a\"],[0.8888888888888888,\"#fdca26\"],[1.0,\"#f0f921\"]],\"type\":\"heatmapgl\"}],\"heatmap\":[{\"colorbar\":{\"outlinewidth\":0,\"ticks\":\"\"},\"colorscale\":[[0.0,\"#0d0887\"],[0.1111111111111111,\"#46039f\"],[0.2222222222222222,\"#7201a8\"],[0.3333333333333333,\"#9c179e\"],[0.4444444444444444,\"#bd3786\"],[0.5555555555555556,\"#d8576b\"],[0.6666666666666666,\"#ed7953\"],[0.7777777777777778,\"#fb9f3a\"],[0.8888888888888888,\"#fdca26\"],[1.0,\"#f0f921\"]],\"type\":\"heatmap\"}],\"histogram2dcontour\":[{\"colorbar\":{\"outlinewidth\":0,\"ticks\":\"\"},\"colorscale\":[[0.0,\"#0d0887\"],[0.1111111111111111,\"#46039f\"],[0.2222222222222222,\"#7201a8\"],[0.3333333333333333,\"#9c179e\"],[0.4444444444444444,\"#bd3786\"],[0.5555555555555556,\"#d8576b\"],[0.6666666666666666,\"#ed7953\"],[0.7777777777777778,\"#fb9f3a\"],[0.8888888888888888,\"#fdca26\"],[1.0,\"#f0f921\"]],\"type\":\"histogram2dcontour\"}],\"histogram2d\":[{\"colorbar\":{\"outlinewidth\":0,\"ticks\":\"\"},\"colorscale\":[[0.0,\"#0d0887\"],[0.1111111111111111,\"#46039f\"],[0.2222222222222222,\"#7201a8\"],[0.3333333333333333,\"#9c179e\"],[0.4444444444444444,\"#bd3786\"],[0.5555555555555556,\"#d8576b\"],[0.6666666666666666,\"#ed7953\"],[0.7777777777777778,\"#fb9f3a\"],[0.8888888888888888,\"#fdca26\"],[1.0,\"#f0f921\"]],\"type\":\"histogram2d\"}],\"histogram\":[{\"marker\":{\"pattern\":{\"fillmode\":\"overlay\",\"size\":10,\"solidity\":0.2}},\"type\":\"histogram\"}],\"mesh3d\":[{\"colorbar\":{\"outlinewidth\":0,\"ticks\":\"\"},\"type\":\"mesh3d\"}],\"parcoords\":[{\"line\":{\"colorbar\":{\"outlinewidth\":0,\"ticks\":\"\"}},\"type\":\"parcoords\"}],\"pie\":[{\"automargin\":true,\"type\":\"pie\"}],\"scatter3d\":[{\"line\":{\"colorbar\":{\"outlinewidth\":0,\"ticks\":\"\"}},\"marker\":{\"colorbar\":{\"outlinewidth\":0,\"ticks\":\"\"}},\"type\":\"scatter3d\"}],\"scattercarpet\":[{\"marker\":{\"colorbar\":{\"outlinewidth\":0,\"ticks\":\"\"}},\"type\":\"scattercarpet\"}],\"scattergeo\":[{\"marker\":{\"colorbar\":{\"outlinewidth\":0,\"ticks\":\"\"}},\"type\":\"scattergeo\"}],\"scattergl\":[{\"marker\":{\"colorbar\":{\"outlinewidth\":0,\"ticks\":\"\"}},\"type\":\"scattergl\"}],\"scattermapbox\":[{\"marker\":{\"colorbar\":{\"outlinewidth\":0,\"ticks\":\"\"}},\"type\":\"scattermapbox\"}],\"scatterpolargl\":[{\"marker\":{\"colorbar\":{\"outlinewidth\":0,\"ticks\":\"\"}},\"type\":\"scatterpolargl\"}],\"scatterpolar\":[{\"marker\":{\"colorbar\":{\"outlinewidth\":0,\"ticks\":\"\"}},\"type\":\"scatterpolar\"}],\"scatter\":[{\"marker\":{\"colorbar\":{\"outlinewidth\":0,\"ticks\":\"\"}},\"type\":\"scatter\"}],\"scatterternary\":[{\"marker\":{\"colorbar\":{\"outlinewidth\":0,\"ticks\":\"\"}},\"type\":\"scatterternary\"}],\"surface\":[{\"colorbar\":{\"outlinewidth\":0,\"ticks\":\"\"},\"colorscale\":[[0.0,\"#0d0887\"],[0.1111111111111111,\"#46039f\"],[0.2222222222222222,\"#7201a8\"],[0.3333333333333333,\"#9c179e\"],[0.4444444444444444,\"#bd3786\"],[0.5555555555555556,\"#d8576b\"],[0.6666666666666666,\"#ed7953\"],[0.7777777777777778,\"#fb9f3a\"],[0.8888888888888888,\"#fdca26\"],[1.0,\"#f0f921\"]],\"type\":\"surface\"}],\"table\":[{\"cells\":{\"fill\":{\"color\":\"#EBF0F8\"},\"line\":{\"color\":\"white\"}},\"header\":{\"fill\":{\"color\":\"#C8D4E3\"},\"line\":{\"color\":\"white\"}},\"type\":\"table\"}]},\"layout\":{\"annotationdefaults\":{\"arrowcolor\":\"#2a3f5f\",\"arrowhead\":0,\"arrowwidth\":1},\"autotypenumbers\":\"strict\",\"coloraxis\":{\"colorbar\":{\"outlinewidth\":0,\"ticks\":\"\"}},\"colorscale\":{\"diverging\":[[0,\"#8e0152\"],[0.1,\"#c51b7d\"],[0.2,\"#de77ae\"],[0.3,\"#f1b6da\"],[0.4,\"#fde0ef\"],[0.5,\"#f7f7f7\"],[0.6,\"#e6f5d0\"],[0.7,\"#b8e186\"],[0.8,\"#7fbc41\"],[0.9,\"#4d9221\"],[1,\"#276419\"]],\"sequential\":[[0.0,\"#0d0887\"],[0.1111111111111111,\"#46039f\"],[0.2222222222222222,\"#7201a8\"],[0.3333333333333333,\"#9c179e\"],[0.4444444444444444,\"#bd3786\"],[0.5555555555555556,\"#d8576b\"],[0.6666666666666666,\"#ed7953\"],[0.7777777777777778,\"#fb9f3a\"],[0.8888888888888888,\"#fdca26\"],[1.0,\"#f0f921\"]],\"sequentialminus\":[[0.0,\"#0d0887\"],[0.1111111111111111,\"#46039f\"],[0.2222222222222222,\"#7201a8\"],[0.3333333333333333,\"#9c179e\"],[0.4444444444444444,\"#bd3786\"],[0.5555555555555556,\"#d8576b\"],[0.6666666666666666,\"#ed7953\"],[0.7777777777777778,\"#fb9f3a\"],[0.8888888888888888,\"#fdca26\"],[1.0,\"#f0f921\"]]},\"colorway\":[\"#636efa\",\"#EF553B\",\"#00cc96\",\"#ab63fa\",\"#FFA15A\",\"#19d3f3\",\"#FF6692\",\"#B6E880\",\"#FF97FF\",\"#FECB52\"],\"font\":{\"color\":\"#2a3f5f\"},\"geo\":{\"bgcolor\":\"white\",\"lakecolor\":\"white\",\"landcolor\":\"#E5ECF6\",\"showlakes\":true,\"showland\":true,\"subunitcolor\":\"white\"},\"hoverlabel\":{\"align\":\"left\"},\"hovermode\":\"closest\",\"mapbox\":{\"style\":\"light\"},\"paper_bgcolor\":\"white\",\"plot_bgcolor\":\"#E5ECF6\",\"polar\":{\"angularaxis\":{\"gridcolor\":\"white\",\"linecolor\":\"white\",\"ticks\":\"\"},\"bgcolor\":\"#E5ECF6\",\"radialaxis\":{\"gridcolor\":\"white\",\"linecolor\":\"white\",\"ticks\":\"\"}},\"scene\":{\"xaxis\":{\"backgroundcolor\":\"#E5ECF6\",\"gridcolor\":\"white\",\"gridwidth\":2,\"linecolor\":\"white\",\"showbackground\":true,\"ticks\":\"\",\"zerolinecolor\":\"white\"},\"yaxis\":{\"backgroundcolor\":\"#E5ECF6\",\"gridcolor\":\"white\",\"gridwidth\":2,\"linecolor\":\"white\",\"showbackground\":true,\"ticks\":\"\",\"zerolinecolor\":\"white\"},\"zaxis\":{\"backgroundcolor\":\"#E5ECF6\",\"gridcolor\":\"white\",\"gridwidth\":2,\"linecolor\":\"white\",\"showbackground\":true,\"ticks\":\"\",\"zerolinecolor\":\"white\"}},\"shapedefaults\":{\"line\":{\"color\":\"#2a3f5f\"}},\"ternary\":{\"aaxis\":{\"gridcolor\":\"white\",\"linecolor\":\"white\",\"ticks\":\"\"},\"baxis\":{\"gridcolor\":\"white\",\"linecolor\":\"white\",\"ticks\":\"\"},\"bgcolor\":\"#E5ECF6\",\"caxis\":{\"gridcolor\":\"white\",\"linecolor\":\"white\",\"ticks\":\"\"}},\"title\":{\"x\":0.05},\"xaxis\":{\"automargin\":true,\"gridcolor\":\"white\",\"linecolor\":\"white\",\"ticks\":\"\",\"title\":{\"standoff\":15},\"zerolinecolor\":\"white\",\"zerolinewidth\":2},\"yaxis\":{\"automargin\":true,\"gridcolor\":\"white\",\"linecolor\":\"white\",\"ticks\":\"\",\"title\":{\"standoff\":15},\"zerolinecolor\":\"white\",\"zerolinewidth\":2}}},\"title\":{\"text\":\"Types of stores\"}},                        {\"responsive\": true}                    ).then(function(){\n",
              "                            \n",
              "var gd = document.getElementById('02b4cbf0-2881-4a16-a0a1-2ad69838634f');\n",
              "var x = new MutationObserver(function (mutations, observer) {{\n",
              "        var display = window.getComputedStyle(gd).display;\n",
              "        if (!display || display === 'none') {{\n",
              "            console.log([gd, 'removed!']);\n",
              "            Plotly.purge(gd);\n",
              "            observer.disconnect();\n",
              "        }}\n",
              "}});\n",
              "\n",
              "// Listen for the removal of the full notebook cells\n",
              "var notebookContainer = gd.closest('#notebook-container');\n",
              "if (notebookContainer) {{\n",
              "    x.observe(notebookContainer, {childList: true});\n",
              "}}\n",
              "\n",
              "// Listen for the clearing of the current output cell\n",
              "var outputEl = gd.closest('.output');\n",
              "if (outputEl) {{\n",
              "    x.observe(outputEl, {childList: true});\n",
              "}}\n",
              "\n",
              "                        })                };                            </script>        </div>\n",
              "</body>\n",
              "</html>"
            ]
          },
          "metadata": {}
        }
      ]
    },
    {
      "cell_type": "code",
      "source": [
        "train.isnull().sum()"
      ],
      "metadata": {
        "colab": {
          "base_uri": "https://localhost:8080/"
        },
        "id": "LYIjYoI-zFPb",
        "outputId": "62b40ab6-4ef0-49ff-a4a3-15def63eaf0e"
      },
      "execution_count": null,
      "outputs": [
        {
          "output_type": "execute_result",
          "data": {
            "text/plain": [
              "Store           0\n",
              "Dept            0\n",
              "Date            0\n",
              "Weekly_Sales    0\n",
              "IsHoliday       0\n",
              "Year            0\n",
              "Month           0\n",
              "Day             0\n",
              "Week            0\n",
              "Type            0\n",
              "Size            0\n",
              "dtype: int64"
            ]
          },
          "metadata": {},
          "execution_count": 95
        }
      ]
    },
    {
      "cell_type": "code",
      "source": [
        "manual_dummy = {'A':3, 'B':2, 'C':1}\n",
        "train['Type_num'] = train.Type.map(manual_dummy)\n",
        "train=train.drop(\"Type\",axis=1)\n",
        "\n",
        "train.head()"
      ],
      "metadata": {
        "colab": {
          "base_uri": "https://localhost:8080/",
          "height": 206
        },
        "id": "KnxOBiIfPZTz",
        "outputId": "30410b71-4a82-4d98-f55c-21d6ce3e389e"
      },
      "execution_count": null,
      "outputs": [
        {
          "output_type": "execute_result",
          "data": {
            "text/html": [
              "\n",
              "  <div id=\"df-2785b230-f907-4d87-8ae4-992c8b520df6\">\n",
              "    <div class=\"colab-df-container\">\n",
              "      <div>\n",
              "<style scoped>\n",
              "    .dataframe tbody tr th:only-of-type {\n",
              "        vertical-align: middle;\n",
              "    }\n",
              "\n",
              "    .dataframe tbody tr th {\n",
              "        vertical-align: top;\n",
              "    }\n",
              "\n",
              "    .dataframe thead th {\n",
              "        text-align: right;\n",
              "    }\n",
              "</style>\n",
              "<table border=\"1\" class=\"dataframe\">\n",
              "  <thead>\n",
              "    <tr style=\"text-align: right;\">\n",
              "      <th></th>\n",
              "      <th>Store</th>\n",
              "      <th>Dept</th>\n",
              "      <th>Date</th>\n",
              "      <th>Weekly_Sales</th>\n",
              "      <th>IsHoliday</th>\n",
              "      <th>Year</th>\n",
              "      <th>Month</th>\n",
              "      <th>Day</th>\n",
              "      <th>Week</th>\n",
              "      <th>Size</th>\n",
              "      <th>Type_num</th>\n",
              "    </tr>\n",
              "  </thead>\n",
              "  <tbody>\n",
              "    <tr>\n",
              "      <th>0</th>\n",
              "      <td>1</td>\n",
              "      <td>1</td>\n",
              "      <td>2010-02-05</td>\n",
              "      <td>24924.50</td>\n",
              "      <td>False</td>\n",
              "      <td>2010</td>\n",
              "      <td>2</td>\n",
              "      <td>5</td>\n",
              "      <td>5.0</td>\n",
              "      <td>151315</td>\n",
              "      <td>3</td>\n",
              "    </tr>\n",
              "    <tr>\n",
              "      <th>1</th>\n",
              "      <td>1</td>\n",
              "      <td>1</td>\n",
              "      <td>2010-02-12</td>\n",
              "      <td>46039.49</td>\n",
              "      <td>True</td>\n",
              "      <td>2010</td>\n",
              "      <td>2</td>\n",
              "      <td>12</td>\n",
              "      <td>6.0</td>\n",
              "      <td>151315</td>\n",
              "      <td>3</td>\n",
              "    </tr>\n",
              "    <tr>\n",
              "      <th>2</th>\n",
              "      <td>1</td>\n",
              "      <td>1</td>\n",
              "      <td>2010-02-19</td>\n",
              "      <td>41595.55</td>\n",
              "      <td>False</td>\n",
              "      <td>2010</td>\n",
              "      <td>2</td>\n",
              "      <td>19</td>\n",
              "      <td>7.0</td>\n",
              "      <td>151315</td>\n",
              "      <td>3</td>\n",
              "    </tr>\n",
              "    <tr>\n",
              "      <th>3</th>\n",
              "      <td>1</td>\n",
              "      <td>1</td>\n",
              "      <td>2010-02-26</td>\n",
              "      <td>19403.54</td>\n",
              "      <td>False</td>\n",
              "      <td>2010</td>\n",
              "      <td>2</td>\n",
              "      <td>26</td>\n",
              "      <td>8.0</td>\n",
              "      <td>151315</td>\n",
              "      <td>3</td>\n",
              "    </tr>\n",
              "    <tr>\n",
              "      <th>4</th>\n",
              "      <td>1</td>\n",
              "      <td>1</td>\n",
              "      <td>2010-03-05</td>\n",
              "      <td>21827.90</td>\n",
              "      <td>False</td>\n",
              "      <td>2010</td>\n",
              "      <td>3</td>\n",
              "      <td>5</td>\n",
              "      <td>9.0</td>\n",
              "      <td>151315</td>\n",
              "      <td>3</td>\n",
              "    </tr>\n",
              "  </tbody>\n",
              "</table>\n",
              "</div>\n",
              "      <button class=\"colab-df-convert\" onclick=\"convertToInteractive('df-2785b230-f907-4d87-8ae4-992c8b520df6')\"\n",
              "              title=\"Convert this dataframe to an interactive table.\"\n",
              "              style=\"display:none;\">\n",
              "        \n",
              "  <svg xmlns=\"http://www.w3.org/2000/svg\" height=\"24px\"viewBox=\"0 0 24 24\"\n",
              "       width=\"24px\">\n",
              "    <path d=\"M0 0h24v24H0V0z\" fill=\"none\"/>\n",
              "    <path d=\"M18.56 5.44l.94 2.06.94-2.06 2.06-.94-2.06-.94-.94-2.06-.94 2.06-2.06.94zm-11 1L8.5 8.5l.94-2.06 2.06-.94-2.06-.94L8.5 2.5l-.94 2.06-2.06.94zm10 10l.94 2.06.94-2.06 2.06-.94-2.06-.94-.94-2.06-.94 2.06-2.06.94z\"/><path d=\"M17.41 7.96l-1.37-1.37c-.4-.4-.92-.59-1.43-.59-.52 0-1.04.2-1.43.59L10.3 9.45l-7.72 7.72c-.78.78-.78 2.05 0 2.83L4 21.41c.39.39.9.59 1.41.59.51 0 1.02-.2 1.41-.59l7.78-7.78 2.81-2.81c.8-.78.8-2.07 0-2.86zM5.41 20L4 18.59l7.72-7.72 1.47 1.35L5.41 20z\"/>\n",
              "  </svg>\n",
              "      </button>\n",
              "      \n",
              "  <style>\n",
              "    .colab-df-container {\n",
              "      display:flex;\n",
              "      flex-wrap:wrap;\n",
              "      gap: 12px;\n",
              "    }\n",
              "\n",
              "    .colab-df-convert {\n",
              "      background-color: #E8F0FE;\n",
              "      border: none;\n",
              "      border-radius: 50%;\n",
              "      cursor: pointer;\n",
              "      display: none;\n",
              "      fill: #1967D2;\n",
              "      height: 32px;\n",
              "      padding: 0 0 0 0;\n",
              "      width: 32px;\n",
              "    }\n",
              "\n",
              "    .colab-df-convert:hover {\n",
              "      background-color: #E2EBFA;\n",
              "      box-shadow: 0px 1px 2px rgba(60, 64, 67, 0.3), 0px 1px 3px 1px rgba(60, 64, 67, 0.15);\n",
              "      fill: #174EA6;\n",
              "    }\n",
              "\n",
              "    [theme=dark] .colab-df-convert {\n",
              "      background-color: #3B4455;\n",
              "      fill: #D2E3FC;\n",
              "    }\n",
              "\n",
              "    [theme=dark] .colab-df-convert:hover {\n",
              "      background-color: #434B5C;\n",
              "      box-shadow: 0px 1px 3px 1px rgba(0, 0, 0, 0.15);\n",
              "      filter: drop-shadow(0px 1px 2px rgba(0, 0, 0, 0.3));\n",
              "      fill: #FFFFFF;\n",
              "    }\n",
              "  </style>\n",
              "\n",
              "      <script>\n",
              "        const buttonEl =\n",
              "          document.querySelector('#df-2785b230-f907-4d87-8ae4-992c8b520df6 button.colab-df-convert');\n",
              "        buttonEl.style.display =\n",
              "          google.colab.kernel.accessAllowed ? 'block' : 'none';\n",
              "\n",
              "        async function convertToInteractive(key) {\n",
              "          const element = document.querySelector('#df-2785b230-f907-4d87-8ae4-992c8b520df6');\n",
              "          const dataTable =\n",
              "            await google.colab.kernel.invokeFunction('convertToInteractive',\n",
              "                                                     [key], {});\n",
              "          if (!dataTable) return;\n",
              "\n",
              "          const docLinkHtml = 'Like what you see? Visit the ' +\n",
              "            '<a target=\"_blank\" href=https://colab.research.google.com/notebooks/data_table.ipynb>data table notebook</a>'\n",
              "            + ' to learn more about interactive tables.';\n",
              "          element.innerHTML = '';\n",
              "          dataTable['output_type'] = 'display_data';\n",
              "          await google.colab.output.renderOutput(dataTable, element);\n",
              "          const docLink = document.createElement('div');\n",
              "          docLink.innerHTML = docLinkHtml;\n",
              "          element.appendChild(docLink);\n",
              "        }\n",
              "      </script>\n",
              "    </div>\n",
              "  </div>\n",
              "  "
            ],
            "text/plain": [
              "   Store  Dept       Date  Weekly_Sales  ...  Day  Week    Size  Type_num\n",
              "0      1     1 2010-02-05      24924.50  ...    5   5.0  151315         3\n",
              "1      1     1 2010-02-12      46039.49  ...   12   6.0  151315         3\n",
              "2      1     1 2010-02-19      41595.55  ...   19   7.0  151315         3\n",
              "3      1     1 2010-02-26      19403.54  ...   26   8.0  151315         3\n",
              "4      1     1 2010-03-05      21827.90  ...    5   9.0  151315         3\n",
              "\n",
              "[5 rows x 11 columns]"
            ]
          },
          "metadata": {},
          "execution_count": 96
        }
      ]
    },
    {
      "cell_type": "code",
      "source": [
        "plt.figure(figsize=(28,12))\n",
        "plt.xticks( fontsize=20)\n",
        "plt.yticks( fontsize=20)\n",
        "\n",
        "sns.heatmap(train.corr(), cmap='Purples', annot=True, annot_kws={'size':12})\n",
        "plt.title('corrolation among features', fontsize=20);"
      ],
      "metadata": {
        "colab": {
          "base_uri": "https://localhost:8080/",
          "height": 660
        },
        "id": "upHmhm3iQk7d",
        "outputId": "670b82a3-3f01-49cd-ac8e-1e1086303e4f"
      },
      "execution_count": null,
      "outputs": [
        {
          "output_type": "display_data",
          "data": {
            "image/png": "[encoded data removed]",
            "text/plain": [
              "<Figure size 2016x864 with 2 Axes>"
            ]
          },
          "metadata": {
            "needs_background": "light"
          }
        }
      ]
    },
    {
      "cell_type": "code",
      "source": [
        "train=train.drop(['Date','Month', 'Day' ], axis=1)\n",
        "train.head(2)"
      ],
      "metadata": {
        "colab": {
          "base_uri": "https://localhost:8080/",
          "height": 112
        },
        "id": "n514vKF0RAhQ",
        "outputId": "6314ac75-0c4a-4760-f09a-06b57be1d47c"
      },
      "execution_count": null,
      "outputs": [
        {
          "output_type": "execute_result",
          "data": {
            "text/html": [
              "\n",
              "  <div id=\"df-85dbab03-b3eb-46fb-93f0-bf483763901f\">\n",
              "    <div class=\"colab-df-container\">\n",
              "      <div>\n",
              "<style scoped>\n",
              "    .dataframe tbody tr th:only-of-type {\n",
              "        vertical-align: middle;\n",
              "    }\n",
              "\n",
              "    .dataframe tbody tr th {\n",
              "        vertical-align: top;\n",
              "    }\n",
              "\n",
              "    .dataframe thead th {\n",
              "        text-align: right;\n",
              "    }\n",
              "</style>\n",
              "<table border=\"1\" class=\"dataframe\">\n",
              "  <thead>\n",
              "    <tr style=\"text-align: right;\">\n",
              "      <th></th>\n",
              "      <th>Store</th>\n",
              "      <th>Dept</th>\n",
              "      <th>Weekly_Sales</th>\n",
              "      <th>IsHoliday</th>\n",
              "      <th>Year</th>\n",
              "      <th>Week</th>\n",
              "      <th>Size</th>\n",
              "      <th>Type_num</th>\n",
              "    </tr>\n",
              "  </thead>\n",
              "  <tbody>\n",
              "    <tr>\n",
              "      <th>0</th>\n",
              "      <td>1</td>\n",
              "      <td>1</td>\n",
              "      <td>24924.50</td>\n",
              "      <td>False</td>\n",
              "      <td>2010</td>\n",
              "      <td>5.0</td>\n",
              "      <td>151315</td>\n",
              "      <td>3</td>\n",
              "    </tr>\n",
              "    <tr>\n",
              "      <th>1</th>\n",
              "      <td>1</td>\n",
              "      <td>1</td>\n",
              "      <td>46039.49</td>\n",
              "      <td>True</td>\n",
              "      <td>2010</td>\n",
              "      <td>6.0</td>\n",
              "      <td>151315</td>\n",
              "      <td>3</td>\n",
              "    </tr>\n",
              "  </tbody>\n",
              "</table>\n",
              "</div>\n",
              "      <button class=\"colab-df-convert\" onclick=\"convertToInteractive('df-85dbab03-b3eb-46fb-93f0-bf483763901f')\"\n",
              "              title=\"Convert this dataframe to an interactive table.\"\n",
              "              style=\"display:none;\">\n",
              "        \n",
              "  <svg xmlns=\"http://www.w3.org/2000/svg\" height=\"24px\"viewBox=\"0 0 24 24\"\n",
              "       width=\"24px\">\n",
              "    <path d=\"M0 0h24v24H0V0z\" fill=\"none\"/>\n",
              "    <path d=\"M18.56 5.44l.94 2.06.94-2.06 2.06-.94-2.06-.94-.94-2.06-.94 2.06-2.06.94zm-11 1L8.5 8.5l.94-2.06 2.06-.94-2.06-.94L8.5 2.5l-.94 2.06-2.06.94zm10 10l.94 2.06.94-2.06 2.06-.94-2.06-.94-.94-2.06-.94 2.06-2.06.94z\"/><path d=\"M17.41 7.96l-1.37-1.37c-.4-.4-.92-.59-1.43-.59-.52 0-1.04.2-1.43.59L10.3 9.45l-7.72 7.72c-.78.78-.78 2.05 0 2.83L4 21.41c.39.39.9.59 1.41.59.51 0 1.02-.2 1.41-.59l7.78-7.78 2.81-2.81c.8-.78.8-2.07 0-2.86zM5.41 20L4 18.59l7.72-7.72 1.47 1.35L5.41 20z\"/>\n",
              "  </svg>\n",
              "      </button>\n",
              "      \n",
              "  <style>\n",
              "    .colab-df-container {\n",
              "      display:flex;\n",
              "      flex-wrap:wrap;\n",
              "      gap: 12px;\n",
              "    }\n",
              "\n",
              "    .colab-df-convert {\n",
              "      background-color: #E8F0FE;\n",
              "      border: none;\n",
              "      border-radius: 50%;\n",
              "      cursor: pointer;\n",
              "      display: none;\n",
              "      fill: #1967D2;\n",
              "      height: 32px;\n",
              "      padding: 0 0 0 0;\n",
              "      width: 32px;\n",
              "    }\n",
              "\n",
              "    .colab-df-convert:hover {\n",
              "      background-color: #E2EBFA;\n",
              "      box-shadow: 0px 1px 2px rgba(60, 64, 67, 0.3), 0px 1px 3px 1px rgba(60, 64, 67, 0.15);\n",
              "      fill: #174EA6;\n",
              "    }\n",
              "\n",
              "    [theme=dark] .colab-df-convert {\n",
              "      background-color: #3B4455;\n",
              "      fill: #D2E3FC;\n",
              "    }\n",
              "\n",
              "    [theme=dark] .colab-df-convert:hover {\n",
              "      background-color: #434B5C;\n",
              "      box-shadow: 0px 1px 3px 1px rgba(0, 0, 0, 0.15);\n",
              "      filter: drop-shadow(0px 1px 2px rgba(0, 0, 0, 0.3));\n",
              "      fill: #FFFFFF;\n",
              "    }\n",
              "  </style>\n",
              "\n",
              "      <script>\n",
              "        const buttonEl =\n",
              "          document.querySelector('#df-85dbab03-b3eb-46fb-93f0-bf483763901f button.colab-df-convert');\n",
              "        buttonEl.style.display =\n",
              "          google.colab.kernel.accessAllowed ? 'block' : 'none';\n",
              "\n",
              "        async function convertToInteractive(key) {\n",
              "          const element = document.querySelector('#df-85dbab03-b3eb-46fb-93f0-bf483763901f');\n",
              "          const dataTable =\n",
              "            await google.colab.kernel.invokeFunction('convertToInteractive',\n",
              "                                                     [key], {});\n",
              "          if (!dataTable) return;\n",
              "\n",
              "          const docLinkHtml = 'Like what you see? Visit the ' +\n",
              "            '<a target=\"_blank\" href=https://colab.research.google.com/notebooks/data_table.ipynb>data table notebook</a>'\n",
              "            + ' to learn more about interactive tables.';\n",
              "          element.innerHTML = '';\n",
              "          dataTable['output_type'] = 'display_data';\n",
              "          await google.colab.output.renderOutput(dataTable, element);\n",
              "          const docLink = document.createElement('div');\n",
              "          docLink.innerHTML = docLinkHtml;\n",
              "          element.appendChild(docLink);\n",
              "        }\n",
              "      </script>\n",
              "    </div>\n",
              "  </div>\n",
              "  "
            ],
            "text/plain": [
              "   Store  Dept  Weekly_Sales  IsHoliday  Year  Week    Size  Type_num\n",
              "0      1     1      24924.50      False  2010   5.0  151315         3\n",
              "1      1     1      46039.49       True  2010   6.0  151315         3"
            ]
          },
          "metadata": {},
          "execution_count": 98
        }
      ]
    },
    {
      "cell_type": "code",
      "source": [
        "test=pd.merge(test,stores,on=\"Store\")\n",
        "test.head(2)"
      ],
      "metadata": {
        "colab": {
          "base_uri": "https://localhost:8080/",
          "height": 112
        },
        "id": "XXOW-0RNTEqq",
        "outputId": "a8e54fdd-30b9-4724-da51-b0df91124be6"
      },
      "execution_count": null,
      "outputs": [
        {
          "output_type": "execute_result",
          "data": {
            "text/html": [
              "\n",
              "  <div id=\"df-b9af564e-f802-48ad-99c2-2b108dea183a\">\n",
              "    <div class=\"colab-df-container\">\n",
              "      <div>\n",
              "<style scoped>\n",
              "    .dataframe tbody tr th:only-of-type {\n",
              "        vertical-align: middle;\n",
              "    }\n",
              "\n",
              "    .dataframe tbody tr th {\n",
              "        vertical-align: top;\n",
              "    }\n",
              "\n",
              "    .dataframe thead th {\n",
              "        text-align: right;\n",
              "    }\n",
              "</style>\n",
              "<table border=\"1\" class=\"dataframe\">\n",
              "  <thead>\n",
              "    <tr style=\"text-align: right;\">\n",
              "      <th></th>\n",
              "      <th>Store</th>\n",
              "      <th>Dept</th>\n",
              "      <th>Date</th>\n",
              "      <th>IsHoliday</th>\n",
              "      <th>Type</th>\n",
              "      <th>Size</th>\n",
              "    </tr>\n",
              "  </thead>\n",
              "  <tbody>\n",
              "    <tr>\n",
              "      <th>0</th>\n",
              "      <td>1</td>\n",
              "      <td>1</td>\n",
              "      <td>2012-11-02</td>\n",
              "      <td>False</td>\n",
              "      <td>A</td>\n",
              "      <td>151315</td>\n",
              "    </tr>\n",
              "    <tr>\n",
              "      <th>1</th>\n",
              "      <td>1</td>\n",
              "      <td>1</td>\n",
              "      <td>2012-11-09</td>\n",
              "      <td>False</td>\n",
              "      <td>A</td>\n",
              "      <td>151315</td>\n",
              "    </tr>\n",
              "  </tbody>\n",
              "</table>\n",
              "</div>\n",
              "      <button class=\"colab-df-convert\" onclick=\"convertToInteractive('df-b9af564e-f802-48ad-99c2-2b108dea183a')\"\n",
              "              title=\"Convert this dataframe to an interactive table.\"\n",
              "              style=\"display:none;\">\n",
              "        \n",
              "  <svg xmlns=\"http://www.w3.org/2000/svg\" height=\"24px\"viewBox=\"0 0 24 24\"\n",
              "       width=\"24px\">\n",
              "    <path d=\"M0 0h24v24H0V0z\" fill=\"none\"/>\n",
              "    <path d=\"M18.56 5.44l.94 2.06.94-2.06 2.06-.94-2.06-.94-.94-2.06-.94 2.06-2.06.94zm-11 1L8.5 8.5l.94-2.06 2.06-.94-2.06-.94L8.5 2.5l-.94 2.06-2.06.94zm10 10l.94 2.06.94-2.06 2.06-.94-2.06-.94-.94-2.06-.94 2.06-2.06.94z\"/><path d=\"M17.41 7.96l-1.37-1.37c-.4-.4-.92-.59-1.43-.59-.52 0-1.04.2-1.43.59L10.3 9.45l-7.72 7.72c-.78.78-.78 2.05 0 2.83L4 21.41c.39.39.9.59 1.41.59.51 0 1.02-.2 1.41-.59l7.78-7.78 2.81-2.81c.8-.78.8-2.07 0-2.86zM5.41 20L4 18.59l7.72-7.72 1.47 1.35L5.41 20z\"/>\n",
              "  </svg>\n",
              "      </button>\n",
              "      \n",
              "  <style>\n",
              "    .colab-df-container {\n",
              "      display:flex;\n",
              "      flex-wrap:wrap;\n",
              "      gap: 12px;\n",
              "    }\n",
              "\n",
              "    .colab-df-convert {\n",
              "      background-color: #E8F0FE;\n",
              "      border: none;\n",
              "      border-radius: 50%;\n",
              "      cursor: pointer;\n",
              "      display: none;\n",
              "      fill: #1967D2;\n",
              "      height: 32px;\n",
              "      padding: 0 0 0 0;\n",
              "      width: 32px;\n",
              "    }\n",
              "\n",
              "    .colab-df-convert:hover {\n",
              "      background-color: #E2EBFA;\n",
              "      box-shadow: 0px 1px 2px rgba(60, 64, 67, 0.3), 0px 1px 3px 1px rgba(60, 64, 67, 0.15);\n",
              "      fill: #174EA6;\n",
              "    }\n",
              "\n",
              "    [theme=dark] .colab-df-convert {\n",
              "      background-color: #3B4455;\n",
              "      fill: #D2E3FC;\n",
              "    }\n",
              "\n",
              "    [theme=dark] .colab-df-convert:hover {\n",
              "      background-color: #434B5C;\n",
              "      box-shadow: 0px 1px 3px 1px rgba(0, 0, 0, 0.15);\n",
              "      filter: drop-shadow(0px 1px 2px rgba(0, 0, 0, 0.3));\n",
              "      fill: #FFFFFF;\n",
              "    }\n",
              "  </style>\n",
              "\n",
              "      <script>\n",
              "        const buttonEl =\n",
              "          document.querySelector('#df-b9af564e-f802-48ad-99c2-2b108dea183a button.colab-df-convert');\n",
              "        buttonEl.style.display =\n",
              "          google.colab.kernel.accessAllowed ? 'block' : 'none';\n",
              "\n",
              "        async function convertToInteractive(key) {\n",
              "          const element = document.querySelector('#df-b9af564e-f802-48ad-99c2-2b108dea183a');\n",
              "          const dataTable =\n",
              "            await google.colab.kernel.invokeFunction('convertToInteractive',\n",
              "                                                     [key], {});\n",
              "          if (!dataTable) return;\n",
              "\n",
              "          const docLinkHtml = 'Like what you see? Visit the ' +\n",
              "            '<a target=\"_blank\" href=https://colab.research.google.com/notebooks/data_table.ipynb>data table notebook</a>'\n",
              "            + ' to learn more about interactive tables.';\n",
              "          element.innerHTML = '';\n",
              "          dataTable['output_type'] = 'display_data';\n",
              "          await google.colab.output.renderOutput(dataTable, element);\n",
              "          const docLink = document.createElement('div');\n",
              "          docLink.innerHTML = docLinkHtml;\n",
              "          element.appendChild(docLink);\n",
              "        }\n",
              "      </script>\n",
              "    </div>\n",
              "  </div>\n",
              "  "
            ],
            "text/plain": [
              "   Store  Dept        Date  IsHoliday Type    Size\n",
              "0      1     1  2012-11-02      False    A  151315\n",
              "1      1     1  2012-11-09      False    A  151315"
            ]
          },
          "metadata": {},
          "execution_count": 99
        }
      ]
    },
    {
      "cell_type": "code",
      "source": [
        "test['Date'] = pd.to_datetime(test['Date'])\n",
        "test['Week'] = (test.Date.dt.isocalendar().week)*1.0   \n",
        "test['Year'] = test.Date.dt.year\n",
        "test=test.drop(\"Date\",axis=1)\n",
        "manual_dummy = {'A':3, 'B':2, 'C':1}\n",
        "test['Type_num'] = test.Type.map(manual_dummy)\n",
        "test=test.drop(\"Type\",axis=1)\n",
        "\n",
        "test.head(2)\n"
      ],
      "metadata": {
        "colab": {
          "base_uri": "https://localhost:8080/",
          "height": 112
        },
        "id": "Uzco4Wx5T4D5",
        "outputId": "fcd73d33-6836-4830-c4f4-f90ddfdbe5ea"
      },
      "execution_count": null,
      "outputs": [
        {
          "output_type": "execute_result",
          "data": {
            "text/html": [
              "\n",
              "  <div id=\"df-c24a826e-448b-4f64-a489-e0ec35099987\">\n",
              "    <div class=\"colab-df-container\">\n",
              "      <div>\n",
              "<style scoped>\n",
              "    .dataframe tbody tr th:only-of-type {\n",
              "        vertical-align: middle;\n",
              "    }\n",
              "\n",
              "    .dataframe tbody tr th {\n",
              "        vertical-align: top;\n",
              "    }\n",
              "\n",
              "    .dataframe thead th {\n",
              "        text-align: right;\n",
              "    }\n",
              "</style>\n",
              "<table border=\"1\" class=\"dataframe\">\n",
              "  <thead>\n",
              "    <tr style=\"text-align: right;\">\n",
              "      <th></th>\n",
              "      <th>Store</th>\n",
              "      <th>Dept</th>\n",
              "      <th>IsHoliday</th>\n",
              "      <th>Size</th>\n",
              "      <th>Week</th>\n",
              "      <th>Year</th>\n",
              "      <th>Type_num</th>\n",
              "    </tr>\n",
              "  </thead>\n",
              "  <tbody>\n",
              "    <tr>\n",
              "      <th>0</th>\n",
              "      <td>1</td>\n",
              "      <td>1</td>\n",
              "      <td>False</td>\n",
              "      <td>151315</td>\n",
              "      <td>44.0</td>\n",
              "      <td>2012</td>\n",
              "      <td>3</td>\n",
              "    </tr>\n",
              "    <tr>\n",
              "      <th>1</th>\n",
              "      <td>1</td>\n",
              "      <td>1</td>\n",
              "      <td>False</td>\n",
              "      <td>151315</td>\n",
              "      <td>45.0</td>\n",
              "      <td>2012</td>\n",
              "      <td>3</td>\n",
              "    </tr>\n",
              "  </tbody>\n",
              "</table>\n",
              "</div>\n",
              "      <button class=\"colab-df-convert\" onclick=\"convertToInteractive('df-c24a826e-448b-4f64-a489-e0ec35099987')\"\n",
              "              title=\"Convert this dataframe to an interactive table.\"\n",
              "              style=\"display:none;\">\n",
              "        \n",
              "  <svg xmlns=\"http://www.w3.org/2000/svg\" height=\"24px\"viewBox=\"0 0 24 24\"\n",
              "       width=\"24px\">\n",
              "    <path d=\"M0 0h24v24H0V0z\" fill=\"none\"/>\n",
              "    <path d=\"M18.56 5.44l.94 2.06.94-2.06 2.06-.94-2.06-.94-.94-2.06-.94 2.06-2.06.94zm-11 1L8.5 8.5l.94-2.06 2.06-.94-2.06-.94L8.5 2.5l-.94 2.06-2.06.94zm10 10l.94 2.06.94-2.06 2.06-.94-2.06-.94-.94-2.06-.94 2.06-2.06.94z\"/><path d=\"M17.41 7.96l-1.37-1.37c-.4-.4-.92-.59-1.43-.59-.52 0-1.04.2-1.43.59L10.3 9.45l-7.72 7.72c-.78.78-.78 2.05 0 2.83L4 21.41c.39.39.9.59 1.41.59.51 0 1.02-.2 1.41-.59l7.78-7.78 2.81-2.81c.8-.78.8-2.07 0-2.86zM5.41 20L4 18.59l7.72-7.72 1.47 1.35L5.41 20z\"/>\n",
              "  </svg>\n",
              "      </button>\n",
              "      \n",
              "  <style>\n",
              "    .colab-df-container {\n",
              "      display:flex;\n",
              "      flex-wrap:wrap;\n",
              "      gap: 12px;\n",
              "    }\n",
              "\n",
              "    .colab-df-convert {\n",
              "      background-color: #E8F0FE;\n",
              "      border: none;\n",
              "      border-radius: 50%;\n",
              "      cursor: pointer;\n",
              "      display: none;\n",
              "      fill: #1967D2;\n",
              "      height: 32px;\n",
              "      padding: 0 0 0 0;\n",
              "      width: 32px;\n",
              "    }\n",
              "\n",
              "    .colab-df-convert:hover {\n",
              "      background-color: #E2EBFA;\n",
              "      box-shadow: 0px 1px 2px rgba(60, 64, 67, 0.3), 0px 1px 3px 1px rgba(60, 64, 67, 0.15);\n",
              "      fill: #174EA6;\n",
              "    }\n",
              "\n",
              "    [theme=dark] .colab-df-convert {\n",
              "      background-color: #3B4455;\n",
              "      fill: #D2E3FC;\n",
              "    }\n",
              "\n",
              "    [theme=dark] .colab-df-convert:hover {\n",
              "      background-color: #434B5C;\n",
              "      box-shadow: 0px 1px 3px 1px rgba(0, 0, 0, 0.15);\n",
              "      filter: drop-shadow(0px 1px 2px rgba(0, 0, 0, 0.3));\n",
              "      fill: #FFFFFF;\n",
              "    }\n",
              "  </style>\n",
              "\n",
              "      <script>\n",
              "        const buttonEl =\n",
              "          document.querySelector('#df-c24a826e-448b-4f64-a489-e0ec35099987 button.colab-df-convert');\n",
              "        buttonEl.style.display =\n",
              "          google.colab.kernel.accessAllowed ? 'block' : 'none';\n",
              "\n",
              "        async function convertToInteractive(key) {\n",
              "          const element = document.querySelector('#df-c24a826e-448b-4f64-a489-e0ec35099987');\n",
              "          const dataTable =\n",
              "            await google.colab.kernel.invokeFunction('convertToInteractive',\n",
              "                                                     [key], {});\n",
              "          if (!dataTable) return;\n",
              "\n",
              "          const docLinkHtml = 'Like what you see? Visit the ' +\n",
              "            '<a target=\"_blank\" href=https://colab.research.google.com/notebooks/data_table.ipynb>data table notebook</a>'\n",
              "            + ' to learn more about interactive tables.';\n",
              "          element.innerHTML = '';\n",
              "          dataTable['output_type'] = 'display_data';\n",
              "          await google.colab.output.renderOutput(dataTable, element);\n",
              "          const docLink = document.createElement('div');\n",
              "          docLink.innerHTML = docLinkHtml;\n",
              "          element.appendChild(docLink);\n",
              "        }\n",
              "      </script>\n",
              "    </div>\n",
              "  </div>\n",
              "  "
            ],
            "text/plain": [
              "   Store  Dept  IsHoliday    Size  Week  Year  Type_num\n",
              "0      1     1      False  151315  44.0  2012         3\n",
              "1      1     1      False  151315  45.0  2012         3"
            ]
          },
          "metadata": {},
          "execution_count": 100
        }
      ]
    },
    {
      "cell_type": "code",
      "source": [
        "train.columns"
      ],
      "metadata": {
        "colab": {
          "base_uri": "https://localhost:8080/"
        },
        "id": "5PgqH0vitP0J",
        "outputId": "5b5e02c3-36f0-43a0-a7b2-c341e52fa593"
      },
      "execution_count": null,
      "outputs": [
        {
          "output_type": "execute_result",
          "data": {
            "text/plain": [
              "Index(['Store', 'Dept', 'Weekly_Sales', 'IsHoliday', 'Year', 'Week', 'Size',\n",
              "       'Type_num'],\n",
              "      dtype='object')"
            ]
          },
          "metadata": {},
          "execution_count": 101
        }
      ]
    },
    {
      "cell_type": "code",
      "source": [
        "test=test[['Store', 'Dept', 'IsHoliday', 'Year', 'Week', 'Size','Type_num']]\n",
        "test.head(2)"
      ],
      "metadata": {
        "colab": {
          "base_uri": "https://localhost:8080/",
          "height": 112
        },
        "id": "V2ORqyk6gbk5",
        "outputId": "51792a73-fa3f-4446-b18c-4f9db6cc909c"
      },
      "execution_count": null,
      "outputs": [
        {
          "output_type": "execute_result",
          "data": {
            "text/html": [
              "\n",
              "  <div id=\"df-b81ddd4e-eba7-475c-9131-0f98bd70fbfe\">\n",
              "    <div class=\"colab-df-container\">\n",
              "      <div>\n",
              "<style scoped>\n",
              "    .dataframe tbody tr th:only-of-type {\n",
              "        vertical-align: middle;\n",
              "    }\n",
              "\n",
              "    .dataframe tbody tr th {\n",
              "        vertical-align: top;\n",
              "    }\n",
              "\n",
              "    .dataframe thead th {\n",
              "        text-align: right;\n",
              "    }\n",
              "</style>\n",
              "<table border=\"1\" class=\"dataframe\">\n",
              "  <thead>\n",
              "    <tr style=\"text-align: right;\">\n",
              "      <th></th>\n",
              "      <th>Store</th>\n",
              "      <th>Dept</th>\n",
              "      <th>IsHoliday</th>\n",
              "      <th>Year</th>\n",
              "      <th>Week</th>\n",
              "      <th>Size</th>\n",
              "      <th>Type_num</th>\n",
              "    </tr>\n",
              "  </thead>\n",
              "  <tbody>\n",
              "    <tr>\n",
              "      <th>0</th>\n",
              "      <td>1</td>\n",
              "      <td>1</td>\n",
              "      <td>False</td>\n",
              "      <td>2012</td>\n",
              "      <td>44.0</td>\n",
              "      <td>151315</td>\n",
              "      <td>3</td>\n",
              "    </tr>\n",
              "    <tr>\n",
              "      <th>1</th>\n",
              "      <td>1</td>\n",
              "      <td>1</td>\n",
              "      <td>False</td>\n",
              "      <td>2012</td>\n",
              "      <td>45.0</td>\n",
              "      <td>151315</td>\n",
              "      <td>3</td>\n",
              "    </tr>\n",
              "  </tbody>\n",
              "</table>\n",
              "</div>\n",
              "      <button class=\"colab-df-convert\" onclick=\"convertToInteractive('df-b81ddd4e-eba7-475c-9131-0f98bd70fbfe')\"\n",
              "              title=\"Convert this dataframe to an interactive table.\"\n",
              "              style=\"display:none;\">\n",
              "        \n",
              "  <svg xmlns=\"http://www.w3.org/2000/svg\" height=\"24px\"viewBox=\"0 0 24 24\"\n",
              "       width=\"24px\">\n",
              "    <path d=\"M0 0h24v24H0V0z\" fill=\"none\"/>\n",
              "    <path d=\"M18.56 5.44l.94 2.06.94-2.06 2.06-.94-2.06-.94-.94-2.06-.94 2.06-2.06.94zm-11 1L8.5 8.5l.94-2.06 2.06-.94-2.06-.94L8.5 2.5l-.94 2.06-2.06.94zm10 10l.94 2.06.94-2.06 2.06-.94-2.06-.94-.94-2.06-.94 2.06-2.06.94z\"/><path d=\"M17.41 7.96l-1.37-1.37c-.4-.4-.92-.59-1.43-.59-.52 0-1.04.2-1.43.59L10.3 9.45l-7.72 7.72c-.78.78-.78 2.05 0 2.83L4 21.41c.39.39.9.59 1.41.59.51 0 1.02-.2 1.41-.59l7.78-7.78 2.81-2.81c.8-.78.8-2.07 0-2.86zM5.41 20L4 18.59l7.72-7.72 1.47 1.35L5.41 20z\"/>\n",
              "  </svg>\n",
              "      </button>\n",
              "      \n",
              "  <style>\n",
              "    .colab-df-container {\n",
              "      display:flex;\n",
              "      flex-wrap:wrap;\n",
              "      gap: 12px;\n",
              "    }\n",
              "\n",
              "    .colab-df-convert {\n",
              "      background-color: #E8F0FE;\n",
              "      border: none;\n",
              "      border-radius: 50%;\n",
              "      cursor: pointer;\n",
              "      display: none;\n",
              "      fill: #1967D2;\n",
              "      height: 32px;\n",
              "      padding: 0 0 0 0;\n",
              "      width: 32px;\n",
              "    }\n",
              "\n",
              "    .colab-df-convert:hover {\n",
              "      background-color: #E2EBFA;\n",
              "      box-shadow: 0px 1px 2px rgba(60, 64, 67, 0.3), 0px 1px 3px 1px rgba(60, 64, 67, 0.15);\n",
              "      fill: #174EA6;\n",
              "    }\n",
              "\n",
              "    [theme=dark] .colab-df-convert {\n",
              "      background-color: #3B4455;\n",
              "      fill: #D2E3FC;\n",
              "    }\n",
              "\n",
              "    [theme=dark] .colab-df-convert:hover {\n",
              "      background-color: #434B5C;\n",
              "      box-shadow: 0px 1px 3px 1px rgba(0, 0, 0, 0.15);\n",
              "      filter: drop-shadow(0px 1px 2px rgba(0, 0, 0, 0.3));\n",
              "      fill: #FFFFFF;\n",
              "    }\n",
              "  </style>\n",
              "\n",
              "      <script>\n",
              "        const buttonEl =\n",
              "          document.querySelector('#df-b81ddd4e-eba7-475c-9131-0f98bd70fbfe button.colab-df-convert');\n",
              "        buttonEl.style.display =\n",
              "          google.colab.kernel.accessAllowed ? 'block' : 'none';\n",
              "\n",
              "        async function convertToInteractive(key) {\n",
              "          const element = document.querySelector('#df-b81ddd4e-eba7-475c-9131-0f98bd70fbfe');\n",
              "          const dataTable =\n",
              "            await google.colab.kernel.invokeFunction('convertToInteractive',\n",
              "                                                     [key], {});\n",
              "          if (!dataTable) return;\n",
              "\n",
              "          const docLinkHtml = 'Like what you see? Visit the ' +\n",
              "            '<a target=\"_blank\" href=https://colab.research.google.com/notebooks/data_table.ipynb>data table notebook</a>'\n",
              "            + ' to learn more about interactive tables.';\n",
              "          element.innerHTML = '';\n",
              "          dataTable['output_type'] = 'display_data';\n",
              "          await google.colab.output.renderOutput(dataTable, element);\n",
              "          const docLink = document.createElement('div');\n",
              "          docLink.innerHTML = docLinkHtml;\n",
              "          element.appendChild(docLink);\n",
              "        }\n",
              "      </script>\n",
              "    </div>\n",
              "  </div>\n",
              "  "
            ],
            "text/plain": [
              "   Store  Dept  IsHoliday  Year  Week    Size  Type_num\n",
              "0      1     1      False  2012  44.0  151315         3\n",
              "1      1     1      False  2012  45.0  151315         3"
            ]
          },
          "metadata": {},
          "execution_count": 102
        }
      ]
    },
    {
      "cell_type": "markdown",
      "source": [
        "# **MinMaxScaler Transform**"
      ],
      "metadata": {
        "id": "Bxn24KDMxoF5"
      }
    },
    {
      "cell_type": "code",
      "source": [
        "X = train.drop(\"Weekly_Sales\",axis=1)\n",
        "y = train['Weekly_Sales']\n",
        "scaler = MinMaxScaler()\n",
        "X= scaler.fit_transform(X)\n",
        "test = scaler.transform(test)"
      ],
      "metadata": {
        "id": "v-crQ8Y9R6Gm"
      },
      "execution_count": null,
      "outputs": []
    },
    {
      "cell_type": "markdown",
      "source": [
        "## **Machine Learning Modeling**\n",
        "\n"
      ],
      "metadata": {
        "id": "gdlPAh2Txf-z"
      }
    },
    {
      "cell_type": "markdown",
      "source": [
        "# **1-XGBoost**"
      ],
      "metadata": {
        "id": "rgHsijF9Jb-M"
      }
    },
    {
      "cell_type": "code",
      "source": [
        "\n",
        "X_train, X_test, y_train, y_test = train_test_split(X, y, test_size=0.3, random_state=42)\n",
        "\n",
        "X_train.shape, X_test.shape,y_train.shape,y_test.shape"
      ],
      "metadata": {
        "colab": {
          "base_uri": "https://localhost:8080/"
        },
        "id": "YRyc-rg2Iqnn",
        "outputId": "a637e3b6-7944-4adf-a9e5-a6a5fa506d11"
      },
      "execution_count": null,
      "outputs": [
        {
          "output_type": "execute_result",
          "data": {
            "text/plain": [
              "((295099, 7), (126471, 7), (295099,), (126471,))"
            ]
          },
          "metadata": {},
          "execution_count": 104
        }
      ]
    },
    {
      "cell_type": "code",
      "source": [
        "#Training\n",
        "\n",
        "model1 = XGBRegressor(random_state=42, n_jobs=-1)\n",
        "model1.fit(X_train, y_train)\n",
        "model1_train_preds = model1.predict(X_train)\n",
        "model1_test_preds = model1.predict(X_test)"
      ],
      "metadata": {
        "colab": {
          "base_uri": "https://localhost:8080/"
        },
        "id": "jlV9jE_uYLEk",
        "outputId": "946aec95-2340-4eb4-c35d-dc5ddad8c443"
      },
      "execution_count": null,
      "outputs": [
        {
          "output_type": "stream",
          "name": "stdout",
          "text": [
            "[21:38:02] WARNING: /workspace/src/objective/regression_obj.cu:152: reg:linear is now deprecated in favor of reg:squarederror.\n"
          ]
        }
      ]
    },
    {
      "cell_type": "code",
      "source": [
        "print('Mean Absolute Error for train (MAE): ', metrics.mean_absolute_error(y_train, model1_train_preds))\n",
        "print('Mean Absolute Error for test(MAE) :', metrics.mean_absolute_error(y_test, model1_test_preds))\n",
        "\n"
      ],
      "metadata": {
        "colab": {
          "base_uri": "https://localhost:8080/"
        },
        "id": "9_B4Etk_Z4Te",
        "outputId": "4390d535-e94f-4556-ccdb-d0337b3cac91"
      },
      "execution_count": null,
      "outputs": [
        {
          "output_type": "stream",
          "name": "stdout",
          "text": [
            "Mean Absolute Error for train (MAE):  6849.492972748777\n",
            "Mean Absolute Error for test(MAE) : 6927.395442120562\n"
          ]
        }
      ]
    },
    {
      "cell_type": "code",
      "source": [
        "#Testing\n",
        "forcasting_df['Weekly_Sales_XGB1']=model1.predict(test)\n",
        "forcasting_df.head()"
      ],
      "metadata": {
        "colab": {
          "base_uri": "https://localhost:8080/",
          "height": 206
        },
        "id": "kAq2CY5nR3Th",
        "outputId": "b3cfcb4a-07a5-442f-aae0-ae3f43b3ed9c"
      },
      "execution_count": null,
      "outputs": [
        {
          "output_type": "execute_result",
          "data": {
            "text/html": [
              "\n",
              "  <div id=\"df-71f778b2-7c86-463e-8b06-d7ed8745d7db\">\n",
              "    <div class=\"colab-df-container\">\n",
              "      <div>\n",
              "<style scoped>\n",
              "    .dataframe tbody tr th:only-of-type {\n",
              "        vertical-align: middle;\n",
              "    }\n",
              "\n",
              "    .dataframe tbody tr th {\n",
              "        vertical-align: top;\n",
              "    }\n",
              "\n",
              "    .dataframe thead th {\n",
              "        text-align: right;\n",
              "    }\n",
              "</style>\n",
              "<table border=\"1\" class=\"dataframe\">\n",
              "  <thead>\n",
              "    <tr style=\"text-align: right;\">\n",
              "      <th></th>\n",
              "      <th>Store</th>\n",
              "      <th>Dept</th>\n",
              "      <th>Date</th>\n",
              "      <th>IsHoliday</th>\n",
              "      <th>Weekly_Sales_XGB1</th>\n",
              "    </tr>\n",
              "  </thead>\n",
              "  <tbody>\n",
              "    <tr>\n",
              "      <th>0</th>\n",
              "      <td>1</td>\n",
              "      <td>1</td>\n",
              "      <td>2012-11-02</td>\n",
              "      <td>False</td>\n",
              "      <td>25300.494141</td>\n",
              "    </tr>\n",
              "    <tr>\n",
              "      <th>1</th>\n",
              "      <td>1</td>\n",
              "      <td>1</td>\n",
              "      <td>2012-11-09</td>\n",
              "      <td>False</td>\n",
              "      <td>25300.494141</td>\n",
              "    </tr>\n",
              "    <tr>\n",
              "      <th>2</th>\n",
              "      <td>1</td>\n",
              "      <td>1</td>\n",
              "      <td>2012-11-16</td>\n",
              "      <td>False</td>\n",
              "      <td>25300.494141</td>\n",
              "    </tr>\n",
              "    <tr>\n",
              "      <th>3</th>\n",
              "      <td>1</td>\n",
              "      <td>1</td>\n",
              "      <td>2012-11-23</td>\n",
              "      <td>True</td>\n",
              "      <td>31682.855469</td>\n",
              "    </tr>\n",
              "    <tr>\n",
              "      <th>4</th>\n",
              "      <td>1</td>\n",
              "      <td>1</td>\n",
              "      <td>2012-11-30</td>\n",
              "      <td>False</td>\n",
              "      <td>31682.855469</td>\n",
              "    </tr>\n",
              "  </tbody>\n",
              "</table>\n",
              "</div>\n",
              "      <button class=\"colab-df-convert\" onclick=\"convertToInteractive('df-71f778b2-7c86-463e-8b06-d7ed8745d7db')\"\n",
              "              title=\"Convert this dataframe to an interactive table.\"\n",
              "              style=\"display:none;\">\n",
              "        \n",
              "  <svg xmlns=\"http://www.w3.org/2000/svg\" height=\"24px\"viewBox=\"0 0 24 24\"\n",
              "       width=\"24px\">\n",
              "    <path d=\"M0 0h24v24H0V0z\" fill=\"none\"/>\n",
              "    <path d=\"M18.56 5.44l.94 2.06.94-2.06 2.06-.94-2.06-.94-.94-2.06-.94 2.06-2.06.94zm-11 1L8.5 8.5l.94-2.06 2.06-.94-2.06-.94L8.5 2.5l-.94 2.06-2.06.94zm10 10l.94 2.06.94-2.06 2.06-.94-2.06-.94-.94-2.06-.94 2.06-2.06.94z\"/><path d=\"M17.41 7.96l-1.37-1.37c-.4-.4-.92-.59-1.43-.59-.52 0-1.04.2-1.43.59L10.3 9.45l-7.72 7.72c-.78.78-.78 2.05 0 2.83L4 21.41c.39.39.9.59 1.41.59.51 0 1.02-.2 1.41-.59l7.78-7.78 2.81-2.81c.8-.78.8-2.07 0-2.86zM5.41 20L4 18.59l7.72-7.72 1.47 1.35L5.41 20z\"/>\n",
              "  </svg>\n",
              "      </button>\n",
              "      \n",
              "  <style>\n",
              "    .colab-df-container {\n",
              "      display:flex;\n",
              "      flex-wrap:wrap;\n",
              "      gap: 12px;\n",
              "    }\n",
              "\n",
              "    .colab-df-convert {\n",
              "      background-color: #E8F0FE;\n",
              "      border: none;\n",
              "      border-radius: 50%;\n",
              "      cursor: pointer;\n",
              "      display: none;\n",
              "      fill: #1967D2;\n",
              "      height: 32px;\n",
              "      padding: 0 0 0 0;\n",
              "      width: 32px;\n",
              "    }\n",
              "\n",
              "    .colab-df-convert:hover {\n",
              "      background-color: #E2EBFA;\n",
              "      box-shadow: 0px 1px 2px rgba(60, 64, 67, 0.3), 0px 1px 3px 1px rgba(60, 64, 67, 0.15);\n",
              "      fill: #174EA6;\n",
              "    }\n",
              "\n",
              "    [theme=dark] .colab-df-convert {\n",
              "      background-color: #3B4455;\n",
              "      fill: #D2E3FC;\n",
              "    }\n",
              "\n",
              "    [theme=dark] .colab-df-convert:hover {\n",
              "      background-color: #434B5C;\n",
              "      box-shadow: 0px 1px 3px 1px rgba(0, 0, 0, 0.15);\n",
              "      filter: drop-shadow(0px 1px 2px rgba(0, 0, 0, 0.3));\n",
              "      fill: #FFFFFF;\n",
              "    }\n",
              "  </style>\n",
              "\n",
              "      <script>\n",
              "        const buttonEl =\n",
              "          document.querySelector('#df-71f778b2-7c86-463e-8b06-d7ed8745d7db button.colab-df-convert');\n",
              "        buttonEl.style.display =\n",
              "          google.colab.kernel.accessAllowed ? 'block' : 'none';\n",
              "\n",
              "        async function convertToInteractive(key) {\n",
              "          const element = document.querySelector('#df-71f778b2-7c86-463e-8b06-d7ed8745d7db');\n",
              "          const dataTable =\n",
              "            await google.colab.kernel.invokeFunction('convertToInteractive',\n",
              "                                                     [key], {});\n",
              "          if (!dataTable) return;\n",
              "\n",
              "          const docLinkHtml = 'Like what you see? Visit the ' +\n",
              "            '<a target=\"_blank\" href=https://colab.research.google.com/notebooks/data_table.ipynb>data table notebook</a>'\n",
              "            + ' to learn more about interactive tables.';\n",
              "          element.innerHTML = '';\n",
              "          dataTable['output_type'] = 'display_data';\n",
              "          await google.colab.output.renderOutput(dataTable, element);\n",
              "          const docLink = document.createElement('div');\n",
              "          docLink.innerHTML = docLinkHtml;\n",
              "          element.appendChild(docLink);\n",
              "        }\n",
              "      </script>\n",
              "    </div>\n",
              "  </div>\n",
              "  "
            ],
            "text/plain": [
              "   Store  Dept        Date  IsHoliday  Weekly_Sales_XGB1\n",
              "0      1     1  2012-11-02      False       25300.494141\n",
              "1      1     1  2012-11-09      False       25300.494141\n",
              "2      1     1  2012-11-16      False       25300.494141\n",
              "3      1     1  2012-11-23       True       31682.855469\n",
              "4      1     1  2012-11-30      False       31682.855469"
            ]
          },
          "metadata": {},
          "execution_count": 107
        }
      ]
    },
    {
      "cell_type": "code",
      "source": [
        "#Performance Assessment\n",
        "\n",
        "forcasting_train['Weekly_Sales_XGB1']=model1.predict(X)\n",
        "\n",
        "daily_sales_XGB1 = forcasting_train.groupby('Date', as_index=False)['Weekly_Sales_XGB1'].sum()\n",
        "\n",
        "plot1 = go.Scatter(x=Overall_Weekly_sales['Date'], y=Overall_Weekly_sales['Weekly_Sales'],name=\"Training set\")\n",
        "layout = go.Layout(title='Weekly sales', xaxis=dict(title='Date'), yaxis=dict(title='Weekly_Sales'))\n",
        "\n",
        "plot2 = go.Scatter(x=daily_sales_XGB1['Date'], y=daily_sales_XGB1['Weekly_Sales_XGB1'],name=\"XGBoost1\")\n",
        "layout = go.Layout(title='XGBoost Model Forcasting with initial parameters', xaxis=dict(title='Date'), yaxis=dict(title='Weekly_Sales_XGB1'))\n",
        "\n",
        "fig = go.Figure(data=[plot1,plot2], layout=layout)\n",
        "iplot(fig)"
      ],
      "metadata": {
        "colab": {
          "base_uri": "https://localhost:8080/",
          "height": 542
        },
        "id": "wL3hWfK4YNII",
        "outputId": "b702cd75-0290-4ded-80e7-eca34aaed203"
      },
      "execution_count": null,
      "outputs": [
        {
          "output_type": "display_data",
          "data": {
            "text/html": [
              "<html>\n",
              "<head><meta charset=\"utf-8\" /></head>\n",
              "<body>\n",
              "    <div>            <script src=\"https://cdnjs.cloudflare.com/ajax/libs/mathjax/2.7.5/MathJax.js?config=TeX-AMS-MML_SVG\"></script><script type=\"text/javascript\">if (window.MathJax) {MathJax.Hub.Config({SVG: {font: \"STIX-Web\"}});}</script>                <script type=\"text/javascript\">window.PlotlyConfig = {MathJaxConfig: 'local'};</script>\n",
              "        <script src=\"https://cdn.plot.ly/plotly-2.8.3.min.js\"></script>                <div id=\"0fe0e8c0-8c9f-4c87-9780-58821c630fa6\" class=\"plotly-graph-div\" style=\"height:525px; width:100%;\"></div>            <script type=\"text/javascript\">                                    window.PLOTLYENV=window.PLOTLYENV || {};                                    if (document.getElementById(\"0fe0e8c0-8c9f-4c87-9780-58821c630fa6\")) {                    Plotly.newPlot(                        \"0fe0e8c0-8c9f-4c87-9780-58821c630fa6\",                        [{\"name\":\"Training set\",\"x\":[\"2010-02-05\",\"2010-02-12\",\"2010-02-19\",\"2010-02-26\",\"2010-03-05\",\"2010-03-12\",\"2010-03-19\",\"2010-03-26\",\"2010-04-02\",\"2010-04-09\",\"2010-04-16\",\"2010-04-23\",\"2010-04-30\",\"2010-05-07\",\"2010-05-14\",\"2010-05-21\",\"2010-05-28\",\"2010-06-04\",\"2010-06-11\",\"2010-06-18\",\"2010-06-25\",\"2010-07-02\",\"2010-07-09\",\"2010-07-16\",\"2010-07-23\",\"2010-07-30\",\"2010-08-06\",\"2010-08-13\",\"2010-08-20\",\"2010-08-27\",\"2010-09-03\",\"2010-09-10\",\"2010-09-17\",\"2010-09-24\",\"2010-10-01\",\"2010-10-08\",\"2010-10-15\",\"2010-10-22\",\"2010-10-29\",\"2010-11-05\",\"2010-11-12\",\"2010-11-19\",\"2010-11-26\",\"2010-12-03\",\"2010-12-10\",\"2010-12-17\",\"2010-12-24\",\"2010-12-31\",\"2011-01-07\",\"2011-01-14\",\"2011-01-21\",\"2011-01-28\",\"2011-02-04\",\"2011-02-11\",\"2011-02-18\",\"2011-02-25\",\"2011-03-04\",\"2011-03-11\",\"2011-03-18\",\"2011-03-25\",\"2011-04-01\",\"2011-04-08\",\"2011-04-15\",\"2011-04-22\",\"2011-04-29\",\"2011-05-06\",\"2011-05-13\",\"2011-05-20\",\"2011-05-27\",\"2011-06-03\",\"2011-06-10\",\"2011-06-17\",\"2011-06-24\",\"2011-07-01\",\"2011-07-08\",\"2011-07-15\",\"2011-07-22\",\"2011-07-29\",\"2011-08-05\",\"2011-08-12\",\"2011-08-19\",\"2011-08-26\",\"2011-09-02\",\"2011-09-09\",\"2011-09-16\",\"2011-09-23\",\"2011-09-30\",\"2011-10-07\",\"2011-10-14\",\"2011-10-21\",\"2011-10-28\",\"2011-11-04\",\"2011-11-11\",\"2011-11-18\",\"2011-11-25\",\"2011-12-02\",\"2011-12-09\",\"2011-12-16\",\"2011-12-23\",\"2011-12-30\",\"2012-01-06\",\"2012-01-13\",\"2012-01-20\",\"2012-01-27\",\"2012-02-03\",\"2012-02-10\",\"2012-02-17\",\"2012-02-24\",\"2012-03-02\",\"2012-03-09\",\"2012-03-16\",\"2012-03-23\",\"2012-03-30\",\"2012-04-06\",\"2012-04-13\",\"2012-04-20\",\"2012-04-27\",\"2012-05-04\",\"2012-05-11\",\"2012-05-18\",\"2012-05-25\",\"2012-06-01\",\"2012-06-08\",\"2012-06-15\",\"2012-06-22\",\"2012-06-29\",\"2012-07-06\",\"2012-07-13\",\"2012-07-20\",\"2012-07-27\",\"2012-08-03\",\"2012-08-10\",\"2012-08-17\",\"2012-08-24\",\"2012-08-31\",\"2012-09-07\",\"2012-09-14\",\"2012-09-21\",\"2012-09-28\",\"2012-10-05\",\"2012-10-12\",\"2012-10-19\",\"2012-10-26\"],\"y\":[49750740.5,48336677.63,48276993.78,43968571.13,46871470.3,45925396.51,44988974.64,44133961.05,50423831.26,47365290.44,45183667.08,44734452.56,43705126.71,48503243.52,45330080.2,45120108.06,47757502.56,50188543.12,47826546.72,47622046.23,46609036.29,48917484.5,47899529.37,46243899.58,44888849.11,44630363.42,48204999.12,46464418.410000004,47060952.92,45909740.44,47194257.61,45634397.84,43080726.51,41358514.41,42239875.87,45102974.23,43149473.45,43066669.52,43602830.95,45781981.89,46124800.83,45125584.18,65821003.24,49909027.88,55666770.39,61820799.85,80931415.6,40432519.0,42775787.77,40673678.04,40654648.03,39599852.99,46153111.12,47336192.79,48716164.12,44125859.84,46980603.74,44627319.4,44872325.97,42876199.18,43458991.19,45887466.8,44973328.14,48676692.06,43530032.78,46861958.29,45446144.82,44046598.01,45293457.04,48771994.18,47669734.66,47447561.77,45884094.58,47578519.5,47859263.78,45515929.92,45274411.39,43683274.28,48015466.97,46249569.21,46917347.62,47416948.45,45376623.27,46763227.53,43793960.08,42718096.73,42195830.81,47211688.36,44374820.3,45818953.44,45855821.05,48655544.3,48474224.75,46438980.56,66593605.26,49390556.49,55561147.7,60085695.94,76998241.31,46042461.04,44955421.95,42023078.48,42080996.56,39834974.67,46085608.09,50009407.92,50197056.96,45771506.57,46861034.97,47480454.11,46901504.94,44993794.45,45272862.02,53502315.87,46629261.41,45072529.78,43716798.89,47124197.93,46925878.99,46823939.22,47892463.31,48281649.72,49651171.78,48412110.7,47668284.97,46597112.12,51253021.88,46099732.1,46059543.45,44097154.97,47485899.56,47403451.04,47354452.05,47447323.6,47159639.43,48330059.31,44226038.65,44354547.11,43734899.4,47566639.31,46128514.25,45122410.57,45544116.29],\"type\":\"scatter\"},{\"name\":\"XGBoost1\",\"x\":[\"2010-02-05\",\"2010-02-12\",\"2010-02-19\",\"2010-02-26\",\"2010-03-05\",\"2010-03-12\",\"2010-03-19\",\"2010-03-26\",\"2010-04-02\",\"2010-04-09\",\"2010-04-16\",\"2010-04-23\",\"2010-04-30\",\"2010-05-07\",\"2010-05-14\",\"2010-05-21\",\"2010-05-28\",\"2010-06-04\",\"2010-06-11\",\"2010-06-18\",\"2010-06-25\",\"2010-07-02\",\"2010-07-09\",\"2010-07-16\",\"2010-07-23\",\"2010-07-30\",\"2010-08-06\",\"2010-08-13\",\"2010-08-20\",\"2010-08-27\",\"2010-09-03\",\"2010-09-10\",\"2010-09-17\",\"2010-09-24\",\"2010-10-01\",\"2010-10-08\",\"2010-10-15\",\"2010-10-22\",\"2010-10-29\",\"2010-11-05\",\"2010-11-12\",\"2010-11-19\",\"2010-11-26\",\"2010-12-03\",\"2010-12-10\",\"2010-12-17\",\"2010-12-24\",\"2010-12-31\",\"2011-01-07\",\"2011-01-14\",\"2011-01-21\",\"2011-01-28\",\"2011-02-04\",\"2011-02-11\",\"2011-02-18\",\"2011-02-25\",\"2011-03-04\",\"2011-03-11\",\"2011-03-18\",\"2011-03-25\",\"2011-04-01\",\"2011-04-08\",\"2011-04-15\",\"2011-04-22\",\"2011-04-29\",\"2011-05-06\",\"2011-05-13\",\"2011-05-20\",\"2011-05-27\",\"2011-06-03\",\"2011-06-10\",\"2011-06-17\",\"2011-06-24\",\"2011-07-01\",\"2011-07-08\",\"2011-07-15\",\"2011-07-22\",\"2011-07-29\",\"2011-08-05\",\"2011-08-12\",\"2011-08-19\",\"2011-08-26\",\"2011-09-02\",\"2011-09-09\",\"2011-09-16\",\"2011-09-23\",\"2011-09-30\",\"2011-10-07\",\"2011-10-14\",\"2011-10-21\",\"2011-10-28\",\"2011-11-04\",\"2011-11-11\",\"2011-11-18\",\"2011-11-25\",\"2011-12-02\",\"2011-12-09\",\"2011-12-16\",\"2011-12-23\",\"2011-12-30\",\"2012-01-06\",\"2012-01-13\",\"2012-01-20\",\"2012-01-27\",\"2012-02-03\",\"2012-02-10\",\"2012-02-17\",\"2012-02-24\",\"2012-03-02\",\"2012-03-09\",\"2012-03-16\",\"2012-03-23\",\"2012-03-30\",\"2012-04-06\",\"2012-04-13\",\"2012-04-20\",\"2012-04-27\",\"2012-05-04\",\"2012-05-11\",\"2012-05-18\",\"2012-05-25\",\"2012-06-01\",\"2012-06-08\",\"2012-06-15\",\"2012-06-22\",\"2012-06-29\",\"2012-07-06\",\"2012-07-13\",\"2012-07-20\",\"2012-07-27\",\"2012-08-03\",\"2012-08-10\",\"2012-08-17\",\"2012-08-24\",\"2012-08-31\",\"2012-09-07\",\"2012-09-14\",\"2012-09-21\",\"2012-09-28\",\"2012-10-05\",\"2012-10-12\",\"2012-10-19\",\"2012-10-26\"],\"y\":[46521340.0,46740980.0,46674208.0,46516840.0,46438384.0,46505004.0,46456988.0,46414780.0,46421228.0,46416572.0,46417784.0,46383132.0,46304044.0,46328240.0,46248492.0,46090336.0,46070980.0,46095052.0,45966976.0,46091092.0,46115612.0,46179644.0,46001644.0,46038852.0,46233396.0,46153152.0,46088696.0,46030068.0,46025568.0,46063404.0,46266024.0,46560748.0,46291072.0,46333968.0,46278116.0,46347940.0,46335896.0,46291740.0,46312876.0,46281804.0,46321944.0,46197492.0,54948472.0,54877404.0,55040932.0,59350208.0,61204160.0,49371468.0,45285228.0,45285536.0,45279208.0,45267772.0,46243044.0,46517692.0,46336992.0,46268268.0,46360896.0,46389716.0,46301860.0,46254652.0,46357992.0,46219092.0,46331772.0,46305072.0,46300344.0,46446788.0,46420948.0,46216536.0,46282196.0,46224144.0,46152744.0,46217788.0,46151024.0,46167396.0,46127072.0,46129396.0,46115528.0,46211984.0,46271260.0,46314616.0,46360016.0,46351648.0,46386644.0,46610136.0,46392364.0,46471316.0,46422976.0,46425784.0,46352340.0,46471580.0,46467024.0,46410276.0,46464764.0,46432088.0,55999112.0,55477112.0,55531652.0,59816488.0,61941128.0,49651908.0,45567704.0,45509236.0,45497628.0,45534532.0,46584748.0,46944316.0,46763916.0,46408428.0,46562348.0,46532752.0,46448836.0,46492272.0,46409384.0,46566360.0,46594536.0,46541164.0,46363008.0,46379992.0,46532992.0,46417164.0,46198148.0,46254544.0,46357720.0,46286732.0,46244764.0,46174168.0,46249636.0,46282432.0,46245936.0,46210760.0,46351816.0,46281580.0,46399960.0,46390004.0,46445388.0,46639320.0,46482660.0,46512776.0,46472596.0,46555168.0,46685560.0,46385500.0,46468980.0],\"type\":\"scatter\"}],                        {\"template\":{\"data\":{\"barpolar\":[{\"marker\":{\"line\":{\"color\":\"#E5ECF6\",\"width\":0.5},\"pattern\":{\"fillmode\":\"overlay\",\"size\":10,\"solidity\":0.2}},\"type\":\"barpolar\"}],\"bar\":[{\"error_x\":{\"color\":\"#2a3f5f\"},\"error_y\":{\"color\":\"#2a3f5f\"},\"marker\":{\"line\":{\"color\":\"#E5ECF6\",\"width\":0.5},\"pattern\":{\"fillmode\":\"overlay\",\"size\":10,\"solidity\":0.2}},\"type\":\"bar\"}],\"carpet\":[{\"aaxis\":{\"endlinecolor\":\"#2a3f5f\",\"gridcolor\":\"white\",\"linecolor\":\"white\",\"minorgridcolor\":\"white\",\"startlinecolor\":\"#2a3f5f\"},\"baxis\":{\"endlinecolor\":\"#2a3f5f\",\"gridcolor\":\"white\",\"linecolor\":\"white\",\"minorgridcolor\":\"white\",\"startlinecolor\":\"#2a3f5f\"},\"type\":\"carpet\"}],\"choropleth\":[{\"colorbar\":{\"outlinewidth\":0,\"ticks\":\"\"},\"type\":\"choropleth\"}],\"contourcarpet\":[{\"colorbar\":{\"outlinewidth\":0,\"ticks\":\"\"},\"type\":\"contourcarpet\"}],\"contour\":[{\"colorbar\":{\"outlinewidth\":0,\"ticks\":\"\"},\"colorscale\":[[0.0,\"#0d0887\"],[0.1111111111111111,\"#46039f\"],[0.2222222222222222,\"#7201a8\"],[0.3333333333333333,\"#9c179e\"],[0.4444444444444444,\"#bd3786\"],[0.5555555555555556,\"#d8576b\"],[0.6666666666666666,\"#ed7953\"],[0.7777777777777778,\"#fb9f3a\"],[0.8888888888888888,\"#fdca26\"],[1.0,\"#f0f921\"]],\"type\":\"contour\"}],\"heatmapgl\":[{\"colorbar\":{\"outlinewidth\":0,\"ticks\":\"\"},\"colorscale\":[[0.0,\"#0d0887\"],[0.1111111111111111,\"#46039f\"],[0.2222222222222222,\"#7201a8\"],[0.3333333333333333,\"#9c179e\"],[0.4444444444444444,\"#bd3786\"],[0.5555555555555556,\"#d8576b\"],[0.6666666666666666,\"#ed7953\"],[0.7777777777777778,\"#fb9f3a\"],[0.8888888888888888,\"#fdca26\"],[1.0,\"#f0f921\"]],\"type\":\"heatmapgl\"}],\"heatmap\":[{\"colorbar\":{\"outlinewidth\":0,\"ticks\":\"\"},\"colorscale\":[[0.0,\"#0d0887\"],[0.1111111111111111,\"#46039f\"],[0.2222222222222222,\"#7201a8\"],[0.3333333333333333,\"#9c179e\"],[0.4444444444444444,\"#bd3786\"],[0.5555555555555556,\"#d8576b\"],[0.6666666666666666,\"#ed7953\"],[0.7777777777777778,\"#fb9f3a\"],[0.8888888888888888,\"#fdca26\"],[1.0,\"#f0f921\"]],\"type\":\"heatmap\"}],\"histogram2dcontour\":[{\"colorbar\":{\"outlinewidth\":0,\"ticks\":\"\"},\"colorscale\":[[0.0,\"#0d0887\"],[0.1111111111111111,\"#46039f\"],[0.2222222222222222,\"#7201a8\"],[0.3333333333333333,\"#9c179e\"],[0.4444444444444444,\"#bd3786\"],[0.5555555555555556,\"#d8576b\"],[0.6666666666666666,\"#ed7953\"],[0.7777777777777778,\"#fb9f3a\"],[0.8888888888888888,\"#fdca26\"],[1.0,\"#f0f921\"]],\"type\":\"histogram2dcontour\"}],\"histogram2d\":[{\"colorbar\":{\"outlinewidth\":0,\"ticks\":\"\"},\"colorscale\":[[0.0,\"#0d0887\"],[0.1111111111111111,\"#46039f\"],[0.2222222222222222,\"#7201a8\"],[0.3333333333333333,\"#9c179e\"],[0.4444444444444444,\"#bd3786\"],[0.5555555555555556,\"#d8576b\"],[0.6666666666666666,\"#ed7953\"],[0.7777777777777778,\"#fb9f3a\"],[0.8888888888888888,\"#fdca26\"],[1.0,\"#f0f921\"]],\"type\":\"histogram2d\"}],\"histogram\":[{\"marker\":{\"pattern\":{\"fillmode\":\"overlay\",\"size\":10,\"solidity\":0.2}},\"type\":\"histogram\"}],\"mesh3d\":[{\"colorbar\":{\"outlinewidth\":0,\"ticks\":\"\"},\"type\":\"mesh3d\"}],\"parcoords\":[{\"line\":{\"colorbar\":{\"outlinewidth\":0,\"ticks\":\"\"}},\"type\":\"parcoords\"}],\"pie\":[{\"automargin\":true,\"type\":\"pie\"}],\"scatter3d\":[{\"line\":{\"colorbar\":{\"outlinewidth\":0,\"ticks\":\"\"}},\"marker\":{\"colorbar\":{\"outlinewidth\":0,\"ticks\":\"\"}},\"type\":\"scatter3d\"}],\"scattercarpet\":[{\"marker\":{\"colorbar\":{\"outlinewidth\":0,\"ticks\":\"\"}},\"type\":\"scattercarpet\"}],\"scattergeo\":[{\"marker\":{\"colorbar\":{\"outlinewidth\":0,\"ticks\":\"\"}},\"type\":\"scattergeo\"}],\"scattergl\":[{\"marker\":{\"colorbar\":{\"outlinewidth\":0,\"ticks\":\"\"}},\"type\":\"scattergl\"}],\"scattermapbox\":[{\"marker\":{\"colorbar\":{\"outlinewidth\":0,\"ticks\":\"\"}},\"type\":\"scattermapbox\"}],\"scatterpolargl\":[{\"marker\":{\"colorbar\":{\"outlinewidth\":0,\"ticks\":\"\"}},\"type\":\"scatterpolargl\"}],\"scatterpolar\":[{\"marker\":{\"colorbar\":{\"outlinewidth\":0,\"ticks\":\"\"}},\"type\":\"scatterpolar\"}],\"scatter\":[{\"marker\":{\"colorbar\":{\"outlinewidth\":0,\"ticks\":\"\"}},\"type\":\"scatter\"}],\"scatterternary\":[{\"marker\":{\"colorbar\":{\"outlinewidth\":0,\"ticks\":\"\"}},\"type\":\"scatterternary\"}],\"surface\":[{\"colorbar\":{\"outlinewidth\":0,\"ticks\":\"\"},\"colorscale\":[[0.0,\"#0d0887\"],[0.1111111111111111,\"#46039f\"],[0.2222222222222222,\"#7201a8\"],[0.3333333333333333,\"#9c179e\"],[0.4444444444444444,\"#bd3786\"],[0.5555555555555556,\"#d8576b\"],[0.6666666666666666,\"#ed7953\"],[0.7777777777777778,\"#fb9f3a\"],[0.8888888888888888,\"#fdca26\"],[1.0,\"#f0f921\"]],\"type\":\"surface\"}],\"table\":[{\"cells\":{\"fill\":{\"color\":\"#EBF0F8\"},\"line\":{\"color\":\"white\"}},\"header\":{\"fill\":{\"color\":\"#C8D4E3\"},\"line\":{\"color\":\"white\"}},\"type\":\"table\"}]},\"layout\":{\"annotationdefaults\":{\"arrowcolor\":\"#2a3f5f\",\"arrowhead\":0,\"arrowwidth\":1},\"autotypenumbers\":\"strict\",\"coloraxis\":{\"colorbar\":{\"outlinewidth\":0,\"ticks\":\"\"}},\"colorscale\":{\"diverging\":[[0,\"#8e0152\"],[0.1,\"#c51b7d\"],[0.2,\"#de77ae\"],[0.3,\"#f1b6da\"],[0.4,\"#fde0ef\"],[0.5,\"#f7f7f7\"],[0.6,\"#e6f5d0\"],[0.7,\"#b8e186\"],[0.8,\"#7fbc41\"],[0.9,\"#4d9221\"],[1,\"#276419\"]],\"sequential\":[[0.0,\"#0d0887\"],[0.1111111111111111,\"#46039f\"],[0.2222222222222222,\"#7201a8\"],[0.3333333333333333,\"#9c179e\"],[0.4444444444444444,\"#bd3786\"],[0.5555555555555556,\"#d8576b\"],[0.6666666666666666,\"#ed7953\"],[0.7777777777777778,\"#fb9f3a\"],[0.8888888888888888,\"#fdca26\"],[1.0,\"#f0f921\"]],\"sequentialminus\":[[0.0,\"#0d0887\"],[0.1111111111111111,\"#46039f\"],[0.2222222222222222,\"#7201a8\"],[0.3333333333333333,\"#9c179e\"],[0.4444444444444444,\"#bd3786\"],[0.5555555555555556,\"#d8576b\"],[0.6666666666666666,\"#ed7953\"],[0.7777777777777778,\"#fb9f3a\"],[0.8888888888888888,\"#fdca26\"],[1.0,\"#f0f921\"]]},\"colorway\":[\"#636efa\",\"#EF553B\",\"#00cc96\",\"#ab63fa\",\"#FFA15A\",\"#19d3f3\",\"#FF6692\",\"#B6E880\",\"#FF97FF\",\"#FECB52\"],\"font\":{\"color\":\"#2a3f5f\"},\"geo\":{\"bgcolor\":\"white\",\"lakecolor\":\"white\",\"landcolor\":\"#E5ECF6\",\"showlakes\":true,\"showland\":true,\"subunitcolor\":\"white\"},\"hoverlabel\":{\"align\":\"left\"},\"hovermode\":\"closest\",\"mapbox\":{\"style\":\"light\"},\"paper_bgcolor\":\"white\",\"plot_bgcolor\":\"#E5ECF6\",\"polar\":{\"angularaxis\":{\"gridcolor\":\"white\",\"linecolor\":\"white\",\"ticks\":\"\"},\"bgcolor\":\"#E5ECF6\",\"radialaxis\":{\"gridcolor\":\"white\",\"linecolor\":\"white\",\"ticks\":\"\"}},\"scene\":{\"xaxis\":{\"backgroundcolor\":\"#E5ECF6\",\"gridcolor\":\"white\",\"gridwidth\":2,\"linecolor\":\"white\",\"showbackground\":true,\"ticks\":\"\",\"zerolinecolor\":\"white\"},\"yaxis\":{\"backgroundcolor\":\"#E5ECF6\",\"gridcolor\":\"white\",\"gridwidth\":2,\"linecolor\":\"white\",\"showbackground\":true,\"ticks\":\"\",\"zerolinecolor\":\"white\"},\"zaxis\":{\"backgroundcolor\":\"#E5ECF6\",\"gridcolor\":\"white\",\"gridwidth\":2,\"linecolor\":\"white\",\"showbackground\":true,\"ticks\":\"\",\"zerolinecolor\":\"white\"}},\"shapedefaults\":{\"line\":{\"color\":\"#2a3f5f\"}},\"ternary\":{\"aaxis\":{\"gridcolor\":\"white\",\"linecolor\":\"white\",\"ticks\":\"\"},\"baxis\":{\"gridcolor\":\"white\",\"linecolor\":\"white\",\"ticks\":\"\"},\"bgcolor\":\"#E5ECF6\",\"caxis\":{\"gridcolor\":\"white\",\"linecolor\":\"white\",\"ticks\":\"\"}},\"title\":{\"x\":0.05},\"xaxis\":{\"automargin\":true,\"gridcolor\":\"white\",\"linecolor\":\"white\",\"ticks\":\"\",\"title\":{\"standoff\":15},\"zerolinecolor\":\"white\",\"zerolinewidth\":2},\"yaxis\":{\"automargin\":true,\"gridcolor\":\"white\",\"linecolor\":\"white\",\"ticks\":\"\",\"title\":{\"standoff\":15},\"zerolinecolor\":\"white\",\"zerolinewidth\":2}}},\"title\":{\"text\":\"XGBoost Model Forcasting with initial parameters\"},\"xaxis\":{\"title\":{\"text\":\"Date\"}},\"yaxis\":{\"title\":{\"text\":\"Weekly_Sales_XGB1\"}}},                        {\"responsive\": true}                    ).then(function(){\n",
              "                            \n",
              "var gd = document.getElementById('0fe0e8c0-8c9f-4c87-9780-58821c630fa6');\n",
              "var x = new MutationObserver(function (mutations, observer) {{\n",
              "        var display = window.getComputedStyle(gd).display;\n",
              "        if (!display || display === 'none') {{\n",
              "            console.log([gd, 'removed!']);\n",
              "            Plotly.purge(gd);\n",
              "            observer.disconnect();\n",
              "        }}\n",
              "}});\n",
              "\n",
              "// Listen for the removal of the full notebook cells\n",
              "var notebookContainer = gd.closest('#notebook-container');\n",
              "if (notebookContainer) {{\n",
              "    x.observe(notebookContainer, {childList: true});\n",
              "}}\n",
              "\n",
              "// Listen for the clearing of the current output cell\n",
              "var outputEl = gd.closest('.output');\n",
              "if (outputEl) {{\n",
              "    x.observe(outputEl, {childList: true});\n",
              "}}\n",
              "\n",
              "                        })                };                            </script>        </div>\n",
              "</body>\n",
              "</html>"
            ]
          },
          "metadata": {}
        }
      ]
    },
    {
      "cell_type": "code",
      "source": [
        "# To explore the time series data first we need to aggregate the sales by week\n",
        "daily_sales_XGB1 = forcasting_df.groupby('Date', as_index=False)['Weekly_Sales_XGB1'].sum()\n",
        "store_daily_sales_XGB1  = forcasting_df.groupby(['Store', 'Date'], as_index=False)['Weekly_Sales_XGB1'].sum()"
      ],
      "metadata": {
        "id": "ixm-7c0nw5R7"
      },
      "execution_count": null,
      "outputs": []
    },
    {
      "cell_type": "code",
      "source": [
        "# Overall Weekly sales\n",
        "plot1 = go.Scatter(x=Overall_Weekly_sales['Date'], y=Overall_Weekly_sales['Weekly_Sales'],name=\"Training set\")\n",
        "layout = go.Layout(title='Weekly sales', xaxis=dict(title='Date'), yaxis=dict(title='Weekly_Sales'))\n",
        "\n",
        "plot2 = go.Scatter(x=daily_sales_XGB1['Date'], y=daily_sales_XGB1['Weekly_Sales_XGB1'],name=\"XGBoost1\")\n",
        "layout = go.Layout(title='XGBoost Model Forcasting with initial parameters', xaxis=dict(title='Date'), yaxis=dict(title='Weekly_Sales_XGB1'))\n",
        "fig = go.Figure(data=[plot1,plot2], layout=layout)\n",
        "iplot(fig)"
      ],
      "metadata": {
        "colab": {
          "base_uri": "https://localhost:8080/",
          "height": 542
        },
        "outputId": "149308c5-a8e4-484a-9fe9-1e7aec3bc30e",
        "id": "mIPXoWh5xKBt"
      },
      "execution_count": null,
      "outputs": [
        {
          "output_type": "display_data",
          "data": {
            "text/html": [
              "<html>\n",
              "<head><meta charset=\"utf-8\" /></head>\n",
              "<body>\n",
              "    <div>            <script src=\"https://cdnjs.cloudflare.com/ajax/libs/mathjax/2.7.5/MathJax.js?config=TeX-AMS-MML_SVG\"></script><script type=\"text/javascript\">if (window.MathJax) {MathJax.Hub.Config({SVG: {font: \"STIX-Web\"}});}</script>                <script type=\"text/javascript\">window.PlotlyConfig = {MathJaxConfig: 'local'};</script>\n",
              "        <script src=\"https://cdn.plot.ly/plotly-2.8.3.min.js\"></script>                <div id=\"a8e4cc98-4d66-47a3-bef3-493684b6357a\" class=\"plotly-graph-div\" style=\"height:525px; width:100%;\"></div>            <script type=\"text/javascript\">                                    window.PLOTLYENV=window.PLOTLYENV || {};                                    if (document.getElementById(\"a8e4cc98-4d66-47a3-bef3-493684b6357a\")) {                    Plotly.newPlot(                        \"a8e4cc98-4d66-47a3-bef3-493684b6357a\",                        [{\"name\":\"Training set\",\"x\":[\"2010-02-05\",\"2010-02-12\",\"2010-02-19\",\"2010-02-26\",\"2010-03-05\",\"2010-03-12\",\"2010-03-19\",\"2010-03-26\",\"2010-04-02\",\"2010-04-09\",\"2010-04-16\",\"2010-04-23\",\"2010-04-30\",\"2010-05-07\",\"2010-05-14\",\"2010-05-21\",\"2010-05-28\",\"2010-06-04\",\"2010-06-11\",\"2010-06-18\",\"2010-06-25\",\"2010-07-02\",\"2010-07-09\",\"2010-07-16\",\"2010-07-23\",\"2010-07-30\",\"2010-08-06\",\"2010-08-13\",\"2010-08-20\",\"2010-08-27\",\"2010-09-03\",\"2010-09-10\",\"2010-09-17\",\"2010-09-24\",\"2010-10-01\",\"2010-10-08\",\"2010-10-15\",\"2010-10-22\",\"2010-10-29\",\"2010-11-05\",\"2010-11-12\",\"2010-11-19\",\"2010-11-26\",\"2010-12-03\",\"2010-12-10\",\"2010-12-17\",\"2010-12-24\",\"2010-12-31\",\"2011-01-07\",\"2011-01-14\",\"2011-01-21\",\"2011-01-28\",\"2011-02-04\",\"2011-02-11\",\"2011-02-18\",\"2011-02-25\",\"2011-03-04\",\"2011-03-11\",\"2011-03-18\",\"2011-03-25\",\"2011-04-01\",\"2011-04-08\",\"2011-04-15\",\"2011-04-22\",\"2011-04-29\",\"2011-05-06\",\"2011-05-13\",\"2011-05-20\",\"2011-05-27\",\"2011-06-03\",\"2011-06-10\",\"2011-06-17\",\"2011-06-24\",\"2011-07-01\",\"2011-07-08\",\"2011-07-15\",\"2011-07-22\",\"2011-07-29\",\"2011-08-05\",\"2011-08-12\",\"2011-08-19\",\"2011-08-26\",\"2011-09-02\",\"2011-09-09\",\"2011-09-16\",\"2011-09-23\",\"2011-09-30\",\"2011-10-07\",\"2011-10-14\",\"2011-10-21\",\"2011-10-28\",\"2011-11-04\",\"2011-11-11\",\"2011-11-18\",\"2011-11-25\",\"2011-12-02\",\"2011-12-09\",\"2011-12-16\",\"2011-12-23\",\"2011-12-30\",\"2012-01-06\",\"2012-01-13\",\"2012-01-20\",\"2012-01-27\",\"2012-02-03\",\"2012-02-10\",\"2012-02-17\",\"2012-02-24\",\"2012-03-02\",\"2012-03-09\",\"2012-03-16\",\"2012-03-23\",\"2012-03-30\",\"2012-04-06\",\"2012-04-13\",\"2012-04-20\",\"2012-04-27\",\"2012-05-04\",\"2012-05-11\",\"2012-05-18\",\"2012-05-25\",\"2012-06-01\",\"2012-06-08\",\"2012-06-15\",\"2012-06-22\",\"2012-06-29\",\"2012-07-06\",\"2012-07-13\",\"2012-07-20\",\"2012-07-27\",\"2012-08-03\",\"2012-08-10\",\"2012-08-17\",\"2012-08-24\",\"2012-08-31\",\"2012-09-07\",\"2012-09-14\",\"2012-09-21\",\"2012-09-28\",\"2012-10-05\",\"2012-10-12\",\"2012-10-19\",\"2012-10-26\"],\"y\":[49750740.5,48336677.63,48276993.78,43968571.13,46871470.3,45925396.51,44988974.64,44133961.05,50423831.26,47365290.44,45183667.08,44734452.56,43705126.71,48503243.52,45330080.2,45120108.06,47757502.56,50188543.12,47826546.72,47622046.23,46609036.29,48917484.5,47899529.37,46243899.58,44888849.11,44630363.42,48204999.12,46464418.410000004,47060952.92,45909740.44,47194257.61,45634397.84,43080726.51,41358514.41,42239875.87,45102974.23,43149473.45,43066669.52,43602830.95,45781981.89,46124800.83,45125584.18,65821003.24,49909027.88,55666770.39,61820799.85,80931415.6,40432519.0,42775787.77,40673678.04,40654648.03,39599852.99,46153111.12,47336192.79,48716164.12,44125859.84,46980603.74,44627319.4,44872325.97,42876199.18,43458991.19,45887466.8,44973328.14,48676692.06,43530032.78,46861958.29,45446144.82,44046598.01,45293457.04,48771994.18,47669734.66,47447561.77,45884094.58,47578519.5,47859263.78,45515929.92,45274411.39,43683274.28,48015466.97,46249569.21,46917347.62,47416948.45,45376623.27,46763227.53,43793960.08,42718096.73,42195830.81,47211688.36,44374820.3,45818953.44,45855821.05,48655544.3,48474224.75,46438980.56,66593605.26,49390556.49,55561147.7,60085695.94,76998241.31,46042461.04,44955421.95,42023078.48,42080996.56,39834974.67,46085608.09,50009407.92,50197056.96,45771506.57,46861034.97,47480454.11,46901504.94,44993794.45,45272862.02,53502315.87,46629261.41,45072529.78,43716798.89,47124197.93,46925878.99,46823939.22,47892463.31,48281649.72,49651171.78,48412110.7,47668284.97,46597112.12,51253021.88,46099732.1,46059543.45,44097154.97,47485899.56,47403451.04,47354452.05,47447323.6,47159639.43,48330059.31,44226038.65,44354547.11,43734899.4,47566639.31,46128514.25,45122410.57,45544116.29],\"type\":\"scatter\"},{\"name\":\"XGBoost1\",\"x\":[\"2012-11-02\",\"2012-11-09\",\"2012-11-16\",\"2012-11-23\",\"2012-11-30\",\"2012-12-07\",\"2012-12-14\",\"2012-12-21\",\"2012-12-28\",\"2013-01-04\",\"2013-01-11\",\"2013-01-18\",\"2013-01-25\",\"2013-02-01\",\"2013-02-08\",\"2013-02-15\",\"2013-02-22\",\"2013-03-01\",\"2013-03-08\",\"2013-03-15\",\"2013-03-22\",\"2013-03-29\",\"2013-04-05\",\"2013-04-12\",\"2013-04-19\",\"2013-04-26\",\"2013-05-03\",\"2013-05-10\",\"2013-05-17\",\"2013-05-24\",\"2013-05-31\",\"2013-06-07\",\"2013-06-14\",\"2013-06-21\",\"2013-06-28\",\"2013-07-05\",\"2013-07-12\",\"2013-07-19\",\"2013-07-26\"],\"y\":[46494148.0,46585340.0,46404844.0,55204768.0,54944488.0,55272032.0,59482896.0,61394172.0,49345968.0,45369052.0,45376792.0,45370596.0,45356104.0,46327760.0,46523448.0,46499032.0,46345980.0,46281608.0,46295568.0,46299772.0,46245664.0,46292224.0,46361388.0,46341256.0,46329404.0,46339080.0,46294912.0,46365808.0,46425812.0,46267052.0,46242908.0,46223112.0,46206868.0,46177096.0,46052264.0,46191848.0,46181444.0,46208696.0,46189540.0],\"type\":\"scatter\"}],                        {\"template\":{\"data\":{\"barpolar\":[{\"marker\":{\"line\":{\"color\":\"#E5ECF6\",\"width\":0.5},\"pattern\":{\"fillmode\":\"overlay\",\"size\":10,\"solidity\":0.2}},\"type\":\"barpolar\"}],\"bar\":[{\"error_x\":{\"color\":\"#2a3f5f\"},\"error_y\":{\"color\":\"#2a3f5f\"},\"marker\":{\"line\":{\"color\":\"#E5ECF6\",\"width\":0.5},\"pattern\":{\"fillmode\":\"overlay\",\"size\":10,\"solidity\":0.2}},\"type\":\"bar\"}],\"carpet\":[{\"aaxis\":{\"endlinecolor\":\"#2a3f5f\",\"gridcolor\":\"white\",\"linecolor\":\"white\",\"minorgridcolor\":\"white\",\"startlinecolor\":\"#2a3f5f\"},\"baxis\":{\"endlinecolor\":\"#2a3f5f\",\"gridcolor\":\"white\",\"linecolor\":\"white\",\"minorgridcolor\":\"white\",\"startlinecolor\":\"#2a3f5f\"},\"type\":\"carpet\"}],\"choropleth\":[{\"colorbar\":{\"outlinewidth\":0,\"ticks\":\"\"},\"type\":\"choropleth\"}],\"contourcarpet\":[{\"colorbar\":{\"outlinewidth\":0,\"ticks\":\"\"},\"type\":\"contourcarpet\"}],\"contour\":[{\"colorbar\":{\"outlinewidth\":0,\"ticks\":\"\"},\"colorscale\":[[0.0,\"#0d0887\"],[0.1111111111111111,\"#46039f\"],[0.2222222222222222,\"#7201a8\"],[0.3333333333333333,\"#9c179e\"],[0.4444444444444444,\"#bd3786\"],[0.5555555555555556,\"#d8576b\"],[0.6666666666666666,\"#ed7953\"],[0.7777777777777778,\"#fb9f3a\"],[0.8888888888888888,\"#fdca26\"],[1.0,\"#f0f921\"]],\"type\":\"contour\"}],\"heatmapgl\":[{\"colorbar\":{\"outlinewidth\":0,\"ticks\":\"\"},\"colorscale\":[[0.0,\"#0d0887\"],[0.1111111111111111,\"#46039f\"],[0.2222222222222222,\"#7201a8\"],[0.3333333333333333,\"#9c179e\"],[0.4444444444444444,\"#bd3786\"],[0.5555555555555556,\"#d8576b\"],[0.6666666666666666,\"#ed7953\"],[0.7777777777777778,\"#fb9f3a\"],[0.8888888888888888,\"#fdca26\"],[1.0,\"#f0f921\"]],\"type\":\"heatmapgl\"}],\"heatmap\":[{\"colorbar\":{\"outlinewidth\":0,\"ticks\":\"\"},\"colorscale\":[[0.0,\"#0d0887\"],[0.1111111111111111,\"#46039f\"],[0.2222222222222222,\"#7201a8\"],[0.3333333333333333,\"#9c179e\"],[0.4444444444444444,\"#bd3786\"],[0.5555555555555556,\"#d8576b\"],[0.6666666666666666,\"#ed7953\"],[0.7777777777777778,\"#fb9f3a\"],[0.8888888888888888,\"#fdca26\"],[1.0,\"#f0f921\"]],\"type\":\"heatmap\"}],\"histogram2dcontour\":[{\"colorbar\":{\"outlinewidth\":0,\"ticks\":\"\"},\"colorscale\":[[0.0,\"#0d0887\"],[0.1111111111111111,\"#46039f\"],[0.2222222222222222,\"#7201a8\"],[0.3333333333333333,\"#9c179e\"],[0.4444444444444444,\"#bd3786\"],[0.5555555555555556,\"#d8576b\"],[0.6666666666666666,\"#ed7953\"],[0.7777777777777778,\"#fb9f3a\"],[0.8888888888888888,\"#fdca26\"],[1.0,\"#f0f921\"]],\"type\":\"histogram2dcontour\"}],\"histogram2d\":[{\"colorbar\":{\"outlinewidth\":0,\"ticks\":\"\"},\"colorscale\":[[0.0,\"#0d0887\"],[0.1111111111111111,\"#46039f\"],[0.2222222222222222,\"#7201a8\"],[0.3333333333333333,\"#9c179e\"],[0.4444444444444444,\"#bd3786\"],[0.5555555555555556,\"#d8576b\"],[0.6666666666666666,\"#ed7953\"],[0.7777777777777778,\"#fb9f3a\"],[0.8888888888888888,\"#fdca26\"],[1.0,\"#f0f921\"]],\"type\":\"histogram2d\"}],\"histogram\":[{\"marker\":{\"pattern\":{\"fillmode\":\"overlay\",\"size\":10,\"solidity\":0.2}},\"type\":\"histogram\"}],\"mesh3d\":[{\"colorbar\":{\"outlinewidth\":0,\"ticks\":\"\"},\"type\":\"mesh3d\"}],\"parcoords\":[{\"line\":{\"colorbar\":{\"outlinewidth\":0,\"ticks\":\"\"}},\"type\":\"parcoords\"}],\"pie\":[{\"automargin\":true,\"type\":\"pie\"}],\"scatter3d\":[{\"line\":{\"colorbar\":{\"outlinewidth\":0,\"ticks\":\"\"}},\"marker\":{\"colorbar\":{\"outlinewidth\":0,\"ticks\":\"\"}},\"type\":\"scatter3d\"}],\"scattercarpet\":[{\"marker\":{\"colorbar\":{\"outlinewidth\":0,\"ticks\":\"\"}},\"type\":\"scattercarpet\"}],\"scattergeo\":[{\"marker\":{\"colorbar\":{\"outlinewidth\":0,\"ticks\":\"\"}},\"type\":\"scattergeo\"}],\"scattergl\":[{\"marker\":{\"colorbar\":{\"outlinewidth\":0,\"ticks\":\"\"}},\"type\":\"scattergl\"}],\"scattermapbox\":[{\"marker\":{\"colorbar\":{\"outlinewidth\":0,\"ticks\":\"\"}},\"type\":\"scattermapbox\"}],\"scatterpolargl\":[{\"marker\":{\"colorbar\":{\"outlinewidth\":0,\"ticks\":\"\"}},\"type\":\"scatterpolargl\"}],\"scatterpolar\":[{\"marker\":{\"colorbar\":{\"outlinewidth\":0,\"ticks\":\"\"}},\"type\":\"scatterpolar\"}],\"scatter\":[{\"marker\":{\"colorbar\":{\"outlinewidth\":0,\"ticks\":\"\"}},\"type\":\"scatter\"}],\"scatterternary\":[{\"marker\":{\"colorbar\":{\"outlinewidth\":0,\"ticks\":\"\"}},\"type\":\"scatterternary\"}],\"surface\":[{\"colorbar\":{\"outlinewidth\":0,\"ticks\":\"\"},\"colorscale\":[[0.0,\"#0d0887\"],[0.1111111111111111,\"#46039f\"],[0.2222222222222222,\"#7201a8\"],[0.3333333333333333,\"#9c179e\"],[0.4444444444444444,\"#bd3786\"],[0.5555555555555556,\"#d8576b\"],[0.6666666666666666,\"#ed7953\"],[0.7777777777777778,\"#fb9f3a\"],[0.8888888888888888,\"#fdca26\"],[1.0,\"#f0f921\"]],\"type\":\"surface\"}],\"table\":[{\"cells\":{\"fill\":{\"color\":\"#EBF0F8\"},\"line\":{\"color\":\"white\"}},\"header\":{\"fill\":{\"color\":\"#C8D4E3\"},\"line\":{\"color\":\"white\"}},\"type\":\"table\"}]},\"layout\":{\"annotationdefaults\":{\"arrowcolor\":\"#2a3f5f\",\"arrowhead\":0,\"arrowwidth\":1},\"autotypenumbers\":\"strict\",\"coloraxis\":{\"colorbar\":{\"outlinewidth\":0,\"ticks\":\"\"}},\"colorscale\":{\"diverging\":[[0,\"#8e0152\"],[0.1,\"#c51b7d\"],[0.2,\"#de77ae\"],[0.3,\"#f1b6da\"],[0.4,\"#fde0ef\"],[0.5,\"#f7f7f7\"],[0.6,\"#e6f5d0\"],[0.7,\"#b8e186\"],[0.8,\"#7fbc41\"],[0.9,\"#4d9221\"],[1,\"#276419\"]],\"sequential\":[[0.0,\"#0d0887\"],[0.1111111111111111,\"#46039f\"],[0.2222222222222222,\"#7201a8\"],[0.3333333333333333,\"#9c179e\"],[0.4444444444444444,\"#bd3786\"],[0.5555555555555556,\"#d8576b\"],[0.6666666666666666,\"#ed7953\"],[0.7777777777777778,\"#fb9f3a\"],[0.8888888888888888,\"#fdca26\"],[1.0,\"#f0f921\"]],\"sequentialminus\":[[0.0,\"#0d0887\"],[0.1111111111111111,\"#46039f\"],[0.2222222222222222,\"#7201a8\"],[0.3333333333333333,\"#9c179e\"],[0.4444444444444444,\"#bd3786\"],[0.5555555555555556,\"#d8576b\"],[0.6666666666666666,\"#ed7953\"],[0.7777777777777778,\"#fb9f3a\"],[0.8888888888888888,\"#fdca26\"],[1.0,\"#f0f921\"]]},\"colorway\":[\"#636efa\",\"#EF553B\",\"#00cc96\",\"#ab63fa\",\"#FFA15A\",\"#19d3f3\",\"#FF6692\",\"#B6E880\",\"#FF97FF\",\"#FECB52\"],\"font\":{\"color\":\"#2a3f5f\"},\"geo\":{\"bgcolor\":\"white\",\"lakecolor\":\"white\",\"landcolor\":\"#E5ECF6\",\"showlakes\":true,\"showland\":true,\"subunitcolor\":\"white\"},\"hoverlabel\":{\"align\":\"left\"},\"hovermode\":\"closest\",\"mapbox\":{\"style\":\"light\"},\"paper_bgcolor\":\"white\",\"plot_bgcolor\":\"#E5ECF6\",\"polar\":{\"angularaxis\":{\"gridcolor\":\"white\",\"linecolor\":\"white\",\"ticks\":\"\"},\"bgcolor\":\"#E5ECF6\",\"radialaxis\":{\"gridcolor\":\"white\",\"linecolor\":\"white\",\"ticks\":\"\"}},\"scene\":{\"xaxis\":{\"backgroundcolor\":\"#E5ECF6\",\"gridcolor\":\"white\",\"gridwidth\":2,\"linecolor\":\"white\",\"showbackground\":true,\"ticks\":\"\",\"zerolinecolor\":\"white\"},\"yaxis\":{\"backgroundcolor\":\"#E5ECF6\",\"gridcolor\":\"white\",\"gridwidth\":2,\"linecolor\":\"white\",\"showbackground\":true,\"ticks\":\"\",\"zerolinecolor\":\"white\"},\"zaxis\":{\"backgroundcolor\":\"#E5ECF6\",\"gridcolor\":\"white\",\"gridwidth\":2,\"linecolor\":\"white\",\"showbackground\":true,\"ticks\":\"\",\"zerolinecolor\":\"white\"}},\"shapedefaults\":{\"line\":{\"color\":\"#2a3f5f\"}},\"ternary\":{\"aaxis\":{\"gridcolor\":\"white\",\"linecolor\":\"white\",\"ticks\":\"\"},\"baxis\":{\"gridcolor\":\"white\",\"linecolor\":\"white\",\"ticks\":\"\"},\"bgcolor\":\"#E5ECF6\",\"caxis\":{\"gridcolor\":\"white\",\"linecolor\":\"white\",\"ticks\":\"\"}},\"title\":{\"x\":0.05},\"xaxis\":{\"automargin\":true,\"gridcolor\":\"white\",\"linecolor\":\"white\",\"ticks\":\"\",\"title\":{\"standoff\":15},\"zerolinecolor\":\"white\",\"zerolinewidth\":2},\"yaxis\":{\"automargin\":true,\"gridcolor\":\"white\",\"linecolor\":\"white\",\"ticks\":\"\",\"title\":{\"standoff\":15},\"zerolinecolor\":\"white\",\"zerolinewidth\":2}}},\"title\":{\"text\":\"XGBoost Model Forcasting with initial parameters\"},\"xaxis\":{\"title\":{\"text\":\"Date\"}},\"yaxis\":{\"title\":{\"text\":\"Weekly_Sales_XGB1\"}}},                        {\"responsive\": true}                    ).then(function(){\n",
              "                            \n",
              "var gd = document.getElementById('a8e4cc98-4d66-47a3-bef3-493684b6357a');\n",
              "var x = new MutationObserver(function (mutations, observer) {{\n",
              "        var display = window.getComputedStyle(gd).display;\n",
              "        if (!display || display === 'none') {{\n",
              "            console.log([gd, 'removed!']);\n",
              "            Plotly.purge(gd);\n",
              "            observer.disconnect();\n",
              "        }}\n",
              "}});\n",
              "\n",
              "// Listen for the removal of the full notebook cells\n",
              "var notebookContainer = gd.closest('#notebook-container');\n",
              "if (notebookContainer) {{\n",
              "    x.observe(notebookContainer, {childList: true});\n",
              "}}\n",
              "\n",
              "// Listen for the clearing of the current output cell\n",
              "var outputEl = gd.closest('.output');\n",
              "if (outputEl) {{\n",
              "    x.observe(outputEl, {childList: true});\n",
              "}}\n",
              "\n",
              "                        })                };                            </script>        </div>\n",
              "</body>\n",
              "</html>"
            ]
          },
          "metadata": {}
        }
      ]
    },
    {
      "cell_type": "markdown",
      "source": [
        "# **XGBoost Hyper Parameter tunning**"
      ],
      "metadata": {
        "id": "AEU_OhYoxTGC"
      }
    },
    {
      "cell_type": "code",
      "source": [
        "def xgb_hyper_parameter(param_name, param_values):\n",
        "    test_pred_error= []\n",
        "    for value in param_values:\n",
        "        params = {param_name: value}\n",
        "        model2 = XGBRegressor(random_state=42, n_jobs=-1, **params).fit(X_train, y_train)\n",
        "        model2_test_preds = model2.predict(X_test)\n",
        "        MAPE_test_pred = metrics.mean_absolute_percentage_error(y_test, model2_test_preds)\n",
        "        test_pred_error.append(MAPE_test_pred)\n",
        "    min_MAPE=min(test_pred_error)\n",
        "    best_param = param_values[test_pred_error.index(min_MAPE)]\n",
        "    return best_param"
      ],
      "metadata": {
        "id": "XDatvz85ZCdr"
      },
      "execution_count": null,
      "outputs": []
    },
    {
      "cell_type": "code",
      "source": [
        "hyper_n_estimators=xgb_hyper_parameter('n_estimators', [200, 300, 400, 500])\n",
        "hyper_max_depth=xgb_hyper_parameter('max_depth', [5, 10, 15, 20])\n",
        "hyper_min_depth=xgb_hyper_parameter('min_child_weight', [5,6,7,8])\n",
        "hyper_learning_rate=xgb_hyper_parameter('learning_rate', [0.4, 0.6, 0.8, 0.9])\n",
        "hyper_subsample=xgb_hyper_parameter('subsample', [0.7,0.8, 0.9,1.0])\n",
        "hyper_colsample=xgb_hyper_parameter('colsample_bytree', [0.7,0.8, 0.9,1.0])\n"
      ],
      "metadata": {
        "colab": {
          "base_uri": "https://localhost:8080/"
        },
        "id": "POHI31v7ZFbq",
        "outputId": "a6ca71d9-9a10-4665-c4d3-694e53b9f619"
      },
      "execution_count": null,
      "outputs": [
        {
          "output_type": "stream",
          "name": "stdout",
          "text": [
            "[21:38:14] WARNING: /workspace/src/objective/regression_obj.cu:152: reg:linear is now deprecated in favor of reg:squarederror.\n",
            "[21:38:34] WARNING: /workspace/src/objective/regression_obj.cu:152: reg:linear is now deprecated in favor of reg:squarederror.\n",
            "[21:39:02] WARNING: /workspace/src/objective/regression_obj.cu:152: reg:linear is now deprecated in favor of reg:squarederror.\n",
            "[21:39:40] WARNING: /workspace/src/objective/regression_obj.cu:152: reg:linear is now deprecated in favor of reg:squarederror.\n",
            "[21:40:26] WARNING: /workspace/src/objective/regression_obj.cu:152: reg:linear is now deprecated in favor of reg:squarederror.\n",
            "[21:40:41] WARNING: /workspace/src/objective/regression_obj.cu:152: reg:linear is now deprecated in favor of reg:squarederror.\n",
            "[21:41:17] WARNING: /workspace/src/objective/regression_obj.cu:152: reg:linear is now deprecated in favor of reg:squarederror.\n",
            "[21:42:18] WARNING: /workspace/src/objective/regression_obj.cu:152: reg:linear is now deprecated in favor of reg:squarederror.\n",
            "[21:43:54] WARNING: /workspace/src/objective/regression_obj.cu:152: reg:linear is now deprecated in favor of reg:squarederror.\n",
            "[21:44:04] WARNING: /workspace/src/objective/regression_obj.cu:152: reg:linear is now deprecated in favor of reg:squarederror.\n",
            "[21:44:14] WARNING: /workspace/src/objective/regression_obj.cu:152: reg:linear is now deprecated in favor of reg:squarederror.\n",
            "[21:44:23] WARNING: /workspace/src/objective/regression_obj.cu:152: reg:linear is now deprecated in favor of reg:squarederror.\n",
            "[21:44:33] WARNING: /workspace/src/objective/regression_obj.cu:152: reg:linear is now deprecated in favor of reg:squarederror.\n",
            "[21:44:42] WARNING: /workspace/src/objective/regression_obj.cu:152: reg:linear is now deprecated in favor of reg:squarederror.\n",
            "[21:44:52] WARNING: /workspace/src/objective/regression_obj.cu:152: reg:linear is now deprecated in favor of reg:squarederror.\n",
            "[21:45:02] WARNING: /workspace/src/objective/regression_obj.cu:152: reg:linear is now deprecated in favor of reg:squarederror.\n",
            "[21:45:12] WARNING: /workspace/src/objective/regression_obj.cu:152: reg:linear is now deprecated in favor of reg:squarederror.\n",
            "[21:45:23] WARNING: /workspace/src/objective/regression_obj.cu:152: reg:linear is now deprecated in favor of reg:squarederror.\n",
            "[21:45:34] WARNING: /workspace/src/objective/regression_obj.cu:152: reg:linear is now deprecated in favor of reg:squarederror.\n",
            "[21:45:44] WARNING: /workspace/src/objective/regression_obj.cu:152: reg:linear is now deprecated in favor of reg:squarederror.\n",
            "[21:45:54] WARNING: /workspace/src/objective/regression_obj.cu:152: reg:linear is now deprecated in favor of reg:squarederror.\n",
            "[21:46:01] WARNING: /workspace/src/objective/regression_obj.cu:152: reg:linear is now deprecated in favor of reg:squarederror.\n",
            "[21:46:10] WARNING: /workspace/src/objective/regression_obj.cu:152: reg:linear is now deprecated in favor of reg:squarederror.\n",
            "[21:46:18] WARNING: /workspace/src/objective/regression_obj.cu:152: reg:linear is now deprecated in favor of reg:squarederror.\n"
          ]
        }
      ]
    },
    {
      "cell_type": "markdown",
      "source": [
        "# Best Parameters"
      ],
      "metadata": {
        "id": "tyKuJMwzO-f3"
      }
    },
    {
      "cell_type": "code",
      "source": [
        "print(' n_estimators :',hyper_n_estimators,\"\\n\",\n",
        "      \"max_depth :\", hyper_max_depth,\"\\n\", \n",
        "      \"min_child_weight :\",hyper_min_depth,\"\\n\",\n",
        "      \"learning_rate :\",hyper_learning_rate,\"\\n\",\n",
        "      \"subsample :\",hyper_subsample,\"\\n\",\n",
        "      \"colsample_bytree :\",hyper_colsample)"
      ],
      "metadata": {
        "colab": {
          "base_uri": "https://localhost:8080/"
        },
        "id": "vgbnCZmSj9o3",
        "outputId": "e8241e56-3f10-415a-c7f6-5c9dc7e5e794"
      },
      "execution_count": null,
      "outputs": [
        {
          "output_type": "stream",
          "name": "stdout",
          "text": [
            " n_estimators : 500 \n",
            " max_depth : 20 \n",
            " min_child_weight : 5 \n",
            " learning_rate : 0.9 \n",
            " subsample : 0.9 \n",
            " colsample_bytree : 1.0\n"
          ]
        }
      ]
    },
    {
      "cell_type": "code",
      "source": [
        "model2 = XGBRegressor(random_state=42, n_jobs=-1, n_estimators=hyper_n_estimators, max_depth=hyper_max_depth, learning_rate=hyper_learning_rate,\n",
        "                      min_child_weight=hyper_min_depth , subsample=hyper_subsample , colsample_bytree=hyper_colsample)\n",
        "model2.fit(X_train, y_train)\n",
        "model2_train_preds = model2.predict(X_train)\n",
        "model2_test_preds = model2.predict(X_test)"
      ],
      "metadata": {
        "colab": {
          "base_uri": "https://localhost:8080/"
        },
        "id": "2BgTt9KqZOu6",
        "outputId": "536600d5-9457-4e3d-bd2c-eca585ce9e14"
      },
      "execution_count": null,
      "outputs": [
        {
          "output_type": "stream",
          "name": "stdout",
          "text": [
            "[21:46:28] WARNING: /workspace/src/objective/regression_obj.cu:152: reg:linear is now deprecated in favor of reg:squarederror.\n"
          ]
        }
      ]
    },
    {
      "cell_type": "code",
      "source": [
        "\n",
        "print('Mean Absolute Error for train (MAE): ', metrics.mean_absolute_error(y_train, model2_train_preds))\n",
        "print('Mean Absolute Error for test(MAE) :', metrics.mean_absolute_error(y_test, model2_test_preds))\n"
      ],
      "metadata": {
        "colab": {
          "base_uri": "https://localhost:8080/"
        },
        "outputId": "6b69e015-8469-4312-a034-ee72e779bc14",
        "id": "G73aAMUvLk2e"
      },
      "execution_count": null,
      "outputs": [
        {
          "output_type": "stream",
          "name": "stdout",
          "text": [
            "Mean Absolute Error for train (MAE):  0.39893856097018854\n",
            "Mean Absolute Error for test(MAE) : 1684.2046400310505\n"
          ]
        }
      ]
    },
    {
      "cell_type": "code",
      "source": [
        "\n",
        "forcasting_train['Weekly_Sales_XGB2']=model2.predict(X)\n",
        "daily_sales_XGB2 = forcasting_train.groupby('Date', as_index=False)['Weekly_Sales_XGB2'].sum()\n",
        "\n",
        "plot1 = go.Scatter(x=Overall_Weekly_sales['Date'], y=Overall_Weekly_sales['Weekly_Sales'],name=\"Training set\")\n",
        "layout = go.Layout(title='Weekly sales', xaxis=dict(title='Date'), yaxis=dict(title='Weekly_Sales'))\n",
        "\n",
        "plot2 = go.Scatter(x=daily_sales_XGB2['Date'], y=daily_sales_XGB2['Weekly_Sales_XGB2'],name=\"XGBoost2\")\n",
        "layout = go.Layout(title='XGBoost Model Forcasting with hyper parameters', xaxis=dict(title='Date'), yaxis=dict(title='Weekly_Sales_XGB2'))\n",
        "\n",
        "fig = go.Figure(data=[plot1,plot2], layout=layout)\n",
        "iplot(fig)"
      ],
      "metadata": {
        "colab": {
          "base_uri": "https://localhost:8080/",
          "height": 542
        },
        "outputId": "be3218c4-a734-484b-e924-5f9d916c05ff",
        "id": "h5suHtPnYppP"
      },
      "execution_count": null,
      "outputs": [
        {
          "output_type": "display_data",
          "data": {
            "text/html": [
              "<html>\n",
              "<head><meta charset=\"utf-8\" /></head>\n",
              "<body>\n",
              "    <div>            <script src=\"https://cdnjs.cloudflare.com/ajax/libs/mathjax/2.7.5/MathJax.js?config=TeX-AMS-MML_SVG\"></script><script type=\"text/javascript\">if (window.MathJax) {MathJax.Hub.Config({SVG: {font: \"STIX-Web\"}});}</script>                <script type=\"text/javascript\">window.PlotlyConfig = {MathJaxConfig: 'local'};</script>\n",
              "        <script src=\"https://cdn.plot.ly/plotly-2.8.3.min.js\"></script>                <div id=\"45c4c2a5-5b26-4db2-9bfb-9e2b2316750a\" class=\"plotly-graph-div\" style=\"height:525px; width:100%;\"></div>            <script type=\"text/javascript\">                                    window.PLOTLYENV=window.PLOTLYENV || {};                                    if (document.getElementById(\"45c4c2a5-5b26-4db2-9bfb-9e2b2316750a\")) {                    Plotly.newPlot(                        \"45c4c2a5-5b26-4db2-9bfb-9e2b2316750a\",                        [{\"name\":\"Training set\",\"x\":[\"2010-02-05\",\"2010-02-12\",\"2010-02-19\",\"2010-02-26\",\"2010-03-05\",\"2010-03-12\",\"2010-03-19\",\"2010-03-26\",\"2010-04-02\",\"2010-04-09\",\"2010-04-16\",\"2010-04-23\",\"2010-04-30\",\"2010-05-07\",\"2010-05-14\",\"2010-05-21\",\"2010-05-28\",\"2010-06-04\",\"2010-06-11\",\"2010-06-18\",\"2010-06-25\",\"2010-07-02\",\"2010-07-09\",\"2010-07-16\",\"2010-07-23\",\"2010-07-30\",\"2010-08-06\",\"2010-08-13\",\"2010-08-20\",\"2010-08-27\",\"2010-09-03\",\"2010-09-10\",\"2010-09-17\",\"2010-09-24\",\"2010-10-01\",\"2010-10-08\",\"2010-10-15\",\"2010-10-22\",\"2010-10-29\",\"2010-11-05\",\"2010-11-12\",\"2010-11-19\",\"2010-11-26\",\"2010-12-03\",\"2010-12-10\",\"2010-12-17\",\"2010-12-24\",\"2010-12-31\",\"2011-01-07\",\"2011-01-14\",\"2011-01-21\",\"2011-01-28\",\"2011-02-04\",\"2011-02-11\",\"2011-02-18\",\"2011-02-25\",\"2011-03-04\",\"2011-03-11\",\"2011-03-18\",\"2011-03-25\",\"2011-04-01\",\"2011-04-08\",\"2011-04-15\",\"2011-04-22\",\"2011-04-29\",\"2011-05-06\",\"2011-05-13\",\"2011-05-20\",\"2011-05-27\",\"2011-06-03\",\"2011-06-10\",\"2011-06-17\",\"2011-06-24\",\"2011-07-01\",\"2011-07-08\",\"2011-07-15\",\"2011-07-22\",\"2011-07-29\",\"2011-08-05\",\"2011-08-12\",\"2011-08-19\",\"2011-08-26\",\"2011-09-02\",\"2011-09-09\",\"2011-09-16\",\"2011-09-23\",\"2011-09-30\",\"2011-10-07\",\"2011-10-14\",\"2011-10-21\",\"2011-10-28\",\"2011-11-04\",\"2011-11-11\",\"2011-11-18\",\"2011-11-25\",\"2011-12-02\",\"2011-12-09\",\"2011-12-16\",\"2011-12-23\",\"2011-12-30\",\"2012-01-06\",\"2012-01-13\",\"2012-01-20\",\"2012-01-27\",\"2012-02-03\",\"2012-02-10\",\"2012-02-17\",\"2012-02-24\",\"2012-03-02\",\"2012-03-09\",\"2012-03-16\",\"2012-03-23\",\"2012-03-30\",\"2012-04-06\",\"2012-04-13\",\"2012-04-20\",\"2012-04-27\",\"2012-05-04\",\"2012-05-11\",\"2012-05-18\",\"2012-05-25\",\"2012-06-01\",\"2012-06-08\",\"2012-06-15\",\"2012-06-22\",\"2012-06-29\",\"2012-07-06\",\"2012-07-13\",\"2012-07-20\",\"2012-07-27\",\"2012-08-03\",\"2012-08-10\",\"2012-08-17\",\"2012-08-24\",\"2012-08-31\",\"2012-09-07\",\"2012-09-14\",\"2012-09-21\",\"2012-09-28\",\"2012-10-05\",\"2012-10-12\",\"2012-10-19\",\"2012-10-26\"],\"y\":[49750740.5,48336677.63,48276993.78,43968571.13,46871470.3,45925396.51,44988974.64,44133961.05,50423831.26,47365290.44,45183667.08,44734452.56,43705126.71,48503243.52,45330080.2,45120108.06,47757502.56,50188543.12,47826546.72,47622046.23,46609036.29,48917484.5,47899529.37,46243899.58,44888849.11,44630363.42,48204999.12,46464418.410000004,47060952.92,45909740.44,47194257.61,45634397.84,43080726.51,41358514.41,42239875.87,45102974.23,43149473.45,43066669.52,43602830.95,45781981.89,46124800.83,45125584.18,65821003.24,49909027.88,55666770.39,61820799.85,80931415.6,40432519.0,42775787.77,40673678.04,40654648.03,39599852.99,46153111.12,47336192.79,48716164.12,44125859.84,46980603.74,44627319.4,44872325.97,42876199.18,43458991.19,45887466.8,44973328.14,48676692.06,43530032.78,46861958.29,45446144.82,44046598.01,45293457.04,48771994.18,47669734.66,47447561.77,45884094.58,47578519.5,47859263.78,45515929.92,45274411.39,43683274.28,48015466.97,46249569.21,46917347.62,47416948.45,45376623.27,46763227.53,43793960.08,42718096.73,42195830.81,47211688.36,44374820.3,45818953.44,45855821.05,48655544.3,48474224.75,46438980.56,66593605.26,49390556.49,55561147.7,60085695.94,76998241.31,46042461.04,44955421.95,42023078.48,42080996.56,39834974.67,46085608.09,50009407.92,50197056.96,45771506.57,46861034.97,47480454.11,46901504.94,44993794.45,45272862.02,53502315.87,46629261.41,45072529.78,43716798.89,47124197.93,46925878.99,46823939.22,47892463.31,48281649.72,49651171.78,48412110.7,47668284.97,46597112.12,51253021.88,46099732.1,46059543.45,44097154.97,47485899.56,47403451.04,47354452.05,47447323.6,47159639.43,48330059.31,44226038.65,44354547.11,43734899.4,47566639.31,46128514.25,45122410.57,45544116.29],\"type\":\"scatter\"},{\"name\":\"XGBoost2\",\"x\":[\"2010-02-05\",\"2010-02-12\",\"2010-02-19\",\"2010-02-26\",\"2010-03-05\",\"2010-03-12\",\"2010-03-19\",\"2010-03-26\",\"2010-04-02\",\"2010-04-09\",\"2010-04-16\",\"2010-04-23\",\"2010-04-30\",\"2010-05-07\",\"2010-05-14\",\"2010-05-21\",\"2010-05-28\",\"2010-06-04\",\"2010-06-11\",\"2010-06-18\",\"2010-06-25\",\"2010-07-02\",\"2010-07-09\",\"2010-07-16\",\"2010-07-23\",\"2010-07-30\",\"2010-08-06\",\"2010-08-13\",\"2010-08-20\",\"2010-08-27\",\"2010-09-03\",\"2010-09-10\",\"2010-09-17\",\"2010-09-24\",\"2010-10-01\",\"2010-10-08\",\"2010-10-15\",\"2010-10-22\",\"2010-10-29\",\"2010-11-05\",\"2010-11-12\",\"2010-11-19\",\"2010-11-26\",\"2010-12-03\",\"2010-12-10\",\"2010-12-17\",\"2010-12-24\",\"2010-12-31\",\"2011-01-07\",\"2011-01-14\",\"2011-01-21\",\"2011-01-28\",\"2011-02-04\",\"2011-02-11\",\"2011-02-18\",\"2011-02-25\",\"2011-03-04\",\"2011-03-11\",\"2011-03-18\",\"2011-03-25\",\"2011-04-01\",\"2011-04-08\",\"2011-04-15\",\"2011-04-22\",\"2011-04-29\",\"2011-05-06\",\"2011-05-13\",\"2011-05-20\",\"2011-05-27\",\"2011-06-03\",\"2011-06-10\",\"2011-06-17\",\"2011-06-24\",\"2011-07-01\",\"2011-07-08\",\"2011-07-15\",\"2011-07-22\",\"2011-07-29\",\"2011-08-05\",\"2011-08-12\",\"2011-08-19\",\"2011-08-26\",\"2011-09-02\",\"2011-09-09\",\"2011-09-16\",\"2011-09-23\",\"2011-09-30\",\"2011-10-07\",\"2011-10-14\",\"2011-10-21\",\"2011-10-28\",\"2011-11-04\",\"2011-11-11\",\"2011-11-18\",\"2011-11-25\",\"2011-12-02\",\"2011-12-09\",\"2011-12-16\",\"2011-12-23\",\"2011-12-30\",\"2012-01-06\",\"2012-01-13\",\"2012-01-20\",\"2012-01-27\",\"2012-02-03\",\"2012-02-10\",\"2012-02-17\",\"2012-02-24\",\"2012-03-02\",\"2012-03-09\",\"2012-03-16\",\"2012-03-23\",\"2012-03-30\",\"2012-04-06\",\"2012-04-13\",\"2012-04-20\",\"2012-04-27\",\"2012-05-04\",\"2012-05-11\",\"2012-05-18\",\"2012-05-25\",\"2012-06-01\",\"2012-06-08\",\"2012-06-15\",\"2012-06-22\",\"2012-06-29\",\"2012-07-06\",\"2012-07-13\",\"2012-07-20\",\"2012-07-27\",\"2012-08-03\",\"2012-08-10\",\"2012-08-17\",\"2012-08-24\",\"2012-08-31\",\"2012-09-07\",\"2012-09-14\",\"2012-09-21\",\"2012-09-28\",\"2012-10-05\",\"2012-10-12\",\"2012-10-19\",\"2012-10-26\"],\"y\":[49660768.0,48238776.0,48236928.0,43940176.0,46905732.0,45821084.0,45064304.0,44279056.0,50035884.0,47374256.0,45082848.0,44861124.0,43657656.0,48435632.0,45455780.0,45088992.0,47727868.0,50143484.0,47930864.0,47508688.0,46616696.0,48928440.0,47857112.0,46186620.0,44826976.0,44693596.0,48118232.0,46421996.0,47008740.0,46080200.0,47129788.0,45707100.0,43076472.0,41520580.0,42226732.0,45086472.0,43171528.0,43002952.0,43767168.0,45800468.0,46135440.0,45123328.0,65848016.0,49733184.0,55478008.0,61601848.0,80229840.0,40374944.0,42701880.0,40667996.0,40649336.0,39462200.0,46089692.0,47495372.0,48643912.0,44217664.0,46798728.0,44597636.0,44962100.0,42832064.0,43533536.0,46146668.0,45171732.0,48290304.0,43631172.0,46864964.0,45506736.0,44170076.0,45284852.0,48786024.0,47545680.0,47496548.0,46029844.0,47523472.0,47899476.0,45538828.0,45174840.0,43715908.0,47854072.0,46168760.0,47009556.0,47239476.0,45354476.0,46787892.0,43830188.0,42794908.0,42237092.0,47172864.0,44434556.0,45754164.0,45975040.0,48455152.0,48524388.0,46329172.0,67180768.0,49359268.0,55522260.0,60378492.0,76287064.0,45837996.0,44933704.0,41999212.0,41971860.0,39980816.0,46060184.0,49936844.0,49957668.0,45908100.0,46994252.0,47263492.0,46677660.0,45033644.0,45468064.0,53441116.0,46594000.0,44966336.0,43765116.0,47064996.0,46956328.0,46859324.0,47784684.0,48333076.0,49567368.0,48224616.0,47801172.0,46823976.0,51072468.0,46029640.0,45959136.0,44244556.0,47501644.0,47339244.0,47395192.0,47332792.0,47265336.0,48589228.0,44176820.0,44220308.0,43715824.0,47582180.0,46195844.0,45086100.0,45428136.0],\"type\":\"scatter\"}],                        {\"template\":{\"data\":{\"barpolar\":[{\"marker\":{\"line\":{\"color\":\"#E5ECF6\",\"width\":0.5},\"pattern\":{\"fillmode\":\"overlay\",\"size\":10,\"solidity\":0.2}},\"type\":\"barpolar\"}],\"bar\":[{\"error_x\":{\"color\":\"#2a3f5f\"},\"error_y\":{\"color\":\"#2a3f5f\"},\"marker\":{\"line\":{\"color\":\"#E5ECF6\",\"width\":0.5},\"pattern\":{\"fillmode\":\"overlay\",\"size\":10,\"solidity\":0.2}},\"type\":\"bar\"}],\"carpet\":[{\"aaxis\":{\"endlinecolor\":\"#2a3f5f\",\"gridcolor\":\"white\",\"linecolor\":\"white\",\"minorgridcolor\":\"white\",\"startlinecolor\":\"#2a3f5f\"},\"baxis\":{\"endlinecolor\":\"#2a3f5f\",\"gridcolor\":\"white\",\"linecolor\":\"white\",\"minorgridcolor\":\"white\",\"startlinecolor\":\"#2a3f5f\"},\"type\":\"carpet\"}],\"choropleth\":[{\"colorbar\":{\"outlinewidth\":0,\"ticks\":\"\"},\"type\":\"choropleth\"}],\"contourcarpet\":[{\"colorbar\":{\"outlinewidth\":0,\"ticks\":\"\"},\"type\":\"contourcarpet\"}],\"contour\":[{\"colorbar\":{\"outlinewidth\":0,\"ticks\":\"\"},\"colorscale\":[[0.0,\"#0d0887\"],[0.1111111111111111,\"#46039f\"],[0.2222222222222222,\"#7201a8\"],[0.3333333333333333,\"#9c179e\"],[0.4444444444444444,\"#bd3786\"],[0.5555555555555556,\"#d8576b\"],[0.6666666666666666,\"#ed7953\"],[0.7777777777777778,\"#fb9f3a\"],[0.8888888888888888,\"#fdca26\"],[1.0,\"#f0f921\"]],\"type\":\"contour\"}],\"heatmapgl\":[{\"colorbar\":{\"outlinewidth\":0,\"ticks\":\"\"},\"colorscale\":[[0.0,\"#0d0887\"],[0.1111111111111111,\"#46039f\"],[0.2222222222222222,\"#7201a8\"],[0.3333333333333333,\"#9c179e\"],[0.4444444444444444,\"#bd3786\"],[0.5555555555555556,\"#d8576b\"],[0.6666666666666666,\"#ed7953\"],[0.7777777777777778,\"#fb9f3a\"],[0.8888888888888888,\"#fdca26\"],[1.0,\"#f0f921\"]],\"type\":\"heatmapgl\"}],\"heatmap\":[{\"colorbar\":{\"outlinewidth\":0,\"ticks\":\"\"},\"colorscale\":[[0.0,\"#0d0887\"],[0.1111111111111111,\"#46039f\"],[0.2222222222222222,\"#7201a8\"],[0.3333333333333333,\"#9c179e\"],[0.4444444444444444,\"#bd3786\"],[0.5555555555555556,\"#d8576b\"],[0.6666666666666666,\"#ed7953\"],[0.7777777777777778,\"#fb9f3a\"],[0.8888888888888888,\"#fdca26\"],[1.0,\"#f0f921\"]],\"type\":\"heatmap\"}],\"histogram2dcontour\":[{\"colorbar\":{\"outlinewidth\":0,\"ticks\":\"\"},\"colorscale\":[[0.0,\"#0d0887\"],[0.1111111111111111,\"#46039f\"],[0.2222222222222222,\"#7201a8\"],[0.3333333333333333,\"#9c179e\"],[0.4444444444444444,\"#bd3786\"],[0.5555555555555556,\"#d8576b\"],[0.6666666666666666,\"#ed7953\"],[0.7777777777777778,\"#fb9f3a\"],[0.8888888888888888,\"#fdca26\"],[1.0,\"#f0f921\"]],\"type\":\"histogram2dcontour\"}],\"histogram2d\":[{\"colorbar\":{\"outlinewidth\":0,\"ticks\":\"\"},\"colorscale\":[[0.0,\"#0d0887\"],[0.1111111111111111,\"#46039f\"],[0.2222222222222222,\"#7201a8\"],[0.3333333333333333,\"#9c179e\"],[0.4444444444444444,\"#bd3786\"],[0.5555555555555556,\"#d8576b\"],[0.6666666666666666,\"#ed7953\"],[0.7777777777777778,\"#fb9f3a\"],[0.8888888888888888,\"#fdca26\"],[1.0,\"#f0f921\"]],\"type\":\"histogram2d\"}],\"histogram\":[{\"marker\":{\"pattern\":{\"fillmode\":\"overlay\",\"size\":10,\"solidity\":0.2}},\"type\":\"histogram\"}],\"mesh3d\":[{\"colorbar\":{\"outlinewidth\":0,\"ticks\":\"\"},\"type\":\"mesh3d\"}],\"parcoords\":[{\"line\":{\"colorbar\":{\"outlinewidth\":0,\"ticks\":\"\"}},\"type\":\"parcoords\"}],\"pie\":[{\"automargin\":true,\"type\":\"pie\"}],\"scatter3d\":[{\"line\":{\"colorbar\":{\"outlinewidth\":0,\"ticks\":\"\"}},\"marker\":{\"colorbar\":{\"outlinewidth\":0,\"ticks\":\"\"}},\"type\":\"scatter3d\"}],\"scattercarpet\":[{\"marker\":{\"colorbar\":{\"outlinewidth\":0,\"ticks\":\"\"}},\"type\":\"scattercarpet\"}],\"scattergeo\":[{\"marker\":{\"colorbar\":{\"outlinewidth\":0,\"ticks\":\"\"}},\"type\":\"scattergeo\"}],\"scattergl\":[{\"marker\":{\"colorbar\":{\"outlinewidth\":0,\"ticks\":\"\"}},\"type\":\"scattergl\"}],\"scattermapbox\":[{\"marker\":{\"colorbar\":{\"outlinewidth\":0,\"ticks\":\"\"}},\"type\":\"scattermapbox\"}],\"scatterpolargl\":[{\"marker\":{\"colorbar\":{\"outlinewidth\":0,\"ticks\":\"\"}},\"type\":\"scatterpolargl\"}],\"scatterpolar\":[{\"marker\":{\"colorbar\":{\"outlinewidth\":0,\"ticks\":\"\"}},\"type\":\"scatterpolar\"}],\"scatter\":[{\"marker\":{\"colorbar\":{\"outlinewidth\":0,\"ticks\":\"\"}},\"type\":\"scatter\"}],\"scatterternary\":[{\"marker\":{\"colorbar\":{\"outlinewidth\":0,\"ticks\":\"\"}},\"type\":\"scatterternary\"}],\"surface\":[{\"colorbar\":{\"outlinewidth\":0,\"ticks\":\"\"},\"colorscale\":[[0.0,\"#0d0887\"],[0.1111111111111111,\"#46039f\"],[0.2222222222222222,\"#7201a8\"],[0.3333333333333333,\"#9c179e\"],[0.4444444444444444,\"#bd3786\"],[0.5555555555555556,\"#d8576b\"],[0.6666666666666666,\"#ed7953\"],[0.7777777777777778,\"#fb9f3a\"],[0.8888888888888888,\"#fdca26\"],[1.0,\"#f0f921\"]],\"type\":\"surface\"}],\"table\":[{\"cells\":{\"fill\":{\"color\":\"#EBF0F8\"},\"line\":{\"color\":\"white\"}},\"header\":{\"fill\":{\"color\":\"#C8D4E3\"},\"line\":{\"color\":\"white\"}},\"type\":\"table\"}]},\"layout\":{\"annotationdefaults\":{\"arrowcolor\":\"#2a3f5f\",\"arrowhead\":0,\"arrowwidth\":1},\"autotypenumbers\":\"strict\",\"coloraxis\":{\"colorbar\":{\"outlinewidth\":0,\"ticks\":\"\"}},\"colorscale\":{\"diverging\":[[0,\"#8e0152\"],[0.1,\"#c51b7d\"],[0.2,\"#de77ae\"],[0.3,\"#f1b6da\"],[0.4,\"#fde0ef\"],[0.5,\"#f7f7f7\"],[0.6,\"#e6f5d0\"],[0.7,\"#b8e186\"],[0.8,\"#7fbc41\"],[0.9,\"#4d9221\"],[1,\"#276419\"]],\"sequential\":[[0.0,\"#0d0887\"],[0.1111111111111111,\"#46039f\"],[0.2222222222222222,\"#7201a8\"],[0.3333333333333333,\"#9c179e\"],[0.4444444444444444,\"#bd3786\"],[0.5555555555555556,\"#d8576b\"],[0.6666666666666666,\"#ed7953\"],[0.7777777777777778,\"#fb9f3a\"],[0.8888888888888888,\"#fdca26\"],[1.0,\"#f0f921\"]],\"sequentialminus\":[[0.0,\"#0d0887\"],[0.1111111111111111,\"#46039f\"],[0.2222222222222222,\"#7201a8\"],[0.3333333333333333,\"#9c179e\"],[0.4444444444444444,\"#bd3786\"],[0.5555555555555556,\"#d8576b\"],[0.6666666666666666,\"#ed7953\"],[0.7777777777777778,\"#fb9f3a\"],[0.8888888888888888,\"#fdca26\"],[1.0,\"#f0f921\"]]},\"colorway\":[\"#636efa\",\"#EF553B\",\"#00cc96\",\"#ab63fa\",\"#FFA15A\",\"#19d3f3\",\"#FF6692\",\"#B6E880\",\"#FF97FF\",\"#FECB52\"],\"font\":{\"color\":\"#2a3f5f\"},\"geo\":{\"bgcolor\":\"white\",\"lakecolor\":\"white\",\"landcolor\":\"#E5ECF6\",\"showlakes\":true,\"showland\":true,\"subunitcolor\":\"white\"},\"hoverlabel\":{\"align\":\"left\"},\"hovermode\":\"closest\",\"mapbox\":{\"style\":\"light\"},\"paper_bgcolor\":\"white\",\"plot_bgcolor\":\"#E5ECF6\",\"polar\":{\"angularaxis\":{\"gridcolor\":\"white\",\"linecolor\":\"white\",\"ticks\":\"\"},\"bgcolor\":\"#E5ECF6\",\"radialaxis\":{\"gridcolor\":\"white\",\"linecolor\":\"white\",\"ticks\":\"\"}},\"scene\":{\"xaxis\":{\"backgroundcolor\":\"#E5ECF6\",\"gridcolor\":\"white\",\"gridwidth\":2,\"linecolor\":\"white\",\"showbackground\":true,\"ticks\":\"\",\"zerolinecolor\":\"white\"},\"yaxis\":{\"backgroundcolor\":\"#E5ECF6\",\"gridcolor\":\"white\",\"gridwidth\":2,\"linecolor\":\"white\",\"showbackground\":true,\"ticks\":\"\",\"zerolinecolor\":\"white\"},\"zaxis\":{\"backgroundcolor\":\"#E5ECF6\",\"gridcolor\":\"white\",\"gridwidth\":2,\"linecolor\":\"white\",\"showbackground\":true,\"ticks\":\"\",\"zerolinecolor\":\"white\"}},\"shapedefaults\":{\"line\":{\"color\":\"#2a3f5f\"}},\"ternary\":{\"aaxis\":{\"gridcolor\":\"white\",\"linecolor\":\"white\",\"ticks\":\"\"},\"baxis\":{\"gridcolor\":\"white\",\"linecolor\":\"white\",\"ticks\":\"\"},\"bgcolor\":\"#E5ECF6\",\"caxis\":{\"gridcolor\":\"white\",\"linecolor\":\"white\",\"ticks\":\"\"}},\"title\":{\"x\":0.05},\"xaxis\":{\"automargin\":true,\"gridcolor\":\"white\",\"linecolor\":\"white\",\"ticks\":\"\",\"title\":{\"standoff\":15},\"zerolinecolor\":\"white\",\"zerolinewidth\":2},\"yaxis\":{\"automargin\":true,\"gridcolor\":\"white\",\"linecolor\":\"white\",\"ticks\":\"\",\"title\":{\"standoff\":15},\"zerolinecolor\":\"white\",\"zerolinewidth\":2}}},\"title\":{\"text\":\"XGBoost Model Forcasting with hyper parameters\"},\"xaxis\":{\"title\":{\"text\":\"Date\"}},\"yaxis\":{\"title\":{\"text\":\"Weekly_Sales_XGB2\"}}},                        {\"responsive\": true}                    ).then(function(){\n",
              "                            \n",
              "var gd = document.getElementById('45c4c2a5-5b26-4db2-9bfb-9e2b2316750a');\n",
              "var x = new MutationObserver(function (mutations, observer) {{\n",
              "        var display = window.getComputedStyle(gd).display;\n",
              "        if (!display || display === 'none') {{\n",
              "            console.log([gd, 'removed!']);\n",
              "            Plotly.purge(gd);\n",
              "            observer.disconnect();\n",
              "        }}\n",
              "}});\n",
              "\n",
              "// Listen for the removal of the full notebook cells\n",
              "var notebookContainer = gd.closest('#notebook-container');\n",
              "if (notebookContainer) {{\n",
              "    x.observe(notebookContainer, {childList: true});\n",
              "}}\n",
              "\n",
              "// Listen for the clearing of the current output cell\n",
              "var outputEl = gd.closest('.output');\n",
              "if (outputEl) {{\n",
              "    x.observe(outputEl, {childList: true});\n",
              "}}\n",
              "\n",
              "                        })                };                            </script>        </div>\n",
              "</body>\n",
              "</html>"
            ]
          },
          "metadata": {}
        }
      ]
    },
    {
      "cell_type": "code",
      "source": [
        "#Forcasting test set with xgboost hyper tunning\n",
        "\n",
        "forcasting_df['Weekly_Sales_XGB2']=model2.predict(test)\n",
        "forcasting_df.head()"
      ],
      "metadata": {
        "colab": {
          "base_uri": "https://localhost:8080/",
          "height": 206
        },
        "id": "AUCQUnxpu89k",
        "outputId": "296e09b3-d238-4fc4-dba0-d1ffc0f4c1a5"
      },
      "execution_count": null,
      "outputs": [
        {
          "output_type": "execute_result",
          "data": {
            "text/html": [
              "\n",
              "  <div id=\"df-9117fe0b-300a-49ab-9ff2-3d3489598334\">\n",
              "    <div class=\"colab-df-container\">\n",
              "      <div>\n",
              "<style scoped>\n",
              "    .dataframe tbody tr th:only-of-type {\n",
              "        vertical-align: middle;\n",
              "    }\n",
              "\n",
              "    .dataframe tbody tr th {\n",
              "        vertical-align: top;\n",
              "    }\n",
              "\n",
              "    .dataframe thead th {\n",
              "        text-align: right;\n",
              "    }\n",
              "</style>\n",
              "<table border=\"1\" class=\"dataframe\">\n",
              "  <thead>\n",
              "    <tr style=\"text-align: right;\">\n",
              "      <th></th>\n",
              "      <th>Store</th>\n",
              "      <th>Dept</th>\n",
              "      <th>Date</th>\n",
              "      <th>IsHoliday</th>\n",
              "      <th>Weekly_Sales_XGB1</th>\n",
              "      <th>Weekly_Sales_XGB2</th>\n",
              "    </tr>\n",
              "  </thead>\n",
              "  <tbody>\n",
              "    <tr>\n",
              "      <th>0</th>\n",
              "      <td>1</td>\n",
              "      <td>1</td>\n",
              "      <td>2012-11-02</td>\n",
              "      <td>False</td>\n",
              "      <td>25300.494141</td>\n",
              "      <td>33412.070312</td>\n",
              "    </tr>\n",
              "    <tr>\n",
              "      <th>1</th>\n",
              "      <td>1</td>\n",
              "      <td>1</td>\n",
              "      <td>2012-11-09</td>\n",
              "      <td>False</td>\n",
              "      <td>25300.494141</td>\n",
              "      <td>17766.255859</td>\n",
              "    </tr>\n",
              "    <tr>\n",
              "      <th>2</th>\n",
              "      <td>1</td>\n",
              "      <td>1</td>\n",
              "      <td>2012-11-16</td>\n",
              "      <td>False</td>\n",
              "      <td>25300.494141</td>\n",
              "      <td>18617.652344</td>\n",
              "    </tr>\n",
              "    <tr>\n",
              "      <th>3</th>\n",
              "      <td>1</td>\n",
              "      <td>1</td>\n",
              "      <td>2012-11-23</td>\n",
              "      <td>True</td>\n",
              "      <td>31682.855469</td>\n",
              "      <td>20963.351562</td>\n",
              "    </tr>\n",
              "    <tr>\n",
              "      <th>4</th>\n",
              "      <td>1</td>\n",
              "      <td>1</td>\n",
              "      <td>2012-11-30</td>\n",
              "      <td>False</td>\n",
              "      <td>31682.855469</td>\n",
              "      <td>24738.539062</td>\n",
              "    </tr>\n",
              "  </tbody>\n",
              "</table>\n",
              "</div>\n",
              "      <button class=\"colab-df-convert\" onclick=\"convertToInteractive('df-9117fe0b-300a-49ab-9ff2-3d3489598334')\"\n",
              "              title=\"Convert this dataframe to an interactive table.\"\n",
              "              style=\"display:none;\">\n",
              "        \n",
              "  <svg xmlns=\"http://www.w3.org/2000/svg\" height=\"24px\"viewBox=\"0 0 24 24\"\n",
              "       width=\"24px\">\n",
              "    <path d=\"M0 0h24v24H0V0z\" fill=\"none\"/>\n",
              "    <path d=\"M18.56 5.44l.94 2.06.94-2.06 2.06-.94-2.06-.94-.94-2.06-.94 2.06-2.06.94zm-11 1L8.5 8.5l.94-2.06 2.06-.94-2.06-.94L8.5 2.5l-.94 2.06-2.06.94zm10 10l.94 2.06.94-2.06 2.06-.94-2.06-.94-.94-2.06-.94 2.06-2.06.94z\"/><path d=\"M17.41 7.96l-1.37-1.37c-.4-.4-.92-.59-1.43-.59-.52 0-1.04.2-1.43.59L10.3 9.45l-7.72 7.72c-.78.78-.78 2.05 0 2.83L4 21.41c.39.39.9.59 1.41.59.51 0 1.02-.2 1.41-.59l7.78-7.78 2.81-2.81c.8-.78.8-2.07 0-2.86zM5.41 20L4 18.59l7.72-7.72 1.47 1.35L5.41 20z\"/>\n",
              "  </svg>\n",
              "      </button>\n",
              "      \n",
              "  <style>\n",
              "    .colab-df-container {\n",
              "      display:flex;\n",
              "      flex-wrap:wrap;\n",
              "      gap: 12px;\n",
              "    }\n",
              "\n",
              "    .colab-df-convert {\n",
              "      background-color: #E8F0FE;\n",
              "      border: none;\n",
              "      border-radius: 50%;\n",
              "      cursor: pointer;\n",
              "      display: none;\n",
              "      fill: #1967D2;\n",
              "      height: 32px;\n",
              "      padding: 0 0 0 0;\n",
              "      width: 32px;\n",
              "    }\n",
              "\n",
              "    .colab-df-convert:hover {\n",
              "      background-color: #E2EBFA;\n",
              "      box-shadow: 0px 1px 2px rgba(60, 64, 67, 0.3), 0px 1px 3px 1px rgba(60, 64, 67, 0.15);\n",
              "      fill: #174EA6;\n",
              "    }\n",
              "\n",
              "    [theme=dark] .colab-df-convert {\n",
              "      background-color: #3B4455;\n",
              "      fill: #D2E3FC;\n",
              "    }\n",
              "\n",
              "    [theme=dark] .colab-df-convert:hover {\n",
              "      background-color: #434B5C;\n",
              "      box-shadow: 0px 1px 3px 1px rgba(0, 0, 0, 0.15);\n",
              "      filter: drop-shadow(0px 1px 2px rgba(0, 0, 0, 0.3));\n",
              "      fill: #FFFFFF;\n",
              "    }\n",
              "  </style>\n",
              "\n",
              "      <script>\n",
              "        const buttonEl =\n",
              "          document.querySelector('#df-9117fe0b-300a-49ab-9ff2-3d3489598334 button.colab-df-convert');\n",
              "        buttonEl.style.display =\n",
              "          google.colab.kernel.accessAllowed ? 'block' : 'none';\n",
              "\n",
              "        async function convertToInteractive(key) {\n",
              "          const element = document.querySelector('#df-9117fe0b-300a-49ab-9ff2-3d3489598334');\n",
              "          const dataTable =\n",
              "            await google.colab.kernel.invokeFunction('convertToInteractive',\n",
              "                                                     [key], {});\n",
              "          if (!dataTable) return;\n",
              "\n",
              "          const docLinkHtml = 'Like what you see? Visit the ' +\n",
              "            '<a target=\"_blank\" href=https://colab.research.google.com/notebooks/data_table.ipynb>data table notebook</a>'\n",
              "            + ' to learn more about interactive tables.';\n",
              "          element.innerHTML = '';\n",
              "          dataTable['output_type'] = 'display_data';\n",
              "          await google.colab.output.renderOutput(dataTable, element);\n",
              "          const docLink = document.createElement('div');\n",
              "          docLink.innerHTML = docLinkHtml;\n",
              "          element.appendChild(docLink);\n",
              "        }\n",
              "      </script>\n",
              "    </div>\n",
              "  </div>\n",
              "  "
            ],
            "text/plain": [
              "   Store  Dept        Date  IsHoliday  Weekly_Sales_XGB1  Weekly_Sales_XGB2\n",
              "0      1     1  2012-11-02      False       25300.494141       33412.070312\n",
              "1      1     1  2012-11-09      False       25300.494141       17766.255859\n",
              "2      1     1  2012-11-16      False       25300.494141       18617.652344\n",
              "3      1     1  2012-11-23       True       31682.855469       20963.351562\n",
              "4      1     1  2012-11-30      False       31682.855469       24738.539062"
            ]
          },
          "metadata": {},
          "execution_count": 117
        }
      ]
    },
    {
      "cell_type": "code",
      "source": [
        "# To explore the time series data first we need to aggregate the sales by week\n",
        "daily_sales_XGB = forcasting_df.groupby('Date', as_index=False)['Weekly_Sales_XGB2'].sum()\n",
        "store_daily_sales_XGB  = forcasting_df.groupby(['Store', 'Date'], as_index=False)['Weekly_Sales_XGB2'].sum()"
      ],
      "metadata": {
        "id": "bxh1L8wmfUhk"
      },
      "execution_count": null,
      "outputs": []
    },
    {
      "cell_type": "code",
      "source": [
        "# Overall Weekly sales\n",
        "sales_plot_XGB = go.Scatter(x=daily_sales_XGB['Date'], y=daily_sales_XGB['Weekly_Sales_XGB2'])\n",
        "layout = go.Layout(title='XGBoost Model Forcasting with hyperparameter', xaxis=dict(title='Date'), yaxis=dict(title='Weekly_Sales_XGB2'))\n",
        "fig = go.Figure(data=[sales_plot_XGB], layout=layout)\n",
        "iplot(fig)"
      ],
      "metadata": {
        "colab": {
          "base_uri": "https://localhost:8080/",
          "height": 542
        },
        "id": "CwAlJ3hOfbmY",
        "outputId": "7a796699-c8cc-4795-db87-2c0d6454308f"
      },
      "execution_count": null,
      "outputs": [
        {
          "output_type": "display_data",
          "data": {
            "text/html": [
              "<html>\n",
              "<head><meta charset=\"utf-8\" /></head>\n",
              "<body>\n",
              "    <div>            <script src=\"https://cdnjs.cloudflare.com/ajax/libs/mathjax/2.7.5/MathJax.js?config=TeX-AMS-MML_SVG\"></script><script type=\"text/javascript\">if (window.MathJax) {MathJax.Hub.Config({SVG: {font: \"STIX-Web\"}});}</script>                <script type=\"text/javascript\">window.PlotlyConfig = {MathJaxConfig: 'local'};</script>\n",
              "        <script src=\"https://cdn.plot.ly/plotly-2.8.3.min.js\"></script>                <div id=\"7e65e801-4eea-4b56-bd90-7ea0ccd993cb\" class=\"plotly-graph-div\" style=\"height:525px; width:100%;\"></div>            <script type=\"text/javascript\">                                    window.PLOTLYENV=window.PLOTLYENV || {};                                    if (document.getElementById(\"7e65e801-4eea-4b56-bd90-7ea0ccd993cb\")) {                    Plotly.newPlot(                        \"7e65e801-4eea-4b56-bd90-7ea0ccd993cb\",                        [{\"x\":[\"2012-11-02\",\"2012-11-09\",\"2012-11-16\",\"2012-11-23\",\"2012-11-30\",\"2012-12-07\",\"2012-12-14\",\"2012-12-21\",\"2012-12-28\",\"2013-01-04\",\"2013-01-11\",\"2013-01-18\",\"2013-01-25\",\"2013-02-01\",\"2013-02-08\",\"2013-02-15\",\"2013-02-22\",\"2013-03-01\",\"2013-03-08\",\"2013-03-15\",\"2013-03-22\",\"2013-03-29\",\"2013-04-05\",\"2013-04-12\",\"2013-04-19\",\"2013-04-26\",\"2013-05-03\",\"2013-05-10\",\"2013-05-17\",\"2013-05-24\",\"2013-05-31\",\"2013-06-07\",\"2013-06-14\",\"2013-06-21\",\"2013-06-28\",\"2013-07-05\",\"2013-07-12\",\"2013-07-19\",\"2013-07-26\"],\"y\":[48145404.0,48348204.0,46405824.0,67813304.0,49658016.0,55531440.0,60224372.0,76017424.0,45999380.0,44942332.0,41990140.0,41986680.0,39995560.0,46073756.0,49939792.0,49980524.0,45920732.0,47008364.0,47256000.0,46665704.0,45033964.0,45456316.0,53451972.0,46609240.0,44947380.0,43815388.0,47077268.0,46944788.0,46853724.0,47769632.0,48319564.0,49559236.0,48243704.0,47811452.0,46823320.0,51046656.0,46033008.0,45959272.0,44243908.0],\"type\":\"scatter\"}],                        {\"template\":{\"data\":{\"barpolar\":[{\"marker\":{\"line\":{\"color\":\"#E5ECF6\",\"width\":0.5},\"pattern\":{\"fillmode\":\"overlay\",\"size\":10,\"solidity\":0.2}},\"type\":\"barpolar\"}],\"bar\":[{\"error_x\":{\"color\":\"#2a3f5f\"},\"error_y\":{\"color\":\"#2a3f5f\"},\"marker\":{\"line\":{\"color\":\"#E5ECF6\",\"width\":0.5},\"pattern\":{\"fillmode\":\"overlay\",\"size\":10,\"solidity\":0.2}},\"type\":\"bar\"}],\"carpet\":[{\"aaxis\":{\"endlinecolor\":\"#2a3f5f\",\"gridcolor\":\"white\",\"linecolor\":\"white\",\"minorgridcolor\":\"white\",\"startlinecolor\":\"#2a3f5f\"},\"baxis\":{\"endlinecolor\":\"#2a3f5f\",\"gridcolor\":\"white\",\"linecolor\":\"white\",\"minorgridcolor\":\"white\",\"startlinecolor\":\"#2a3f5f\"},\"type\":\"carpet\"}],\"choropleth\":[{\"colorbar\":{\"outlinewidth\":0,\"ticks\":\"\"},\"type\":\"choropleth\"}],\"contourcarpet\":[{\"colorbar\":{\"outlinewidth\":0,\"ticks\":\"\"},\"type\":\"contourcarpet\"}],\"contour\":[{\"colorbar\":{\"outlinewidth\":0,\"ticks\":\"\"},\"colorscale\":[[0.0,\"#0d0887\"],[0.1111111111111111,\"#46039f\"],[0.2222222222222222,\"#7201a8\"],[0.3333333333333333,\"#9c179e\"],[0.4444444444444444,\"#bd3786\"],[0.5555555555555556,\"#d8576b\"],[0.6666666666666666,\"#ed7953\"],[0.7777777777777778,\"#fb9f3a\"],[0.8888888888888888,\"#fdca26\"],[1.0,\"#f0f921\"]],\"type\":\"contour\"}],\"heatmapgl\":[{\"colorbar\":{\"outlinewidth\":0,\"ticks\":\"\"},\"colorscale\":[[0.0,\"#0d0887\"],[0.1111111111111111,\"#46039f\"],[0.2222222222222222,\"#7201a8\"],[0.3333333333333333,\"#9c179e\"],[0.4444444444444444,\"#bd3786\"],[0.5555555555555556,\"#d8576b\"],[0.6666666666666666,\"#ed7953\"],[0.7777777777777778,\"#fb9f3a\"],[0.8888888888888888,\"#fdca26\"],[1.0,\"#f0f921\"]],\"type\":\"heatmapgl\"}],\"heatmap\":[{\"colorbar\":{\"outlinewidth\":0,\"ticks\":\"\"},\"colorscale\":[[0.0,\"#0d0887\"],[0.1111111111111111,\"#46039f\"],[0.2222222222222222,\"#7201a8\"],[0.3333333333333333,\"#9c179e\"],[0.4444444444444444,\"#bd3786\"],[0.5555555555555556,\"#d8576b\"],[0.6666666666666666,\"#ed7953\"],[0.7777777777777778,\"#fb9f3a\"],[0.8888888888888888,\"#fdca26\"],[1.0,\"#f0f921\"]],\"type\":\"heatmap\"}],\"histogram2dcontour\":[{\"colorbar\":{\"outlinewidth\":0,\"ticks\":\"\"},\"colorscale\":[[0.0,\"#0d0887\"],[0.1111111111111111,\"#46039f\"],[0.2222222222222222,\"#7201a8\"],[0.3333333333333333,\"#9c179e\"],[0.4444444444444444,\"#bd3786\"],[0.5555555555555556,\"#d8576b\"],[0.6666666666666666,\"#ed7953\"],[0.7777777777777778,\"#fb9f3a\"],[0.8888888888888888,\"#fdca26\"],[1.0,\"#f0f921\"]],\"type\":\"histogram2dcontour\"}],\"histogram2d\":[{\"colorbar\":{\"outlinewidth\":0,\"ticks\":\"\"},\"colorscale\":[[0.0,\"#0d0887\"],[0.1111111111111111,\"#46039f\"],[0.2222222222222222,\"#7201a8\"],[0.3333333333333333,\"#9c179e\"],[0.4444444444444444,\"#bd3786\"],[0.5555555555555556,\"#d8576b\"],[0.6666666666666666,\"#ed7953\"],[0.7777777777777778,\"#fb9f3a\"],[0.8888888888888888,\"#fdca26\"],[1.0,\"#f0f921\"]],\"type\":\"histogram2d\"}],\"histogram\":[{\"marker\":{\"pattern\":{\"fillmode\":\"overlay\",\"size\":10,\"solidity\":0.2}},\"type\":\"histogram\"}],\"mesh3d\":[{\"colorbar\":{\"outlinewidth\":0,\"ticks\":\"\"},\"type\":\"mesh3d\"}],\"parcoords\":[{\"line\":{\"colorbar\":{\"outlinewidth\":0,\"ticks\":\"\"}},\"type\":\"parcoords\"}],\"pie\":[{\"automargin\":true,\"type\":\"pie\"}],\"scatter3d\":[{\"line\":{\"colorbar\":{\"outlinewidth\":0,\"ticks\":\"\"}},\"marker\":{\"colorbar\":{\"outlinewidth\":0,\"ticks\":\"\"}},\"type\":\"scatter3d\"}],\"scattercarpet\":[{\"marker\":{\"colorbar\":{\"outlinewidth\":0,\"ticks\":\"\"}},\"type\":\"scattercarpet\"}],\"scattergeo\":[{\"marker\":{\"colorbar\":{\"outlinewidth\":0,\"ticks\":\"\"}},\"type\":\"scattergeo\"}],\"scattergl\":[{\"marker\":{\"colorbar\":{\"outlinewidth\":0,\"ticks\":\"\"}},\"type\":\"scattergl\"}],\"scattermapbox\":[{\"marker\":{\"colorbar\":{\"outlinewidth\":0,\"ticks\":\"\"}},\"type\":\"scattermapbox\"}],\"scatterpolargl\":[{\"marker\":{\"colorbar\":{\"outlinewidth\":0,\"ticks\":\"\"}},\"type\":\"scatterpolargl\"}],\"scatterpolar\":[{\"marker\":{\"colorbar\":{\"outlinewidth\":0,\"ticks\":\"\"}},\"type\":\"scatterpolar\"}],\"scatter\":[{\"marker\":{\"colorbar\":{\"outlinewidth\":0,\"ticks\":\"\"}},\"type\":\"scatter\"}],\"scatterternary\":[{\"marker\":{\"colorbar\":{\"outlinewidth\":0,\"ticks\":\"\"}},\"type\":\"scatterternary\"}],\"surface\":[{\"colorbar\":{\"outlinewidth\":0,\"ticks\":\"\"},\"colorscale\":[[0.0,\"#0d0887\"],[0.1111111111111111,\"#46039f\"],[0.2222222222222222,\"#7201a8\"],[0.3333333333333333,\"#9c179e\"],[0.4444444444444444,\"#bd3786\"],[0.5555555555555556,\"#d8576b\"],[0.6666666666666666,\"#ed7953\"],[0.7777777777777778,\"#fb9f3a\"],[0.8888888888888888,\"#fdca26\"],[1.0,\"#f0f921\"]],\"type\":\"surface\"}],\"table\":[{\"cells\":{\"fill\":{\"color\":\"#EBF0F8\"},\"line\":{\"color\":\"white\"}},\"header\":{\"fill\":{\"color\":\"#C8D4E3\"},\"line\":{\"color\":\"white\"}},\"type\":\"table\"}]},\"layout\":{\"annotationdefaults\":{\"arrowcolor\":\"#2a3f5f\",\"arrowhead\":0,\"arrowwidth\":1},\"autotypenumbers\":\"strict\",\"coloraxis\":{\"colorbar\":{\"outlinewidth\":0,\"ticks\":\"\"}},\"colorscale\":{\"diverging\":[[0,\"#8e0152\"],[0.1,\"#c51b7d\"],[0.2,\"#de77ae\"],[0.3,\"#f1b6da\"],[0.4,\"#fde0ef\"],[0.5,\"#f7f7f7\"],[0.6,\"#e6f5d0\"],[0.7,\"#b8e186\"],[0.8,\"#7fbc41\"],[0.9,\"#4d9221\"],[1,\"#276419\"]],\"sequential\":[[0.0,\"#0d0887\"],[0.1111111111111111,\"#46039f\"],[0.2222222222222222,\"#7201a8\"],[0.3333333333333333,\"#9c179e\"],[0.4444444444444444,\"#bd3786\"],[0.5555555555555556,\"#d8576b\"],[0.6666666666666666,\"#ed7953\"],[0.7777777777777778,\"#fb9f3a\"],[0.8888888888888888,\"#fdca26\"],[1.0,\"#f0f921\"]],\"sequentialminus\":[[0.0,\"#0d0887\"],[0.1111111111111111,\"#46039f\"],[0.2222222222222222,\"#7201a8\"],[0.3333333333333333,\"#9c179e\"],[0.4444444444444444,\"#bd3786\"],[0.5555555555555556,\"#d8576b\"],[0.6666666666666666,\"#ed7953\"],[0.7777777777777778,\"#fb9f3a\"],[0.8888888888888888,\"#fdca26\"],[1.0,\"#f0f921\"]]},\"colorway\":[\"#636efa\",\"#EF553B\",\"#00cc96\",\"#ab63fa\",\"#FFA15A\",\"#19d3f3\",\"#FF6692\",\"#B6E880\",\"#FF97FF\",\"#FECB52\"],\"font\":{\"color\":\"#2a3f5f\"},\"geo\":{\"bgcolor\":\"white\",\"lakecolor\":\"white\",\"landcolor\":\"#E5ECF6\",\"showlakes\":true,\"showland\":true,\"subunitcolor\":\"white\"},\"hoverlabel\":{\"align\":\"left\"},\"hovermode\":\"closest\",\"mapbox\":{\"style\":\"light\"},\"paper_bgcolor\":\"white\",\"plot_bgcolor\":\"#E5ECF6\",\"polar\":{\"angularaxis\":{\"gridcolor\":\"white\",\"linecolor\":\"white\",\"ticks\":\"\"},\"bgcolor\":\"#E5ECF6\",\"radialaxis\":{\"gridcolor\":\"white\",\"linecolor\":\"white\",\"ticks\":\"\"}},\"scene\":{\"xaxis\":{\"backgroundcolor\":\"#E5ECF6\",\"gridcolor\":\"white\",\"gridwidth\":2,\"linecolor\":\"white\",\"showbackground\":true,\"ticks\":\"\",\"zerolinecolor\":\"white\"},\"yaxis\":{\"backgroundcolor\":\"#E5ECF6\",\"gridcolor\":\"white\",\"gridwidth\":2,\"linecolor\":\"white\",\"showbackground\":true,\"ticks\":\"\",\"zerolinecolor\":\"white\"},\"zaxis\":{\"backgroundcolor\":\"#E5ECF6\",\"gridcolor\":\"white\",\"gridwidth\":2,\"linecolor\":\"white\",\"showbackground\":true,\"ticks\":\"\",\"zerolinecolor\":\"white\"}},\"shapedefaults\":{\"line\":{\"color\":\"#2a3f5f\"}},\"ternary\":{\"aaxis\":{\"gridcolor\":\"white\",\"linecolor\":\"white\",\"ticks\":\"\"},\"baxis\":{\"gridcolor\":\"white\",\"linecolor\":\"white\",\"ticks\":\"\"},\"bgcolor\":\"#E5ECF6\",\"caxis\":{\"gridcolor\":\"white\",\"linecolor\":\"white\",\"ticks\":\"\"}},\"title\":{\"x\":0.05},\"xaxis\":{\"automargin\":true,\"gridcolor\":\"white\",\"linecolor\":\"white\",\"ticks\":\"\",\"title\":{\"standoff\":15},\"zerolinecolor\":\"white\",\"zerolinewidth\":2},\"yaxis\":{\"automargin\":true,\"gridcolor\":\"white\",\"linecolor\":\"white\",\"ticks\":\"\",\"title\":{\"standoff\":15},\"zerolinecolor\":\"white\",\"zerolinewidth\":2}}},\"title\":{\"text\":\"XGBoost Model Forcasting with hyperparameter\"},\"xaxis\":{\"title\":{\"text\":\"Date\"}},\"yaxis\":{\"title\":{\"text\":\"Weekly_Sales_XGB2\"}}},                        {\"responsive\": true}                    ).then(function(){\n",
              "                            \n",
              "var gd = document.getElementById('7e65e801-4eea-4b56-bd90-7ea0ccd993cb');\n",
              "var x = new MutationObserver(function (mutations, observer) {{\n",
              "        var display = window.getComputedStyle(gd).display;\n",
              "        if (!display || display === 'none') {{\n",
              "            console.log([gd, 'removed!']);\n",
              "            Plotly.purge(gd);\n",
              "            observer.disconnect();\n",
              "        }}\n",
              "}});\n",
              "\n",
              "// Listen for the removal of the full notebook cells\n",
              "var notebookContainer = gd.closest('#notebook-container');\n",
              "if (notebookContainer) {{\n",
              "    x.observe(notebookContainer, {childList: true});\n",
              "}}\n",
              "\n",
              "// Listen for the clearing of the current output cell\n",
              "var outputEl = gd.closest('.output');\n",
              "if (outputEl) {{\n",
              "    x.observe(outputEl, {childList: true});\n",
              "}}\n",
              "\n",
              "                        })                };                            </script>        </div>\n",
              "</body>\n",
              "</html>"
            ]
          },
          "metadata": {}
        }
      ]
    },
    {
      "cell_type": "code",
      "source": [
        "plt.figure(figsize=(20,8))\n",
        "splot=sns.barplot(store_daily_sales_XGB['Store'], store_daily_sales_XGB['Weekly_Sales_XGB2'], palette='tab10')\n",
        "\n",
        "for p in splot.patches:\n",
        "    splot.annotate(format(p.get_height(), '.1f'), \n",
        "                   (p.get_x() + p.get_width() / 2., p.get_height()), \n",
        "                   ha = 'center', va = 'center', \n",
        "                   xytext = (0, 9), \n",
        "                   textcoords = 'offset points',size=8)\n",
        "\n",
        "plt.title('Total Sales - per Store', fontsize=18)\n",
        "plt.ylabel('Total sales', fontsize=16)\n",
        "plt.xlabel('Store', fontsize=16)\n",
        "plt.show()"
      ],
      "metadata": {
        "colab": {
          "base_uri": "https://localhost:8080/",
          "height": 522
        },
        "outputId": "4205fd1c-0821-414e-dbd4-1280ff9089c5",
        "id": "QVrASNu259f5"
      },
      "execution_count": null,
      "outputs": [
        {
          "output_type": "display_data",
          "data": {
            "image/png": "[encoded data removed]",
            "text/plain": [
              "<Figure size 1440x576 with 1 Axes>"
            ]
          },
          "metadata": {
            "needs_background": "light"
          }
        }
      ]
    },
    {
      "cell_type": "code",
      "source": [
        "plot1 = go.Scatter(x=Overall_Weekly_sales['Date'], y=Overall_Weekly_sales['Weekly_Sales'],name=\"Training set\")\n",
        "layout = go.Layout(title='Weekly sales', xaxis=dict(title='Date'), yaxis=dict(title='Weekly_Sales'))\n",
        "\n",
        "plot2 = go.Scatter(x=daily_sales_XGB1['Date'], y=daily_sales_XGB1['Weekly_Sales_XGB1'],name=\"XGBoost1\")\n",
        "layout = go.Layout(title='XGBoost Model Forcasting with initial parameters', xaxis=dict(title='Date'), yaxis=dict(title='Weekly_Sales_XGB1'))\n",
        "\n",
        "plot3 = go.Scatter(x=daily_sales_XGB['Date'], y=daily_sales_XGB['Weekly_Sales_XGB2'],name=\"XGBoost2\")\n",
        "layout = go.Layout(title='Weekly_Sales_XGB2', xaxis=dict(title='Date'), yaxis=dict(title='Weekly_Sales_XGB2'))\n",
        "\n",
        "fig = go.Figure(data=[plot1,plot2,plot3], layout=layout)\n",
        "iplot(fig)"
      ],
      "metadata": {
        "colab": {
          "base_uri": "https://localhost:8080/",
          "height": 542
        },
        "id": "l3YYF5ieSQxk",
        "outputId": "22f27239-70f8-47a7-fe24-9b607c7ba926"
      },
      "execution_count": null,
      "outputs": [
        {
          "output_type": "display_data",
          "data": {
            "text/html": [
              "<html>\n",
              "<head><meta charset=\"utf-8\" /></head>\n",
              "<body>\n",
              "    <div>            <script src=\"https://cdnjs.cloudflare.com/ajax/libs/mathjax/2.7.5/MathJax.js?config=TeX-AMS-MML_SVG\"></script><script type=\"text/javascript\">if (window.MathJax) {MathJax.Hub.Config({SVG: {font: \"STIX-Web\"}});}</script>                <script type=\"text/javascript\">window.PlotlyConfig = {MathJaxConfig: 'local'};</script>\n",
              "        <script src=\"https://cdn.plot.ly/plotly-2.8.3.min.js\"></script>                <div id=\"67367b88-1e37-4c9d-b1eb-71d537e06963\" class=\"plotly-graph-div\" style=\"height:525px; width:100%;\"></div>            <script type=\"text/javascript\">                                    window.PLOTLYENV=window.PLOTLYENV || {};                                    if (document.getElementById(\"67367b88-1e37-4c9d-b1eb-71d537e06963\")) {                    Plotly.newPlot(                        \"67367b88-1e37-4c9d-b1eb-71d537e06963\",                        [{\"name\":\"Training set\",\"x\":[\"2010-02-05\",\"2010-02-12\",\"2010-02-19\",\"2010-02-26\",\"2010-03-05\",\"2010-03-12\",\"2010-03-19\",\"2010-03-26\",\"2010-04-02\",\"2010-04-09\",\"2010-04-16\",\"2010-04-23\",\"2010-04-30\",\"2010-05-07\",\"2010-05-14\",\"2010-05-21\",\"2010-05-28\",\"2010-06-04\",\"2010-06-11\",\"2010-06-18\",\"2010-06-25\",\"2010-07-02\",\"2010-07-09\",\"2010-07-16\",\"2010-07-23\",\"2010-07-30\",\"2010-08-06\",\"2010-08-13\",\"2010-08-20\",\"2010-08-27\",\"2010-09-03\",\"2010-09-10\",\"2010-09-17\",\"2010-09-24\",\"2010-10-01\",\"2010-10-08\",\"2010-10-15\",\"2010-10-22\",\"2010-10-29\",\"2010-11-05\",\"2010-11-12\",\"2010-11-19\",\"2010-11-26\",\"2010-12-03\",\"2010-12-10\",\"2010-12-17\",\"2010-12-24\",\"2010-12-31\",\"2011-01-07\",\"2011-01-14\",\"2011-01-21\",\"2011-01-28\",\"2011-02-04\",\"2011-02-11\",\"2011-02-18\",\"2011-02-25\",\"2011-03-04\",\"2011-03-11\",\"2011-03-18\",\"2011-03-25\",\"2011-04-01\",\"2011-04-08\",\"2011-04-15\",\"2011-04-22\",\"2011-04-29\",\"2011-05-06\",\"2011-05-13\",\"2011-05-20\",\"2011-05-27\",\"2011-06-03\",\"2011-06-10\",\"2011-06-17\",\"2011-06-24\",\"2011-07-01\",\"2011-07-08\",\"2011-07-15\",\"2011-07-22\",\"2011-07-29\",\"2011-08-05\",\"2011-08-12\",\"2011-08-19\",\"2011-08-26\",\"2011-09-02\",\"2011-09-09\",\"2011-09-16\",\"2011-09-23\",\"2011-09-30\",\"2011-10-07\",\"2011-10-14\",\"2011-10-21\",\"2011-10-28\",\"2011-11-04\",\"2011-11-11\",\"2011-11-18\",\"2011-11-25\",\"2011-12-02\",\"2011-12-09\",\"2011-12-16\",\"2011-12-23\",\"2011-12-30\",\"2012-01-06\",\"2012-01-13\",\"2012-01-20\",\"2012-01-27\",\"2012-02-03\",\"2012-02-10\",\"2012-02-17\",\"2012-02-24\",\"2012-03-02\",\"2012-03-09\",\"2012-03-16\",\"2012-03-23\",\"2012-03-30\",\"2012-04-06\",\"2012-04-13\",\"2012-04-20\",\"2012-04-27\",\"2012-05-04\",\"2012-05-11\",\"2012-05-18\",\"2012-05-25\",\"2012-06-01\",\"2012-06-08\",\"2012-06-15\",\"2012-06-22\",\"2012-06-29\",\"2012-07-06\",\"2012-07-13\",\"2012-07-20\",\"2012-07-27\",\"2012-08-03\",\"2012-08-10\",\"2012-08-17\",\"2012-08-24\",\"2012-08-31\",\"2012-09-07\",\"2012-09-14\",\"2012-09-21\",\"2012-09-28\",\"2012-10-05\",\"2012-10-12\",\"2012-10-19\",\"2012-10-26\"],\"y\":[49750740.5,48336677.63,48276993.78,43968571.13,46871470.3,45925396.51,44988974.64,44133961.05,50423831.26,47365290.44,45183667.08,44734452.56,43705126.71,48503243.52,45330080.2,45120108.06,47757502.56,50188543.12,47826546.72,47622046.23,46609036.29,48917484.5,47899529.37,46243899.58,44888849.11,44630363.42,48204999.12,46464418.410000004,47060952.92,45909740.44,47194257.61,45634397.84,43080726.51,41358514.41,42239875.87,45102974.23,43149473.45,43066669.52,43602830.95,45781981.89,46124800.83,45125584.18,65821003.24,49909027.88,55666770.39,61820799.85,80931415.6,40432519.0,42775787.77,40673678.04,40654648.03,39599852.99,46153111.12,47336192.79,48716164.12,44125859.84,46980603.74,44627319.4,44872325.97,42876199.18,43458991.19,45887466.8,44973328.14,48676692.06,43530032.78,46861958.29,45446144.82,44046598.01,45293457.04,48771994.18,47669734.66,47447561.77,45884094.58,47578519.5,47859263.78,45515929.92,45274411.39,43683274.28,48015466.97,46249569.21,46917347.62,47416948.45,45376623.27,46763227.53,43793960.08,42718096.73,42195830.81,47211688.36,44374820.3,45818953.44,45855821.05,48655544.3,48474224.75,46438980.56,66593605.26,49390556.49,55561147.7,60085695.94,76998241.31,46042461.04,44955421.95,42023078.48,42080996.56,39834974.67,46085608.09,50009407.92,50197056.96,45771506.57,46861034.97,47480454.11,46901504.94,44993794.45,45272862.02,53502315.87,46629261.41,45072529.78,43716798.89,47124197.93,46925878.99,46823939.22,47892463.31,48281649.72,49651171.78,48412110.7,47668284.97,46597112.12,51253021.88,46099732.1,46059543.45,44097154.97,47485899.56,47403451.04,47354452.05,47447323.6,47159639.43,48330059.31,44226038.65,44354547.11,43734899.4,47566639.31,46128514.25,45122410.57,45544116.29],\"type\":\"scatter\"},{\"name\":\"XGBoost1\",\"x\":[\"2012-11-02\",\"2012-11-09\",\"2012-11-16\",\"2012-11-23\",\"2012-11-30\",\"2012-12-07\",\"2012-12-14\",\"2012-12-21\",\"2012-12-28\",\"2013-01-04\",\"2013-01-11\",\"2013-01-18\",\"2013-01-25\",\"2013-02-01\",\"2013-02-08\",\"2013-02-15\",\"2013-02-22\",\"2013-03-01\",\"2013-03-08\",\"2013-03-15\",\"2013-03-22\",\"2013-03-29\",\"2013-04-05\",\"2013-04-12\",\"2013-04-19\",\"2013-04-26\",\"2013-05-03\",\"2013-05-10\",\"2013-05-17\",\"2013-05-24\",\"2013-05-31\",\"2013-06-07\",\"2013-06-14\",\"2013-06-21\",\"2013-06-28\",\"2013-07-05\",\"2013-07-12\",\"2013-07-19\",\"2013-07-26\"],\"y\":[46494148.0,46585340.0,46404844.0,55204768.0,54944488.0,55272032.0,59482896.0,61394172.0,49345968.0,45369052.0,45376792.0,45370596.0,45356104.0,46327760.0,46523448.0,46499032.0,46345980.0,46281608.0,46295568.0,46299772.0,46245664.0,46292224.0,46361388.0,46341256.0,46329404.0,46339080.0,46294912.0,46365808.0,46425812.0,46267052.0,46242908.0,46223112.0,46206868.0,46177096.0,46052264.0,46191848.0,46181444.0,46208696.0,46189540.0],\"type\":\"scatter\"},{\"name\":\"XGBoost2\",\"x\":[\"2012-11-02\",\"2012-11-09\",\"2012-11-16\",\"2012-11-23\",\"2012-11-30\",\"2012-12-07\",\"2012-12-14\",\"2012-12-21\",\"2012-12-28\",\"2013-01-04\",\"2013-01-11\",\"2013-01-18\",\"2013-01-25\",\"2013-02-01\",\"2013-02-08\",\"2013-02-15\",\"2013-02-22\",\"2013-03-01\",\"2013-03-08\",\"2013-03-15\",\"2013-03-22\",\"2013-03-29\",\"2013-04-05\",\"2013-04-12\",\"2013-04-19\",\"2013-04-26\",\"2013-05-03\",\"2013-05-10\",\"2013-05-17\",\"2013-05-24\",\"2013-05-31\",\"2013-06-07\",\"2013-06-14\",\"2013-06-21\",\"2013-06-28\",\"2013-07-05\",\"2013-07-12\",\"2013-07-19\",\"2013-07-26\"],\"y\":[48145404.0,48348204.0,46405824.0,67813304.0,49658016.0,55531440.0,60224372.0,76017424.0,45999380.0,44942332.0,41990140.0,41986680.0,39995560.0,46073756.0,49939792.0,49980524.0,45920732.0,47008364.0,47256000.0,46665704.0,45033964.0,45456316.0,53451972.0,46609240.0,44947380.0,43815388.0,47077268.0,46944788.0,46853724.0,47769632.0,48319564.0,49559236.0,48243704.0,47811452.0,46823320.0,51046656.0,46033008.0,45959272.0,44243908.0],\"type\":\"scatter\"}],                        {\"template\":{\"data\":{\"barpolar\":[{\"marker\":{\"line\":{\"color\":\"#E5ECF6\",\"width\":0.5},\"pattern\":{\"fillmode\":\"overlay\",\"size\":10,\"solidity\":0.2}},\"type\":\"barpolar\"}],\"bar\":[{\"error_x\":{\"color\":\"#2a3f5f\"},\"error_y\":{\"color\":\"#2a3f5f\"},\"marker\":{\"line\":{\"color\":\"#E5ECF6\",\"width\":0.5},\"pattern\":{\"fillmode\":\"overlay\",\"size\":10,\"solidity\":0.2}},\"type\":\"bar\"}],\"carpet\":[{\"aaxis\":{\"endlinecolor\":\"#2a3f5f\",\"gridcolor\":\"white\",\"linecolor\":\"white\",\"minorgridcolor\":\"white\",\"startlinecolor\":\"#2a3f5f\"},\"baxis\":{\"endlinecolor\":\"#2a3f5f\",\"gridcolor\":\"white\",\"linecolor\":\"white\",\"minorgridcolor\":\"white\",\"startlinecolor\":\"#2a3f5f\"},\"type\":\"carpet\"}],\"choropleth\":[{\"colorbar\":{\"outlinewidth\":0,\"ticks\":\"\"},\"type\":\"choropleth\"}],\"contourcarpet\":[{\"colorbar\":{\"outlinewidth\":0,\"ticks\":\"\"},\"type\":\"contourcarpet\"}],\"contour\":[{\"colorbar\":{\"outlinewidth\":0,\"ticks\":\"\"},\"colorscale\":[[0.0,\"#0d0887\"],[0.1111111111111111,\"#46039f\"],[0.2222222222222222,\"#7201a8\"],[0.3333333333333333,\"#9c179e\"],[0.4444444444444444,\"#bd3786\"],[0.5555555555555556,\"#d8576b\"],[0.6666666666666666,\"#ed7953\"],[0.7777777777777778,\"#fb9f3a\"],[0.8888888888888888,\"#fdca26\"],[1.0,\"#f0f921\"]],\"type\":\"contour\"}],\"heatmapgl\":[{\"colorbar\":{\"outlinewidth\":0,\"ticks\":\"\"},\"colorscale\":[[0.0,\"#0d0887\"],[0.1111111111111111,\"#46039f\"],[0.2222222222222222,\"#7201a8\"],[0.3333333333333333,\"#9c179e\"],[0.4444444444444444,\"#bd3786\"],[0.5555555555555556,\"#d8576b\"],[0.6666666666666666,\"#ed7953\"],[0.7777777777777778,\"#fb9f3a\"],[0.8888888888888888,\"#fdca26\"],[1.0,\"#f0f921\"]],\"type\":\"heatmapgl\"}],\"heatmap\":[{\"colorbar\":{\"outlinewidth\":0,\"ticks\":\"\"},\"colorscale\":[[0.0,\"#0d0887\"],[0.1111111111111111,\"#46039f\"],[0.2222222222222222,\"#7201a8\"],[0.3333333333333333,\"#9c179e\"],[0.4444444444444444,\"#bd3786\"],[0.5555555555555556,\"#d8576b\"],[0.6666666666666666,\"#ed7953\"],[0.7777777777777778,\"#fb9f3a\"],[0.8888888888888888,\"#fdca26\"],[1.0,\"#f0f921\"]],\"type\":\"heatmap\"}],\"histogram2dcontour\":[{\"colorbar\":{\"outlinewidth\":0,\"ticks\":\"\"},\"colorscale\":[[0.0,\"#0d0887\"],[0.1111111111111111,\"#46039f\"],[0.2222222222222222,\"#7201a8\"],[0.3333333333333333,\"#9c179e\"],[0.4444444444444444,\"#bd3786\"],[0.5555555555555556,\"#d8576b\"],[0.6666666666666666,\"#ed7953\"],[0.7777777777777778,\"#fb9f3a\"],[0.8888888888888888,\"#fdca26\"],[1.0,\"#f0f921\"]],\"type\":\"histogram2dcontour\"}],\"histogram2d\":[{\"colorbar\":{\"outlinewidth\":0,\"ticks\":\"\"},\"colorscale\":[[0.0,\"#0d0887\"],[0.1111111111111111,\"#46039f\"],[0.2222222222222222,\"#7201a8\"],[0.3333333333333333,\"#9c179e\"],[0.4444444444444444,\"#bd3786\"],[0.5555555555555556,\"#d8576b\"],[0.6666666666666666,\"#ed7953\"],[0.7777777777777778,\"#fb9f3a\"],[0.8888888888888888,\"#fdca26\"],[1.0,\"#f0f921\"]],\"type\":\"histogram2d\"}],\"histogram\":[{\"marker\":{\"pattern\":{\"fillmode\":\"overlay\",\"size\":10,\"solidity\":0.2}},\"type\":\"histogram\"}],\"mesh3d\":[{\"colorbar\":{\"outlinewidth\":0,\"ticks\":\"\"},\"type\":\"mesh3d\"}],\"parcoords\":[{\"line\":{\"colorbar\":{\"outlinewidth\":0,\"ticks\":\"\"}},\"type\":\"parcoords\"}],\"pie\":[{\"automargin\":true,\"type\":\"pie\"}],\"scatter3d\":[{\"line\":{\"colorbar\":{\"outlinewidth\":0,\"ticks\":\"\"}},\"marker\":{\"colorbar\":{\"outlinewidth\":0,\"ticks\":\"\"}},\"type\":\"scatter3d\"}],\"scattercarpet\":[{\"marker\":{\"colorbar\":{\"outlinewidth\":0,\"ticks\":\"\"}},\"type\":\"scattercarpet\"}],\"scattergeo\":[{\"marker\":{\"colorbar\":{\"outlinewidth\":0,\"ticks\":\"\"}},\"type\":\"scattergeo\"}],\"scattergl\":[{\"marker\":{\"colorbar\":{\"outlinewidth\":0,\"ticks\":\"\"}},\"type\":\"scattergl\"}],\"scattermapbox\":[{\"marker\":{\"colorbar\":{\"outlinewidth\":0,\"ticks\":\"\"}},\"type\":\"scattermapbox\"}],\"scatterpolargl\":[{\"marker\":{\"colorbar\":{\"outlinewidth\":0,\"ticks\":\"\"}},\"type\":\"scatterpolargl\"}],\"scatterpolar\":[{\"marker\":{\"colorbar\":{\"outlinewidth\":0,\"ticks\":\"\"}},\"type\":\"scatterpolar\"}],\"scatter\":[{\"marker\":{\"colorbar\":{\"outlinewidth\":0,\"ticks\":\"\"}},\"type\":\"scatter\"}],\"scatterternary\":[{\"marker\":{\"colorbar\":{\"outlinewidth\":0,\"ticks\":\"\"}},\"type\":\"scatterternary\"}],\"surface\":[{\"colorbar\":{\"outlinewidth\":0,\"ticks\":\"\"},\"colorscale\":[[0.0,\"#0d0887\"],[0.1111111111111111,\"#46039f\"],[0.2222222222222222,\"#7201a8\"],[0.3333333333333333,\"#9c179e\"],[0.4444444444444444,\"#bd3786\"],[0.5555555555555556,\"#d8576b\"],[0.6666666666666666,\"#ed7953\"],[0.7777777777777778,\"#fb9f3a\"],[0.8888888888888888,\"#fdca26\"],[1.0,\"#f0f921\"]],\"type\":\"surface\"}],\"table\":[{\"cells\":{\"fill\":{\"color\":\"#EBF0F8\"},\"line\":{\"color\":\"white\"}},\"header\":{\"fill\":{\"color\":\"#C8D4E3\"},\"line\":{\"color\":\"white\"}},\"type\":\"table\"}]},\"layout\":{\"annotationdefaults\":{\"arrowcolor\":\"#2a3f5f\",\"arrowhead\":0,\"arrowwidth\":1},\"autotypenumbers\":\"strict\",\"coloraxis\":{\"colorbar\":{\"outlinewidth\":0,\"ticks\":\"\"}},\"colorscale\":{\"diverging\":[[0,\"#8e0152\"],[0.1,\"#c51b7d\"],[0.2,\"#de77ae\"],[0.3,\"#f1b6da\"],[0.4,\"#fde0ef\"],[0.5,\"#f7f7f7\"],[0.6,\"#e6f5d0\"],[0.7,\"#b8e186\"],[0.8,\"#7fbc41\"],[0.9,\"#4d9221\"],[1,\"#276419\"]],\"sequential\":[[0.0,\"#0d0887\"],[0.1111111111111111,\"#46039f\"],[0.2222222222222222,\"#7201a8\"],[0.3333333333333333,\"#9c179e\"],[0.4444444444444444,\"#bd3786\"],[0.5555555555555556,\"#d8576b\"],[0.6666666666666666,\"#ed7953\"],[0.7777777777777778,\"#fb9f3a\"],[0.8888888888888888,\"#fdca26\"],[1.0,\"#f0f921\"]],\"sequentialminus\":[[0.0,\"#0d0887\"],[0.1111111111111111,\"#46039f\"],[0.2222222222222222,\"#7201a8\"],[0.3333333333333333,\"#9c179e\"],[0.4444444444444444,\"#bd3786\"],[0.5555555555555556,\"#d8576b\"],[0.6666666666666666,\"#ed7953\"],[0.7777777777777778,\"#fb9f3a\"],[0.8888888888888888,\"#fdca26\"],[1.0,\"#f0f921\"]]},\"colorway\":[\"#636efa\",\"#EF553B\",\"#00cc96\",\"#ab63fa\",\"#FFA15A\",\"#19d3f3\",\"#FF6692\",\"#B6E880\",\"#FF97FF\",\"#FECB52\"],\"font\":{\"color\":\"#2a3f5f\"},\"geo\":{\"bgcolor\":\"white\",\"lakecolor\":\"white\",\"landcolor\":\"#E5ECF6\",\"showlakes\":true,\"showland\":true,\"subunitcolor\":\"white\"},\"hoverlabel\":{\"align\":\"left\"},\"hovermode\":\"closest\",\"mapbox\":{\"style\":\"light\"},\"paper_bgcolor\":\"white\",\"plot_bgcolor\":\"#E5ECF6\",\"polar\":{\"angularaxis\":{\"gridcolor\":\"white\",\"linecolor\":\"white\",\"ticks\":\"\"},\"bgcolor\":\"#E5ECF6\",\"radialaxis\":{\"gridcolor\":\"white\",\"linecolor\":\"white\",\"ticks\":\"\"}},\"scene\":{\"xaxis\":{\"backgroundcolor\":\"#E5ECF6\",\"gridcolor\":\"white\",\"gridwidth\":2,\"linecolor\":\"white\",\"showbackground\":true,\"ticks\":\"\",\"zerolinecolor\":\"white\"},\"yaxis\":{\"backgroundcolor\":\"#E5ECF6\",\"gridcolor\":\"white\",\"gridwidth\":2,\"linecolor\":\"white\",\"showbackground\":true,\"ticks\":\"\",\"zerolinecolor\":\"white\"},\"zaxis\":{\"backgroundcolor\":\"#E5ECF6\",\"gridcolor\":\"white\",\"gridwidth\":2,\"linecolor\":\"white\",\"showbackground\":true,\"ticks\":\"\",\"zerolinecolor\":\"white\"}},\"shapedefaults\":{\"line\":{\"color\":\"#2a3f5f\"}},\"ternary\":{\"aaxis\":{\"gridcolor\":\"white\",\"linecolor\":\"white\",\"ticks\":\"\"},\"baxis\":{\"gridcolor\":\"white\",\"linecolor\":\"white\",\"ticks\":\"\"},\"bgcolor\":\"#E5ECF6\",\"caxis\":{\"gridcolor\":\"white\",\"linecolor\":\"white\",\"ticks\":\"\"}},\"title\":{\"x\":0.05},\"xaxis\":{\"automargin\":true,\"gridcolor\":\"white\",\"linecolor\":\"white\",\"ticks\":\"\",\"title\":{\"standoff\":15},\"zerolinecolor\":\"white\",\"zerolinewidth\":2},\"yaxis\":{\"automargin\":true,\"gridcolor\":\"white\",\"linecolor\":\"white\",\"ticks\":\"\",\"title\":{\"standoff\":15},\"zerolinecolor\":\"white\",\"zerolinewidth\":2}}},\"title\":{\"text\":\"Weekly_Sales_XGB2\"},\"xaxis\":{\"title\":{\"text\":\"Date\"}},\"yaxis\":{\"title\":{\"text\":\"Weekly_Sales_XGB2\"}}},                        {\"responsive\": true}                    ).then(function(){\n",
              "                            \n",
              "var gd = document.getElementById('67367b88-1e37-4c9d-b1eb-71d537e06963');\n",
              "var x = new MutationObserver(function (mutations, observer) {{\n",
              "        var display = window.getComputedStyle(gd).display;\n",
              "        if (!display || display === 'none') {{\n",
              "            console.log([gd, 'removed!']);\n",
              "            Plotly.purge(gd);\n",
              "            observer.disconnect();\n",
              "        }}\n",
              "}});\n",
              "\n",
              "// Listen for the removal of the full notebook cells\n",
              "var notebookContainer = gd.closest('#notebook-container');\n",
              "if (notebookContainer) {{\n",
              "    x.observe(notebookContainer, {childList: true});\n",
              "}}\n",
              "\n",
              "// Listen for the clearing of the current output cell\n",
              "var outputEl = gd.closest('.output');\n",
              "if (outputEl) {{\n",
              "    x.observe(outputEl, {childList: true});\n",
              "}}\n",
              "\n",
              "                        })                };                            </script>        </div>\n",
              "</body>\n",
              "</html>"
            ]
          },
          "metadata": {}
        }
      ]
    },
    {
      "cell_type": "markdown",
      "source": [
        "# **2- Random Forest Model**"
      ],
      "metadata": {
        "id": "uSGzTDKsXQzo"
      }
    },
    {
      "cell_type": "code",
      "source": [
        "\n",
        "model_rf1= RandomForestRegressor(max_depth=2, random_state=0)\n",
        "model_rf1.fit(X_train, y_train)\n",
        "RF1_train_pred=model_rf1.predict(X_train)\n",
        "RF1_test_preds = model_rf1.predict(X_test)"
      ],
      "metadata": {
        "id": "9SQrBp64aBmD"
      },
      "execution_count": null,
      "outputs": []
    },
    {
      "cell_type": "code",
      "source": [
        "\n",
        "print('Mean Absolute Error for train (MAE): ', metrics.mean_absolute_error(y_train, RF1_train_pred))\n",
        "print('Mean Absolute Error for test (MAE) :', metrics.mean_absolute_error(y_test, RF1_test_preds))\n"
      ],
      "metadata": {
        "colab": {
          "base_uri": "https://localhost:8080/"
        },
        "outputId": "96cd7839-6e51-4e7c-9a61-e6b453d1e420",
        "id": "yMsb67HiXsMb"
      },
      "execution_count": null,
      "outputs": [
        {
          "output_type": "stream",
          "name": "stdout",
          "text": [
            "Mean Absolute Error for train (MAE):  12875.329302792155\n",
            "Mean Absolute Error for test (MAE) : 12885.029334599303\n"
          ]
        }
      ]
    },
    {
      "cell_type": "code",
      "source": [
        "forcasting_train['Weekly_Sales_RF1']=model_rf1.predict(X)\n",
        "\n",
        "# To explore the time series data first we need to aggregate the sales by week\n",
        "daily_sales_rf1 = forcasting_train.groupby('Date', as_index=False)['Weekly_Sales_RF1'].sum()\n",
        "# Overall Weekly sales\n",
        "plot1 = go.Scatter(x=Overall_Weekly_sales['Date'], y=Overall_Weekly_sales['Weekly_Sales'],name=\"Training set\")\n",
        "layout = go.Layout(title='Weekly sales', xaxis=dict(title='Date'), yaxis=dict(title='Weekly_Sales'))\n",
        "\n",
        "plot2 = go.Scatter(x=daily_sales_rf1['Date'], y=daily_sales_rf1['Weekly_Sales_RF1'],name=\"Weekly_Sales_RF1\")\n",
        "layout = go.Layout(title='rf1 Forcasting with initial parameters', xaxis=dict(title='Date'), yaxis=dict(title='Weekly_Sales_RF1'))\n",
        "fig = go.Figure(data=[plot1,plot2], layout=layout)\n",
        "iplot(fig)"
      ],
      "metadata": {
        "colab": {
          "base_uri": "https://localhost:8080/",
          "height": 542
        },
        "outputId": "ece1a7c3-dc23-44b2-8c5e-55639885f296",
        "id": "Zg17ko2hZlsg"
      },
      "execution_count": null,
      "outputs": [
        {
          "output_type": "display_data",
          "data": {
            "text/html": [
              "<html>\n",
              "<head><meta charset=\"utf-8\" /></head>\n",
              "<body>\n",
              "    <div>            <script src=\"https://cdnjs.cloudflare.com/ajax/libs/mathjax/2.7.5/MathJax.js?config=TeX-AMS-MML_SVG\"></script><script type=\"text/javascript\">if (window.MathJax) {MathJax.Hub.Config({SVG: {font: \"STIX-Web\"}});}</script>                <script type=\"text/javascript\">window.PlotlyConfig = {MathJaxConfig: 'local'};</script>\n",
              "        <script src=\"https://cdn.plot.ly/plotly-2.8.3.min.js\"></script>                <div id=\"9543acca-cec7-4bcc-9e91-618188d8dda9\" class=\"plotly-graph-div\" style=\"height:525px; width:100%;\"></div>            <script type=\"text/javascript\">                                    window.PLOTLYENV=window.PLOTLYENV || {};                                    if (document.getElementById(\"9543acca-cec7-4bcc-9e91-618188d8dda9\")) {                    Plotly.newPlot(                        \"9543acca-cec7-4bcc-9e91-618188d8dda9\",                        [{\"name\":\"Training set\",\"x\":[\"2010-02-05\",\"2010-02-12\",\"2010-02-19\",\"2010-02-26\",\"2010-03-05\",\"2010-03-12\",\"2010-03-19\",\"2010-03-26\",\"2010-04-02\",\"2010-04-09\",\"2010-04-16\",\"2010-04-23\",\"2010-04-30\",\"2010-05-07\",\"2010-05-14\",\"2010-05-21\",\"2010-05-28\",\"2010-06-04\",\"2010-06-11\",\"2010-06-18\",\"2010-06-25\",\"2010-07-02\",\"2010-07-09\",\"2010-07-16\",\"2010-07-23\",\"2010-07-30\",\"2010-08-06\",\"2010-08-13\",\"2010-08-20\",\"2010-08-27\",\"2010-09-03\",\"2010-09-10\",\"2010-09-17\",\"2010-09-24\",\"2010-10-01\",\"2010-10-08\",\"2010-10-15\",\"2010-10-22\",\"2010-10-29\",\"2010-11-05\",\"2010-11-12\",\"2010-11-19\",\"2010-11-26\",\"2010-12-03\",\"2010-12-10\",\"2010-12-17\",\"2010-12-24\",\"2010-12-31\",\"2011-01-07\",\"2011-01-14\",\"2011-01-21\",\"2011-01-28\",\"2011-02-04\",\"2011-02-11\",\"2011-02-18\",\"2011-02-25\",\"2011-03-04\",\"2011-03-11\",\"2011-03-18\",\"2011-03-25\",\"2011-04-01\",\"2011-04-08\",\"2011-04-15\",\"2011-04-22\",\"2011-04-29\",\"2011-05-06\",\"2011-05-13\",\"2011-05-20\",\"2011-05-27\",\"2011-06-03\",\"2011-06-10\",\"2011-06-17\",\"2011-06-24\",\"2011-07-01\",\"2011-07-08\",\"2011-07-15\",\"2011-07-22\",\"2011-07-29\",\"2011-08-05\",\"2011-08-12\",\"2011-08-19\",\"2011-08-26\",\"2011-09-02\",\"2011-09-09\",\"2011-09-16\",\"2011-09-23\",\"2011-09-30\",\"2011-10-07\",\"2011-10-14\",\"2011-10-21\",\"2011-10-28\",\"2011-11-04\",\"2011-11-11\",\"2011-11-18\",\"2011-11-25\",\"2011-12-02\",\"2011-12-09\",\"2011-12-16\",\"2011-12-23\",\"2011-12-30\",\"2012-01-06\",\"2012-01-13\",\"2012-01-20\",\"2012-01-27\",\"2012-02-03\",\"2012-02-10\",\"2012-02-17\",\"2012-02-24\",\"2012-03-02\",\"2012-03-09\",\"2012-03-16\",\"2012-03-23\",\"2012-03-30\",\"2012-04-06\",\"2012-04-13\",\"2012-04-20\",\"2012-04-27\",\"2012-05-04\",\"2012-05-11\",\"2012-05-18\",\"2012-05-25\",\"2012-06-01\",\"2012-06-08\",\"2012-06-15\",\"2012-06-22\",\"2012-06-29\",\"2012-07-06\",\"2012-07-13\",\"2012-07-20\",\"2012-07-27\",\"2012-08-03\",\"2012-08-10\",\"2012-08-17\",\"2012-08-24\",\"2012-08-31\",\"2012-09-07\",\"2012-09-14\",\"2012-09-21\",\"2012-09-28\",\"2012-10-05\",\"2012-10-12\",\"2012-10-19\",\"2012-10-26\"],\"y\":[49750740.5,48336677.63,48276993.78,43968571.13,46871470.3,45925396.51,44988974.64,44133961.05,50423831.26,47365290.44,45183667.08,44734452.56,43705126.71,48503243.52,45330080.2,45120108.06,47757502.56,50188543.12,47826546.72,47622046.23,46609036.29,48917484.5,47899529.37,46243899.58,44888849.11,44630363.42,48204999.12,46464418.410000004,47060952.92,45909740.44,47194257.61,45634397.84,43080726.51,41358514.41,42239875.87,45102974.23,43149473.45,43066669.52,43602830.95,45781981.89,46124800.83,45125584.18,65821003.24,49909027.88,55666770.39,61820799.85,80931415.6,40432519.0,42775787.77,40673678.04,40654648.03,39599852.99,46153111.12,47336192.79,48716164.12,44125859.84,46980603.74,44627319.4,44872325.97,42876199.18,43458991.19,45887466.8,44973328.14,48676692.06,43530032.78,46861958.29,45446144.82,44046598.01,45293457.04,48771994.18,47669734.66,47447561.77,45884094.58,47578519.5,47859263.78,45515929.92,45274411.39,43683274.28,48015466.97,46249569.21,46917347.62,47416948.45,45376623.27,46763227.53,43793960.08,42718096.73,42195830.81,47211688.36,44374820.3,45818953.44,45855821.05,48655544.3,48474224.75,46438980.56,66593605.26,49390556.49,55561147.7,60085695.94,76998241.31,46042461.04,44955421.95,42023078.48,42080996.56,39834974.67,46085608.09,50009407.92,50197056.96,45771506.57,46861034.97,47480454.11,46901504.94,44993794.45,45272862.02,53502315.87,46629261.41,45072529.78,43716798.89,47124197.93,46925878.99,46823939.22,47892463.31,48281649.72,49651171.78,48412110.7,47668284.97,46597112.12,51253021.88,46099732.1,46059543.45,44097154.97,47485899.56,47403451.04,47354452.05,47447323.6,47159639.43,48330059.31,44226038.65,44354547.11,43734899.4,47566639.31,46128514.25,45122410.57,45544116.29],\"type\":\"scatter\"},{\"name\":\"Weekly_Sales_RF1\",\"x\":[\"2010-02-05\",\"2010-02-12\",\"2010-02-19\",\"2010-02-26\",\"2010-03-05\",\"2010-03-12\",\"2010-03-19\",\"2010-03-26\",\"2010-04-02\",\"2010-04-09\",\"2010-04-16\",\"2010-04-23\",\"2010-04-30\",\"2010-05-07\",\"2010-05-14\",\"2010-05-21\",\"2010-05-28\",\"2010-06-04\",\"2010-06-11\",\"2010-06-18\",\"2010-06-25\",\"2010-07-02\",\"2010-07-09\",\"2010-07-16\",\"2010-07-23\",\"2010-07-30\",\"2010-08-06\",\"2010-08-13\",\"2010-08-20\",\"2010-08-27\",\"2010-09-03\",\"2010-09-10\",\"2010-09-17\",\"2010-09-24\",\"2010-10-01\",\"2010-10-08\",\"2010-10-15\",\"2010-10-22\",\"2010-10-29\",\"2010-11-05\",\"2010-11-12\",\"2010-11-19\",\"2010-11-26\",\"2010-12-03\",\"2010-12-10\",\"2010-12-17\",\"2010-12-24\",\"2010-12-31\",\"2011-01-07\",\"2011-01-14\",\"2011-01-21\",\"2011-01-28\",\"2011-02-04\",\"2011-02-11\",\"2011-02-18\",\"2011-02-25\",\"2011-03-04\",\"2011-03-11\",\"2011-03-18\",\"2011-03-25\",\"2011-04-01\",\"2011-04-08\",\"2011-04-15\",\"2011-04-22\",\"2011-04-29\",\"2011-05-06\",\"2011-05-13\",\"2011-05-20\",\"2011-05-27\",\"2011-06-03\",\"2011-06-10\",\"2011-06-17\",\"2011-06-24\",\"2011-07-01\",\"2011-07-08\",\"2011-07-15\",\"2011-07-22\",\"2011-07-29\",\"2011-08-05\",\"2011-08-12\",\"2011-08-19\",\"2011-08-26\",\"2011-09-02\",\"2011-09-09\",\"2011-09-16\",\"2011-09-23\",\"2011-09-30\",\"2011-10-07\",\"2011-10-14\",\"2011-10-21\",\"2011-10-28\",\"2011-11-04\",\"2011-11-11\",\"2011-11-18\",\"2011-11-25\",\"2011-12-02\",\"2011-12-09\",\"2011-12-16\",\"2011-12-23\",\"2011-12-30\",\"2012-01-06\",\"2012-01-13\",\"2012-01-20\",\"2012-01-27\",\"2012-02-03\",\"2012-02-10\",\"2012-02-17\",\"2012-02-24\",\"2012-03-02\",\"2012-03-09\",\"2012-03-16\",\"2012-03-23\",\"2012-03-30\",\"2012-04-06\",\"2012-04-13\",\"2012-04-20\",\"2012-04-27\",\"2012-05-04\",\"2012-05-11\",\"2012-05-18\",\"2012-05-25\",\"2012-06-01\",\"2012-06-08\",\"2012-06-15\",\"2012-06-22\",\"2012-06-29\",\"2012-07-06\",\"2012-07-13\",\"2012-07-20\",\"2012-07-27\",\"2012-08-03\",\"2012-08-10\",\"2012-08-17\",\"2012-08-24\",\"2012-08-31\",\"2012-09-07\",\"2012-09-14\",\"2012-09-21\",\"2012-09-28\",\"2012-10-05\",\"2012-10-12\",\"2012-10-19\",\"2012-10-26\"],\"y\":[46817106.826474175,46893701.32274101,47198595.049529165,46711542.86357627,46719369.24798031,46770176.76749688,46666154.2319728,46729931.00301319,46753101.40338023,46799213.55206075,46750696.168101534,46590994.70082446,46395212.26212332,46566227.2111376,46486315.176075555,46344365.22125243,46285227.401793525,46335589.68623859,46334420.93409004,46475029.90396562,46454569.68312096,46505407.67347705,46392494.503217794,46335029.35144574,46506557.266513124,46417736.98499257,46346714.03727657,46177572.19837541,46214272.18505912,46233829.07664459,46528244.919973135,46672067.984909385,46567683.29580649,46642195.60206792,46690684.77639986,46688107.30832216,46642631.78662462,46701218.32180547,46637241.108338796,46607672.19860935,46534872.0813891,46407201.89219782,46666286.943417475,46818268.07549706,46825370.94282405,46962795.498397894,46920704.83342836,46734086.74555801,46554296.261529885,46514582.62221178,46434784.13948195,46437161.165133364,46521846.41061072,46713929.99782537,46806886.86277826,46610553.139799066,47741247.94495819,47746030.2058883,46809996.456021525,46657265.14462676,46896566.12333906,46606095.471531376,46999135.59271503,46984265.02145081,46800584.29402471,47820330.757996395,47765414.86467477,46674645.45298708,46746104.58525979,46619633.61905658,46560323.56679868,47478433.57141251,46860646.78681005,46653280.43175157,46636737.1928005,46581821.29947887,46427377.79904293,46467595.35389934,46582353.42464444,46630842.59897638,47743253.766515985,47688869.998359926,47614861.6076368,47621820.45179206,46878947.32232979,46905330.346625835,46839565.365750976,47060886.17995577,46915350.92597835,46952554.82820036,47082211.679836966,46896326.15955845,47520047.05933935,47007034.53696529,48533534.59095333,47379508.46435522,48437468.13275717,48523998.27872037,48689622.54944884,48292465.00394531,47228887.47633566,47108034.36934017,47178830.13613428,46974831.7399036,48101941.245908424,48354856.43981922,48474111.700186335,47245110.34427449,48140570.761959806,47652717.56361035,47045378.98170857,47112456.737903714,46977265.184809566,48038134.0040285,47857466.92923681,47286352.62810772,46949037.26002767,47812307.663509995,47725993.38674163,47041937.70572601,46877986.10268439,46925971.36147803,47758920.41470348,47885812.13869482,47878072.64438485,46811213.29073293,47713776.57574523,47838263.06445788,47859760.797138065,47541869.60919881,47991594.231999815,47871645.92539517,47838330.795439474,47863677.77903166,47898866.01910047,47876731.659437306,47940091.40503348,47291859.119937986,47130168.72900333,48131871.5191361,48321645.81168092,46937656.04730886,47140789.164503016],\"type\":\"scatter\"}],                        {\"template\":{\"data\":{\"barpolar\":[{\"marker\":{\"line\":{\"color\":\"#E5ECF6\",\"width\":0.5},\"pattern\":{\"fillmode\":\"overlay\",\"size\":10,\"solidity\":0.2}},\"type\":\"barpolar\"}],\"bar\":[{\"error_x\":{\"color\":\"#2a3f5f\"},\"error_y\":{\"color\":\"#2a3f5f\"},\"marker\":{\"line\":{\"color\":\"#E5ECF6\",\"width\":0.5},\"pattern\":{\"fillmode\":\"overlay\",\"size\":10,\"solidity\":0.2}},\"type\":\"bar\"}],\"carpet\":[{\"aaxis\":{\"endlinecolor\":\"#2a3f5f\",\"gridcolor\":\"white\",\"linecolor\":\"white\",\"minorgridcolor\":\"white\",\"startlinecolor\":\"#2a3f5f\"},\"baxis\":{\"endlinecolor\":\"#2a3f5f\",\"gridcolor\":\"white\",\"linecolor\":\"white\",\"minorgridcolor\":\"white\",\"startlinecolor\":\"#2a3f5f\"},\"type\":\"carpet\"}],\"choropleth\":[{\"colorbar\":{\"outlinewidth\":0,\"ticks\":\"\"},\"type\":\"choropleth\"}],\"contourcarpet\":[{\"colorbar\":{\"outlinewidth\":0,\"ticks\":\"\"},\"type\":\"contourcarpet\"}],\"contour\":[{\"colorbar\":{\"outlinewidth\":0,\"ticks\":\"\"},\"colorscale\":[[0.0,\"#0d0887\"],[0.1111111111111111,\"#46039f\"],[0.2222222222222222,\"#7201a8\"],[0.3333333333333333,\"#9c179e\"],[0.4444444444444444,\"#bd3786\"],[0.5555555555555556,\"#d8576b\"],[0.6666666666666666,\"#ed7953\"],[0.7777777777777778,\"#fb9f3a\"],[0.8888888888888888,\"#fdca26\"],[1.0,\"#f0f921\"]],\"type\":\"contour\"}],\"heatmapgl\":[{\"colorbar\":{\"outlinewidth\":0,\"ticks\":\"\"},\"colorscale\":[[0.0,\"#0d0887\"],[0.1111111111111111,\"#46039f\"],[0.2222222222222222,\"#7201a8\"],[0.3333333333333333,\"#9c179e\"],[0.4444444444444444,\"#bd3786\"],[0.5555555555555556,\"#d8576b\"],[0.6666666666666666,\"#ed7953\"],[0.7777777777777778,\"#fb9f3a\"],[0.8888888888888888,\"#fdca26\"],[1.0,\"#f0f921\"]],\"type\":\"heatmapgl\"}],\"heatmap\":[{\"colorbar\":{\"outlinewidth\":0,\"ticks\":\"\"},\"colorscale\":[[0.0,\"#0d0887\"],[0.1111111111111111,\"#46039f\"],[0.2222222222222222,\"#7201a8\"],[0.3333333333333333,\"#9c179e\"],[0.4444444444444444,\"#bd3786\"],[0.5555555555555556,\"#d8576b\"],[0.6666666666666666,\"#ed7953\"],[0.7777777777777778,\"#fb9f3a\"],[0.8888888888888888,\"#fdca26\"],[1.0,\"#f0f921\"]],\"type\":\"heatmap\"}],\"histogram2dcontour\":[{\"colorbar\":{\"outlinewidth\":0,\"ticks\":\"\"},\"colorscale\":[[0.0,\"#0d0887\"],[0.1111111111111111,\"#46039f\"],[0.2222222222222222,\"#7201a8\"],[0.3333333333333333,\"#9c179e\"],[0.4444444444444444,\"#bd3786\"],[0.5555555555555556,\"#d8576b\"],[0.6666666666666666,\"#ed7953\"],[0.7777777777777778,\"#fb9f3a\"],[0.8888888888888888,\"#fdca26\"],[1.0,\"#f0f921\"]],\"type\":\"histogram2dcontour\"}],\"histogram2d\":[{\"colorbar\":{\"outlinewidth\":0,\"ticks\":\"\"},\"colorscale\":[[0.0,\"#0d0887\"],[0.1111111111111111,\"#46039f\"],[0.2222222222222222,\"#7201a8\"],[0.3333333333333333,\"#9c179e\"],[0.4444444444444444,\"#bd3786\"],[0.5555555555555556,\"#d8576b\"],[0.6666666666666666,\"#ed7953\"],[0.7777777777777778,\"#fb9f3a\"],[0.8888888888888888,\"#fdca26\"],[1.0,\"#f0f921\"]],\"type\":\"histogram2d\"}],\"histogram\":[{\"marker\":{\"pattern\":{\"fillmode\":\"overlay\",\"size\":10,\"solidity\":0.2}},\"type\":\"histogram\"}],\"mesh3d\":[{\"colorbar\":{\"outlinewidth\":0,\"ticks\":\"\"},\"type\":\"mesh3d\"}],\"parcoords\":[{\"line\":{\"colorbar\":{\"outlinewidth\":0,\"ticks\":\"\"}},\"type\":\"parcoords\"}],\"pie\":[{\"automargin\":true,\"type\":\"pie\"}],\"scatter3d\":[{\"line\":{\"colorbar\":{\"outlinewidth\":0,\"ticks\":\"\"}},\"marker\":{\"colorbar\":{\"outlinewidth\":0,\"ticks\":\"\"}},\"type\":\"scatter3d\"}],\"scattercarpet\":[{\"marker\":{\"colorbar\":{\"outlinewidth\":0,\"ticks\":\"\"}},\"type\":\"scattercarpet\"}],\"scattergeo\":[{\"marker\":{\"colorbar\":{\"outlinewidth\":0,\"ticks\":\"\"}},\"type\":\"scattergeo\"}],\"scattergl\":[{\"marker\":{\"colorbar\":{\"outlinewidth\":0,\"ticks\":\"\"}},\"type\":\"scattergl\"}],\"scattermapbox\":[{\"marker\":{\"colorbar\":{\"outlinewidth\":0,\"ticks\":\"\"}},\"type\":\"scattermapbox\"}],\"scatterpolargl\":[{\"marker\":{\"colorbar\":{\"outlinewidth\":0,\"ticks\":\"\"}},\"type\":\"scatterpolargl\"}],\"scatterpolar\":[{\"marker\":{\"colorbar\":{\"outlinewidth\":0,\"ticks\":\"\"}},\"type\":\"scatterpolar\"}],\"scatter\":[{\"marker\":{\"colorbar\":{\"outlinewidth\":0,\"ticks\":\"\"}},\"type\":\"scatter\"}],\"scatterternary\":[{\"marker\":{\"colorbar\":{\"outlinewidth\":0,\"ticks\":\"\"}},\"type\":\"scatterternary\"}],\"surface\":[{\"colorbar\":{\"outlinewidth\":0,\"ticks\":\"\"},\"colorscale\":[[0.0,\"#0d0887\"],[0.1111111111111111,\"#46039f\"],[0.2222222222222222,\"#7201a8\"],[0.3333333333333333,\"#9c179e\"],[0.4444444444444444,\"#bd3786\"],[0.5555555555555556,\"#d8576b\"],[0.6666666666666666,\"#ed7953\"],[0.7777777777777778,\"#fb9f3a\"],[0.8888888888888888,\"#fdca26\"],[1.0,\"#f0f921\"]],\"type\":\"surface\"}],\"table\":[{\"cells\":{\"fill\":{\"color\":\"#EBF0F8\"},\"line\":{\"color\":\"white\"}},\"header\":{\"fill\":{\"color\":\"#C8D4E3\"},\"line\":{\"color\":\"white\"}},\"type\":\"table\"}]},\"layout\":{\"annotationdefaults\":{\"arrowcolor\":\"#2a3f5f\",\"arrowhead\":0,\"arrowwidth\":1},\"autotypenumbers\":\"strict\",\"coloraxis\":{\"colorbar\":{\"outlinewidth\":0,\"ticks\":\"\"}},\"colorscale\":{\"diverging\":[[0,\"#8e0152\"],[0.1,\"#c51b7d\"],[0.2,\"#de77ae\"],[0.3,\"#f1b6da\"],[0.4,\"#fde0ef\"],[0.5,\"#f7f7f7\"],[0.6,\"#e6f5d0\"],[0.7,\"#b8e186\"],[0.8,\"#7fbc41\"],[0.9,\"#4d9221\"],[1,\"#276419\"]],\"sequential\":[[0.0,\"#0d0887\"],[0.1111111111111111,\"#46039f\"],[0.2222222222222222,\"#7201a8\"],[0.3333333333333333,\"#9c179e\"],[0.4444444444444444,\"#bd3786\"],[0.5555555555555556,\"#d8576b\"],[0.6666666666666666,\"#ed7953\"],[0.7777777777777778,\"#fb9f3a\"],[0.8888888888888888,\"#fdca26\"],[1.0,\"#f0f921\"]],\"sequentialminus\":[[0.0,\"#0d0887\"],[0.1111111111111111,\"#46039f\"],[0.2222222222222222,\"#7201a8\"],[0.3333333333333333,\"#9c179e\"],[0.4444444444444444,\"#bd3786\"],[0.5555555555555556,\"#d8576b\"],[0.6666666666666666,\"#ed7953\"],[0.7777777777777778,\"#fb9f3a\"],[0.8888888888888888,\"#fdca26\"],[1.0,\"#f0f921\"]]},\"colorway\":[\"#636efa\",\"#EF553B\",\"#00cc96\",\"#ab63fa\",\"#FFA15A\",\"#19d3f3\",\"#FF6692\",\"#B6E880\",\"#FF97FF\",\"#FECB52\"],\"font\":{\"color\":\"#2a3f5f\"},\"geo\":{\"bgcolor\":\"white\",\"lakecolor\":\"white\",\"landcolor\":\"#E5ECF6\",\"showlakes\":true,\"showland\":true,\"subunitcolor\":\"white\"},\"hoverlabel\":{\"align\":\"left\"},\"hovermode\":\"closest\",\"mapbox\":{\"style\":\"light\"},\"paper_bgcolor\":\"white\",\"plot_bgcolor\":\"#E5ECF6\",\"polar\":{\"angularaxis\":{\"gridcolor\":\"white\",\"linecolor\":\"white\",\"ticks\":\"\"},\"bgcolor\":\"#E5ECF6\",\"radialaxis\":{\"gridcolor\":\"white\",\"linecolor\":\"white\",\"ticks\":\"\"}},\"scene\":{\"xaxis\":{\"backgroundcolor\":\"#E5ECF6\",\"gridcolor\":\"white\",\"gridwidth\":2,\"linecolor\":\"white\",\"showbackground\":true,\"ticks\":\"\",\"zerolinecolor\":\"white\"},\"yaxis\":{\"backgroundcolor\":\"#E5ECF6\",\"gridcolor\":\"white\",\"gridwidth\":2,\"linecolor\":\"white\",\"showbackground\":true,\"ticks\":\"\",\"zerolinecolor\":\"white\"},\"zaxis\":{\"backgroundcolor\":\"#E5ECF6\",\"gridcolor\":\"white\",\"gridwidth\":2,\"linecolor\":\"white\",\"showbackground\":true,\"ticks\":\"\",\"zerolinecolor\":\"white\"}},\"shapedefaults\":{\"line\":{\"color\":\"#2a3f5f\"}},\"ternary\":{\"aaxis\":{\"gridcolor\":\"white\",\"linecolor\":\"white\",\"ticks\":\"\"},\"baxis\":{\"gridcolor\":\"white\",\"linecolor\":\"white\",\"ticks\":\"\"},\"bgcolor\":\"#E5ECF6\",\"caxis\":{\"gridcolor\":\"white\",\"linecolor\":\"white\",\"ticks\":\"\"}},\"title\":{\"x\":0.05},\"xaxis\":{\"automargin\":true,\"gridcolor\":\"white\",\"linecolor\":\"white\",\"ticks\":\"\",\"title\":{\"standoff\":15},\"zerolinecolor\":\"white\",\"zerolinewidth\":2},\"yaxis\":{\"automargin\":true,\"gridcolor\":\"white\",\"linecolor\":\"white\",\"ticks\":\"\",\"title\":{\"standoff\":15},\"zerolinecolor\":\"white\",\"zerolinewidth\":2}}},\"title\":{\"text\":\"rf1 Forcasting with initial parameters\"},\"xaxis\":{\"title\":{\"text\":\"Date\"}},\"yaxis\":{\"title\":{\"text\":\"Weekly_Sales_RF1\"}}},                        {\"responsive\": true}                    ).then(function(){\n",
              "                            \n",
              "var gd = document.getElementById('9543acca-cec7-4bcc-9e91-618188d8dda9');\n",
              "var x = new MutationObserver(function (mutations, observer) {{\n",
              "        var display = window.getComputedStyle(gd).display;\n",
              "        if (!display || display === 'none') {{\n",
              "            console.log([gd, 'removed!']);\n",
              "            Plotly.purge(gd);\n",
              "            observer.disconnect();\n",
              "        }}\n",
              "}});\n",
              "\n",
              "// Listen for the removal of the full notebook cells\n",
              "var notebookContainer = gd.closest('#notebook-container');\n",
              "if (notebookContainer) {{\n",
              "    x.observe(notebookContainer, {childList: true});\n",
              "}}\n",
              "\n",
              "// Listen for the clearing of the current output cell\n",
              "var outputEl = gd.closest('.output');\n",
              "if (outputEl) {{\n",
              "    x.observe(outputEl, {childList: true});\n",
              "}}\n",
              "\n",
              "                        })                };                            </script>        </div>\n",
              "</body>\n",
              "</html>"
            ]
          },
          "metadata": {}
        }
      ]
    },
    {
      "cell_type": "code",
      "source": [
        "forcasting_df['Weekly_Sales_RF1']=model_rf1.predict(test)\n",
        "forcasting_df.head()"
      ],
      "metadata": {
        "colab": {
          "base_uri": "https://localhost:8080/",
          "height": 206
        },
        "id": "uFBxw6UZpn2M",
        "outputId": "116d5504-06a6-49d2-fc3e-c8b7c5d48dc8"
      },
      "execution_count": null,
      "outputs": [
        {
          "output_type": "execute_result",
          "data": {
            "text/html": [
              "\n",
              "  <div id=\"df-67e5d3b8-4d6f-4ee0-8c45-e7d570f49107\">\n",
              "    <div class=\"colab-df-container\">\n",
              "      <div>\n",
              "<style scoped>\n",
              "    .dataframe tbody tr th:only-of-type {\n",
              "        vertical-align: middle;\n",
              "    }\n",
              "\n",
              "    .dataframe tbody tr th {\n",
              "        vertical-align: top;\n",
              "    }\n",
              "\n",
              "    .dataframe thead th {\n",
              "        text-align: right;\n",
              "    }\n",
              "</style>\n",
              "<table border=\"1\" class=\"dataframe\">\n",
              "  <thead>\n",
              "    <tr style=\"text-align: right;\">\n",
              "      <th></th>\n",
              "      <th>Store</th>\n",
              "      <th>Dept</th>\n",
              "      <th>Date</th>\n",
              "      <th>IsHoliday</th>\n",
              "      <th>Weekly_Sales_XGB1</th>\n",
              "      <th>Weekly_Sales_XGB2</th>\n",
              "      <th>Weekly_Sales_RF1</th>\n",
              "    </tr>\n",
              "  </thead>\n",
              "  <tbody>\n",
              "    <tr>\n",
              "      <th>0</th>\n",
              "      <td>1</td>\n",
              "      <td>1</td>\n",
              "      <td>2012-11-02</td>\n",
              "      <td>False</td>\n",
              "      <td>25300.494141</td>\n",
              "      <td>33412.070312</td>\n",
              "      <td>20793.374716</td>\n",
              "    </tr>\n",
              "    <tr>\n",
              "      <th>1</th>\n",
              "      <td>1</td>\n",
              "      <td>1</td>\n",
              "      <td>2012-11-09</td>\n",
              "      <td>False</td>\n",
              "      <td>25300.494141</td>\n",
              "      <td>17766.255859</td>\n",
              "      <td>20793.374716</td>\n",
              "    </tr>\n",
              "    <tr>\n",
              "      <th>2</th>\n",
              "      <td>1</td>\n",
              "      <td>1</td>\n",
              "      <td>2012-11-16</td>\n",
              "      <td>False</td>\n",
              "      <td>25300.494141</td>\n",
              "      <td>18617.652344</td>\n",
              "      <td>20793.374716</td>\n",
              "    </tr>\n",
              "    <tr>\n",
              "      <th>3</th>\n",
              "      <td>1</td>\n",
              "      <td>1</td>\n",
              "      <td>2012-11-23</td>\n",
              "      <td>True</td>\n",
              "      <td>31682.855469</td>\n",
              "      <td>20963.351562</td>\n",
              "      <td>20793.374716</td>\n",
              "    </tr>\n",
              "    <tr>\n",
              "      <th>4</th>\n",
              "      <td>1</td>\n",
              "      <td>1</td>\n",
              "      <td>2012-11-30</td>\n",
              "      <td>False</td>\n",
              "      <td>31682.855469</td>\n",
              "      <td>24738.539062</td>\n",
              "      <td>20793.374716</td>\n",
              "    </tr>\n",
              "  </tbody>\n",
              "</table>\n",
              "</div>\n",
              "      <button class=\"colab-df-convert\" onclick=\"convertToInteractive('df-67e5d3b8-4d6f-4ee0-8c45-e7d570f49107')\"\n",
              "              title=\"Convert this dataframe to an interactive table.\"\n",
              "              style=\"display:none;\">\n",
              "        \n",
              "  <svg xmlns=\"http://www.w3.org/2000/svg\" height=\"24px\"viewBox=\"0 0 24 24\"\n",
              "       width=\"24px\">\n",
              "    <path d=\"M0 0h24v24H0V0z\" fill=\"none\"/>\n",
              "    <path d=\"M18.56 5.44l.94 2.06.94-2.06 2.06-.94-2.06-.94-.94-2.06-.94 2.06-2.06.94zm-11 1L8.5 8.5l.94-2.06 2.06-.94-2.06-.94L8.5 2.5l-.94 2.06-2.06.94zm10 10l.94 2.06.94-2.06 2.06-.94-2.06-.94-.94-2.06-.94 2.06-2.06.94z\"/><path d=\"M17.41 7.96l-1.37-1.37c-.4-.4-.92-.59-1.43-.59-.52 0-1.04.2-1.43.59L10.3 9.45l-7.72 7.72c-.78.78-.78 2.05 0 2.83L4 21.41c.39.39.9.59 1.41.59.51 0 1.02-.2 1.41-.59l7.78-7.78 2.81-2.81c.8-.78.8-2.07 0-2.86zM5.41 20L4 18.59l7.72-7.72 1.47 1.35L5.41 20z\"/>\n",
              "  </svg>\n",
              "      </button>\n",
              "      \n",
              "  <style>\n",
              "    .colab-df-container {\n",
              "      display:flex;\n",
              "      flex-wrap:wrap;\n",
              "      gap: 12px;\n",
              "    }\n",
              "\n",
              "    .colab-df-convert {\n",
              "      background-color: #E8F0FE;\n",
              "      border: none;\n",
              "      border-radius: 50%;\n",
              "      cursor: pointer;\n",
              "      display: none;\n",
              "      fill: #1967D2;\n",
              "      height: 32px;\n",
              "      padding: 0 0 0 0;\n",
              "      width: 32px;\n",
              "    }\n",
              "\n",
              "    .colab-df-convert:hover {\n",
              "      background-color: #E2EBFA;\n",
              "      box-shadow: 0px 1px 2px rgba(60, 64, 67, 0.3), 0px 1px 3px 1px rgba(60, 64, 67, 0.15);\n",
              "      fill: #174EA6;\n",
              "    }\n",
              "\n",
              "    [theme=dark] .colab-df-convert {\n",
              "      background-color: #3B4455;\n",
              "      fill: #D2E3FC;\n",
              "    }\n",
              "\n",
              "    [theme=dark] .colab-df-convert:hover {\n",
              "      background-color: #434B5C;\n",
              "      box-shadow: 0px 1px 3px 1px rgba(0, 0, 0, 0.15);\n",
              "      filter: drop-shadow(0px 1px 2px rgba(0, 0, 0, 0.3));\n",
              "      fill: #FFFFFF;\n",
              "    }\n",
              "  </style>\n",
              "\n",
              "      <script>\n",
              "        const buttonEl =\n",
              "          document.querySelector('#df-67e5d3b8-4d6f-4ee0-8c45-e7d570f49107 button.colab-df-convert');\n",
              "        buttonEl.style.display =\n",
              "          google.colab.kernel.accessAllowed ? 'block' : 'none';\n",
              "\n",
              "        async function convertToInteractive(key) {\n",
              "          const element = document.querySelector('#df-67e5d3b8-4d6f-4ee0-8c45-e7d570f49107');\n",
              "          const dataTable =\n",
              "            await google.colab.kernel.invokeFunction('convertToInteractive',\n",
              "                                                     [key], {});\n",
              "          if (!dataTable) return;\n",
              "\n",
              "          const docLinkHtml = 'Like what you see? Visit the ' +\n",
              "            '<a target=\"_blank\" href=https://colab.research.google.com/notebooks/data_table.ipynb>data table notebook</a>'\n",
              "            + ' to learn more about interactive tables.';\n",
              "          element.innerHTML = '';\n",
              "          dataTable['output_type'] = 'display_data';\n",
              "          await google.colab.output.renderOutput(dataTable, element);\n",
              "          const docLink = document.createElement('div');\n",
              "          docLink.innerHTML = docLinkHtml;\n",
              "          element.appendChild(docLink);\n",
              "        }\n",
              "      </script>\n",
              "    </div>\n",
              "  </div>\n",
              "  "
            ],
            "text/plain": [
              "   Store  Dept  ... Weekly_Sales_XGB2  Weekly_Sales_RF1\n",
              "0      1     1  ...      33412.070312      20793.374716\n",
              "1      1     1  ...      17766.255859      20793.374716\n",
              "2      1     1  ...      18617.652344      20793.374716\n",
              "3      1     1  ...      20963.351562      20793.374716\n",
              "4      1     1  ...      24738.539062      20793.374716\n",
              "\n",
              "[5 rows x 7 columns]"
            ]
          },
          "metadata": {},
          "execution_count": 125
        }
      ]
    },
    {
      "cell_type": "code",
      "source": [
        "# To explore the time series data first we need to aggregate the sales by week\n",
        "daily_sales_RF1 = forcasting_df.groupby('Date', as_index=False)['Weekly_Sales_RF1'].sum()\n",
        "store_daily_sales_RF1  = forcasting_df.groupby(['Store', 'Date'], as_index=False)['Weekly_Sales_RF1'].sum()"
      ],
      "metadata": {
        "id": "mLsd9yDxyyDB"
      },
      "execution_count": null,
      "outputs": []
    },
    {
      "cell_type": "code",
      "source": [
        "plot1 = go.Scatter(x=Overall_Weekly_sales['Date'], y=Overall_Weekly_sales['Weekly_Sales'],name=\"Training set\")\n",
        "layout = go.Layout(title='Weekly sales', xaxis=dict(title='Date'), yaxis=dict(title='Weekly_Sales'))\n",
        "\n",
        "plot2 = go.Scatter(x=daily_sales_RF1['Date'], y=daily_sales_RF1['Weekly_Sales_RF1'],name=\"RandomForest1\")\n",
        "layout = go.Layout(title='Weekly Sales RandomForest1', xaxis=dict(title='Date'), yaxis=dict(title='Weekly_Sales_RF1'))\n",
        "\n",
        "fig = go.Figure(data=[plot1,plot2], layout=layout)\n",
        "iplot(fig)"
      ],
      "metadata": {
        "colab": {
          "base_uri": "https://localhost:8080/",
          "height": 542
        },
        "outputId": "d70bd706-aa4d-4161-dd34-2ae55a2db1e0",
        "id": "aysTKyGDzU_K"
      },
      "execution_count": null,
      "outputs": [
        {
          "output_type": "display_data",
          "data": {
            "text/html": [
              "<html>\n",
              "<head><meta charset=\"utf-8\" /></head>\n",
              "<body>\n",
              "    <div>            <script src=\"https://cdnjs.cloudflare.com/ajax/libs/mathjax/2.7.5/MathJax.js?config=TeX-AMS-MML_SVG\"></script><script type=\"text/javascript\">if (window.MathJax) {MathJax.Hub.Config({SVG: {font: \"STIX-Web\"}});}</script>                <script type=\"text/javascript\">window.PlotlyConfig = {MathJaxConfig: 'local'};</script>\n",
              "        <script src=\"https://cdn.plot.ly/plotly-2.8.3.min.js\"></script>                <div id=\"ae3a43ba-cac4-4879-a360-0846921e8414\" class=\"plotly-graph-div\" style=\"height:525px; width:100%;\"></div>            <script type=\"text/javascript\">                                    window.PLOTLYENV=window.PLOTLYENV || {};                                    if (document.getElementById(\"ae3a43ba-cac4-4879-a360-0846921e8414\")) {                    Plotly.newPlot(                        \"ae3a43ba-cac4-4879-a360-0846921e8414\",                        [{\"name\":\"Training set\",\"x\":[\"2010-02-05\",\"2010-02-12\",\"2010-02-19\",\"2010-02-26\",\"2010-03-05\",\"2010-03-12\",\"2010-03-19\",\"2010-03-26\",\"2010-04-02\",\"2010-04-09\",\"2010-04-16\",\"2010-04-23\",\"2010-04-30\",\"2010-05-07\",\"2010-05-14\",\"2010-05-21\",\"2010-05-28\",\"2010-06-04\",\"2010-06-11\",\"2010-06-18\",\"2010-06-25\",\"2010-07-02\",\"2010-07-09\",\"2010-07-16\",\"2010-07-23\",\"2010-07-30\",\"2010-08-06\",\"2010-08-13\",\"2010-08-20\",\"2010-08-27\",\"2010-09-03\",\"2010-09-10\",\"2010-09-17\",\"2010-09-24\",\"2010-10-01\",\"2010-10-08\",\"2010-10-15\",\"2010-10-22\",\"2010-10-29\",\"2010-11-05\",\"2010-11-12\",\"2010-11-19\",\"2010-11-26\",\"2010-12-03\",\"2010-12-10\",\"2010-12-17\",\"2010-12-24\",\"2010-12-31\",\"2011-01-07\",\"2011-01-14\",\"2011-01-21\",\"2011-01-28\",\"2011-02-04\",\"2011-02-11\",\"2011-02-18\",\"2011-02-25\",\"2011-03-04\",\"2011-03-11\",\"2011-03-18\",\"2011-03-25\",\"2011-04-01\",\"2011-04-08\",\"2011-04-15\",\"2011-04-22\",\"2011-04-29\",\"2011-05-06\",\"2011-05-13\",\"2011-05-20\",\"2011-05-27\",\"2011-06-03\",\"2011-06-10\",\"2011-06-17\",\"2011-06-24\",\"2011-07-01\",\"2011-07-08\",\"2011-07-15\",\"2011-07-22\",\"2011-07-29\",\"2011-08-05\",\"2011-08-12\",\"2011-08-19\",\"2011-08-26\",\"2011-09-02\",\"2011-09-09\",\"2011-09-16\",\"2011-09-23\",\"2011-09-30\",\"2011-10-07\",\"2011-10-14\",\"2011-10-21\",\"2011-10-28\",\"2011-11-04\",\"2011-11-11\",\"2011-11-18\",\"2011-11-25\",\"2011-12-02\",\"2011-12-09\",\"2011-12-16\",\"2011-12-23\",\"2011-12-30\",\"2012-01-06\",\"2012-01-13\",\"2012-01-20\",\"2012-01-27\",\"2012-02-03\",\"2012-02-10\",\"2012-02-17\",\"2012-02-24\",\"2012-03-02\",\"2012-03-09\",\"2012-03-16\",\"2012-03-23\",\"2012-03-30\",\"2012-04-06\",\"2012-04-13\",\"2012-04-20\",\"2012-04-27\",\"2012-05-04\",\"2012-05-11\",\"2012-05-18\",\"2012-05-25\",\"2012-06-01\",\"2012-06-08\",\"2012-06-15\",\"2012-06-22\",\"2012-06-29\",\"2012-07-06\",\"2012-07-13\",\"2012-07-20\",\"2012-07-27\",\"2012-08-03\",\"2012-08-10\",\"2012-08-17\",\"2012-08-24\",\"2012-08-31\",\"2012-09-07\",\"2012-09-14\",\"2012-09-21\",\"2012-09-28\",\"2012-10-05\",\"2012-10-12\",\"2012-10-19\",\"2012-10-26\"],\"y\":[49750740.5,48336677.63,48276993.78,43968571.13,46871470.3,45925396.51,44988974.64,44133961.05,50423831.26,47365290.44,45183667.08,44734452.56,43705126.71,48503243.52,45330080.2,45120108.06,47757502.56,50188543.12,47826546.72,47622046.23,46609036.29,48917484.5,47899529.37,46243899.58,44888849.11,44630363.42,48204999.12,46464418.410000004,47060952.92,45909740.44,47194257.61,45634397.84,43080726.51,41358514.41,42239875.87,45102974.23,43149473.45,43066669.52,43602830.95,45781981.89,46124800.83,45125584.18,65821003.24,49909027.88,55666770.39,61820799.85,80931415.6,40432519.0,42775787.77,40673678.04,40654648.03,39599852.99,46153111.12,47336192.79,48716164.12,44125859.84,46980603.74,44627319.4,44872325.97,42876199.18,43458991.19,45887466.8,44973328.14,48676692.06,43530032.78,46861958.29,45446144.82,44046598.01,45293457.04,48771994.18,47669734.66,47447561.77,45884094.58,47578519.5,47859263.78,45515929.92,45274411.39,43683274.28,48015466.97,46249569.21,46917347.62,47416948.45,45376623.27,46763227.53,43793960.08,42718096.73,42195830.81,47211688.36,44374820.3,45818953.44,45855821.05,48655544.3,48474224.75,46438980.56,66593605.26,49390556.49,55561147.7,60085695.94,76998241.31,46042461.04,44955421.95,42023078.48,42080996.56,39834974.67,46085608.09,50009407.92,50197056.96,45771506.57,46861034.97,47480454.11,46901504.94,44993794.45,45272862.02,53502315.87,46629261.41,45072529.78,43716798.89,47124197.93,46925878.99,46823939.22,47892463.31,48281649.72,49651171.78,48412110.7,47668284.97,46597112.12,51253021.88,46099732.1,46059543.45,44097154.97,47485899.56,47403451.04,47354452.05,47447323.6,47159639.43,48330059.31,44226038.65,44354547.11,43734899.4,47566639.31,46128514.25,45122410.57,45544116.29],\"type\":\"scatter\"},{\"name\":\"RandomForest1\",\"x\":[\"2012-11-02\",\"2012-11-09\",\"2012-11-16\",\"2012-11-23\",\"2012-11-30\",\"2012-12-07\",\"2012-12-14\",\"2012-12-21\",\"2012-12-28\",\"2013-01-04\",\"2013-01-11\",\"2013-01-18\",\"2013-01-25\",\"2013-02-01\",\"2013-02-08\",\"2013-02-15\",\"2013-02-22\",\"2013-03-01\",\"2013-03-08\",\"2013-03-15\",\"2013-03-22\",\"2013-03-29\",\"2013-04-05\",\"2013-04-12\",\"2013-04-19\",\"2013-04-26\",\"2013-05-03\",\"2013-05-10\",\"2013-05-17\",\"2013-05-24\",\"2013-05-31\",\"2013-06-07\",\"2013-06-14\",\"2013-06-21\",\"2013-06-28\",\"2013-07-05\",\"2013-07-12\",\"2013-07-19\",\"2013-07-26\"],\"y\":[47846630.62454229,47974414.36606576,47434353.982785404,48079703.85555951,47458996.60841301,48213846.58509108,48228213.24081701,48354152.08185464,48160631.56908357,47525941.65316347,46911140.31156813,46915922.57249825,46818876.49285276,47718210.25603583,47881457.50111287,48160603.35945629,47128479.16341627,46709404.59857608,46842723.0415571,46690988.24951188,46521113.843018875,47441068.74811855,47638279.061861314,47644402.30773898,47690010.5408812,47460521.13788661,47538751.45474701,47824600.76669652,47818734.38249968,47564879.08849389,47425133.92652318,47376701.17144578,47534834.472853415,46925795.01363752,46355489.572290406,47641901.13185141,46981547.9763684,47588553.40439922,47546462.7394297],\"type\":\"scatter\"}],                        {\"template\":{\"data\":{\"barpolar\":[{\"marker\":{\"line\":{\"color\":\"#E5ECF6\",\"width\":0.5},\"pattern\":{\"fillmode\":\"overlay\",\"size\":10,\"solidity\":0.2}},\"type\":\"barpolar\"}],\"bar\":[{\"error_x\":{\"color\":\"#2a3f5f\"},\"error_y\":{\"color\":\"#2a3f5f\"},\"marker\":{\"line\":{\"color\":\"#E5ECF6\",\"width\":0.5},\"pattern\":{\"fillmode\":\"overlay\",\"size\":10,\"solidity\":0.2}},\"type\":\"bar\"}],\"carpet\":[{\"aaxis\":{\"endlinecolor\":\"#2a3f5f\",\"gridcolor\":\"white\",\"linecolor\":\"white\",\"minorgridcolor\":\"white\",\"startlinecolor\":\"#2a3f5f\"},\"baxis\":{\"endlinecolor\":\"#2a3f5f\",\"gridcolor\":\"white\",\"linecolor\":\"white\",\"minorgridcolor\":\"white\",\"startlinecolor\":\"#2a3f5f\"},\"type\":\"carpet\"}],\"choropleth\":[{\"colorbar\":{\"outlinewidth\":0,\"ticks\":\"\"},\"type\":\"choropleth\"}],\"contourcarpet\":[{\"colorbar\":{\"outlinewidth\":0,\"ticks\":\"\"},\"type\":\"contourcarpet\"}],\"contour\":[{\"colorbar\":{\"outlinewidth\":0,\"ticks\":\"\"},\"colorscale\":[[0.0,\"#0d0887\"],[0.1111111111111111,\"#46039f\"],[0.2222222222222222,\"#7201a8\"],[0.3333333333333333,\"#9c179e\"],[0.4444444444444444,\"#bd3786\"],[0.5555555555555556,\"#d8576b\"],[0.6666666666666666,\"#ed7953\"],[0.7777777777777778,\"#fb9f3a\"],[0.8888888888888888,\"#fdca26\"],[1.0,\"#f0f921\"]],\"type\":\"contour\"}],\"heatmapgl\":[{\"colorbar\":{\"outlinewidth\":0,\"ticks\":\"\"},\"colorscale\":[[0.0,\"#0d0887\"],[0.1111111111111111,\"#46039f\"],[0.2222222222222222,\"#7201a8\"],[0.3333333333333333,\"#9c179e\"],[0.4444444444444444,\"#bd3786\"],[0.5555555555555556,\"#d8576b\"],[0.6666666666666666,\"#ed7953\"],[0.7777777777777778,\"#fb9f3a\"],[0.8888888888888888,\"#fdca26\"],[1.0,\"#f0f921\"]],\"type\":\"heatmapgl\"}],\"heatmap\":[{\"colorbar\":{\"outlinewidth\":0,\"ticks\":\"\"},\"colorscale\":[[0.0,\"#0d0887\"],[0.1111111111111111,\"#46039f\"],[0.2222222222222222,\"#7201a8\"],[0.3333333333333333,\"#9c179e\"],[0.4444444444444444,\"#bd3786\"],[0.5555555555555556,\"#d8576b\"],[0.6666666666666666,\"#ed7953\"],[0.7777777777777778,\"#fb9f3a\"],[0.8888888888888888,\"#fdca26\"],[1.0,\"#f0f921\"]],\"type\":\"heatmap\"}],\"histogram2dcontour\":[{\"colorbar\":{\"outlinewidth\":0,\"ticks\":\"\"},\"colorscale\":[[0.0,\"#0d0887\"],[0.1111111111111111,\"#46039f\"],[0.2222222222222222,\"#7201a8\"],[0.3333333333333333,\"#9c179e\"],[0.4444444444444444,\"#bd3786\"],[0.5555555555555556,\"#d8576b\"],[0.6666666666666666,\"#ed7953\"],[0.7777777777777778,\"#fb9f3a\"],[0.8888888888888888,\"#fdca26\"],[1.0,\"#f0f921\"]],\"type\":\"histogram2dcontour\"}],\"histogram2d\":[{\"colorbar\":{\"outlinewidth\":0,\"ticks\":\"\"},\"colorscale\":[[0.0,\"#0d0887\"],[0.1111111111111111,\"#46039f\"],[0.2222222222222222,\"#7201a8\"],[0.3333333333333333,\"#9c179e\"],[0.4444444444444444,\"#bd3786\"],[0.5555555555555556,\"#d8576b\"],[0.6666666666666666,\"#ed7953\"],[0.7777777777777778,\"#fb9f3a\"],[0.8888888888888888,\"#fdca26\"],[1.0,\"#f0f921\"]],\"type\":\"histogram2d\"}],\"histogram\":[{\"marker\":{\"pattern\":{\"fillmode\":\"overlay\",\"size\":10,\"solidity\":0.2}},\"type\":\"histogram\"}],\"mesh3d\":[{\"colorbar\":{\"outlinewidth\":0,\"ticks\":\"\"},\"type\":\"mesh3d\"}],\"parcoords\":[{\"line\":{\"colorbar\":{\"outlinewidth\":0,\"ticks\":\"\"}},\"type\":\"parcoords\"}],\"pie\":[{\"automargin\":true,\"type\":\"pie\"}],\"scatter3d\":[{\"line\":{\"colorbar\":{\"outlinewidth\":0,\"ticks\":\"\"}},\"marker\":{\"colorbar\":{\"outlinewidth\":0,\"ticks\":\"\"}},\"type\":\"scatter3d\"}],\"scattercarpet\":[{\"marker\":{\"colorbar\":{\"outlinewidth\":0,\"ticks\":\"\"}},\"type\":\"scattercarpet\"}],\"scattergeo\":[{\"marker\":{\"colorbar\":{\"outlinewidth\":0,\"ticks\":\"\"}},\"type\":\"scattergeo\"}],\"scattergl\":[{\"marker\":{\"colorbar\":{\"outlinewidth\":0,\"ticks\":\"\"}},\"type\":\"scattergl\"}],\"scattermapbox\":[{\"marker\":{\"colorbar\":{\"outlinewidth\":0,\"ticks\":\"\"}},\"type\":\"scattermapbox\"}],\"scatterpolargl\":[{\"marker\":{\"colorbar\":{\"outlinewidth\":0,\"ticks\":\"\"}},\"type\":\"scatterpolargl\"}],\"scatterpolar\":[{\"marker\":{\"colorbar\":{\"outlinewidth\":0,\"ticks\":\"\"}},\"type\":\"scatterpolar\"}],\"scatter\":[{\"marker\":{\"colorbar\":{\"outlinewidth\":0,\"ticks\":\"\"}},\"type\":\"scatter\"}],\"scatterternary\":[{\"marker\":{\"colorbar\":{\"outlinewidth\":0,\"ticks\":\"\"}},\"type\":\"scatterternary\"}],\"surface\":[{\"colorbar\":{\"outlinewidth\":0,\"ticks\":\"\"},\"colorscale\":[[0.0,\"#0d0887\"],[0.1111111111111111,\"#46039f\"],[0.2222222222222222,\"#7201a8\"],[0.3333333333333333,\"#9c179e\"],[0.4444444444444444,\"#bd3786\"],[0.5555555555555556,\"#d8576b\"],[0.6666666666666666,\"#ed7953\"],[0.7777777777777778,\"#fb9f3a\"],[0.8888888888888888,\"#fdca26\"],[1.0,\"#f0f921\"]],\"type\":\"surface\"}],\"table\":[{\"cells\":{\"fill\":{\"color\":\"#EBF0F8\"},\"line\":{\"color\":\"white\"}},\"header\":{\"fill\":{\"color\":\"#C8D4E3\"},\"line\":{\"color\":\"white\"}},\"type\":\"table\"}]},\"layout\":{\"annotationdefaults\":{\"arrowcolor\":\"#2a3f5f\",\"arrowhead\":0,\"arrowwidth\":1},\"autotypenumbers\":\"strict\",\"coloraxis\":{\"colorbar\":{\"outlinewidth\":0,\"ticks\":\"\"}},\"colorscale\":{\"diverging\":[[0,\"#8e0152\"],[0.1,\"#c51b7d\"],[0.2,\"#de77ae\"],[0.3,\"#f1b6da\"],[0.4,\"#fde0ef\"],[0.5,\"#f7f7f7\"],[0.6,\"#e6f5d0\"],[0.7,\"#b8e186\"],[0.8,\"#7fbc41\"],[0.9,\"#4d9221\"],[1,\"#276419\"]],\"sequential\":[[0.0,\"#0d0887\"],[0.1111111111111111,\"#46039f\"],[0.2222222222222222,\"#7201a8\"],[0.3333333333333333,\"#9c179e\"],[0.4444444444444444,\"#bd3786\"],[0.5555555555555556,\"#d8576b\"],[0.6666666666666666,\"#ed7953\"],[0.7777777777777778,\"#fb9f3a\"],[0.8888888888888888,\"#fdca26\"],[1.0,\"#f0f921\"]],\"sequentialminus\":[[0.0,\"#0d0887\"],[0.1111111111111111,\"#46039f\"],[0.2222222222222222,\"#7201a8\"],[0.3333333333333333,\"#9c179e\"],[0.4444444444444444,\"#bd3786\"],[0.5555555555555556,\"#d8576b\"],[0.6666666666666666,\"#ed7953\"],[0.7777777777777778,\"#fb9f3a\"],[0.8888888888888888,\"#fdca26\"],[1.0,\"#f0f921\"]]},\"colorway\":[\"#636efa\",\"#EF553B\",\"#00cc96\",\"#ab63fa\",\"#FFA15A\",\"#19d3f3\",\"#FF6692\",\"#B6E880\",\"#FF97FF\",\"#FECB52\"],\"font\":{\"color\":\"#2a3f5f\"},\"geo\":{\"bgcolor\":\"white\",\"lakecolor\":\"white\",\"landcolor\":\"#E5ECF6\",\"showlakes\":true,\"showland\":true,\"subunitcolor\":\"white\"},\"hoverlabel\":{\"align\":\"left\"},\"hovermode\":\"closest\",\"mapbox\":{\"style\":\"light\"},\"paper_bgcolor\":\"white\",\"plot_bgcolor\":\"#E5ECF6\",\"polar\":{\"angularaxis\":{\"gridcolor\":\"white\",\"linecolor\":\"white\",\"ticks\":\"\"},\"bgcolor\":\"#E5ECF6\",\"radialaxis\":{\"gridcolor\":\"white\",\"linecolor\":\"white\",\"ticks\":\"\"}},\"scene\":{\"xaxis\":{\"backgroundcolor\":\"#E5ECF6\",\"gridcolor\":\"white\",\"gridwidth\":2,\"linecolor\":\"white\",\"showbackground\":true,\"ticks\":\"\",\"zerolinecolor\":\"white\"},\"yaxis\":{\"backgroundcolor\":\"#E5ECF6\",\"gridcolor\":\"white\",\"gridwidth\":2,\"linecolor\":\"white\",\"showbackground\":true,\"ticks\":\"\",\"zerolinecolor\":\"white\"},\"zaxis\":{\"backgroundcolor\":\"#E5ECF6\",\"gridcolor\":\"white\",\"gridwidth\":2,\"linecolor\":\"white\",\"showbackground\":true,\"ticks\":\"\",\"zerolinecolor\":\"white\"}},\"shapedefaults\":{\"line\":{\"color\":\"#2a3f5f\"}},\"ternary\":{\"aaxis\":{\"gridcolor\":\"white\",\"linecolor\":\"white\",\"ticks\":\"\"},\"baxis\":{\"gridcolor\":\"white\",\"linecolor\":\"white\",\"ticks\":\"\"},\"bgcolor\":\"#E5ECF6\",\"caxis\":{\"gridcolor\":\"white\",\"linecolor\":\"white\",\"ticks\":\"\"}},\"title\":{\"x\":0.05},\"xaxis\":{\"automargin\":true,\"gridcolor\":\"white\",\"linecolor\":\"white\",\"ticks\":\"\",\"title\":{\"standoff\":15},\"zerolinecolor\":\"white\",\"zerolinewidth\":2},\"yaxis\":{\"automargin\":true,\"gridcolor\":\"white\",\"linecolor\":\"white\",\"ticks\":\"\",\"title\":{\"standoff\":15},\"zerolinecolor\":\"white\",\"zerolinewidth\":2}}},\"title\":{\"text\":\"Weekly Sales RandomForest1\"},\"xaxis\":{\"title\":{\"text\":\"Date\"}},\"yaxis\":{\"title\":{\"text\":\"Weekly_Sales_RF1\"}}},                        {\"responsive\": true}                    ).then(function(){\n",
              "                            \n",
              "var gd = document.getElementById('ae3a43ba-cac4-4879-a360-0846921e8414');\n",
              "var x = new MutationObserver(function (mutations, observer) {{\n",
              "        var display = window.getComputedStyle(gd).display;\n",
              "        if (!display || display === 'none') {{\n",
              "            console.log([gd, 'removed!']);\n",
              "            Plotly.purge(gd);\n",
              "            observer.disconnect();\n",
              "        }}\n",
              "}});\n",
              "\n",
              "// Listen for the removal of the full notebook cells\n",
              "var notebookContainer = gd.closest('#notebook-container');\n",
              "if (notebookContainer) {{\n",
              "    x.observe(notebookContainer, {childList: true});\n",
              "}}\n",
              "\n",
              "// Listen for the clearing of the current output cell\n",
              "var outputEl = gd.closest('.output');\n",
              "if (outputEl) {{\n",
              "    x.observe(outputEl, {childList: true});\n",
              "}}\n",
              "\n",
              "                        })                };                            </script>        </div>\n",
              "</body>\n",
              "</html>"
            ]
          },
          "metadata": {}
        }
      ]
    },
    {
      "cell_type": "markdown",
      "source": [
        "# **Random Forest with Hyper Parameter**"
      ],
      "metadata": {
        "id": "vW9a-ACgYsm1"
      }
    },
    {
      "cell_type": "code",
      "source": [
        "def RFM_hyper_params(param_name, param_values):\n",
        "    Test_err = []\n",
        "    for value in param_values:\n",
        "        params = {param_name: value}\n",
        "        model = RandomForestRegressor(max_depth=2, random_state=0,**params).fit(X_train, y_train)\n",
        "        predected_test=model.predict(X_test)\n",
        "        MAPE_test_pred = metrics.mean_absolute_percentage_error(y_test, predected_test)\n",
        "        Test_err.append(MAPE_test_pred)\n",
        "    min_error=min(Test_err)\n",
        "    best_param = param_values[Test_err.index(min_error)]\n",
        "    return best_param"
      ],
      "metadata": {
        "id": "aO4SfJXXrU38"
      },
      "execution_count": null,
      "outputs": []
    },
    {
      "cell_type": "code",
      "source": [
        "hyper_n_estimators_rf=RFM_hyper_params('n_estimators', range(50,60,2))\n",
        "hyper_max_features_rf=RFM_hyper_params('max_features', [0.1,0.25,0.50,0.75])\n"
      ],
      "metadata": {
        "id": "kNRi_RH9rs0q"
      },
      "execution_count": null,
      "outputs": []
    },
    {
      "cell_type": "markdown",
      "source": [
        "**Best parameters for Random Forest Model**"
      ],
      "metadata": {
        "id": "9O1DSxykdV2I"
      }
    },
    {
      "cell_type": "code",
      "source": [
        "print(' n_estimators :',hyper_n_estimators_rf,\"\\n\",\n",
        "      \"max_features :\",hyper_max_features_rf)"
      ],
      "metadata": {
        "colab": {
          "base_uri": "https://localhost:8080/"
        },
        "id": "geHwE5UPhrIG",
        "outputId": "9b65a813-1ce0-4518-f63a-80aa78b2726e"
      },
      "execution_count": null,
      "outputs": [
        {
          "output_type": "stream",
          "name": "stdout",
          "text": [
            " n_estimators : 54 \n",
            " max_features : 0.75\n"
          ]
        }
      ]
    },
    {
      "cell_type": "code",
      "source": [
        "model_rf2= RandomForestRegressor(n_estimators=hyper_n_estimators_rf, max_depth=25, max_features=hyper_max_features_rf,\n",
        "                           min_samples_split=3, min_samples_leaf=1)\n",
        "model_rf2.fit(X_train, y_train)\n",
        "rf2_train_pred=model_rf2.predict(X_train)\n",
        "rf2_test_preds = model_rf2.predict(X_test)\n"
      ],
      "metadata": {
        "id": "k0CbxkWCrcF0"
      },
      "execution_count": null,
      "outputs": []
    },
    {
      "cell_type": "code",
      "source": [
        "print('Mean Absolute Error for train (MAE): ', metrics.mean_absolute_error(y_train, rf2_train_pred))\n",
        "print('Mean Absolute Error for test (MAE) :', metrics.mean_absolute_error(y_test, rf2_test_preds))\n"
      ],
      "metadata": {
        "colab": {
          "base_uri": "https://localhost:8080/"
        },
        "outputId": "2f3dffd1-4ca0-47d4-f19e-5453cd145068",
        "id": "IDimT95mdkPs"
      },
      "execution_count": null,
      "outputs": [
        {
          "output_type": "stream",
          "name": "stdout",
          "text": [
            "Mean Absolute Error for train (MAE):  672.3623862954305\n",
            "Mean Absolute Error for test (MAE) : 1433.4466752852504\n"
          ]
        }
      ]
    },
    {
      "cell_type": "code",
      "source": [
        ""
      ],
      "metadata": {
        "id": "NUvMw5rAdLxa"
      },
      "execution_count": null,
      "outputs": []
    },
    {
      "cell_type": "code",
      "source": [
        "forcasting_train['Weekly_Sales_RF2']=model_rf2.predict(X)\n",
        "# To explore the time series data first we need to aggregate the sales by week\n",
        "daily_sales_rf2 = forcasting_train.groupby('Date', as_index=False)['Weekly_Sales_RF2'].sum()\n",
        "# Overall Weekly sales\n",
        "plot1 = go.Scatter(x=Overall_Weekly_sales['Date'], y=Overall_Weekly_sales['Weekly_Sales'],name=\"Training set\")\n",
        "layout = go.Layout(title='Weekly sales', xaxis=dict(title='Date'), yaxis=dict(title='Weekly_Sales'))\n",
        "\n",
        "plot2 = go.Scatter(x=daily_sales_rf2['Date'], y=daily_sales_rf2['Weekly_Sales_RF2'],name=\"Weekly_Sales_RF2\")\n",
        "layout = go.Layout(title='rf2 Forcasting with hyper parameters', xaxis=dict(title='Date'), yaxis=dict(title='Weekly_Sales_RF2'))\n",
        "fig = go.Figure(data=[plot1,plot2], layout=layout)\n",
        "iplot(fig)"
      ],
      "metadata": {
        "colab": {
          "base_uri": "https://localhost:8080/",
          "height": 542
        },
        "outputId": "6b33aa48-1978-4475-a6a9-4142c5c070ec",
        "id": "D9U49MBwaS3d"
      },
      "execution_count": null,
      "outputs": [
        {
          "output_type": "display_data",
          "data": {
            "text/html": [
              "<html>\n",
              "<head><meta charset=\"utf-8\" /></head>\n",
              "<body>\n",
              "    <div>            <script src=\"https://cdnjs.cloudflare.com/ajax/libs/mathjax/2.7.5/MathJax.js?config=TeX-AMS-MML_SVG\"></script><script type=\"text/javascript\">if (window.MathJax) {MathJax.Hub.Config({SVG: {font: \"STIX-Web\"}});}</script>                <script type=\"text/javascript\">window.PlotlyConfig = {MathJaxConfig: 'local'};</script>\n",
              "        <script src=\"https://cdn.plot.ly/plotly-2.8.3.min.js\"></script>                <div id=\"25113e41-c52a-491f-9e38-562517d288e6\" class=\"plotly-graph-div\" style=\"height:525px; width:100%;\"></div>            <script type=\"text/javascript\">                                    window.PLOTLYENV=window.PLOTLYENV || {};                                    if (document.getElementById(\"25113e41-c52a-491f-9e38-562517d288e6\")) {                    Plotly.newPlot(                        \"25113e41-c52a-491f-9e38-562517d288e6\",                        [{\"name\":\"Training set\",\"x\":[\"2010-02-05\",\"2010-02-12\",\"2010-02-19\",\"2010-02-26\",\"2010-03-05\",\"2010-03-12\",\"2010-03-19\",\"2010-03-26\",\"2010-04-02\",\"2010-04-09\",\"2010-04-16\",\"2010-04-23\",\"2010-04-30\",\"2010-05-07\",\"2010-05-14\",\"2010-05-21\",\"2010-05-28\",\"2010-06-04\",\"2010-06-11\",\"2010-06-18\",\"2010-06-25\",\"2010-07-02\",\"2010-07-09\",\"2010-07-16\",\"2010-07-23\",\"2010-07-30\",\"2010-08-06\",\"2010-08-13\",\"2010-08-20\",\"2010-08-27\",\"2010-09-03\",\"2010-09-10\",\"2010-09-17\",\"2010-09-24\",\"2010-10-01\",\"2010-10-08\",\"2010-10-15\",\"2010-10-22\",\"2010-10-29\",\"2010-11-05\",\"2010-11-12\",\"2010-11-19\",\"2010-11-26\",\"2010-12-03\",\"2010-12-10\",\"2010-12-17\",\"2010-12-24\",\"2010-12-31\",\"2011-01-07\",\"2011-01-14\",\"2011-01-21\",\"2011-01-28\",\"2011-02-04\",\"2011-02-11\",\"2011-02-18\",\"2011-02-25\",\"2011-03-04\",\"2011-03-11\",\"2011-03-18\",\"2011-03-25\",\"2011-04-01\",\"2011-04-08\",\"2011-04-15\",\"2011-04-22\",\"2011-04-29\",\"2011-05-06\",\"2011-05-13\",\"2011-05-20\",\"2011-05-27\",\"2011-06-03\",\"2011-06-10\",\"2011-06-17\",\"2011-06-24\",\"2011-07-01\",\"2011-07-08\",\"2011-07-15\",\"2011-07-22\",\"2011-07-29\",\"2011-08-05\",\"2011-08-12\",\"2011-08-19\",\"2011-08-26\",\"2011-09-02\",\"2011-09-09\",\"2011-09-16\",\"2011-09-23\",\"2011-09-30\",\"2011-10-07\",\"2011-10-14\",\"2011-10-21\",\"2011-10-28\",\"2011-11-04\",\"2011-11-11\",\"2011-11-18\",\"2011-11-25\",\"2011-12-02\",\"2011-12-09\",\"2011-12-16\",\"2011-12-23\",\"2011-12-30\",\"2012-01-06\",\"2012-01-13\",\"2012-01-20\",\"2012-01-27\",\"2012-02-03\",\"2012-02-10\",\"2012-02-17\",\"2012-02-24\",\"2012-03-02\",\"2012-03-09\",\"2012-03-16\",\"2012-03-23\",\"2012-03-30\",\"2012-04-06\",\"2012-04-13\",\"2012-04-20\",\"2012-04-27\",\"2012-05-04\",\"2012-05-11\",\"2012-05-18\",\"2012-05-25\",\"2012-06-01\",\"2012-06-08\",\"2012-06-15\",\"2012-06-22\",\"2012-06-29\",\"2012-07-06\",\"2012-07-13\",\"2012-07-20\",\"2012-07-27\",\"2012-08-03\",\"2012-08-10\",\"2012-08-17\",\"2012-08-24\",\"2012-08-31\",\"2012-09-07\",\"2012-09-14\",\"2012-09-21\",\"2012-09-28\",\"2012-10-05\",\"2012-10-12\",\"2012-10-19\",\"2012-10-26\"],\"y\":[49750740.5,48336677.63,48276993.78,43968571.13,46871470.3,45925396.51,44988974.64,44133961.05,50423831.26,47365290.44,45183667.08,44734452.56,43705126.71,48503243.52,45330080.2,45120108.06,47757502.56,50188543.12,47826546.72,47622046.23,46609036.29,48917484.5,47899529.37,46243899.58,44888849.11,44630363.42,48204999.12,46464418.410000004,47060952.92,45909740.44,47194257.61,45634397.84,43080726.51,41358514.41,42239875.87,45102974.23,43149473.45,43066669.52,43602830.95,45781981.89,46124800.83,45125584.18,65821003.24,49909027.88,55666770.39,61820799.85,80931415.6,40432519.0,42775787.77,40673678.04,40654648.03,39599852.99,46153111.12,47336192.79,48716164.12,44125859.84,46980603.74,44627319.4,44872325.97,42876199.18,43458991.19,45887466.8,44973328.14,48676692.06,43530032.78,46861958.29,45446144.82,44046598.01,45293457.04,48771994.18,47669734.66,47447561.77,45884094.58,47578519.5,47859263.78,45515929.92,45274411.39,43683274.28,48015466.97,46249569.21,46917347.62,47416948.45,45376623.27,46763227.53,43793960.08,42718096.73,42195830.81,47211688.36,44374820.3,45818953.44,45855821.05,48655544.3,48474224.75,46438980.56,66593605.26,49390556.49,55561147.7,60085695.94,76998241.31,46042461.04,44955421.95,42023078.48,42080996.56,39834974.67,46085608.09,50009407.92,50197056.96,45771506.57,46861034.97,47480454.11,46901504.94,44993794.45,45272862.02,53502315.87,46629261.41,45072529.78,43716798.89,47124197.93,46925878.99,46823939.22,47892463.31,48281649.72,49651171.78,48412110.7,47668284.97,46597112.12,51253021.88,46099732.1,46059543.45,44097154.97,47485899.56,47403451.04,47354452.05,47447323.6,47159639.43,48330059.31,44226038.65,44354547.11,43734899.4,47566639.31,46128514.25,45122410.57,45544116.29],\"type\":\"scatter\"},{\"name\":\"Weekly_Sales_RF2\",\"x\":[\"2010-02-05\",\"2010-02-12\",\"2010-02-19\",\"2010-02-26\",\"2010-03-05\",\"2010-03-12\",\"2010-03-19\",\"2010-03-26\",\"2010-04-02\",\"2010-04-09\",\"2010-04-16\",\"2010-04-23\",\"2010-04-30\",\"2010-05-07\",\"2010-05-14\",\"2010-05-21\",\"2010-05-28\",\"2010-06-04\",\"2010-06-11\",\"2010-06-18\",\"2010-06-25\",\"2010-07-02\",\"2010-07-09\",\"2010-07-16\",\"2010-07-23\",\"2010-07-30\",\"2010-08-06\",\"2010-08-13\",\"2010-08-20\",\"2010-08-27\",\"2010-09-03\",\"2010-09-10\",\"2010-09-17\",\"2010-09-24\",\"2010-10-01\",\"2010-10-08\",\"2010-10-15\",\"2010-10-22\",\"2010-10-29\",\"2010-11-05\",\"2010-11-12\",\"2010-11-19\",\"2010-11-26\",\"2010-12-03\",\"2010-12-10\",\"2010-12-17\",\"2010-12-24\",\"2010-12-31\",\"2011-01-07\",\"2011-01-14\",\"2011-01-21\",\"2011-01-28\",\"2011-02-04\",\"2011-02-11\",\"2011-02-18\",\"2011-02-25\",\"2011-03-04\",\"2011-03-11\",\"2011-03-18\",\"2011-03-25\",\"2011-04-01\",\"2011-04-08\",\"2011-04-15\",\"2011-04-22\",\"2011-04-29\",\"2011-05-06\",\"2011-05-13\",\"2011-05-20\",\"2011-05-27\",\"2011-06-03\",\"2011-06-10\",\"2011-06-17\",\"2011-06-24\",\"2011-07-01\",\"2011-07-08\",\"2011-07-15\",\"2011-07-22\",\"2011-07-29\",\"2011-08-05\",\"2011-08-12\",\"2011-08-19\",\"2011-08-26\",\"2011-09-02\",\"2011-09-09\",\"2011-09-16\",\"2011-09-23\",\"2011-09-30\",\"2011-10-07\",\"2011-10-14\",\"2011-10-21\",\"2011-10-28\",\"2011-11-04\",\"2011-11-11\",\"2011-11-18\",\"2011-11-25\",\"2011-12-02\",\"2011-12-09\",\"2011-12-16\",\"2011-12-23\",\"2011-12-30\",\"2012-01-06\",\"2012-01-13\",\"2012-01-20\",\"2012-01-27\",\"2012-02-03\",\"2012-02-10\",\"2012-02-17\",\"2012-02-24\",\"2012-03-02\",\"2012-03-09\",\"2012-03-16\",\"2012-03-23\",\"2012-03-30\",\"2012-04-06\",\"2012-04-13\",\"2012-04-20\",\"2012-04-27\",\"2012-05-04\",\"2012-05-11\",\"2012-05-18\",\"2012-05-25\",\"2012-06-01\",\"2012-06-08\",\"2012-06-15\",\"2012-06-22\",\"2012-06-29\",\"2012-07-06\",\"2012-07-13\",\"2012-07-20\",\"2012-07-27\",\"2012-08-03\",\"2012-08-10\",\"2012-08-17\",\"2012-08-24\",\"2012-08-31\",\"2012-09-07\",\"2012-09-14\",\"2012-09-21\",\"2012-09-28\",\"2012-10-05\",\"2012-10-12\",\"2012-10-19\",\"2012-10-26\"],\"y\":[47557636.76928905,48522539.94758707,47874311.236529514,45589917.56165079,46085295.59157054,45764309.55093289,45446703.64537849,45272873.205855325,47644692.89904068,47176653.784691066,45667279.491294876,45394450.92244408,44856699.63687891,46500246.65631376,46293795.029335454,45813765.381168045,47295392.52495975,48623180.92489841,48015058.846367575,47683387.20053465,47398666.3897357,47721974.16674327,47358516.74474016,46349575.6888509,45722099.50172615,45400696.52859526,46753496.226878695,46664345.64791688,46771080.81187969,46571055.89407895,46115659.65168333,45880221.012785666,43234445.971949,42515539.93414686,42595818.14829561,43964611.835028835,43626180.237463966,43565374.4214252,44158269.922342986,45349050.60546019,45976581.594527654,45695544.1312257,64533752.983940594,51755181.203272305,55387899.91604074,61352425.91285992,74987835.25889775,46144469.5423735,42432508.795783244,41304389.46120938,40872212.832861975,40926637.80849717,45313362.49934044,47702202.04291774,47411251.82080207,45200240.26027461,45748499.12504136,45157866.12508444,44836085.57817038,44112046.84366716,44756790.65061783,46033998.24105729,45710383.59645047,46304847.149256796,44926070.789229475,45725102.49831819,45587654.24124663,45010379.81231113,46213065.36490937,47640767.57825055,47430099.98001953,47294026.43085672,46955249.56763971,47115728.82712745,47204433.89225129,46033393.6166759,45480078.250813805,44949553.63196838,46508772.82346068,46506983.46582019,46782153.40594918,46952235.08013464,45947314.735975616,46467326.14370948,43817574.10132673,43359189.3937343,43368577.54461315,45337508.633845955,45095872.103287175,45402543.937324874,46035964.850650504,47206636.7433371,47665297.228457496,47234046.35274049,64948118.05883097,51940304.516802065,55315860.28113847,60753285.5286443,73178670.84759448,49175471.21873669,43746897.2962508,42481674.332997926,41902785.552531354,41794601.5590105,45926798.27648325,48986895.206958346,48783708.15521454,46475165.498241715,46800788.02130279,46776522.09727667,46530224.42550775,45899387.860249795,46766559.11957875,49361098.47533018,47485842.75319737,46232573.4193409,45425165.105958626,46570257.7386334,46903146.990338445,46827015.84284825,47718781.8079358,48555187.553598195,48709910.33187994,48435368.76029958,48051446.85491799,47760146.94384834,48569247.08852191,47044385.85993097,46283290.78314364,45586873.76543243,46765958.21755783,47084203.817588605,47331460.66021912,47409922.32515756,46878844.83497214,47620187.90878772,44613499.95406754,44385875.64037809,44438902.75439374,46034047.636347085,45907775.8580056,45735598.978241995,46131055.121135555],\"type\":\"scatter\"}],                        {\"template\":{\"data\":{\"barpolar\":[{\"marker\":{\"line\":{\"color\":\"#E5ECF6\",\"width\":0.5},\"pattern\":{\"fillmode\":\"overlay\",\"size\":10,\"solidity\":0.2}},\"type\":\"barpolar\"}],\"bar\":[{\"error_x\":{\"color\":\"#2a3f5f\"},\"error_y\":{\"color\":\"#2a3f5f\"},\"marker\":{\"line\":{\"color\":\"#E5ECF6\",\"width\":0.5},\"pattern\":{\"fillmode\":\"overlay\",\"size\":10,\"solidity\":0.2}},\"type\":\"bar\"}],\"carpet\":[{\"aaxis\":{\"endlinecolor\":\"#2a3f5f\",\"gridcolor\":\"white\",\"linecolor\":\"white\",\"minorgridcolor\":\"white\",\"startlinecolor\":\"#2a3f5f\"},\"baxis\":{\"endlinecolor\":\"#2a3f5f\",\"gridcolor\":\"white\",\"linecolor\":\"white\",\"minorgridcolor\":\"white\",\"startlinecolor\":\"#2a3f5f\"},\"type\":\"carpet\"}],\"choropleth\":[{\"colorbar\":{\"outlinewidth\":0,\"ticks\":\"\"},\"type\":\"choropleth\"}],\"contourcarpet\":[{\"colorbar\":{\"outlinewidth\":0,\"ticks\":\"\"},\"type\":\"contourcarpet\"}],\"contour\":[{\"colorbar\":{\"outlinewidth\":0,\"ticks\":\"\"},\"colorscale\":[[0.0,\"#0d0887\"],[0.1111111111111111,\"#46039f\"],[0.2222222222222222,\"#7201a8\"],[0.3333333333333333,\"#9c179e\"],[0.4444444444444444,\"#bd3786\"],[0.5555555555555556,\"#d8576b\"],[0.6666666666666666,\"#ed7953\"],[0.7777777777777778,\"#fb9f3a\"],[0.8888888888888888,\"#fdca26\"],[1.0,\"#f0f921\"]],\"type\":\"contour\"}],\"heatmapgl\":[{\"colorbar\":{\"outlinewidth\":0,\"ticks\":\"\"},\"colorscale\":[[0.0,\"#0d0887\"],[0.1111111111111111,\"#46039f\"],[0.2222222222222222,\"#7201a8\"],[0.3333333333333333,\"#9c179e\"],[0.4444444444444444,\"#bd3786\"],[0.5555555555555556,\"#d8576b\"],[0.6666666666666666,\"#ed7953\"],[0.7777777777777778,\"#fb9f3a\"],[0.8888888888888888,\"#fdca26\"],[1.0,\"#f0f921\"]],\"type\":\"heatmapgl\"}],\"heatmap\":[{\"colorbar\":{\"outlinewidth\":0,\"ticks\":\"\"},\"colorscale\":[[0.0,\"#0d0887\"],[0.1111111111111111,\"#46039f\"],[0.2222222222222222,\"#7201a8\"],[0.3333333333333333,\"#9c179e\"],[0.4444444444444444,\"#bd3786\"],[0.5555555555555556,\"#d8576b\"],[0.6666666666666666,\"#ed7953\"],[0.7777777777777778,\"#fb9f3a\"],[0.8888888888888888,\"#fdca26\"],[1.0,\"#f0f921\"]],\"type\":\"heatmap\"}],\"histogram2dcontour\":[{\"colorbar\":{\"outlinewidth\":0,\"ticks\":\"\"},\"colorscale\":[[0.0,\"#0d0887\"],[0.1111111111111111,\"#46039f\"],[0.2222222222222222,\"#7201a8\"],[0.3333333333333333,\"#9c179e\"],[0.4444444444444444,\"#bd3786\"],[0.5555555555555556,\"#d8576b\"],[0.6666666666666666,\"#ed7953\"],[0.7777777777777778,\"#fb9f3a\"],[0.8888888888888888,\"#fdca26\"],[1.0,\"#f0f921\"]],\"type\":\"histogram2dcontour\"}],\"histogram2d\":[{\"colorbar\":{\"outlinewidth\":0,\"ticks\":\"\"},\"colorscale\":[[0.0,\"#0d0887\"],[0.1111111111111111,\"#46039f\"],[0.2222222222222222,\"#7201a8\"],[0.3333333333333333,\"#9c179e\"],[0.4444444444444444,\"#bd3786\"],[0.5555555555555556,\"#d8576b\"],[0.6666666666666666,\"#ed7953\"],[0.7777777777777778,\"#fb9f3a\"],[0.8888888888888888,\"#fdca26\"],[1.0,\"#f0f921\"]],\"type\":\"histogram2d\"}],\"histogram\":[{\"marker\":{\"pattern\":{\"fillmode\":\"overlay\",\"size\":10,\"solidity\":0.2}},\"type\":\"histogram\"}],\"mesh3d\":[{\"colorbar\":{\"outlinewidth\":0,\"ticks\":\"\"},\"type\":\"mesh3d\"}],\"parcoords\":[{\"line\":{\"colorbar\":{\"outlinewidth\":0,\"ticks\":\"\"}},\"type\":\"parcoords\"}],\"pie\":[{\"automargin\":true,\"type\":\"pie\"}],\"scatter3d\":[{\"line\":{\"colorbar\":{\"outlinewidth\":0,\"ticks\":\"\"}},\"marker\":{\"colorbar\":{\"outlinewidth\":0,\"ticks\":\"\"}},\"type\":\"scatter3d\"}],\"scattercarpet\":[{\"marker\":{\"colorbar\":{\"outlinewidth\":0,\"ticks\":\"\"}},\"type\":\"scattercarpet\"}],\"scattergeo\":[{\"marker\":{\"colorbar\":{\"outlinewidth\":0,\"ticks\":\"\"}},\"type\":\"scattergeo\"}],\"scattergl\":[{\"marker\":{\"colorbar\":{\"outlinewidth\":0,\"ticks\":\"\"}},\"type\":\"scattergl\"}],\"scattermapbox\":[{\"marker\":{\"colorbar\":{\"outlinewidth\":0,\"ticks\":\"\"}},\"type\":\"scattermapbox\"}],\"scatterpolargl\":[{\"marker\":{\"colorbar\":{\"outlinewidth\":0,\"ticks\":\"\"}},\"type\":\"scatterpolargl\"}],\"scatterpolar\":[{\"marker\":{\"colorbar\":{\"outlinewidth\":0,\"ticks\":\"\"}},\"type\":\"scatterpolar\"}],\"scatter\":[{\"marker\":{\"colorbar\":{\"outlinewidth\":0,\"ticks\":\"\"}},\"type\":\"scatter\"}],\"scatterternary\":[{\"marker\":{\"colorbar\":{\"outlinewidth\":0,\"ticks\":\"\"}},\"type\":\"scatterternary\"}],\"surface\":[{\"colorbar\":{\"outlinewidth\":0,\"ticks\":\"\"},\"colorscale\":[[0.0,\"#0d0887\"],[0.1111111111111111,\"#46039f\"],[0.2222222222222222,\"#7201a8\"],[0.3333333333333333,\"#9c179e\"],[0.4444444444444444,\"#bd3786\"],[0.5555555555555556,\"#d8576b\"],[0.6666666666666666,\"#ed7953\"],[0.7777777777777778,\"#fb9f3a\"],[0.8888888888888888,\"#fdca26\"],[1.0,\"#f0f921\"]],\"type\":\"surface\"}],\"table\":[{\"cells\":{\"fill\":{\"color\":\"#EBF0F8\"},\"line\":{\"color\":\"white\"}},\"header\":{\"fill\":{\"color\":\"#C8D4E3\"},\"line\":{\"color\":\"white\"}},\"type\":\"table\"}]},\"layout\":{\"annotationdefaults\":{\"arrowcolor\":\"#2a3f5f\",\"arrowhead\":0,\"arrowwidth\":1},\"autotypenumbers\":\"strict\",\"coloraxis\":{\"colorbar\":{\"outlinewidth\":0,\"ticks\":\"\"}},\"colorscale\":{\"diverging\":[[0,\"#8e0152\"],[0.1,\"#c51b7d\"],[0.2,\"#de77ae\"],[0.3,\"#f1b6da\"],[0.4,\"#fde0ef\"],[0.5,\"#f7f7f7\"],[0.6,\"#e6f5d0\"],[0.7,\"#b8e186\"],[0.8,\"#7fbc41\"],[0.9,\"#4d9221\"],[1,\"#276419\"]],\"sequential\":[[0.0,\"#0d0887\"],[0.1111111111111111,\"#46039f\"],[0.2222222222222222,\"#7201a8\"],[0.3333333333333333,\"#9c179e\"],[0.4444444444444444,\"#bd3786\"],[0.5555555555555556,\"#d8576b\"],[0.6666666666666666,\"#ed7953\"],[0.7777777777777778,\"#fb9f3a\"],[0.8888888888888888,\"#fdca26\"],[1.0,\"#f0f921\"]],\"sequentialminus\":[[0.0,\"#0d0887\"],[0.1111111111111111,\"#46039f\"],[0.2222222222222222,\"#7201a8\"],[0.3333333333333333,\"#9c179e\"],[0.4444444444444444,\"#bd3786\"],[0.5555555555555556,\"#d8576b\"],[0.6666666666666666,\"#ed7953\"],[0.7777777777777778,\"#fb9f3a\"],[0.8888888888888888,\"#fdca26\"],[1.0,\"#f0f921\"]]},\"colorway\":[\"#636efa\",\"#EF553B\",\"#00cc96\",\"#ab63fa\",\"#FFA15A\",\"#19d3f3\",\"#FF6692\",\"#B6E880\",\"#FF97FF\",\"#FECB52\"],\"font\":{\"color\":\"#2a3f5f\"},\"geo\":{\"bgcolor\":\"white\",\"lakecolor\":\"white\",\"landcolor\":\"#E5ECF6\",\"showlakes\":true,\"showland\":true,\"subunitcolor\":\"white\"},\"hoverlabel\":{\"align\":\"left\"},\"hovermode\":\"closest\",\"mapbox\":{\"style\":\"light\"},\"paper_bgcolor\":\"white\",\"plot_bgcolor\":\"#E5ECF6\",\"polar\":{\"angularaxis\":{\"gridcolor\":\"white\",\"linecolor\":\"white\",\"ticks\":\"\"},\"bgcolor\":\"#E5ECF6\",\"radialaxis\":{\"gridcolor\":\"white\",\"linecolor\":\"white\",\"ticks\":\"\"}},\"scene\":{\"xaxis\":{\"backgroundcolor\":\"#E5ECF6\",\"gridcolor\":\"white\",\"gridwidth\":2,\"linecolor\":\"white\",\"showbackground\":true,\"ticks\":\"\",\"zerolinecolor\":\"white\"},\"yaxis\":{\"backgroundcolor\":\"#E5ECF6\",\"gridcolor\":\"white\",\"gridwidth\":2,\"linecolor\":\"white\",\"showbackground\":true,\"ticks\":\"\",\"zerolinecolor\":\"white\"},\"zaxis\":{\"backgroundcolor\":\"#E5ECF6\",\"gridcolor\":\"white\",\"gridwidth\":2,\"linecolor\":\"white\",\"showbackground\":true,\"ticks\":\"\",\"zerolinecolor\":\"white\"}},\"shapedefaults\":{\"line\":{\"color\":\"#2a3f5f\"}},\"ternary\":{\"aaxis\":{\"gridcolor\":\"white\",\"linecolor\":\"white\",\"ticks\":\"\"},\"baxis\":{\"gridcolor\":\"white\",\"linecolor\":\"white\",\"ticks\":\"\"},\"bgcolor\":\"#E5ECF6\",\"caxis\":{\"gridcolor\":\"white\",\"linecolor\":\"white\",\"ticks\":\"\"}},\"title\":{\"x\":0.05},\"xaxis\":{\"automargin\":true,\"gridcolor\":\"white\",\"linecolor\":\"white\",\"ticks\":\"\",\"title\":{\"standoff\":15},\"zerolinecolor\":\"white\",\"zerolinewidth\":2},\"yaxis\":{\"automargin\":true,\"gridcolor\":\"white\",\"linecolor\":\"white\",\"ticks\":\"\",\"title\":{\"standoff\":15},\"zerolinecolor\":\"white\",\"zerolinewidth\":2}}},\"title\":{\"text\":\"rf2 Forcasting with hyper parameters\"},\"xaxis\":{\"title\":{\"text\":\"Date\"}},\"yaxis\":{\"title\":{\"text\":\"Weekly_Sales_RF2\"}}},                        {\"responsive\": true}                    ).then(function(){\n",
              "                            \n",
              "var gd = document.getElementById('25113e41-c52a-491f-9e38-562517d288e6');\n",
              "var x = new MutationObserver(function (mutations, observer) {{\n",
              "        var display = window.getComputedStyle(gd).display;\n",
              "        if (!display || display === 'none') {{\n",
              "            console.log([gd, 'removed!']);\n",
              "            Plotly.purge(gd);\n",
              "            observer.disconnect();\n",
              "        }}\n",
              "}});\n",
              "\n",
              "// Listen for the removal of the full notebook cells\n",
              "var notebookContainer = gd.closest('#notebook-container');\n",
              "if (notebookContainer) {{\n",
              "    x.observe(notebookContainer, {childList: true});\n",
              "}}\n",
              "\n",
              "// Listen for the clearing of the current output cell\n",
              "var outputEl = gd.closest('.output');\n",
              "if (outputEl) {{\n",
              "    x.observe(outputEl, {childList: true});\n",
              "}}\n",
              "\n",
              "                        })                };                            </script>        </div>\n",
              "</body>\n",
              "</html>"
            ]
          },
          "metadata": {}
        }
      ]
    },
    {
      "cell_type": "code",
      "source": [
        "forcasting_df['Weekly_Sales_RF2']=model_rf2.predict(test)\n",
        "forcasting_df.head()"
      ],
      "metadata": {
        "colab": {
          "base_uri": "https://localhost:8080/",
          "height": 206
        },
        "id": "SGdnKEyyd80_",
        "outputId": "167309a7-71fb-4ae6-8a3b-a518557a5585"
      },
      "execution_count": null,
      "outputs": [
        {
          "output_type": "execute_result",
          "data": {
            "text/html": [
              "\n",
              "  <div id=\"df-5c50ce6b-2ec7-4397-a855-79602060380d\">\n",
              "    <div class=\"colab-df-container\">\n",
              "      <div>\n",
              "<style scoped>\n",
              "    .dataframe tbody tr th:only-of-type {\n",
              "        vertical-align: middle;\n",
              "    }\n",
              "\n",
              "    .dataframe tbody tr th {\n",
              "        vertical-align: top;\n",
              "    }\n",
              "\n",
              "    .dataframe thead th {\n",
              "        text-align: right;\n",
              "    }\n",
              "</style>\n",
              "<table border=\"1\" class=\"dataframe\">\n",
              "  <thead>\n",
              "    <tr style=\"text-align: right;\">\n",
              "      <th></th>\n",
              "      <th>Store</th>\n",
              "      <th>Dept</th>\n",
              "      <th>Date</th>\n",
              "      <th>IsHoliday</th>\n",
              "      <th>Weekly_Sales_XGB1</th>\n",
              "      <th>Weekly_Sales_XGB2</th>\n",
              "      <th>Weekly_Sales_RF1</th>\n",
              "      <th>Weekly_Sales_RF2</th>\n",
              "    </tr>\n",
              "  </thead>\n",
              "  <tbody>\n",
              "    <tr>\n",
              "      <th>0</th>\n",
              "      <td>1</td>\n",
              "      <td>1</td>\n",
              "      <td>2012-11-02</td>\n",
              "      <td>False</td>\n",
              "      <td>25300.494141</td>\n",
              "      <td>33412.070312</td>\n",
              "      <td>20793.374716</td>\n",
              "      <td>28748.186873</td>\n",
              "    </tr>\n",
              "    <tr>\n",
              "      <th>1</th>\n",
              "      <td>1</td>\n",
              "      <td>1</td>\n",
              "      <td>2012-11-09</td>\n",
              "      <td>False</td>\n",
              "      <td>25300.494141</td>\n",
              "      <td>17766.255859</td>\n",
              "      <td>20793.374716</td>\n",
              "      <td>20449.413077</td>\n",
              "    </tr>\n",
              "    <tr>\n",
              "      <th>2</th>\n",
              "      <td>1</td>\n",
              "      <td>1</td>\n",
              "      <td>2012-11-16</td>\n",
              "      <td>False</td>\n",
              "      <td>25300.494141</td>\n",
              "      <td>18617.652344</td>\n",
              "      <td>20793.374716</td>\n",
              "      <td>20336.574355</td>\n",
              "    </tr>\n",
              "    <tr>\n",
              "      <th>3</th>\n",
              "      <td>1</td>\n",
              "      <td>1</td>\n",
              "      <td>2012-11-23</td>\n",
              "      <td>True</td>\n",
              "      <td>31682.855469</td>\n",
              "      <td>20963.351562</td>\n",
              "      <td>20793.374716</td>\n",
              "      <td>20867.531006</td>\n",
              "    </tr>\n",
              "    <tr>\n",
              "      <th>4</th>\n",
              "      <td>1</td>\n",
              "      <td>1</td>\n",
              "      <td>2012-11-30</td>\n",
              "      <td>False</td>\n",
              "      <td>31682.855469</td>\n",
              "      <td>24738.539062</td>\n",
              "      <td>20793.374716</td>\n",
              "      <td>23528.539454</td>\n",
              "    </tr>\n",
              "  </tbody>\n",
              "</table>\n",
              "</div>\n",
              "      <button class=\"colab-df-convert\" onclick=\"convertToInteractive('df-5c50ce6b-2ec7-4397-a855-79602060380d')\"\n",
              "              title=\"Convert this dataframe to an interactive table.\"\n",
              "              style=\"display:none;\">\n",
              "        \n",
              "  <svg xmlns=\"http://www.w3.org/2000/svg\" height=\"24px\"viewBox=\"0 0 24 24\"\n",
              "       width=\"24px\">\n",
              "    <path d=\"M0 0h24v24H0V0z\" fill=\"none\"/>\n",
              "    <path d=\"M18.56 5.44l.94 2.06.94-2.06 2.06-.94-2.06-.94-.94-2.06-.94 2.06-2.06.94zm-11 1L8.5 8.5l.94-2.06 2.06-.94-2.06-.94L8.5 2.5l-.94 2.06-2.06.94zm10 10l.94 2.06.94-2.06 2.06-.94-2.06-.94-.94-2.06-.94 2.06-2.06.94z\"/><path d=\"M17.41 7.96l-1.37-1.37c-.4-.4-.92-.59-1.43-.59-.52 0-1.04.2-1.43.59L10.3 9.45l-7.72 7.72c-.78.78-.78 2.05 0 2.83L4 21.41c.39.39.9.59 1.41.59.51 0 1.02-.2 1.41-.59l7.78-7.78 2.81-2.81c.8-.78.8-2.07 0-2.86zM5.41 20L4 18.59l7.72-7.72 1.47 1.35L5.41 20z\"/>\n",
              "  </svg>\n",
              "      </button>\n",
              "      \n",
              "  <style>\n",
              "    .colab-df-container {\n",
              "      display:flex;\n",
              "      flex-wrap:wrap;\n",
              "      gap: 12px;\n",
              "    }\n",
              "\n",
              "    .colab-df-convert {\n",
              "      background-color: #E8F0FE;\n",
              "      border: none;\n",
              "      border-radius: 50%;\n",
              "      cursor: pointer;\n",
              "      display: none;\n",
              "      fill: #1967D2;\n",
              "      height: 32px;\n",
              "      padding: 0 0 0 0;\n",
              "      width: 32px;\n",
              "    }\n",
              "\n",
              "    .colab-df-convert:hover {\n",
              "      background-color: #E2EBFA;\n",
              "      box-shadow: 0px 1px 2px rgba(60, 64, 67, 0.3), 0px 1px 3px 1px rgba(60, 64, 67, 0.15);\n",
              "      fill: #174EA6;\n",
              "    }\n",
              "\n",
              "    [theme=dark] .colab-df-convert {\n",
              "      background-color: #3B4455;\n",
              "      fill: #D2E3FC;\n",
              "    }\n",
              "\n",
              "    [theme=dark] .colab-df-convert:hover {\n",
              "      background-color: #434B5C;\n",
              "      box-shadow: 0px 1px 3px 1px rgba(0, 0, 0, 0.15);\n",
              "      filter: drop-shadow(0px 1px 2px rgba(0, 0, 0, 0.3));\n",
              "      fill: #FFFFFF;\n",
              "    }\n",
              "  </style>\n",
              "\n",
              "      <script>\n",
              "        const buttonEl =\n",
              "          document.querySelector('#df-5c50ce6b-2ec7-4397-a855-79602060380d button.colab-df-convert');\n",
              "        buttonEl.style.display =\n",
              "          google.colab.kernel.accessAllowed ? 'block' : 'none';\n",
              "\n",
              "        async function convertToInteractive(key) {\n",
              "          const element = document.querySelector('#df-5c50ce6b-2ec7-4397-a855-79602060380d');\n",
              "          const dataTable =\n",
              "            await google.colab.kernel.invokeFunction('convertToInteractive',\n",
              "                                                     [key], {});\n",
              "          if (!dataTable) return;\n",
              "\n",
              "          const docLinkHtml = 'Like what you see? Visit the ' +\n",
              "            '<a target=\"_blank\" href=https://colab.research.google.com/notebooks/data_table.ipynb>data table notebook</a>'\n",
              "            + ' to learn more about interactive tables.';\n",
              "          element.innerHTML = '';\n",
              "          dataTable['output_type'] = 'display_data';\n",
              "          await google.colab.output.renderOutput(dataTable, element);\n",
              "          const docLink = document.createElement('div');\n",
              "          docLink.innerHTML = docLinkHtml;\n",
              "          element.appendChild(docLink);\n",
              "        }\n",
              "      </script>\n",
              "    </div>\n",
              "  </div>\n",
              "  "
            ],
            "text/plain": [
              "   Store  Dept  ... Weekly_Sales_RF1  Weekly_Sales_RF2\n",
              "0      1     1  ...     20793.374716      28748.186873\n",
              "1      1     1  ...     20793.374716      20449.413077\n",
              "2      1     1  ...     20793.374716      20336.574355\n",
              "3      1     1  ...     20793.374716      20867.531006\n",
              "4      1     1  ...     20793.374716      23528.539454\n",
              "\n",
              "[5 rows x 8 columns]"
            ]
          },
          "metadata": {},
          "execution_count": 142
        }
      ]
    },
    {
      "cell_type": "code",
      "source": [
        "# To explore the time series data first we need to aggregate the sales by week\n",
        "daily_sales_RF2 = forcasting_df.groupby('Date', as_index=False)['Weekly_Sales_RF2'].sum()\n",
        "store_daily_sales_RF2  = forcasting_df.groupby(['Store', 'Date'], as_index=False)['Weekly_Sales_RF2'].sum()"
      ],
      "metadata": {
        "id": "0yC7ntVieg6f"
      },
      "execution_count": null,
      "outputs": []
    },
    {
      "cell_type": "code",
      "source": [
        "plot1 = go.Scatter(x=Overall_Weekly_sales['Date'], y=Overall_Weekly_sales['Weekly_Sales'],name=\"Training set\")\n",
        "layout = go.Layout(title='Weekly sales', xaxis=dict(title='Date'), yaxis=dict(title='Weekly_Sales'))\n",
        "\n",
        "plot2 = go.Scatter(x=daily_sales_RF1['Date'], y=daily_sales_RF1['Weekly_Sales_RF1'],name=\"RandomForest1\")\n",
        "layout = go.Layout(title='Weekly Sales RandomForest1', xaxis=dict(title='Date'), yaxis=dict(title='Weekly_Sales_RF1'))\n",
        "\n",
        "plot3 = go.Scatter(x=daily_sales_RF2['Date'], y=daily_sales_RF2['Weekly_Sales_RF2'],name=\"RandomForest2\")\n",
        "layout = go.Layout(title='Weekly Sales RandomTorest', xaxis=dict(title='Date'), yaxis=dict(title='Weekly_Sales_RF2'))\n",
        "\n",
        "fig = go.Figure(data=[plot1,plot2,plot3], layout=layout)\n",
        "iplot(fig)"
      ],
      "metadata": {
        "colab": {
          "base_uri": "https://localhost:8080/",
          "height": 542
        },
        "outputId": "bb96787d-9b2e-4ce5-a29e-51154458f4d6",
        "id": "q36DXvnusJ1o"
      },
      "execution_count": null,
      "outputs": [
        {
          "output_type": "display_data",
          "data": {
            "text/html": [
              "<html>\n",
              "<head><meta charset=\"utf-8\" /></head>\n",
              "<body>\n",
              "    <div>            <script src=\"https://cdnjs.cloudflare.com/ajax/libs/mathjax/2.7.5/MathJax.js?config=TeX-AMS-MML_SVG\"></script><script type=\"text/javascript\">if (window.MathJax) {MathJax.Hub.Config({SVG: {font: \"STIX-Web\"}});}</script>                <script type=\"text/javascript\">window.PlotlyConfig = {MathJaxConfig: 'local'};</script>\n",
              "        <script src=\"https://cdn.plot.ly/plotly-2.8.3.min.js\"></script>                <div id=\"0ac9aa8b-d66a-4f08-bad2-c127716b8ab7\" class=\"plotly-graph-div\" style=\"height:525px; width:100%;\"></div>            <script type=\"text/javascript\">                                    window.PLOTLYENV=window.PLOTLYENV || {};                                    if (document.getElementById(\"0ac9aa8b-d66a-4f08-bad2-c127716b8ab7\")) {                    Plotly.newPlot(                        \"0ac9aa8b-d66a-4f08-bad2-c127716b8ab7\",                        [{\"name\":\"Training set\",\"x\":[\"2010-02-05\",\"2010-02-12\",\"2010-02-19\",\"2010-02-26\",\"2010-03-05\",\"2010-03-12\",\"2010-03-19\",\"2010-03-26\",\"2010-04-02\",\"2010-04-09\",\"2010-04-16\",\"2010-04-23\",\"2010-04-30\",\"2010-05-07\",\"2010-05-14\",\"2010-05-21\",\"2010-05-28\",\"2010-06-04\",\"2010-06-11\",\"2010-06-18\",\"2010-06-25\",\"2010-07-02\",\"2010-07-09\",\"2010-07-16\",\"2010-07-23\",\"2010-07-30\",\"2010-08-06\",\"2010-08-13\",\"2010-08-20\",\"2010-08-27\",\"2010-09-03\",\"2010-09-10\",\"2010-09-17\",\"2010-09-24\",\"2010-10-01\",\"2010-10-08\",\"2010-10-15\",\"2010-10-22\",\"2010-10-29\",\"2010-11-05\",\"2010-11-12\",\"2010-11-19\",\"2010-11-26\",\"2010-12-03\",\"2010-12-10\",\"2010-12-17\",\"2010-12-24\",\"2010-12-31\",\"2011-01-07\",\"2011-01-14\",\"2011-01-21\",\"2011-01-28\",\"2011-02-04\",\"2011-02-11\",\"2011-02-18\",\"2011-02-25\",\"2011-03-04\",\"2011-03-11\",\"2011-03-18\",\"2011-03-25\",\"2011-04-01\",\"2011-04-08\",\"2011-04-15\",\"2011-04-22\",\"2011-04-29\",\"2011-05-06\",\"2011-05-13\",\"2011-05-20\",\"2011-05-27\",\"2011-06-03\",\"2011-06-10\",\"2011-06-17\",\"2011-06-24\",\"2011-07-01\",\"2011-07-08\",\"2011-07-15\",\"2011-07-22\",\"2011-07-29\",\"2011-08-05\",\"2011-08-12\",\"2011-08-19\",\"2011-08-26\",\"2011-09-02\",\"2011-09-09\",\"2011-09-16\",\"2011-09-23\",\"2011-09-30\",\"2011-10-07\",\"2011-10-14\",\"2011-10-21\",\"2011-10-28\",\"2011-11-04\",\"2011-11-11\",\"2011-11-18\",\"2011-11-25\",\"2011-12-02\",\"2011-12-09\",\"2011-12-16\",\"2011-12-23\",\"2011-12-30\",\"2012-01-06\",\"2012-01-13\",\"2012-01-20\",\"2012-01-27\",\"2012-02-03\",\"2012-02-10\",\"2012-02-17\",\"2012-02-24\",\"2012-03-02\",\"2012-03-09\",\"2012-03-16\",\"2012-03-23\",\"2012-03-30\",\"2012-04-06\",\"2012-04-13\",\"2012-04-20\",\"2012-04-27\",\"2012-05-04\",\"2012-05-11\",\"2012-05-18\",\"2012-05-25\",\"2012-06-01\",\"2012-06-08\",\"2012-06-15\",\"2012-06-22\",\"2012-06-29\",\"2012-07-06\",\"2012-07-13\",\"2012-07-20\",\"2012-07-27\",\"2012-08-03\",\"2012-08-10\",\"2012-08-17\",\"2012-08-24\",\"2012-08-31\",\"2012-09-07\",\"2012-09-14\",\"2012-09-21\",\"2012-09-28\",\"2012-10-05\",\"2012-10-12\",\"2012-10-19\",\"2012-10-26\"],\"y\":[49750740.5,48336677.63,48276993.78,43968571.13,46871470.3,45925396.51,44988974.64,44133961.05,50423831.26,47365290.44,45183667.08,44734452.56,43705126.71,48503243.52,45330080.2,45120108.06,47757502.56,50188543.12,47826546.72,47622046.23,46609036.29,48917484.5,47899529.37,46243899.58,44888849.11,44630363.42,48204999.12,46464418.410000004,47060952.92,45909740.44,47194257.61,45634397.84,43080726.51,41358514.41,42239875.87,45102974.23,43149473.45,43066669.52,43602830.95,45781981.89,46124800.83,45125584.18,65821003.24,49909027.88,55666770.39,61820799.85,80931415.6,40432519.0,42775787.77,40673678.04,40654648.03,39599852.99,46153111.12,47336192.79,48716164.12,44125859.84,46980603.74,44627319.4,44872325.97,42876199.18,43458991.19,45887466.8,44973328.14,48676692.06,43530032.78,46861958.29,45446144.82,44046598.01,45293457.04,48771994.18,47669734.66,47447561.77,45884094.58,47578519.5,47859263.78,45515929.92,45274411.39,43683274.28,48015466.97,46249569.21,46917347.62,47416948.45,45376623.27,46763227.53,43793960.08,42718096.73,42195830.81,47211688.36,44374820.3,45818953.44,45855821.05,48655544.3,48474224.75,46438980.56,66593605.26,49390556.49,55561147.7,60085695.94,76998241.31,46042461.04,44955421.95,42023078.48,42080996.56,39834974.67,46085608.09,50009407.92,50197056.96,45771506.57,46861034.97,47480454.11,46901504.94,44993794.45,45272862.02,53502315.87,46629261.41,45072529.78,43716798.89,47124197.93,46925878.99,46823939.22,47892463.31,48281649.72,49651171.78,48412110.7,47668284.97,46597112.12,51253021.88,46099732.1,46059543.45,44097154.97,47485899.56,47403451.04,47354452.05,47447323.6,47159639.43,48330059.31,44226038.65,44354547.11,43734899.4,47566639.31,46128514.25,45122410.57,45544116.29],\"type\":\"scatter\"},{\"name\":\"RandomForest1\",\"x\":[\"2012-11-02\",\"2012-11-09\",\"2012-11-16\",\"2012-11-23\",\"2012-11-30\",\"2012-12-07\",\"2012-12-14\",\"2012-12-21\",\"2012-12-28\",\"2013-01-04\",\"2013-01-11\",\"2013-01-18\",\"2013-01-25\",\"2013-02-01\",\"2013-02-08\",\"2013-02-15\",\"2013-02-22\",\"2013-03-01\",\"2013-03-08\",\"2013-03-15\",\"2013-03-22\",\"2013-03-29\",\"2013-04-05\",\"2013-04-12\",\"2013-04-19\",\"2013-04-26\",\"2013-05-03\",\"2013-05-10\",\"2013-05-17\",\"2013-05-24\",\"2013-05-31\",\"2013-06-07\",\"2013-06-14\",\"2013-06-21\",\"2013-06-28\",\"2013-07-05\",\"2013-07-12\",\"2013-07-19\",\"2013-07-26\"],\"y\":[47846630.62454229,47974414.36606576,47434353.982785404,48079703.85555951,47458996.60841301,48213846.58509108,48228213.24081701,48354152.08185464,48160631.56908357,47525941.65316347,46911140.31156813,46915922.57249825,46818876.49285276,47718210.25603583,47881457.50111287,48160603.35945629,47128479.16341627,46709404.59857608,46842723.0415571,46690988.24951188,46521113.843018875,47441068.74811855,47638279.061861314,47644402.30773898,47690010.5408812,47460521.13788661,47538751.45474701,47824600.76669652,47818734.38249968,47564879.08849389,47425133.92652318,47376701.17144578,47534834.472853415,46925795.01363752,46355489.572290406,47641901.13185141,46981547.9763684,47588553.40439922,47546462.7394297],\"type\":\"scatter\"},{\"name\":\"RandomForest2\",\"x\":[\"2012-11-02\",\"2012-11-09\",\"2012-11-16\",\"2012-11-23\",\"2012-11-30\",\"2012-12-07\",\"2012-12-14\",\"2012-12-21\",\"2012-12-28\",\"2013-01-04\",\"2013-01-11\",\"2013-01-18\",\"2013-01-25\",\"2013-02-01\",\"2013-02-08\",\"2013-02-15\",\"2013-02-22\",\"2013-03-01\",\"2013-03-08\",\"2013-03-15\",\"2013-03-22\",\"2013-03-29\",\"2013-04-05\",\"2013-04-12\",\"2013-04-19\",\"2013-04-26\",\"2013-05-03\",\"2013-05-10\",\"2013-05-17\",\"2013-05-24\",\"2013-05-31\",\"2013-06-07\",\"2013-06-14\",\"2013-06-21\",\"2013-06-28\",\"2013-07-05\",\"2013-07-12\",\"2013-07-19\",\"2013-07-26\"],\"y\":[46908808.8089471,47204888.64053614,46909132.5062516,64898764.78881933,51793846.00970742,54842953.23710901,60025178.6897467,71974094.41819179,49791934.33081556,43755520.57487148,42497089.21490153,41904326.397769004,41799040.563965365,45929024.04739888,48974541.70076894,48773713.63683433,46490763.56341269,46804144.19671465,46775333.43396069,46536390.71029623,45903400.88402267,46771134.89224333,49365356.73521808,47487748.916835815,46233296.84149001,45497382.257715896,46582330.07298397,46910340.11746172,46837072.33741072,47727468.16346643,48558105.84471238,48715639.72919203,48441044.56036366,48062107.64787306,47766837.361693256,48596750.973224536,47070102.49031419,46292817.39949271,45597530.104634546],\"type\":\"scatter\"}],                        {\"template\":{\"data\":{\"barpolar\":[{\"marker\":{\"line\":{\"color\":\"#E5ECF6\",\"width\":0.5},\"pattern\":{\"fillmode\":\"overlay\",\"size\":10,\"solidity\":0.2}},\"type\":\"barpolar\"}],\"bar\":[{\"error_x\":{\"color\":\"#2a3f5f\"},\"error_y\":{\"color\":\"#2a3f5f\"},\"marker\":{\"line\":{\"color\":\"#E5ECF6\",\"width\":0.5},\"pattern\":{\"fillmode\":\"overlay\",\"size\":10,\"solidity\":0.2}},\"type\":\"bar\"}],\"carpet\":[{\"aaxis\":{\"endlinecolor\":\"#2a3f5f\",\"gridcolor\":\"white\",\"linecolor\":\"white\",\"minorgridcolor\":\"white\",\"startlinecolor\":\"#2a3f5f\"},\"baxis\":{\"endlinecolor\":\"#2a3f5f\",\"gridcolor\":\"white\",\"linecolor\":\"white\",\"minorgridcolor\":\"white\",\"startlinecolor\":\"#2a3f5f\"},\"type\":\"carpet\"}],\"choropleth\":[{\"colorbar\":{\"outlinewidth\":0,\"ticks\":\"\"},\"type\":\"choropleth\"}],\"contourcarpet\":[{\"colorbar\":{\"outlinewidth\":0,\"ticks\":\"\"},\"type\":\"contourcarpet\"}],\"contour\":[{\"colorbar\":{\"outlinewidth\":0,\"ticks\":\"\"},\"colorscale\":[[0.0,\"#0d0887\"],[0.1111111111111111,\"#46039f\"],[0.2222222222222222,\"#7201a8\"],[0.3333333333333333,\"#9c179e\"],[0.4444444444444444,\"#bd3786\"],[0.5555555555555556,\"#d8576b\"],[0.6666666666666666,\"#ed7953\"],[0.7777777777777778,\"#fb9f3a\"],[0.8888888888888888,\"#fdca26\"],[1.0,\"#f0f921\"]],\"type\":\"contour\"}],\"heatmapgl\":[{\"colorbar\":{\"outlinewidth\":0,\"ticks\":\"\"},\"colorscale\":[[0.0,\"#0d0887\"],[0.1111111111111111,\"#46039f\"],[0.2222222222222222,\"#7201a8\"],[0.3333333333333333,\"#9c179e\"],[0.4444444444444444,\"#bd3786\"],[0.5555555555555556,\"#d8576b\"],[0.6666666666666666,\"#ed7953\"],[0.7777777777777778,\"#fb9f3a\"],[0.8888888888888888,\"#fdca26\"],[1.0,\"#f0f921\"]],\"type\":\"heatmapgl\"}],\"heatmap\":[{\"colorbar\":{\"outlinewidth\":0,\"ticks\":\"\"},\"colorscale\":[[0.0,\"#0d0887\"],[0.1111111111111111,\"#46039f\"],[0.2222222222222222,\"#7201a8\"],[0.3333333333333333,\"#9c179e\"],[0.4444444444444444,\"#bd3786\"],[0.5555555555555556,\"#d8576b\"],[0.6666666666666666,\"#ed7953\"],[0.7777777777777778,\"#fb9f3a\"],[0.8888888888888888,\"#fdca26\"],[1.0,\"#f0f921\"]],\"type\":\"heatmap\"}],\"histogram2dcontour\":[{\"colorbar\":{\"outlinewidth\":0,\"ticks\":\"\"},\"colorscale\":[[0.0,\"#0d0887\"],[0.1111111111111111,\"#46039f\"],[0.2222222222222222,\"#7201a8\"],[0.3333333333333333,\"#9c179e\"],[0.4444444444444444,\"#bd3786\"],[0.5555555555555556,\"#d8576b\"],[0.6666666666666666,\"#ed7953\"],[0.7777777777777778,\"#fb9f3a\"],[0.8888888888888888,\"#fdca26\"],[1.0,\"#f0f921\"]],\"type\":\"histogram2dcontour\"}],\"histogram2d\":[{\"colorbar\":{\"outlinewidth\":0,\"ticks\":\"\"},\"colorscale\":[[0.0,\"#0d0887\"],[0.1111111111111111,\"#46039f\"],[0.2222222222222222,\"#7201a8\"],[0.3333333333333333,\"#9c179e\"],[0.4444444444444444,\"#bd3786\"],[0.5555555555555556,\"#d8576b\"],[0.6666666666666666,\"#ed7953\"],[0.7777777777777778,\"#fb9f3a\"],[0.8888888888888888,\"#fdca26\"],[1.0,\"#f0f921\"]],\"type\":\"histogram2d\"}],\"histogram\":[{\"marker\":{\"pattern\":{\"fillmode\":\"overlay\",\"size\":10,\"solidity\":0.2}},\"type\":\"histogram\"}],\"mesh3d\":[{\"colorbar\":{\"outlinewidth\":0,\"ticks\":\"\"},\"type\":\"mesh3d\"}],\"parcoords\":[{\"line\":{\"colorbar\":{\"outlinewidth\":0,\"ticks\":\"\"}},\"type\":\"parcoords\"}],\"pie\":[{\"automargin\":true,\"type\":\"pie\"}],\"scatter3d\":[{\"line\":{\"colorbar\":{\"outlinewidth\":0,\"ticks\":\"\"}},\"marker\":{\"colorbar\":{\"outlinewidth\":0,\"ticks\":\"\"}},\"type\":\"scatter3d\"}],\"scattercarpet\":[{\"marker\":{\"colorbar\":{\"outlinewidth\":0,\"ticks\":\"\"}},\"type\":\"scattercarpet\"}],\"scattergeo\":[{\"marker\":{\"colorbar\":{\"outlinewidth\":0,\"ticks\":\"\"}},\"type\":\"scattergeo\"}],\"scattergl\":[{\"marker\":{\"colorbar\":{\"outlinewidth\":0,\"ticks\":\"\"}},\"type\":\"scattergl\"}],\"scattermapbox\":[{\"marker\":{\"colorbar\":{\"outlinewidth\":0,\"ticks\":\"\"}},\"type\":\"scattermapbox\"}],\"scatterpolargl\":[{\"marker\":{\"colorbar\":{\"outlinewidth\":0,\"ticks\":\"\"}},\"type\":\"scatterpolargl\"}],\"scatterpolar\":[{\"marker\":{\"colorbar\":{\"outlinewidth\":0,\"ticks\":\"\"}},\"type\":\"scatterpolar\"}],\"scatter\":[{\"marker\":{\"colorbar\":{\"outlinewidth\":0,\"ticks\":\"\"}},\"type\":\"scatter\"}],\"scatterternary\":[{\"marker\":{\"colorbar\":{\"outlinewidth\":0,\"ticks\":\"\"}},\"type\":\"scatterternary\"}],\"surface\":[{\"colorbar\":{\"outlinewidth\":0,\"ticks\":\"\"},\"colorscale\":[[0.0,\"#0d0887\"],[0.1111111111111111,\"#46039f\"],[0.2222222222222222,\"#7201a8\"],[0.3333333333333333,\"#9c179e\"],[0.4444444444444444,\"#bd3786\"],[0.5555555555555556,\"#d8576b\"],[0.6666666666666666,\"#ed7953\"],[0.7777777777777778,\"#fb9f3a\"],[0.8888888888888888,\"#fdca26\"],[1.0,\"#f0f921\"]],\"type\":\"surface\"}],\"table\":[{\"cells\":{\"fill\":{\"color\":\"#EBF0F8\"},\"line\":{\"color\":\"white\"}},\"header\":{\"fill\":{\"color\":\"#C8D4E3\"},\"line\":{\"color\":\"white\"}},\"type\":\"table\"}]},\"layout\":{\"annotationdefaults\":{\"arrowcolor\":\"#2a3f5f\",\"arrowhead\":0,\"arrowwidth\":1},\"autotypenumbers\":\"strict\",\"coloraxis\":{\"colorbar\":{\"outlinewidth\":0,\"ticks\":\"\"}},\"colorscale\":{\"diverging\":[[0,\"#8e0152\"],[0.1,\"#c51b7d\"],[0.2,\"#de77ae\"],[0.3,\"#f1b6da\"],[0.4,\"#fde0ef\"],[0.5,\"#f7f7f7\"],[0.6,\"#e6f5d0\"],[0.7,\"#b8e186\"],[0.8,\"#7fbc41\"],[0.9,\"#4d9221\"],[1,\"#276419\"]],\"sequential\":[[0.0,\"#0d0887\"],[0.1111111111111111,\"#46039f\"],[0.2222222222222222,\"#7201a8\"],[0.3333333333333333,\"#9c179e\"],[0.4444444444444444,\"#bd3786\"],[0.5555555555555556,\"#d8576b\"],[0.6666666666666666,\"#ed7953\"],[0.7777777777777778,\"#fb9f3a\"],[0.8888888888888888,\"#fdca26\"],[1.0,\"#f0f921\"]],\"sequentialminus\":[[0.0,\"#0d0887\"],[0.1111111111111111,\"#46039f\"],[0.2222222222222222,\"#7201a8\"],[0.3333333333333333,\"#9c179e\"],[0.4444444444444444,\"#bd3786\"],[0.5555555555555556,\"#d8576b\"],[0.6666666666666666,\"#ed7953\"],[0.7777777777777778,\"#fb9f3a\"],[0.8888888888888888,\"#fdca26\"],[1.0,\"#f0f921\"]]},\"colorway\":[\"#636efa\",\"#EF553B\",\"#00cc96\",\"#ab63fa\",\"#FFA15A\",\"#19d3f3\",\"#FF6692\",\"#B6E880\",\"#FF97FF\",\"#FECB52\"],\"font\":{\"color\":\"#2a3f5f\"},\"geo\":{\"bgcolor\":\"white\",\"lakecolor\":\"white\",\"landcolor\":\"#E5ECF6\",\"showlakes\":true,\"showland\":true,\"subunitcolor\":\"white\"},\"hoverlabel\":{\"align\":\"left\"},\"hovermode\":\"closest\",\"mapbox\":{\"style\":\"light\"},\"paper_bgcolor\":\"white\",\"plot_bgcolor\":\"#E5ECF6\",\"polar\":{\"angularaxis\":{\"gridcolor\":\"white\",\"linecolor\":\"white\",\"ticks\":\"\"},\"bgcolor\":\"#E5ECF6\",\"radialaxis\":{\"gridcolor\":\"white\",\"linecolor\":\"white\",\"ticks\":\"\"}},\"scene\":{\"xaxis\":{\"backgroundcolor\":\"#E5ECF6\",\"gridcolor\":\"white\",\"gridwidth\":2,\"linecolor\":\"white\",\"showbackground\":true,\"ticks\":\"\",\"zerolinecolor\":\"white\"},\"yaxis\":{\"backgroundcolor\":\"#E5ECF6\",\"gridcolor\":\"white\",\"gridwidth\":2,\"linecolor\":\"white\",\"showbackground\":true,\"ticks\":\"\",\"zerolinecolor\":\"white\"},\"zaxis\":{\"backgroundcolor\":\"#E5ECF6\",\"gridcolor\":\"white\",\"gridwidth\":2,\"linecolor\":\"white\",\"showbackground\":true,\"ticks\":\"\",\"zerolinecolor\":\"white\"}},\"shapedefaults\":{\"line\":{\"color\":\"#2a3f5f\"}},\"ternary\":{\"aaxis\":{\"gridcolor\":\"white\",\"linecolor\":\"white\",\"ticks\":\"\"},\"baxis\":{\"gridcolor\":\"white\",\"linecolor\":\"white\",\"ticks\":\"\"},\"bgcolor\":\"#E5ECF6\",\"caxis\":{\"gridcolor\":\"white\",\"linecolor\":\"white\",\"ticks\":\"\"}},\"title\":{\"x\":0.05},\"xaxis\":{\"automargin\":true,\"gridcolor\":\"white\",\"linecolor\":\"white\",\"ticks\":\"\",\"title\":{\"standoff\":15},\"zerolinecolor\":\"white\",\"zerolinewidth\":2},\"yaxis\":{\"automargin\":true,\"gridcolor\":\"white\",\"linecolor\":\"white\",\"ticks\":\"\",\"title\":{\"standoff\":15},\"zerolinecolor\":\"white\",\"zerolinewidth\":2}}},\"title\":{\"text\":\"Weekly Sales RandomTorest\"},\"xaxis\":{\"title\":{\"text\":\"Date\"}},\"yaxis\":{\"title\":{\"text\":\"Weekly_Sales_RF2\"}}},                        {\"responsive\": true}                    ).then(function(){\n",
              "                            \n",
              "var gd = document.getElementById('0ac9aa8b-d66a-4f08-bad2-c127716b8ab7');\n",
              "var x = new MutationObserver(function (mutations, observer) {{\n",
              "        var display = window.getComputedStyle(gd).display;\n",
              "        if (!display || display === 'none') {{\n",
              "            console.log([gd, 'removed!']);\n",
              "            Plotly.purge(gd);\n",
              "            observer.disconnect();\n",
              "        }}\n",
              "}});\n",
              "\n",
              "// Listen for the removal of the full notebook cells\n",
              "var notebookContainer = gd.closest('#notebook-container');\n",
              "if (notebookContainer) {{\n",
              "    x.observe(notebookContainer, {childList: true});\n",
              "}}\n",
              "\n",
              "// Listen for the clearing of the current output cell\n",
              "var outputEl = gd.closest('.output');\n",
              "if (outputEl) {{\n",
              "    x.observe(outputEl, {childList: true});\n",
              "}}\n",
              "\n",
              "                        })                };                            </script>        </div>\n",
              "</body>\n",
              "</html>"
            ]
          },
          "metadata": {}
        }
      ]
    },
    {
      "cell_type": "code",
      "source": [
        "forcasting_train['Weekly_Sales_RF2']=model_rf2.predict(X)\n"
      ],
      "metadata": {
        "id": "6uegT6rD2vvv"
      },
      "execution_count": null,
      "outputs": []
    },
    {
      "cell_type": "code",
      "source": [
        "plt.figure(figsize=(20,8))\n",
        "splot=sns.barplot(store_daily_sales_RF2['Store'], store_daily_sales_RF2['Weekly_Sales_RF2'], palette='tab10')\n",
        "\n",
        "for p in splot.patches:\n",
        "    splot.annotate(format(p.get_height(), '.1f'), \n",
        "                   (p.get_x() + p.get_width() / 2., p.get_height()), \n",
        "                   ha = 'center', va = 'center', \n",
        "                   xytext = (0, 9), \n",
        "                   textcoords = 'offset points',size=8)\n",
        "\n",
        "plt.title('Total Sales - per Store', fontsize=18)\n",
        "plt.ylabel('Total Sales', fontsize=16)\n",
        "plt.xlabel('Store', fontsize=16)\n",
        "plt.show()"
      ],
      "metadata": {
        "colab": {
          "base_uri": "https://localhost:8080/",
          "height": 522
        },
        "id": "qINRkgUX4iUv",
        "outputId": "c7a9338b-6319-4b99-a45e-10bab5bfdd05"
      },
      "execution_count": null,
      "outputs": [
        {
          "output_type": "display_data",
          "data": {
            "image/png": "[encoded data removed]",
            "text/plain": [
              "<Figure size 1440x576 with 1 Axes>"
            ]
          },
          "metadata": {
            "needs_background": "light"
          }
        }
      ]
    },
    {
      "cell_type": "code",
      "source": [
        "plot1 = go.Scatter(x=Overall_Weekly_sales['Date'], y=Overall_Weekly_sales['Weekly_Sales'],name=\"Training set\")\n",
        "layout = go.Layout(title='Weekly sales', xaxis=dict(title='Date'), yaxis=dict(title='Weekly_Sales'))\n",
        "\n",
        "plot2 = go.Scatter(x=daily_sales_XGB['Date'], y=daily_sales_XGB['Weekly_Sales_XGB2'],name=\"XGBoost2\")\n",
        "layout = go.Layout(title='Weekly_Sales_XGB2', xaxis=dict(title='Date'), yaxis=dict(title='Weekly_Sales_XGBoost2'))\n",
        "\n",
        "\n",
        "plot3 = go.Scatter(x=daily_sales_RF2['Date'], y=daily_sales_RF2['Weekly_Sales_RF2'],name=\"RandomForest2\")\n",
        "layout = go.Layout(title='Weekly Sales RandomTorest', xaxis=dict(title='Date'), yaxis=dict(title='Weekly_Sales_RF2'))\n",
        "\n",
        "\n",
        "fig = go.Figure(data=[plot1,plot2,plot3], layout=layout)\n",
        "iplot(fig)"
      ],
      "metadata": {
        "colab": {
          "base_uri": "https://localhost:8080/",
          "height": 542
        },
        "outputId": "e297fd09-4c33-4d05-c2e7-f869702fef99",
        "id": "dyPh6orGu01e"
      },
      "execution_count": null,
      "outputs": [
        {
          "output_type": "display_data",
          "data": {
            "text/html": [
              "<html>\n",
              "<head><meta charset=\"utf-8\" /></head>\n",
              "<body>\n",
              "    <div>            <script src=\"https://cdnjs.cloudflare.com/ajax/libs/mathjax/2.7.5/MathJax.js?config=TeX-AMS-MML_SVG\"></script><script type=\"text/javascript\">if (window.MathJax) {MathJax.Hub.Config({SVG: {font: \"STIX-Web\"}});}</script>                <script type=\"text/javascript\">window.PlotlyConfig = {MathJaxConfig: 'local'};</script>\n",
              "        <script src=\"https://cdn.plot.ly/plotly-2.8.3.min.js\"></script>                <div id=\"10825a2a-3eb2-44a9-995d-f5edd74df972\" class=\"plotly-graph-div\" style=\"height:525px; width:100%;\"></div>            <script type=\"text/javascript\">                                    window.PLOTLYENV=window.PLOTLYENV || {};                                    if (document.getElementById(\"10825a2a-3eb2-44a9-995d-f5edd74df972\")) {                    Plotly.newPlot(                        \"10825a2a-3eb2-44a9-995d-f5edd74df972\",                        [{\"name\":\"Training set\",\"x\":[\"2010-02-05\",\"2010-02-12\",\"2010-02-19\",\"2010-02-26\",\"2010-03-05\",\"2010-03-12\",\"2010-03-19\",\"2010-03-26\",\"2010-04-02\",\"2010-04-09\",\"2010-04-16\",\"2010-04-23\",\"2010-04-30\",\"2010-05-07\",\"2010-05-14\",\"2010-05-21\",\"2010-05-28\",\"2010-06-04\",\"2010-06-11\",\"2010-06-18\",\"2010-06-25\",\"2010-07-02\",\"2010-07-09\",\"2010-07-16\",\"2010-07-23\",\"2010-07-30\",\"2010-08-06\",\"2010-08-13\",\"2010-08-20\",\"2010-08-27\",\"2010-09-03\",\"2010-09-10\",\"2010-09-17\",\"2010-09-24\",\"2010-10-01\",\"2010-10-08\",\"2010-10-15\",\"2010-10-22\",\"2010-10-29\",\"2010-11-05\",\"2010-11-12\",\"2010-11-19\",\"2010-11-26\",\"2010-12-03\",\"2010-12-10\",\"2010-12-17\",\"2010-12-24\",\"2010-12-31\",\"2011-01-07\",\"2011-01-14\",\"2011-01-21\",\"2011-01-28\",\"2011-02-04\",\"2011-02-11\",\"2011-02-18\",\"2011-02-25\",\"2011-03-04\",\"2011-03-11\",\"2011-03-18\",\"2011-03-25\",\"2011-04-01\",\"2011-04-08\",\"2011-04-15\",\"2011-04-22\",\"2011-04-29\",\"2011-05-06\",\"2011-05-13\",\"2011-05-20\",\"2011-05-27\",\"2011-06-03\",\"2011-06-10\",\"2011-06-17\",\"2011-06-24\",\"2011-07-01\",\"2011-07-08\",\"2011-07-15\",\"2011-07-22\",\"2011-07-29\",\"2011-08-05\",\"2011-08-12\",\"2011-08-19\",\"2011-08-26\",\"2011-09-02\",\"2011-09-09\",\"2011-09-16\",\"2011-09-23\",\"2011-09-30\",\"2011-10-07\",\"2011-10-14\",\"2011-10-21\",\"2011-10-28\",\"2011-11-04\",\"2011-11-11\",\"2011-11-18\",\"2011-11-25\",\"2011-12-02\",\"2011-12-09\",\"2011-12-16\",\"2011-12-23\",\"2011-12-30\",\"2012-01-06\",\"2012-01-13\",\"2012-01-20\",\"2012-01-27\",\"2012-02-03\",\"2012-02-10\",\"2012-02-17\",\"2012-02-24\",\"2012-03-02\",\"2012-03-09\",\"2012-03-16\",\"2012-03-23\",\"2012-03-30\",\"2012-04-06\",\"2012-04-13\",\"2012-04-20\",\"2012-04-27\",\"2012-05-04\",\"2012-05-11\",\"2012-05-18\",\"2012-05-25\",\"2012-06-01\",\"2012-06-08\",\"2012-06-15\",\"2012-06-22\",\"2012-06-29\",\"2012-07-06\",\"2012-07-13\",\"2012-07-20\",\"2012-07-27\",\"2012-08-03\",\"2012-08-10\",\"2012-08-17\",\"2012-08-24\",\"2012-08-31\",\"2012-09-07\",\"2012-09-14\",\"2012-09-21\",\"2012-09-28\",\"2012-10-05\",\"2012-10-12\",\"2012-10-19\",\"2012-10-26\"],\"y\":[49750740.5,48336677.63,48276993.78,43968571.13,46871470.3,45925396.51,44988974.64,44133961.05,50423831.26,47365290.44,45183667.08,44734452.56,43705126.71,48503243.52,45330080.2,45120108.06,47757502.56,50188543.12,47826546.72,47622046.23,46609036.29,48917484.5,47899529.37,46243899.58,44888849.11,44630363.42,48204999.12,46464418.410000004,47060952.92,45909740.44,47194257.61,45634397.84,43080726.51,41358514.41,42239875.87,45102974.23,43149473.45,43066669.52,43602830.95,45781981.89,46124800.83,45125584.18,65821003.24,49909027.88,55666770.39,61820799.85,80931415.6,40432519.0,42775787.77,40673678.04,40654648.03,39599852.99,46153111.12,47336192.79,48716164.12,44125859.84,46980603.74,44627319.4,44872325.97,42876199.18,43458991.19,45887466.8,44973328.14,48676692.06,43530032.78,46861958.29,45446144.82,44046598.01,45293457.04,48771994.18,47669734.66,47447561.77,45884094.58,47578519.5,47859263.78,45515929.92,45274411.39,43683274.28,48015466.97,46249569.21,46917347.62,47416948.45,45376623.27,46763227.53,43793960.08,42718096.73,42195830.81,47211688.36,44374820.3,45818953.44,45855821.05,48655544.3,48474224.75,46438980.56,66593605.26,49390556.49,55561147.7,60085695.94,76998241.31,46042461.04,44955421.95,42023078.48,42080996.56,39834974.67,46085608.09,50009407.92,50197056.96,45771506.57,46861034.97,47480454.11,46901504.94,44993794.45,45272862.02,53502315.87,46629261.41,45072529.78,43716798.89,47124197.93,46925878.99,46823939.22,47892463.31,48281649.72,49651171.78,48412110.7,47668284.97,46597112.12,51253021.88,46099732.1,46059543.45,44097154.97,47485899.56,47403451.04,47354452.05,47447323.6,47159639.43,48330059.31,44226038.65,44354547.11,43734899.4,47566639.31,46128514.25,45122410.57,45544116.29],\"type\":\"scatter\"},{\"name\":\"XGBoost2\",\"x\":[\"2012-11-02\",\"2012-11-09\",\"2012-11-16\",\"2012-11-23\",\"2012-11-30\",\"2012-12-07\",\"2012-12-14\",\"2012-12-21\",\"2012-12-28\",\"2013-01-04\",\"2013-01-11\",\"2013-01-18\",\"2013-01-25\",\"2013-02-01\",\"2013-02-08\",\"2013-02-15\",\"2013-02-22\",\"2013-03-01\",\"2013-03-08\",\"2013-03-15\",\"2013-03-22\",\"2013-03-29\",\"2013-04-05\",\"2013-04-12\",\"2013-04-19\",\"2013-04-26\",\"2013-05-03\",\"2013-05-10\",\"2013-05-17\",\"2013-05-24\",\"2013-05-31\",\"2013-06-07\",\"2013-06-14\",\"2013-06-21\",\"2013-06-28\",\"2013-07-05\",\"2013-07-12\",\"2013-07-19\",\"2013-07-26\"],\"y\":[48145404.0,48348204.0,46405824.0,67813304.0,49658016.0,55531440.0,60224372.0,76017424.0,45999380.0,44942332.0,41990140.0,41986680.0,39995560.0,46073756.0,49939792.0,49980524.0,45920732.0,47008364.0,47256000.0,46665704.0,45033964.0,45456316.0,53451972.0,46609240.0,44947380.0,43815388.0,47077268.0,46944788.0,46853724.0,47769632.0,48319564.0,49559236.0,48243704.0,47811452.0,46823320.0,51046656.0,46033008.0,45959272.0,44243908.0],\"type\":\"scatter\"},{\"name\":\"RandomForest2\",\"x\":[\"2012-11-02\",\"2012-11-09\",\"2012-11-16\",\"2012-11-23\",\"2012-11-30\",\"2012-12-07\",\"2012-12-14\",\"2012-12-21\",\"2012-12-28\",\"2013-01-04\",\"2013-01-11\",\"2013-01-18\",\"2013-01-25\",\"2013-02-01\",\"2013-02-08\",\"2013-02-15\",\"2013-02-22\",\"2013-03-01\",\"2013-03-08\",\"2013-03-15\",\"2013-03-22\",\"2013-03-29\",\"2013-04-05\",\"2013-04-12\",\"2013-04-19\",\"2013-04-26\",\"2013-05-03\",\"2013-05-10\",\"2013-05-17\",\"2013-05-24\",\"2013-05-31\",\"2013-06-07\",\"2013-06-14\",\"2013-06-21\",\"2013-06-28\",\"2013-07-05\",\"2013-07-12\",\"2013-07-19\",\"2013-07-26\"],\"y\":[46908808.8089471,47204888.64053614,46909132.5062516,64898764.78881933,51793846.00970742,54842953.23710901,60025178.6897467,71974094.41819179,49791934.33081556,43755520.57487148,42497089.21490153,41904326.397769004,41799040.563965365,45929024.04739888,48974541.70076894,48773713.63683433,46490763.56341269,46804144.19671465,46775333.43396069,46536390.71029623,45903400.88402267,46771134.89224333,49365356.73521808,47487748.916835815,46233296.84149001,45497382.257715896,46582330.07298397,46910340.11746172,46837072.33741072,47727468.16346643,48558105.84471238,48715639.72919203,48441044.56036366,48062107.64787306,47766837.361693256,48596750.973224536,47070102.49031419,46292817.39949271,45597530.104634546],\"type\":\"scatter\"}],                        {\"template\":{\"data\":{\"barpolar\":[{\"marker\":{\"line\":{\"color\":\"#E5ECF6\",\"width\":0.5},\"pattern\":{\"fillmode\":\"overlay\",\"size\":10,\"solidity\":0.2}},\"type\":\"barpolar\"}],\"bar\":[{\"error_x\":{\"color\":\"#2a3f5f\"},\"error_y\":{\"color\":\"#2a3f5f\"},\"marker\":{\"line\":{\"color\":\"#E5ECF6\",\"width\":0.5},\"pattern\":{\"fillmode\":\"overlay\",\"size\":10,\"solidity\":0.2}},\"type\":\"bar\"}],\"carpet\":[{\"aaxis\":{\"endlinecolor\":\"#2a3f5f\",\"gridcolor\":\"white\",\"linecolor\":\"white\",\"minorgridcolor\":\"white\",\"startlinecolor\":\"#2a3f5f\"},\"baxis\":{\"endlinecolor\":\"#2a3f5f\",\"gridcolor\":\"white\",\"linecolor\":\"white\",\"minorgridcolor\":\"white\",\"startlinecolor\":\"#2a3f5f\"},\"type\":\"carpet\"}],\"choropleth\":[{\"colorbar\":{\"outlinewidth\":0,\"ticks\":\"\"},\"type\":\"choropleth\"}],\"contourcarpet\":[{\"colorbar\":{\"outlinewidth\":0,\"ticks\":\"\"},\"type\":\"contourcarpet\"}],\"contour\":[{\"colorbar\":{\"outlinewidth\":0,\"ticks\":\"\"},\"colorscale\":[[0.0,\"#0d0887\"],[0.1111111111111111,\"#46039f\"],[0.2222222222222222,\"#7201a8\"],[0.3333333333333333,\"#9c179e\"],[0.4444444444444444,\"#bd3786\"],[0.5555555555555556,\"#d8576b\"],[0.6666666666666666,\"#ed7953\"],[0.7777777777777778,\"#fb9f3a\"],[0.8888888888888888,\"#fdca26\"],[1.0,\"#f0f921\"]],\"type\":\"contour\"}],\"heatmapgl\":[{\"colorbar\":{\"outlinewidth\":0,\"ticks\":\"\"},\"colorscale\":[[0.0,\"#0d0887\"],[0.1111111111111111,\"#46039f\"],[0.2222222222222222,\"#7201a8\"],[0.3333333333333333,\"#9c179e\"],[0.4444444444444444,\"#bd3786\"],[0.5555555555555556,\"#d8576b\"],[0.6666666666666666,\"#ed7953\"],[0.7777777777777778,\"#fb9f3a\"],[0.8888888888888888,\"#fdca26\"],[1.0,\"#f0f921\"]],\"type\":\"heatmapgl\"}],\"heatmap\":[{\"colorbar\":{\"outlinewidth\":0,\"ticks\":\"\"},\"colorscale\":[[0.0,\"#0d0887\"],[0.1111111111111111,\"#46039f\"],[0.2222222222222222,\"#7201a8\"],[0.3333333333333333,\"#9c179e\"],[0.4444444444444444,\"#bd3786\"],[0.5555555555555556,\"#d8576b\"],[0.6666666666666666,\"#ed7953\"],[0.7777777777777778,\"#fb9f3a\"],[0.8888888888888888,\"#fdca26\"],[1.0,\"#f0f921\"]],\"type\":\"heatmap\"}],\"histogram2dcontour\":[{\"colorbar\":{\"outlinewidth\":0,\"ticks\":\"\"},\"colorscale\":[[0.0,\"#0d0887\"],[0.1111111111111111,\"#46039f\"],[0.2222222222222222,\"#7201a8\"],[0.3333333333333333,\"#9c179e\"],[0.4444444444444444,\"#bd3786\"],[0.5555555555555556,\"#d8576b\"],[0.6666666666666666,\"#ed7953\"],[0.7777777777777778,\"#fb9f3a\"],[0.8888888888888888,\"#fdca26\"],[1.0,\"#f0f921\"]],\"type\":\"histogram2dcontour\"}],\"histogram2d\":[{\"colorbar\":{\"outlinewidth\":0,\"ticks\":\"\"},\"colorscale\":[[0.0,\"#0d0887\"],[0.1111111111111111,\"#46039f\"],[0.2222222222222222,\"#7201a8\"],[0.3333333333333333,\"#9c179e\"],[0.4444444444444444,\"#bd3786\"],[0.5555555555555556,\"#d8576b\"],[0.6666666666666666,\"#ed7953\"],[0.7777777777777778,\"#fb9f3a\"],[0.8888888888888888,\"#fdca26\"],[1.0,\"#f0f921\"]],\"type\":\"histogram2d\"}],\"histogram\":[{\"marker\":{\"pattern\":{\"fillmode\":\"overlay\",\"size\":10,\"solidity\":0.2}},\"type\":\"histogram\"}],\"mesh3d\":[{\"colorbar\":{\"outlinewidth\":0,\"ticks\":\"\"},\"type\":\"mesh3d\"}],\"parcoords\":[{\"line\":{\"colorbar\":{\"outlinewidth\":0,\"ticks\":\"\"}},\"type\":\"parcoords\"}],\"pie\":[{\"automargin\":true,\"type\":\"pie\"}],\"scatter3d\":[{\"line\":{\"colorbar\":{\"outlinewidth\":0,\"ticks\":\"\"}},\"marker\":{\"colorbar\":{\"outlinewidth\":0,\"ticks\":\"\"}},\"type\":\"scatter3d\"}],\"scattercarpet\":[{\"marker\":{\"colorbar\":{\"outlinewidth\":0,\"ticks\":\"\"}},\"type\":\"scattercarpet\"}],\"scattergeo\":[{\"marker\":{\"colorbar\":{\"outlinewidth\":0,\"ticks\":\"\"}},\"type\":\"scattergeo\"}],\"scattergl\":[{\"marker\":{\"colorbar\":{\"outlinewidth\":0,\"ticks\":\"\"}},\"type\":\"scattergl\"}],\"scattermapbox\":[{\"marker\":{\"colorbar\":{\"outlinewidth\":0,\"ticks\":\"\"}},\"type\":\"scattermapbox\"}],\"scatterpolargl\":[{\"marker\":{\"colorbar\":{\"outlinewidth\":0,\"ticks\":\"\"}},\"type\":\"scatterpolargl\"}],\"scatterpolar\":[{\"marker\":{\"colorbar\":{\"outlinewidth\":0,\"ticks\":\"\"}},\"type\":\"scatterpolar\"}],\"scatter\":[{\"marker\":{\"colorbar\":{\"outlinewidth\":0,\"ticks\":\"\"}},\"type\":\"scatter\"}],\"scatterternary\":[{\"marker\":{\"colorbar\":{\"outlinewidth\":0,\"ticks\":\"\"}},\"type\":\"scatterternary\"}],\"surface\":[{\"colorbar\":{\"outlinewidth\":0,\"ticks\":\"\"},\"colorscale\":[[0.0,\"#0d0887\"],[0.1111111111111111,\"#46039f\"],[0.2222222222222222,\"#7201a8\"],[0.3333333333333333,\"#9c179e\"],[0.4444444444444444,\"#bd3786\"],[0.5555555555555556,\"#d8576b\"],[0.6666666666666666,\"#ed7953\"],[0.7777777777777778,\"#fb9f3a\"],[0.8888888888888888,\"#fdca26\"],[1.0,\"#f0f921\"]],\"type\":\"surface\"}],\"table\":[{\"cells\":{\"fill\":{\"color\":\"#EBF0F8\"},\"line\":{\"color\":\"white\"}},\"header\":{\"fill\":{\"color\":\"#C8D4E3\"},\"line\":{\"color\":\"white\"}},\"type\":\"table\"}]},\"layout\":{\"annotationdefaults\":{\"arrowcolor\":\"#2a3f5f\",\"arrowhead\":0,\"arrowwidth\":1},\"autotypenumbers\":\"strict\",\"coloraxis\":{\"colorbar\":{\"outlinewidth\":0,\"ticks\":\"\"}},\"colorscale\":{\"diverging\":[[0,\"#8e0152\"],[0.1,\"#c51b7d\"],[0.2,\"#de77ae\"],[0.3,\"#f1b6da\"],[0.4,\"#fde0ef\"],[0.5,\"#f7f7f7\"],[0.6,\"#e6f5d0\"],[0.7,\"#b8e186\"],[0.8,\"#7fbc41\"],[0.9,\"#4d9221\"],[1,\"#276419\"]],\"sequential\":[[0.0,\"#0d0887\"],[0.1111111111111111,\"#46039f\"],[0.2222222222222222,\"#7201a8\"],[0.3333333333333333,\"#9c179e\"],[0.4444444444444444,\"#bd3786\"],[0.5555555555555556,\"#d8576b\"],[0.6666666666666666,\"#ed7953\"],[0.7777777777777778,\"#fb9f3a\"],[0.8888888888888888,\"#fdca26\"],[1.0,\"#f0f921\"]],\"sequentialminus\":[[0.0,\"#0d0887\"],[0.1111111111111111,\"#46039f\"],[0.2222222222222222,\"#7201a8\"],[0.3333333333333333,\"#9c179e\"],[0.4444444444444444,\"#bd3786\"],[0.5555555555555556,\"#d8576b\"],[0.6666666666666666,\"#ed7953\"],[0.7777777777777778,\"#fb9f3a\"],[0.8888888888888888,\"#fdca26\"],[1.0,\"#f0f921\"]]},\"colorway\":[\"#636efa\",\"#EF553B\",\"#00cc96\",\"#ab63fa\",\"#FFA15A\",\"#19d3f3\",\"#FF6692\",\"#B6E880\",\"#FF97FF\",\"#FECB52\"],\"font\":{\"color\":\"#2a3f5f\"},\"geo\":{\"bgcolor\":\"white\",\"lakecolor\":\"white\",\"landcolor\":\"#E5ECF6\",\"showlakes\":true,\"showland\":true,\"subunitcolor\":\"white\"},\"hoverlabel\":{\"align\":\"left\"},\"hovermode\":\"closest\",\"mapbox\":{\"style\":\"light\"},\"paper_bgcolor\":\"white\",\"plot_bgcolor\":\"#E5ECF6\",\"polar\":{\"angularaxis\":{\"gridcolor\":\"white\",\"linecolor\":\"white\",\"ticks\":\"\"},\"bgcolor\":\"#E5ECF6\",\"radialaxis\":{\"gridcolor\":\"white\",\"linecolor\":\"white\",\"ticks\":\"\"}},\"scene\":{\"xaxis\":{\"backgroundcolor\":\"#E5ECF6\",\"gridcolor\":\"white\",\"gridwidth\":2,\"linecolor\":\"white\",\"showbackground\":true,\"ticks\":\"\",\"zerolinecolor\":\"white\"},\"yaxis\":{\"backgroundcolor\":\"#E5ECF6\",\"gridcolor\":\"white\",\"gridwidth\":2,\"linecolor\":\"white\",\"showbackground\":true,\"ticks\":\"\",\"zerolinecolor\":\"white\"},\"zaxis\":{\"backgroundcolor\":\"#E5ECF6\",\"gridcolor\":\"white\",\"gridwidth\":2,\"linecolor\":\"white\",\"showbackground\":true,\"ticks\":\"\",\"zerolinecolor\":\"white\"}},\"shapedefaults\":{\"line\":{\"color\":\"#2a3f5f\"}},\"ternary\":{\"aaxis\":{\"gridcolor\":\"white\",\"linecolor\":\"white\",\"ticks\":\"\"},\"baxis\":{\"gridcolor\":\"white\",\"linecolor\":\"white\",\"ticks\":\"\"},\"bgcolor\":\"#E5ECF6\",\"caxis\":{\"gridcolor\":\"white\",\"linecolor\":\"white\",\"ticks\":\"\"}},\"title\":{\"x\":0.05},\"xaxis\":{\"automargin\":true,\"gridcolor\":\"white\",\"linecolor\":\"white\",\"ticks\":\"\",\"title\":{\"standoff\":15},\"zerolinecolor\":\"white\",\"zerolinewidth\":2},\"yaxis\":{\"automargin\":true,\"gridcolor\":\"white\",\"linecolor\":\"white\",\"ticks\":\"\",\"title\":{\"standoff\":15},\"zerolinecolor\":\"white\",\"zerolinewidth\":2}}},\"title\":{\"text\":\"Weekly Sales RandomTorest\"},\"xaxis\":{\"title\":{\"text\":\"Date\"}},\"yaxis\":{\"title\":{\"text\":\"Weekly_Sales_RF2\"}}},                        {\"responsive\": true}                    ).then(function(){\n",
              "                            \n",
              "var gd = document.getElementById('10825a2a-3eb2-44a9-995d-f5edd74df972');\n",
              "var x = new MutationObserver(function (mutations, observer) {{\n",
              "        var display = window.getComputedStyle(gd).display;\n",
              "        if (!display || display === 'none') {{\n",
              "            console.log([gd, 'removed!']);\n",
              "            Plotly.purge(gd);\n",
              "            observer.disconnect();\n",
              "        }}\n",
              "}});\n",
              "\n",
              "// Listen for the removal of the full notebook cells\n",
              "var notebookContainer = gd.closest('#notebook-container');\n",
              "if (notebookContainer) {{\n",
              "    x.observe(notebookContainer, {childList: true});\n",
              "}}\n",
              "\n",
              "// Listen for the clearing of the current output cell\n",
              "var outputEl = gd.closest('.output');\n",
              "if (outputEl) {{\n",
              "    x.observe(outputEl, {childList: true});\n",
              "}}\n",
              "\n",
              "                        })                };                            </script>        </div>\n",
              "</body>\n",
              "</html>"
            ]
          },
          "metadata": {}
        }
      ]
    }
  ]
}